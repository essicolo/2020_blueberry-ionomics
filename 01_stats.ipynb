{
 "cells": [
  {
   "cell_type": "markdown",
   "metadata": {},
   "source": [
    "# Blueberry yield modelling"
   ]
  },
  {
   "cell_type": "markdown",
   "metadata": {},
   "source": [
    "This notebook contains the scripts to:\n",
    "\n",
    "1. Create a plot to compare yield in our database to yield in the litterature\n"
   ]
  },
  {
   "cell_type": "markdown",
   "metadata": {},
   "source": [
    "To reproduce the results of this notebook, you will need to install a conda environment containing the packages listed in `requirements.txt`. Because **`weathercan`** and **`rstanarm`** are not available from conda, these packages must be installed manually."
   ]
  },
  {
   "cell_type": "code",
   "execution_count": 1,
   "metadata": {},
   "outputs": [],
   "source": [
    "nonconda_packages <- c(\"weathercan\", \"rstanarm\")\n",
    "packages_to_install <- nonconda_packages[!(nonconda_packages %in% installed.packages()[,\"Package\"])]\n",
    "if(length(packages_to_install)) install.packages(packages_to_install)"
   ]
  },
  {
   "cell_type": "code",
   "execution_count": 2,
   "metadata": {},
   "outputs": [
    {
     "name": "stderr",
     "output_type": "stream",
     "text": [
      "-- \u001b[1mAttaching packages\u001b[22m --------------------------------------- tidyverse 1.3.0 --\n",
      "\n",
      "\u001b[32mv\u001b[39m \u001b[34mggplot2\u001b[39m 3.3.0     \u001b[32mv\u001b[39m \u001b[34mpurrr  \u001b[39m 0.3.3\n",
      "\u001b[32mv\u001b[39m \u001b[34mtibble \u001b[39m 3.0.0     \u001b[32mv\u001b[39m \u001b[34mdplyr  \u001b[39m 0.8.5\n",
      "\u001b[32mv\u001b[39m \u001b[34mtidyr  \u001b[39m 1.0.2     \u001b[32mv\u001b[39m \u001b[34mstringr\u001b[39m 1.4.0\n",
      "\u001b[32mv\u001b[39m \u001b[34mreadr  \u001b[39m 1.3.1     \u001b[32mv\u001b[39m \u001b[34mforcats\u001b[39m 0.5.0\n",
      "\n",
      "Warning message:\n",
      "\"package 'ggplot2' was built under R version 3.6.3\"\n",
      "Warning message:\n",
      "\"package 'tibble' was built under R version 3.6.3\"\n",
      "Warning message:\n",
      "\"package 'dplyr' was built under R version 3.6.3\"\n",
      "Warning message:\n",
      "\"package 'forcats' was built under R version 3.6.3\"\n",
      "-- \u001b[1mConflicts\u001b[22m ------------------------------------------ tidyverse_conflicts() --\n",
      "\u001b[31mx\u001b[39m \u001b[34mdplyr\u001b[39m::\u001b[32mfilter()\u001b[39m masks \u001b[34mstats\u001b[39m::filter()\n",
      "\u001b[31mx\u001b[39m \u001b[34mdplyr\u001b[39m::\u001b[32mlag()\u001b[39m    masks \u001b[34mstats\u001b[39m::lag()\n",
      "\n"
     ]
    }
   ],
   "source": [
    "library(\"tidyverse\")"
   ]
  },
  {
   "cell_type": "markdown",
   "metadata": {},
   "source": [
    "## Literature yields\n",
    "\n",
    "How does yields obtained in our data set compare to the litterature?"
   ]
  },
  {
   "cell_type": "code",
   "execution_count": 3,
   "metadata": {},
   "outputs": [
    {
     "name": "stderr",
     "output_type": "stream",
     "text": [
      "Parsed with column specification:\n",
      "cols(\n",
      "  Author = \u001b[31mcol_character()\u001b[39m,\n",
      "  Min = \u001b[32mcol_double()\u001b[39m,\n",
      "  Max = \u001b[32mcol_double()\u001b[39m\n",
      ")\n",
      "\n"
     ]
    },
    {
     "data": {
      "image/png": "[encoded data removed]",
      "text/plain": [
       "plot without title"
      ]
     },
     "metadata": {
      "image/png": {
       "height": 420,
       "width": 420
      },
      "text/plain": {
       "height": 420,
       "width": 420
      }
     },
     "output_type": "display_data"
    }
   ],
   "source": [
    "litterature_yields <- read_csv(\"data/literature-yield.csv\")\n",
    "\n",
    "litterature_yields %>%\n",
    "  mutate(Author = fct_reorder(Author, Max)) %>%\n",
    "  ggplot(aes(x = Min, y = Author)) +\n",
    "  geom_segment(aes(xend = Max, yend = Author), lwd = 2) +\n",
    "  scale_x_continuous(limits = c(0, 14), breaks = seq(from = 0, to = 15, by = 2)) +\n",
    "  geom_vline(xintercept = 0, linetype = 2) +\n",
    "  labs(x = expression(\"Yield Mg ha\"^\"-1\"), y = \"\") +\n",
    "  theme_bw() +\n",
    "  ggsave(\"images/litterature-yields.png\", height = 3, width = 6, dpi = 300)"
   ]
  },
  {
   "cell_type": "markdown",
   "metadata": {},
   "source": [
    "## Blueberry data\n",
    "\n",
    "Data are stored in a single data set."
   ]
  },
  {
   "cell_type": "code",
   "execution_count": 4,
   "metadata": {
    "name": "expl-load-data"
   },
   "outputs": [
    {
     "name": "stderr",
     "output_type": "stream",
     "text": [
      "Warning message:\n",
      "\"package 'lubridate' was built under R version 3.6.3\"\n",
      "\n",
      "Attaching package: 'lubridate'\n",
      "\n",
      "\n",
      "The following objects are masked from 'package:dplyr':\n",
      "\n",
      "    intersect, setdiff, union\n",
      "\n",
      "\n",
      "The following objects are masked from 'package:base':\n",
      "\n",
      "    date, intersect, setdiff, union\n",
      "\n",
      "\n",
      "-- \u001b[1mAttaching packages\u001b[22m -------------------------------------- tidymodels 0.1.0 --\n",
      "\n",
      "\u001b[32mv\u001b[39m \u001b[34mbroom    \u001b[39m 0.5.5      \u001b[32mv\u001b[39m \u001b[34mrsample  \u001b[39m 0.0.6 \n",
      "\u001b[32mv\u001b[39m \u001b[34mdials    \u001b[39m 0.0.6      \u001b[32mv\u001b[39m \u001b[34mtune     \u001b[39m 0.1.0 \n",
      "\u001b[32mv\u001b[39m \u001b[34minfer    \u001b[39m 0.5.1      \u001b[32mv\u001b[39m \u001b[34mworkflows\u001b[39m 0.1.1 \n",
      "\u001b[32mv\u001b[39m \u001b[34mparsnip  \u001b[39m 0.0.5      \u001b[32mv\u001b[39m \u001b[34myardstick\u001b[39m 0.0.6 \n",
      "\u001b[32mv\u001b[39m \u001b[34mrecipes  \u001b[39m 0.1.10     \n",
      "\n",
      "Warning message:\n",
      "\"package 'broom' was built under R version 3.6.3\"\n",
      "Warning message:\n",
      "\"package 'dials' was built under R version 3.6.3\"\n",
      "Warning message:\n",
      "\"package 'recipes' was built under R version 3.6.3\"\n",
      "Warning message:\n",
      "\"package 'rsample' was built under R version 3.6.3\"\n",
      "Warning message:\n",
      "\"package 'tune' was built under R version 3.6.3\"\n",
      "Warning message:\n",
      "\"package 'workflows' was built under R version 3.6.3\"\n",
      "Warning message:\n",
      "\"package 'yardstick' was built under R version 3.6.3\"\n",
      "-- \u001b[1mConflicts\u001b[22m ----------------------------------------- tidymodels_conflicts() --\n",
      "\u001b[31mx\u001b[39m \u001b[34mscales\u001b[39m::\u001b[32mdiscard()\u001b[39m masks \u001b[34mpurrr\u001b[39m::discard()\n",
      "\u001b[31mx\u001b[39m \u001b[34mdplyr\u001b[39m::\u001b[32mfilter()\u001b[39m   masks \u001b[34mstats\u001b[39m::filter()\n",
      "\u001b[31mx\u001b[39m \u001b[34mrecipes\u001b[39m::\u001b[32mfixed()\u001b[39m  masks \u001b[34mstringr\u001b[39m::fixed()\n",
      "\u001b[31mx\u001b[39m \u001b[34mdplyr\u001b[39m::\u001b[32mlag()\u001b[39m      masks \u001b[34mstats\u001b[39m::lag()\n",
      "\u001b[31mx\u001b[39m \u001b[34mdials\u001b[39m::\u001b[32mmargin()\u001b[39m   masks \u001b[34mggplot2\u001b[39m::margin()\n",
      "\u001b[31mx\u001b[39m \u001b[34myardstick\u001b[39m::\u001b[32mspec()\u001b[39m masks \u001b[34mreadr\u001b[39m::spec()\n",
      "\u001b[31mx\u001b[39m \u001b[34mrecipes\u001b[39m::\u001b[32mstep()\u001b[39m   masks \u001b[34mstats\u001b[39m::step()\n",
      "\n",
      "Warning message:\n",
      "\"package 'skimr' was built under R version 3.6.3\"\n",
      "Parsed with column specification:\n",
      "cols(\n",
      "  .default = col_double(),\n",
      "  Project = \u001b[31mcol_character()\u001b[39m,\n",
      "  Site = \u001b[31mcol_character()\u001b[39m,\n",
      "  Coordinates = \u001b[31mcol_character()\u001b[39m\n",
      ")\n",
      "\n",
      "See spec(...) for full column specifications.\n",
      "\n"
     ]
    },
    {
     "name": "stdout",
     "output_type": "stream",
     "text": [
      "-- Data Summary ------------------------\n",
      "                           Values   \n",
      "Name                       df_source\n",
      "Number of rows             1504     \n",
      "Number of columns          30       \n",
      "_______________________             \n",
      "Column type frequency:              \n",
      "  character                3        \n",
      "  numeric                  27       \n",
      "________________________            \n",
      "Group variables            None     \n",
      "\n",
      "-- Variable type: character ----------------------------------------------------\n",
      "# A tibble: 3 x 8\n",
      "  skim_variable n_missing complete_rate   min   max empty n_unique whitespace\n",
      "* <chr>             <int>         <dbl> <int> <int> <int>    <int>      <int>\n",
      "1 Project               0             1     2     6     0       19          0\n",
      "2 Site                  0             1     7    16     0        6          0\n",
      "3 Coordinates           0             1    17    17     0        6          0\n",
      "\n",
      "-- Variable type: numeric ------------------------------------------------------\n",
      "# A tibble: 27 x 11\n",
      "   skim_variable             n_missing complete_rate     mean        sd      p0\n",
      " * <chr>                         <int>         <dbl>    <dbl>     <dbl>   <dbl>\n",
      " 1 Year                              0         1     2007.       3.27   2001   \n",
      " 2 Parcel                            0         1       47.3     33.9       1   \n",
      " 3 Block                             0         1        2.5      1.12      1   \n",
      " 4 N dose (kg/ha)                    0         1       41.7     32.8       0   \n",
      " 5 P2O5 dose (kg/ha)                 0         1       22.0     25.0       0   \n",
      " 6 K2O dose (kg/ha)                  0         1       37.2     25.5       0   \n",
      " 7 Leaf N (%)                        5         0.997    1.78     0.238     0.52\n",
      " 8 Leaf P (%)                        5         0.997    0.131    0.0217    0.06\n",
      " 9 Leaf K (%)                        2         0.999    0.610    0.0866    0.39\n",
      "10 Leaf Ca (%)                       1         0.999    0.384    0.0677    0.21\n",
      "11 Leaf Mg (%)                       1         0.999    0.165    0.0256    0.09\n",
      "12 Leaf Al (ppm)                   272         0.819   51.3     16.6      21   \n",
      "13 Leaf B (ppm)                    271         0.820   39.8     13.1      15   \n",
      "14 Leaf Cu (ppm)                   522         0.653    4.32     1.30      1.21\n",
      "15 Leaf Zn (ppm)                   531         0.647    7.97     2.23      3.09\n",
      "16 Leaf Fe (ppm)                   530         0.648   20.8      5.74      8.4 \n",
      "17 Leaf Mn (ppm)                   535         0.644  211.      22.1     154   \n",
      "18 Leaf Mo (ppm)                   777         0.483    0.215    0.137     0   \n",
      "19 Berry yield (kg/ha)             110         0.927 3720.    2636.      122   \n",
      "20 Berry dry matter_fraction       831         0.447    0.124    0.0337    0.02\n",
      "21 Soil NO3 (ppm)                  774         0.485    0.783    1.99      0   \n",
      "22 Soil NH4 (ppm)                  774         0.485    2.94     3.01      0   \n",
      "23 Soil P (mg/kg)                    1         0.999   62.4     61.4       0   \n",
      "24 Soil K (mg/kg)                    8         0.995   79.0     59.8      14   \n",
      "25 Soil Ca (mg/kg)                   1         0.999  334.     362.       16   \n",
      "26 Soil Mg (mg/kg)                   0         1       36.8     34.9       2   \n",
      "27 pH H2O                            8         0.995    4.61     0.501     3.57\n",
      "       p25     p50      p75      p100 hist \n",
      " *   <dbl>   <dbl>    <dbl>     <dbl> <chr>\n",
      " 1 2005    2009    2010      2011     <U+2585><U+2583><U+2583><U+2583><U+2587>\n",
      " 2   20      40      66       128     <U+2587><U+2587><U+2583><U+2582><U+2582>\n",
      " 3    1.75    2.5     3.25      4     <U+2587><U+2587><U+2581><U+2587><U+2587>\n",
      " 4   13.5    30      60        90     <U+2587><U+2587><U+2581><U+2586><U+2586>\n",
      " 5    0      20      20        90     <U+2586><U+2587><U+2581><U+2581><U+2581>\n",
      " 6   30      30      60        90     <U+2582><U+2587><U+2581><U+2582><U+2582>\n",
      " 7    1.61    1.75    1.93      2.8   <U+2581><U+2581><U+2587><U+2583><U+2581>\n",
      " 8    0.12    0.13    0.14      0.24  <U+2581><U+2587><U+2585><U+2581><U+2581>\n",
      " 9    0.55    0.61    0.67      0.92  <U+2582><U+2587><U+2587><U+2582><U+2581>\n",
      "10    0.33    0.38    0.43      0.63  <U+2582><U+2587><U+2587><U+2582><U+2581>\n",
      "11    0.15    0.16    0.18      0.290 <U+2582><U+2587><U+2587><U+2581><U+2581>\n",
      "12   41.8    48      56.8     155.    <U+2587><U+2587><U+2581><U+2581><U+2581>\n",
      "13   31      37      46.2      94.4   <U+2583><U+2587><U+2582><U+2581><U+2581>\n",
      "14    3.38    4.24    5.16      9.3   <U+2582><U+2587><U+2587><U+2582><U+2581>\n",
      "15    6.16    7.9     9.58     15.2   <U+2583><U+2587><U+2587><U+2583><U+2581>\n",
      "16   17.1    19.6    23        54.2   <U+2585><U+2587><U+2581><U+2581><U+2581>\n",
      "17  195     208     222       298     <U+2581><U+2587><U+2586><U+2582><U+2581>\n",
      "18    0.11    0.19    0.28      0.65  <U+2586><U+2587><U+2583><U+2582><U+2581>\n",
      "19 1700.   3052    5024.    14853     <U+2587><U+2585><U+2582><U+2581><U+2581>\n",
      "20    0.12    0.13    0.146     0.23  <U+2581><U+2581><U+2587><U+2583><U+2581>\n",
      "21    0       0       0.737    39.1   <U+2587><U+2581><U+2581><U+2581><U+2581>\n",
      "22    1.07    2.33    3.77     36.5   <U+2587><U+2581><U+2581><U+2581><U+2581>\n",
      "23   19      37      93       434     <U+2587><U+2582><U+2581><U+2581><U+2581>\n",
      "24   32      62     108       468     <U+2587><U+2582><U+2581><U+2581><U+2581>\n",
      "25  122     220     386.     3866     <U+2587><U+2581><U+2581><U+2581><U+2581>\n",
      "26   15      25      46       283     <U+2587><U+2581><U+2581><U+2581><U+2581>\n",
      "27    4.34    4.53    4.77      6.37  <U+2582><U+2587><U+2583><U+2581><U+2581>\n"
     ]
    }
   ],
   "source": [
    "library(\"lubridate\")\n",
    "library(\"tidymodels\")\n",
    "library(\"skimr\")\n",
    "df_source <- read_csv(\"data/data.csv\", na = c(\"\", \".\"))\n",
    "skim(df_source)"
   ]
  },
  {
   "cell_type": "markdown",
   "metadata": {},
   "source": [
    "There are a lot of missing data in the Mo leaf content and the berry dry matter fraction. But oligo-elements are important information. We will proceed to missing data imputation further on. \n",
    "\n",
    "Dosage is put on element scale."
   ]
  },
  {
   "cell_type": "code",
   "execution_count": 5,
   "metadata": {},
   "outputs": [],
   "source": [
    "df_source <- df_source %>%\n",
    "  mutate(\n",
    "    id = 1:nrow(.),\n",
    "    `P dose (kg/ha)` = `P2O5 dose (kg/ha)` / 2.29,\n",
    "    `K dose (kg/ha)` = `K2O dose (kg/ha)` / 1.2\n",
    "  )"
   ]
  },
  {
   "cell_type": "markdown",
   "metadata": {},
   "source": [
    "## Weather\n",
    "\n",
    "Weather indices are genereted from data fetched from Environment Canada with the **`weathercan`** package. The **`sp`** package is needed as dependency of **`weathercan`** to look for the closest stations."
   ]
  },
  {
   "cell_type": "code",
   "execution_count": 6,
   "metadata": {
    "lines_to_next_cell": 2
   },
   "outputs": [
    {
     "name": "stderr",
     "output_type": "stream",
     "text": [
      "\n",
      "Attaching package: 'weathercan'\n",
      "\n",
      "\n",
      "The following object is masked from 'package:dials':\n",
      "\n",
      "    stations\n",
      "\n",
      "\n",
      "Warning message:\n",
      "\"package 'sp' was built under R version 3.6.3\"\n"
     ]
    }
   ],
   "source": [
    "library(\"weathercan\")\n",
    "library(\"sp\")"
   ]
  },
  {
   "cell_type": "markdown",
   "metadata": {},
   "source": [
    "Coordinates are stored by site in `sites.csv`."
   ]
  },
  {
   "cell_type": "code",
   "execution_count": 7,
   "metadata": {},
   "outputs": [
    {
     "name": "stderr",
     "output_type": "stream",
     "text": [
      "Parsed with column specification:\n",
      "cols(\n",
      "  Site = \u001b[31mcol_character()\u001b[39m,\n",
      "  Latitude = \u001b[32mcol_double()\u001b[39m,\n",
      "  Longitude = \u001b[32mcol_double()\u001b[39m\n",
      ")\n",
      "\n"
     ]
    }
   ],
   "source": [
    "sites <- read_csv(\"data/sites.csv\")\n",
    "df_source <-\n",
    "  df_source %>%\n",
    "  left_join(sites, by = \"Site\")"
   ]
  },
  {
   "cell_type": "markdown",
   "metadata": {},
   "source": [
    "### Select weather stations\n",
    "\n",
    "We have the following Year/Site combinaisons."
   ]
  },
  {
   "cell_type": "code",
   "execution_count": 8,
   "metadata": {},
   "outputs": [],
   "source": [
    "year_site <- df_source %>%\n",
    "  distinct(Year, Site, Latitude, Longitude)"
   ]
  },
  {
   "cell_type": "markdown",
   "metadata": {},
   "source": [
    "We look for the closest stations with data starting 5 years before observations."
   ]
  },
  {
   "cell_type": "code",
   "execution_count": 9,
   "metadata": {},
   "outputs": [],
   "source": [
    "blueberry_stations <- list()\n",
    "for (i in 1:nrow(year_site)) {\n",
    "  blueberry_stations[[i]] <- stations_search(\n",
    "    coords = c(year_site$Latitude[i], year_site$Longitude[i]),\n",
    "    starts_latest = year_site$Year[i] - 7,\n",
    "    ends_earliest = year_site$Year[i] + 3,\n",
    "    dist = 50, interval = \"day\"\n",
    "  )\n",
    "}"
   ]
  },
  {
   "cell_type": "markdown",
   "metadata": {},
   "source": [
    "We selected the closest stations."
   ]
  },
  {
   "cell_type": "code",
   "execution_count": 10,
   "metadata": {},
   "outputs": [],
   "source": [
    "year_site$station_id <- NA\n",
    "year_site$station_name <- NA\n",
    "for (i in seq_along(blueberry_stations)) {\n",
    "  year_site$station_id[i] <- blueberry_stations[[i]]$station_id[1]\n",
    "  year_site$station_name[i] <- blueberry_stations[[i]]$station_name[1]\n",
    "}"
   ]
  },
  {
   "cell_type": "markdown",
   "metadata": {},
   "source": [
    "Station `ST LEON DE LABRECQUE` seems to generate errors. The next closest one is `r blueberry_stations[[3]]$station_name[2]`."
   ]
  },
  {
   "cell_type": "code",
   "execution_count": 11,
   "metadata": {},
   "outputs": [],
   "source": [
    "year_site$station_id[3] <- blueberry_stations[[3]]$station_id[2]\n",
    "year_site$station_name[3] <- blueberry_stations[[3]]$station_name[2]"
   ]
  },
  {
   "cell_type": "markdown",
   "metadata": {},
   "source": [
    "We will fetch weather by year and station ID."
   ]
  },
  {
   "cell_type": "code",
   "execution_count": 12,
   "metadata": {},
   "outputs": [],
   "source": [
    "year_station <- year_site %>% distinct(Year, station_id)"
   ]
  },
  {
   "cell_type": "markdown",
   "metadata": {},
   "source": [
    "### Fetch weather\n",
    "\n",
    "We suppose that seasons start on April 1st and end at mid-August. The first loop stores the weather of the year of the experiment. This will be used to asses feature importance.\n",
    "\n",
    "#### Weather current\n",
    "\n",
    "These data are the one that occured during the year of the experiment.\n",
    "\n",
    "```#{r}\n",
    "weather_current <- list()\n",
    "for (i in 1:nrow(year_station)) {\n",
    "weather_current[[i]] <- weather_dl(\n",
    "station_ids = year_station$station_id[i],\n",
    "start = paste0(year_station$Year[i], \"-04-01\"),\n",
    "end = paste0(year_station$Year[i], \"-08-31\"),\n",
    "interval = \"day\", quiet = TRUE\n",
    ")\n",
    "}\n",
    "```\n",
    "\n",
    "We unnest the list of lists, the old fashion way.\n",
    "\n",
    "```#{r}\n",
    "weather_current <- data.frame(do.call(rbind, weather_current))\n",
    "save(weather_current, file = \"output/weather_current.RData\")\n",
    "```"
   ]
  },
  {
   "cell_type": "code",
   "execution_count": 13,
   "metadata": {},
   "outputs": [],
   "source": [
    "load(\"output/weather_current.RData\")"
   ]
  },
  {
   "cell_type": "markdown",
   "metadata": {},
   "source": [
    "#### Weather before\n",
    "\n",
    "Now for each station, we fetch weather data 5 years before the experiment. These data will be used for prediction. Cells that fetch weather are deactivated since data have already been fetched and saved in a RData file."
   ]
  },
  {
   "cell_type": "raw",
   "metadata": {},
   "source": [
    "nyears_before <- 5\n",
    "weather_before <- list()\n",
    "for (i in 1:nrow(year_station)) {\n",
    "  weather_before[[i]] <- list()\n",
    "  for (j in nyears_before:1) {\n",
    "    sublist_name <- paste0(j, \"years\")\n",
    "    weather_data <- weather_dl(\n",
    "      station_ids = year_station$station_id[i],\n",
    "      start = paste0(year_station$Year[i] - j, \"-04-01\"),\n",
    "      end = paste0(year_station$Year[i] - j, \"-08-31\"),\n",
    "      interval = \"day\", quiet = TRUE\n",
    "    )\n",
    "    weather_before[[i]][[sublist_name]] <- weather_data\n",
    "  }\n",
    "}"
   ]
  },
  {
   "cell_type": "markdown",
   "metadata": {},
   "source": [
    "We unnest the list of lists."
   ]
  },
  {
   "cell_type": "raw",
   "metadata": {},
   "source": [
    "for (i in seq_along(weather_before)) {\n",
    "  weather_before[[i]] <- data.frame(do.call(rbind, weather_before[[i]]))\n",
    "}\n",
    "weather_before <- data.frame(do.call(rbind, weather_before))\n",
    "save(weather_before, file = \"output/weather_before.RData\")"
   ]
  },
  {
   "cell_type": "code",
   "execution_count": 14,
   "metadata": {},
   "outputs": [],
   "source": [
    "load(\"output/weather_before.RData\")"
   ]
  },
  {
   "cell_type": "markdown",
   "metadata": {},
   "source": [
    "### Compute weather indices\n",
    "\n",
    "#### Weather current\n",
    "\n",
    "For each month, we compute total **precipitation** and **mean temperature**. "
   ]
  },
  {
   "cell_type": "code",
   "execution_count": 15,
   "metadata": {},
   "outputs": [],
   "source": [
    "temp_prec_current <- weather_current %>%\n",
    "  group_by(station_id, year, month) %>%\n",
    "  summarise(\n",
    "    total_precip = sum(total_precip, na.rm = TRUE),\n",
    "    mean_temp = mean(mean_temp, na.rm = TRUE)\n",
    "  ) %>%\n",
    "  pivot_wider(names_from = month, values_from = c(total_precip, mean_temp))"
   ]
  },
  {
   "cell_type": "markdown",
   "metadata": {},
   "source": [
    "We compute the number of days per month were air temerature falls **under 0 degrees**."
   ]
  },
  {
   "cell_type": "code",
   "execution_count": 16,
   "metadata": {},
   "outputs": [],
   "source": [
    "frozen_current <- weather_current %>%\n",
    "  group_by(station_id, year, month) %>%\n",
    "  summarise(frozen = sum(mean_temp < 0, na.rm = TRUE)) %>% \n",
    "  pivot_wider(names_from = month, values_from = frozen)\n",
    "names(frozen_current)[-c(1, 2)] <- paste0(\"frozen_\", names(frozen_current)[-c(1, 2)])"
   ]
  },
  {
   "cell_type": "markdown",
   "metadata": {},
   "source": [
    "While the number of freezing days can affect flowering, the number of days with mean temperature > 26 °C can affect pollination."
   ]
  },
  {
   "cell_type": "code",
   "execution_count": 17,
   "metadata": {},
   "outputs": [],
   "source": [
    "toowarm_current <- weather_current %>%\n",
    "  group_by(station_id, year, month) %>%\n",
    "  summarise(toowarm = sum(mean_temp >= 26, na.rm = TRUE)) %>% \n",
    "  pivot_wider(names_from = month, values_from = toowarm)\n",
    "names(toowarm_current)[-c(1, 2)] <- paste0(\"toowarm_\", names(toowarm_current)[-c(1, 2)])"
   ]
  },
  {
   "cell_type": "markdown",
   "metadata": {},
   "source": [
    "Lastly, the degree days are computed between May (julilan day `r yday(\"2000-05-01\")`) and mid-August (julilan day `r yday(\"2000-08-15\")`)."
   ]
  },
  {
   "cell_type": "code",
   "execution_count": 18,
   "metadata": {},
   "outputs": [],
   "source": [
    "GDD_current <- weather_current %>%\n",
    "  mutate(julian_day = yday(date)) %>% \n",
    "  filter(\n",
    "    julian_day >= yday(\"2000-05-01\"),\n",
    "    julian_day <= yday(\"2000-08-15\")\n",
    "  ) %>%\n",
    "  group_by(year, station_id) %>% \n",
    "  summarise(GDD = sum(mean_temp >= 5, na.rm = TRUE))"
   ]
  },
  {
   "cell_type": "markdown",
   "metadata": {},
   "source": [
    "All indices in the same table."
   ]
  },
  {
   "cell_type": "code",
   "execution_count": 19,
   "metadata": {},
   "outputs": [],
   "source": [
    "weather_indices_current <- temp_prec_current %>%\n",
    "  left_join(frozen_current, by = c(\"station_id\", \"year\")) %>% \n",
    "  left_join(toowarm_current, by = c(\"station_id\", \"year\")) %>% \n",
    "  left_join(GDD_current, by = c(\"station_id\", \"year\")) %>%\n",
    "  ungroup() %>% \n",
    "  mutate(year = as.numeric(year)) %>% \n",
    "  rename(Year = year)\n",
    "names(weather_indices_current)[-c(1, 2)] <- paste0(\"weather_current.\", \n",
    "                                                   names(weather_indices_current)[-c(1, 2)])"
   ]
  },
  {
   "cell_type": "markdown",
   "metadata": {},
   "source": [
    "#### Weather before\n",
    "\n",
    "For each month, we compute total precipitation and mean temperature 5 years before the growing season. "
   ]
  },
  {
   "cell_type": "code",
   "execution_count": 20,
   "metadata": {},
   "outputs": [],
   "source": [
    "temp_prec_before <- list()\n",
    "for (i in 1:nrow(year_station)) {\n",
    "  temp_prec_before[[i]] <-\n",
    "    weather_before %>%\n",
    "    filter(\n",
    "      station_id == year_station$station_id[i],\n",
    "      year %in% (year_station$Year[i] - 5):(year_station$Year[i] - 1)\n",
    "    ) %>%\n",
    "    group_by(year, month) %>%\n",
    "    summarise(\n",
    "      total_precip = sum(total_precip, na.rm = TRUE),\n",
    "      mean_temp = mean(mean_temp, na.rm = TRUE)\n",
    "    ) %>%\n",
    "    group_by(month) %>%\n",
    "    summarise(\n",
    "      total_precip = mean(total_precip, na.rm = TRUE),\n",
    "      mean_temp = mean(mean_temp, na.rm = TRUE)\n",
    "    ) %>%\n",
    "    pivot_wider(names_from = month, values_from = c(total_precip, mean_temp))\n",
    "}\n",
    "temp_prec_before <- do.call(rbind, temp_prec_before)"
   ]
  },
  {
   "cell_type": "markdown",
   "metadata": {},
   "source": [
    "We compute the number of days per month where air temerature falls under 0 degrees, a condition altering flowers."
   ]
  },
  {
   "cell_type": "code",
   "execution_count": 21,
   "metadata": {},
   "outputs": [],
   "source": [
    "frozen_before <- list()\n",
    "for (i in 1:nrow(year_station)) {\n",
    "  frozen_before[[i]] <- weather_before %>%\n",
    "    filter(\n",
    "      station_id == year_station$station_id[i],\n",
    "      year %in% (year_station$Year[i] - 5):(year_station$Year[i] - 1),\n",
    "    ) %>%\n",
    "    group_by(year, month) %>%\n",
    "    summarise(frozen = sum(mean_temp <= 0, na.rm = TRUE)) %>%\n",
    "    group_by(month) %>%\n",
    "    summarise(frozen = mean(frozen)) %>%\n",
    "    pivot_wider(names_from = month, values_from = frozen)\n",
    "}\n",
    "frozen_before <- do.call(rbind, frozen_before)\n",
    "names(frozen_before) <- paste0(\"frozen_\", names(frozen_before))"
   ]
  },
  {
   "cell_type": "markdown",
   "metadata": {},
   "source": [
    "The number of days with mean temperature > 26 °C:"
   ]
  },
  {
   "cell_type": "code",
   "execution_count": 22,
   "metadata": {},
   "outputs": [],
   "source": [
    "toowarm_before <- list()\n",
    "for (i in 1:nrow(year_station)) {\n",
    "  toowarm_before[[i]] <- weather_before %>%\n",
    "    filter(\n",
    "      station_id == year_station$station_id[i],\n",
    "      year %in% (year_station$Year[i] - 5):(year_station$Year[i] - 1),\n",
    "    ) %>%\n",
    "    group_by(year, month) %>%\n",
    "    summarise(toowarm = sum(mean_temp <= 26, na.rm = TRUE)) %>%\n",
    "    group_by(month) %>%\n",
    "    summarise(toowarm = mean(toowarm)) %>%\n",
    "    pivot_wider(names_from = month, values_from = toowarm)\n",
    "}\n",
    "toowarm_before <- do.call(rbind, toowarm_before)\n",
    "names(toowarm_before) <- paste0(\"toowarm_\", names(toowarm_before))"
   ]
  },
  {
   "cell_type": "markdown",
   "metadata": {},
   "source": [
    "And GDD."
   ]
  },
  {
   "cell_type": "code",
   "execution_count": 23,
   "metadata": {},
   "outputs": [],
   "source": [
    "GDD_before <- c()\n",
    "for (i in 1:nrow(year_station)) {\n",
    "  GDD_before[i] <-\n",
    "    weather_before %>%\n",
    "    filter(\n",
    "      station_id == year_station$station_id[i],\n",
    "      year %in% (year_station$Year[i] - 5):(year_station$Year[i] - 1),\n",
    "    ) %>%\n",
    "    mutate(julian_day = yday(date)) %>% \n",
    "    filter(\n",
    "      julian_day >= yday(\"2000-05-01\"),\n",
    "      julian_day <= yday(\"2000-08-15\")\n",
    "    ) %>% \n",
    "    group_by(year) %>%\n",
    "    summarise(GDD = sum(mean_temp >= 5, na.rm = TRUE)) %>% \n",
    "    summarise(GDD_before = mean(GDD)) %>% \n",
    "    pull()\n",
    "}"
   ]
  },
  {
   "cell_type": "markdown",
   "metadata": {},
   "source": [
    "All indices in the same table."
   ]
  },
  {
   "cell_type": "code",
   "execution_count": 24,
   "metadata": {},
   "outputs": [],
   "source": [
    "weather_indices_before <- year_station %>% \n",
    "  bind_cols(temp_prec_before) %>%\n",
    "  bind_cols(frozen_before) %>% \n",
    "  bind_cols(toowarm_before) %>% \n",
    "  mutate(GDD_before = GDD_before)\n",
    "names(weather_indices_before)[-c(1, 2)] <- paste0(\"weather_before.\", \n",
    "                                                  names(weather_indices_before)[-c(1, 2)])\n"
   ]
  },
  {
   "cell_type": "markdown",
   "metadata": {},
   "source": [
    "### Merge everything"
   ]
  },
  {
   "cell_type": "code",
   "execution_count": 25,
   "metadata": {
    "lines_to_next_cell": 2
   },
   "outputs": [],
   "source": [
    "year_station_ <- year_station %>% \n",
    "  left_join(weather_indices_current, by = c(\"Year\", \"station_id\")) %>% \n",
    "  left_join(weather_indices_before, by = c(\"Year\", \"station_id\"))\n",
    "\n",
    "year_site_ <- year_site %>% \n",
    "  left_join(year_station_, by = c(\"Year\", \"station_id\")) %>% \n",
    "  select(-Latitude, -Longitude)\n",
    "\n",
    "df_weather <- df_source %>%\n",
    "  left_join(year_site_, by = c(\"Year\", \"Site\"))"
   ]
  },
  {
   "cell_type": "markdown",
   "metadata": {},
   "source": [
    "## Compositional preprocess\n",
    "\n",
    "### Look up missing values\n",
    "\n",
    "In leaves,"
   ]
  },
  {
   "cell_type": "code",
   "execution_count": 26,
   "metadata": {},
   "outputs": [
    {
     "name": "stderr",
     "output_type": "stream",
     "text": [
      "Loading required package: colorspace\n",
      "\n",
      "Loading required package: grid\n",
      "\n",
      "Loading required package: data.table\n",
      "\n",
      "\n",
      "Attaching package: 'data.table'\n",
      "\n",
      "\n",
      "The following objects are masked from 'package:lubridate':\n",
      "\n",
      "    hour, isoweek, mday, minute, month, quarter, second, wday, week,\n",
      "    yday, year\n",
      "\n",
      "\n",
      "The following objects are masked from 'package:dplyr':\n",
      "\n",
      "    between, first, last\n",
      "\n",
      "\n",
      "The following object is masked from 'package:purrr':\n",
      "\n",
      "    transpose\n",
      "\n",
      "\n",
      "Registered S3 methods overwritten by 'car':\n",
      "  method                          from\n",
      "  influence.merMod                lme4\n",
      "  cooks.distance.influence.merMod lme4\n",
      "  dfbeta.influence.merMod         lme4\n",
      "  dfbetas.influence.merMod        lme4\n",
      "\n",
      "VIM is ready to use. \n",
      " Since version 4.0.0 the GUI is in its own package VIMGUI.\n",
      "\n",
      "          Please use the package to use the new (and old) GUI.\n",
      "\n",
      "\n",
      "Suggestions and bug-reports can be submitted at: https://github.com/alexkowa/VIM/issues\n",
      "\n",
      "\n",
      "Attaching package: 'VIM'\n",
      "\n",
      "\n",
      "The following object is masked from 'package:recipes':\n",
      "\n",
      "    prepare\n",
      "\n",
      "\n",
      "The following object is masked from 'package:datasets':\n",
      "\n",
      "    sleep\n",
      "\n",
      "\n"
     ]
    },
    {
     "name": "stdout",
     "output_type": "stream",
     "text": [
      "\n",
      " Variables sorted by number of missings: \n",
      "      Variable        Count\n",
      " Leaf Mo (ppm) 0.5166223404\n",
      " Leaf Mn (ppm) 0.3557180851\n",
      " Leaf Zn (ppm) 0.3530585106\n",
      " Leaf Fe (ppm) 0.3523936170\n",
      " Leaf Cu (ppm) 0.3470744681\n",
      " Leaf Al (ppm) 0.1808510638\n",
      "  Leaf B (ppm) 0.1801861702\n",
      "    Leaf N (%) 0.0033244681\n",
      "    Leaf P (%) 0.0033244681\n",
      "    Leaf K (%) 0.0013297872\n",
      "   Leaf Ca (%) 0.0006648936\n",
      "   Leaf Mg (%) 0.0006648936\n"
     ]
    },
    {
     "data": {
      "image/png": "[encoded data removed]",
      "text/plain": [
       "plot without title"
      ]
     },
     "metadata": {
      "image/png": {
       "height": 420,
       "width": 420
      },
      "text/plain": {
       "height": 420,
       "width": 420
      }
     },
     "output_type": "display_data"
    },
    {
     "data": {
      "image/png": "[encoded data removed]",
      "text/plain": [
       "plot without title"
      ]
     },
     "metadata": {
      "image/png": {
       "height": 420,
       "width": 420
      },
      "text/plain": {
       "height": 420,
       "width": 420
      }
     },
     "output_type": "display_data"
    }
   ],
   "source": [
    "library(\"VIM\")\n",
    "comp_leaf <- df_source %>%\n",
    "  select(starts_with(\"Leaf\"))\n",
    "\n",
    "plot(aggr(comp_leaf, sortVar = TRUE), cex.axis =0.6)"
   ]
  },
  {
   "cell_type": "markdown",
   "metadata": {},
   "source": [
    "The proportion of NAs in the Mo (~55%), Mn, Zn and Fe columns are very high (~35%) to parse them through imputations. Although Al and B also have pretty high propostions of NAs (~18%), they are important components. They will be kept and imputed.\n",
    "\n",
    "In soil,"
   ]
  },
  {
   "cell_type": "code",
   "execution_count": 27,
   "metadata": {},
   "outputs": [
    {
     "name": "stdout",
     "output_type": "stream",
     "text": [
      "\n",
      " Variables sorted by number of missings: \n",
      "        Variable        Count\n",
      "  Soil NO3 (ppm) 0.5146276596\n",
      "  Soil NH4 (ppm) 0.5146276596\n",
      "  Soil K (mg/kg) 0.0053191489\n",
      "  Soil P (mg/kg) 0.0006648936\n",
      " Soil Ca (mg/kg) 0.0006648936\n",
      " Soil Mg (mg/kg) 0.0000000000\n"
     ]
    },
    {
     "data": {
      "image/png": "[encoded data removed]",
      "text/plain": [
       "plot without title"
      ]
     },
     "metadata": {
      "image/png": {
       "height": 420,
       "width": 420
      },
      "text/plain": {
       "height": 420,
       "width": 420
      }
     },
     "output_type": "display_data"
    },
    {
     "data": {
      "image/png": "[encoded data removed]",
      "text/plain": [
       "plot without title"
      ]
     },
     "metadata": {
      "image/png": {
       "height": 420,
       "width": 420
      },
      "text/plain": {
       "height": 420,
       "width": 420
      }
     },
     "output_type": "display_data"
    }
   ],
   "source": [
    "comp_soil <- df_source %>%\n",
    "  select(starts_with(\"Soil\"))\n",
    "\n",
    "plot(aggr(comp_soil, sortVar = TRUE), cex.axis = 0.8)"
   ]
  },
  {
   "cell_type": "markdown",
   "metadata": {},
   "source": [
    "Nitrogen forms have been measured in less than 50%  of the obervations. Unfortunalty, we must rule them out of the analysis. K, P, Ca and Mg are kept.\n",
    "\n",
    "### Imputations\n",
    "\n",
    "The imputation is done with a random forest algorithm using the **`mice`** package. Leaves first."
   ]
  },
  {
   "cell_type": "code",
   "execution_count": 28,
   "metadata": {
    "tags": [
     "remove_cell"
    ]
   },
   "outputs": [
    {
     "name": "stderr",
     "output_type": "stream",
     "text": [
      "Warning message:\n",
      "\"package 'mice' was built under R version 3.6.3\"\n",
      "\n",
      "Attaching package: 'mice'\n",
      "\n",
      "\n",
      "The following objects are masked from 'package:base':\n",
      "\n",
      "    cbind, rbind\n",
      "\n",
      "\n"
     ]
    },
    {
     "name": "stdout",
     "output_type": "stream",
     "text": [
      "\n",
      " iter imp variable\n",
      "  1   1  N  P  K  Al  B\n",
      "  1   2  N  P  K  Al  B\n",
      "  1   3  N  P  K  Al  B\n",
      "  1   4  N  P  K  Al  B\n",
      "  1   5  N  P  K  Al  B\n",
      "  2   1  N  P  K  Al  B\n",
      "  2   2  N  P  K  Al  B\n",
      "  2   3  N  P  K  Al  B\n",
      "  2   4  N  P  K  Al  B\n",
      "  2   5  N  P  K  Al  B\n",
      "  3   1  N  P  K  Al  B\n",
      "  3   2  N  P  K  Al  B\n",
      "  3   3  N  P  K  Al  B\n",
      "  3   4  N  P  K  Al  B\n",
      "  3   5  N  P  K  Al  B\n",
      "  4   1  N  P  K  Al  B\n",
      "  4   2  N  P  K  Al  B\n",
      "  4   3  N  P  K  Al  B\n",
      "  4   4  N  P  K  Al  B\n",
      "  4   5  N  P  K  Al  B\n",
      "  5   1  N  P  K  Al  B\n",
      "  5   2  N  P  K  Al  B\n",
      "  5   3  N  P  K  Al  B\n",
      "  5   4  N  P  K  Al  B\n",
      "  5   5  N  P  K  Al  B\n"
     ]
    }
   ],
   "source": [
    "library(\"mice\")\n",
    "\n",
    "comp_leaf_enough <- comp_leaf %>% \n",
    "  select(-`Leaf Mo (ppm)`, -`Leaf Mn (ppm)`, -`Leaf Zn (ppm)`, -`Leaf Cu (ppm)`, -`Leaf Fe (ppm)`)\n",
    "\n",
    "leaf_comp_names <- names(comp_leaf_enough)\n",
    "names(comp_leaf_enough) <- c(\"N\", \"P\", \"K\", \"Ca\", \"Mg\", \"Al\", \"B\")\n",
    "\n",
    "leaf_too_many_nas <- df_source %>% \n",
    "  select(id) %>% \n",
    "  filter(apply(comp_leaf_enough, 1, function(x) sum(is.na(x)) > 3)) %>% \n",
    "  pull()\n",
    "\n",
    "leaf_imp <- comp_leaf_enough %>% \n",
    "  filter(!(df_source$id %in% leaf_too_many_nas)) %>%\n",
    "  mice(., method = \"rf\") %>% \n",
    "  complete(.)\n",
    "\n",
    "names(leaf_imp) <- leaf_comp_names"
   ]
  },
  {
   "cell_type": "markdown",
   "metadata": {},
   "source": [
    "Then soil."
   ]
  },
  {
   "cell_type": "code",
   "execution_count": 29,
   "metadata": {
    "tags": [
     "remove_cell"
    ]
   },
   "outputs": [
    {
     "name": "stdout",
     "output_type": "stream",
     "text": [
      "\n",
      " iter imp variable\n",
      "  1   1  P  K  Ca\n",
      "  1   2  P  K  Ca\n",
      "  1   3  P  K  Ca\n",
      "  1   4  P  K  Ca\n",
      "  1   5  P  K  Ca\n",
      "  2   1  P  K  Ca\n",
      "  2   2  P  K  Ca\n",
      "  2   3  P  K  Ca\n",
      "  2   4  P  K  Ca\n",
      "  2   5  P  K  Ca\n",
      "  3   1  P  K  Ca\n",
      "  3   2  P  K  Ca\n",
      "  3   3  P  K  Ca\n",
      "  3   4  P  K  Ca\n",
      "  3   5  P  K  Ca\n",
      "  4   1  P  K  Ca\n",
      "  4   2  P  K  Ca\n",
      "  4   3  P  K  Ca\n",
      "  4   4  P  K  Ca\n",
      "  4   5  P  K  Ca\n",
      "  5   1  P  K  Ca\n",
      "  5   2  P  K  Ca\n",
      "  5   3  P  K  Ca\n",
      "  5   4  P  K  Ca\n",
      "  5   5  P  K  Ca\n"
     ]
    }
   ],
   "source": [
    "comp_soil_enough <- comp_soil %>% \n",
    "  select(-`Soil NO3 (ppm)`, -`Soil NH4 (ppm)`)\n",
    "\n",
    "soil_comp_names <- names(comp_soil_enough)\n",
    "names(comp_soil_enough) <- c(\"P\", \"K\", \"Ca\", \"Mg\")\n",
    "\n",
    "soil_too_many_nas <- df_source %>% \n",
    "  select(id) %>% \n",
    "  filter(apply(comp_soil_enough, 1, function(x) sum(is.na(x)) > 3)) %>% \n",
    "  pull()\n",
    "\n",
    "soil_imp <- comp_soil_enough %>% \n",
    "  filter(!(df_source$id %in% soil_too_many_nas)) %>%\n",
    "  mice(., method = \"rf\") %>% \n",
    "  complete(.)\n",
    "\n",
    "names(soil_imp) <- soil_comp_names"
   ]
  },
  {
   "cell_type": "markdown",
   "metadata": {},
   "source": [
    "### Compute balances\n",
    "\n",
    "Load SBPs."
   ]
  },
  {
   "cell_type": "code",
   "execution_count": 30,
   "metadata": {
    "tags": [
     "remove_cell"
    ]
   },
   "outputs": [
    {
     "name": "stderr",
     "output_type": "stream",
     "text": [
      "Warning message:\n",
      "\"package 'compositions' was built under R version 3.6.3\"\n",
      "Loading required package: tensorA\n",
      "\n",
      "\n",
      "Attaching package: 'tensorA'\n",
      "\n",
      "\n",
      "The following object is masked from 'package:base':\n",
      "\n",
      "    norm\n",
      "\n",
      "\n",
      "Loading required package: robustbase\n",
      "\n",
      "Loading required package: bayesm\n",
      "\n",
      "Welcome to compositions, a package for compositional data analysis.\n",
      "Find an intro with \"? compositions\"\n",
      "\n",
      "\n",
      "\n",
      "Attaching package: 'compositions'\n",
      "\n",
      "\n",
      "The following objects are masked from 'package:stats':\n",
      "\n",
      "    cor, cov, dist, var\n",
      "\n",
      "\n",
      "The following objects are masked from 'package:base':\n",
      "\n",
      "    %*%, scale, scale.default\n",
      "\n",
      "\n",
      "Parsed with column specification:\n",
      "cols(\n",
      "  P = \u001b[32mcol_double()\u001b[39m,\n",
      "  K = \u001b[32mcol_double()\u001b[39m,\n",
      "  Ca = \u001b[32mcol_double()\u001b[39m,\n",
      "  Mg = \u001b[32mcol_double()\u001b[39m,\n",
      "  Fv = \u001b[32mcol_double()\u001b[39m\n",
      ")\n",
      "\n",
      "Parsed with column specification:\n",
      "cols(\n",
      "  N = \u001b[32mcol_double()\u001b[39m,\n",
      "  P = \u001b[32mcol_double()\u001b[39m,\n",
      "  K = \u001b[32mcol_double()\u001b[39m,\n",
      "  Ca = \u001b[32mcol_double()\u001b[39m,\n",
      "  Mg = \u001b[32mcol_double()\u001b[39m,\n",
      "  Al = \u001b[32mcol_double()\u001b[39m,\n",
      "  B = \u001b[32mcol_double()\u001b[39m,\n",
      "  Fv = \u001b[32mcol_double()\u001b[39m\n",
      ")\n",
      "\n"
     ]
    }
   ],
   "source": [
    "library(\"compositions\")\n",
    "sbp_soil <- read_csv(\"data/sbp-soil.csv\")\n",
    "sbp_leaf <- read_csv(\"data/sbp-leaf.csv\")"
   ]
  },
  {
   "cell_type": "markdown",
   "metadata": {},
   "source": [
    "I have created a small snippet to generate balance definitions from SBPs."
   ]
  },
  {
   "cell_type": "code",
   "execution_count": 31,
   "metadata": {
    "lines_to_next_cell": 2
   },
   "outputs": [],
   "source": [
    "source(\"lib/ilrDefinition.R\")\n",
    "soil_bal_def <- ilrDefinition(sbp_soil,\n",
    "                              side = \"-+\", sep.elem = \"\",\n",
    "                              sep.bal = \".\", sep.left = \"\", sep.right = \"\"\n",
    ")\n",
    "leaf_bal_def <- ilrDefinition(sbp_leaf,\n",
    "                              side = \"-+\", sep.elem = \"\",\n",
    "                              sep.bal = \".\", sep.left = \"\", sep.right = \"\"\n",
    ")"
   ]
  },
  {
   "cell_type": "markdown",
   "metadata": {},
   "source": [
    "Generate leaf balances."
   ]
  },
  {
   "cell_type": "code",
   "execution_count": 32,
   "metadata": {},
   "outputs": [],
   "source": [
    "comp_leaf <- leaf_imp %>% \n",
    "  mutate(`Leaf Al (%)` = `Leaf Al (ppm)` / 1e4,\n",
    "         `Leaf B (%)` = `Leaf B (ppm)` / 1e4,) %>% \n",
    "  select(-`Leaf Al (ppm)`, -`Leaf B (ppm)`) %>% \n",
    "  mutate(Fv = 100 - `Leaf N (%)` - `Leaf P (%)` - `Leaf K (%)` -\n",
    "           `Leaf Ca (%)` - `Leaf Mg (%)` - `Leaf Al (%)` - `Leaf B (%)`)\n",
    "bal_leaf <- ilr(comp_leaf, V = gsi.buildilrBase(t(sbp_leaf))) %>% \n",
    "  data.frame()\n",
    "names(bal_leaf) <- paste0(\"Leaf_\", leaf_bal_def)\n",
    "\n",
    "bal_leaf <- bal_leaf %>% \n",
    "  mutate(id = df_source$id[!(df_source$id %in% leaf_too_many_nas)])"
   ]
  },
  {
   "cell_type": "markdown",
   "metadata": {},
   "source": [
    "Generate soil balances."
   ]
  },
  {
   "cell_type": "code",
   "execution_count": 33,
   "metadata": {},
   "outputs": [],
   "source": [
    "comp_soil <- soil_imp %>% \n",
    "  mutate(Fv = 1e6 - `Soil Ca (mg/kg)` - `Soil P (mg/kg)` - `Soil K (mg/kg)` - `Soil Mg (mg/kg)`)\n",
    "bal_soil <- ilr(comp_soil, V = gsi.buildilrBase(t(sbp_soil))) %>% \n",
    "  data.frame()\n",
    "names(bal_soil) <- paste0(\"Soil_\", soil_bal_def)\n",
    "\n",
    "bal_soil <- bal_soil %>% \n",
    "  mutate(id = df_source$id)"
   ]
  },
  {
   "cell_type": "markdown",
   "metadata": {},
   "source": [
    "### Merge variables to a table for modelling\n",
    "\n",
    "Tables for weather, soil balances et leaf balances are merged to a single table which will be used for statistical and predictive modelling."
   ]
  },
  {
   "cell_type": "code",
   "execution_count": 34,
   "metadata": {},
   "outputs": [],
   "source": [
    "df_ <- df_weather %>%\n",
    "  select(-starts_with(c(\"Leaf\", \"Soil\"))) %>%\n",
    "  left_join(bal_leaf, by = \"id\") %>% \n",
    "  left_join(bal_soil, by = \"id\")"
   ]
  },
  {
   "cell_type": "markdown",
   "metadata": {},
   "source": [
    "## Statistical modelling\n",
    "\n",
    "I will first use a frequential modelling framework to make sure everything works, then use a bayesian framework to obtain posterior effects. I'm keeping only variables of interest."
   ]
  },
  {
   "cell_type": "code",
   "execution_count": 35,
   "metadata": {},
   "outputs": [],
   "source": [
    "df_stats <- df_ %>%\n",
    "  select(\n",
    "    `Berry yield (kg/ha)`,\n",
    "    `N dose (kg/ha)`,\n",
    "    `P dose (kg/ha)`,\n",
    "    `K dose (kg/ha)`,\n",
    "    `pH H2O`,\n",
    "    starts_with(\"Leaf_\"),\n",
    "    starts_with(\"Soil_\"),\n",
    "    starts_with(\"weather_current\"),\n",
    "    # Random effects\n",
    "    Year, Site, Block\n",
    "  ) %>%\n",
    "  rename(\n",
    "    yield = `Berry yield (kg/ha)`,\n",
    "    doseN = `N dose (kg/ha)`,\n",
    "    doseP = `P dose (kg/ha)`,\n",
    "    doseK = `K dose (kg/ha)`,\n",
    "    pH = `pH H2O`\n",
    "  ) %>%\n",
    "  drop_na()"
   ]
  },
  {
   "cell_type": "code",
   "execution_count": 36,
   "metadata": {},
   "outputs": [],
   "source": [
    "linmod_formula <- yield ~ doseN + doseP + doseK + pH +\n",
    "  Leaf_Fv.BAlMgCaKPN + Leaf_Al.BMgCaKPN + Leaf_B.MgCaKPN + \n",
    "  Leaf_MgCaK.PN + Leaf_P.N + Leaf_MgCa.K + Leaf_Mg.Ca +\n",
    "  Soil_Fv.MgCaKP + Soil_MgCaK.P + Soil_MgCa.K + Soil_Mg.Ca +\n",
    "  weather_current.total_precip_04 + weather_current.total_precip_05 + weather_current.total_precip_06 +\n",
    "  weather_current.total_precip_07 + weather_current.total_precip_08 +\n",
    "  weather_current.mean_temp_04 + weather_current.mean_temp_05 + weather_current.mean_temp_06 +\n",
    "  weather_current.mean_temp_07 + weather_current.mean_temp_08 + \n",
    "  weather_current.frozen_04 + weather_current.frozen_05\n",
    "#+ weather_current.frozen_06 +\n",
    "#weather_current.frozen_07 + weather_current.frozen_08\n",
    "#weather_current.toowarm_04 + weather_current.toowarm_05 + \n",
    "#weather_current.toowarm_06# +\n",
    "#weather_current.toowarm_07# +\n",
    "#weather_current.toowarm_08 +\n",
    "#weather_current.GDD\n",
    "\n",
    "df_stats_recipe <-\n",
    "  df_stats %>%\n",
    "  recipe(linmod_formula) %>%\n",
    "  step_log(all_outcomes(), base = 10) %>% \n",
    "  step_normalize(-all_outcomes(), all_numeric()) %>%\n",
    "  prep()"
   ]
  },
  {
   "cell_type": "markdown",
   "metadata": {},
   "source": [
    "### Frequential framework"
   ]
  },
  {
   "cell_type": "code",
   "execution_count": 37,
   "metadata": {
    "lines_to_next_cell": 2
   },
   "outputs": [],
   "source": [
    "lm_freq <- lm(linmod_formula, data = juice(df_stats_recipe))"
   ]
  },
  {
   "cell_type": "code",
   "execution_count": 38,
   "metadata": {},
   "outputs": [
    {
     "name": "stderr",
     "output_type": "stream",
     "text": [
      "Parsed with column specification:\n",
      "cols(\n",
      "  term = \u001b[31mcol_character()\u001b[39m,\n",
      "  english = \u001b[31mcol_character()\u001b[39m\n",
      ")\n",
      "\n"
     ]
    },
    {
     "data": {
      "image/png": "[encoded data removed]",
      "text/plain": [
       "plot without title"
      ]
     },
     "metadata": {
      "image/png": {
       "height": 420,
       "width": 420
      },
      "text/plain": {
       "height": 420,
       "width": 420
      }
     },
     "output_type": "display_data"
    }
   ],
   "source": [
    "translate_df <- read_csv(\"data/translate_names.csv\")\n",
    "\n",
    "tidy(lm_freq, conf.int = TRUE) %>%\n",
    "  filter(term != \"(Intercept)\") %>%\n",
    "  left_join(translate_df, by = \"term\") %>%\n",
    "  mutate(english = fct_reorder(english, estimate)) %>%\n",
    "  ggplot(aes(estimate, english)) +\n",
    "  geom_vline(xintercept = 0, linetype = 2) +\n",
    "  geom_point() +\n",
    "  geom_errorbarh(aes(xmin = conf.low, xmax = conf.high)) +\n",
    "  labs(x = \"Coefficient\", y = \"\") +\n",
    "  theme_bw() +\n",
    "  ggsave(\"images/modlin-freq.png\", width = 6, height = 6, dpi = 300)"
   ]
  },
  {
   "cell_type": "markdown",
   "metadata": {},
   "source": [
    "### Bayesian framework"
   ]
  },
  {
   "cell_type": "code",
   "execution_count": 39,
   "metadata": {},
   "outputs": [
    {
     "name": "stderr",
     "output_type": "stream",
     "text": [
      "Warning message:\n",
      "\"package 'rstanarm' was built under R version 3.6.3\"\n",
      "Loading required package: Rcpp\n",
      "\n",
      "\n",
      "Attaching package: 'Rcpp'\n",
      "\n",
      "\n",
      "The following object is masked from 'package:rsample':\n",
      "\n",
      "    populate\n",
      "\n",
      "\n",
      "rstanarm (Version 2.19.3, packaged: 2020-02-11 05:16:41 UTC)\n",
      "\n",
      "- Do not expect the default priors to remain the same in future rstanarm versions.\n",
      "\n",
      "Thus, R scripts should specify priors explicitly, even if they are just the defaults.\n",
      "\n",
      "- For execution on a local, multicore CPU with excess RAM we recommend calling\n",
      "\n",
      "options(mc.cores = parallel::detectCores())\n",
      "\n",
      "- bayesplot theme set to bayesplot::theme_default()\n",
      "\n",
      "   * Does _not_ affect other ggplot2 plots\n",
      "\n",
      "   * See ?bayesplot_theme_set for details on theme setting\n",
      "\n",
      "\n",
      "Attaching package: 'rstanarm'\n",
      "\n",
      "\n",
      "The following object is masked from 'package:compositions':\n",
      "\n",
      "    R2\n",
      "\n",
      "\n",
      "Warning message:\n",
      "\"package 'tidybayes' was built under R version 3.6.3\"\n",
      "\n",
      "Attaching package: 'tidybayes'\n",
      "\n",
      "\n",
      "The following object is masked from 'package:tune':\n",
      "\n",
      "    parameters\n",
      "\n",
      "\n",
      "The following object is masked from 'package:dials':\n",
      "\n",
      "    parameters\n",
      "\n",
      "\n",
      "This is bayesplot version 1.7.1\n",
      "\n",
      "- Online documentation and vignettes at mc-stan.org/bayesplot\n",
      "\n",
      "- bayesplot theme set to bayesplot::theme_default()\n",
      "\n",
      "   * Does _not_ affect other ggplot2 plots\n",
      "\n",
      "   * See ?bayesplot_theme_set for details on theme setting\n",
      "\n"
     ]
    }
   ],
   "source": [
    "library(\"rstanarm\")\n",
    "library(\"tidybayes\")\n",
    "library(\"bayesplot\")\n",
    "\n",
    "lm_bayes <- stan_glm(\n",
    "  linmod_formula,\n",
    "  data = juice(df_stats_recipe),\n",
    "  family = gaussian(),\n",
    "  prior = normal(0, 10),\n",
    "  prior_intercept = normal(0, 10),\n",
    "  iter = 4000,\n",
    "  warmup = 1000,\n",
    "  cores = 4,\n",
    "  seed = 8578234\n",
    ")"
   ]
  },
  {
   "cell_type": "code",
   "execution_count": 40,
   "metadata": {},
   "outputs": [
    {
     "data": {
      "image/png": "[encoded data removed]",
      "text/plain": [
       "plot without title"
      ]
     },
     "metadata": {
      "image/png": {
       "height": 420,
       "width": 420
      },
      "text/plain": {
       "height": 420,
       "width": 420
      }
     },
     "output_type": "display_data"
    }
   ],
   "source": [
    "mcmc_trace(lm_bayes)"
   ]
  },
  {
   "cell_type": "markdown",
   "metadata": {},
   "source": [
    "All caterpillars have constant noise. This is what we want."
   ]
  },
  {
   "cell_type": "code",
   "execution_count": 41,
   "metadata": {},
   "outputs": [
    {
     "name": "stderr",
     "output_type": "stream",
     "text": [
      "Warning message:\n",
      "\"`expand_scale()` is deprecated; use `expansion()` instead.\"\n",
      "Scale for 'y' is already present. Adding another scale for 'y', which will\n",
      "replace the existing scale.\n",
      "\n"
     ]
    },
    {
     "data": {
      "image/png": "[encoded data removed]",
      "text/plain": [
       "plot without title"
      ]
     },
     "metadata": {
      "image/png": {
       "height": 420,
       "width": 420
      },
      "text/plain": {
       "height": 420,
       "width": 420
      }
     },
     "output_type": "display_data"
    }
   ],
   "source": [
    "lm_summary <- tibble(\n",
    "  term = names(lm_bayes$coefficients)[-1],\n",
    "  coefficient = lm_bayes$coefficients[-1]\n",
    ") %>%\n",
    "  left_join(translate_df, by = \"term\")\n",
    "\n",
    "color_scheme_set(\"gray\")\n",
    "mcmc_areas(\n",
    "    lm_bayes,\n",
    "    prob = 0.95,\n",
    "    pars = lm_summary$term[order(lm_summary$coefficient, decreasing = FALSE)],\n",
    "    area_method = \"equal height\"\n",
    "  ) +\n",
    "  geom_vline(xintercept = 0, linetype = 2) +\n",
    "  labs(x = \"Coefficient\") +\n",
    "  scale_y_discrete(\n",
    "    labels = lm_summary$english[order(lm_summary$coefficient, decreasing = FALSE)]\n",
    "  ) +\n",
    "  theme_bw() +\n",
    "  theme(panel.grid.major.y = element_line(colour = \"grey80\")) +\n",
    "  ggsave(\"images/modlin-bayes.png\", width = 8, height = 5, dpi = 300)"
   ]
  },
  {
   "cell_type": "markdown",
   "metadata": {},
   "source": [
    "## Predictive modelling\n",
    "\n",
    "Split training and testing data randomly across all observations."
   ]
  },
  {
   "cell_type": "code",
   "execution_count": 42,
   "metadata": {},
   "outputs": [],
   "source": [
    "set.seed(59413) # random.org"
   ]
  },
  {
   "cell_type": "markdown",
   "metadata": {},
   "source": [
    "Molelling yield from the NPK dosage and soil conditions"
   ]
  },
  {
   "cell_type": "code",
   "execution_count": 43,
   "metadata": {
    "lines_to_next_cell": 2
   },
   "outputs": [],
   "source": [
    "df_npk <- df_ %>%\n",
    "  select(\n",
    "    `Berry yield (kg/ha)`,\n",
    "    `N dose (kg/ha)`,\n",
    "    `P dose (kg/ha)`,\n",
    "    `K dose (kg/ha)`,\n",
    "    `pH H2O`,\n",
    "    starts_with(\"Leaf_\"),\n",
    "    starts_with(\"Soil_\"),\n",
    "    starts_with(\"weather_before\")\n",
    "  ) %>%\n",
    "  rename(\n",
    "    yield = `Berry yield (kg/ha)`,\n",
    "    doseN = `N dose (kg/ha)`,\n",
    "    doseP = `P dose (kg/ha)`,\n",
    "    doseK = `K dose (kg/ha)`,\n",
    "    pH = `pH H2O`\n",
    "  ) %>%\n",
    "  drop_na()"
   ]
  },
  {
   "cell_type": "code",
   "execution_count": 44,
   "metadata": {},
   "outputs": [],
   "source": [
    "df_npk <- df_npk %>% \n",
    "  select(-weather_before.frozen_04, -weather_before.frozen_05,\n",
    "         -weather_before.frozen_06, -weather_before.frozen_07, -weather_before.frozen_08,\n",
    "         -weather_before.toowarm_04, -weather_before.toowarm_05, -weather_before.toowarm_06,\n",
    "         -weather_before.toowarm_08, -weather_before.mean_temp_07)"
   ]
  },
  {
   "cell_type": "markdown",
   "metadata": {},
   "source": [
    "Train / test split."
   ]
  },
  {
   "cell_type": "code",
   "execution_count": 45,
   "metadata": {},
   "outputs": [],
   "source": [
    "npk_split <- initial_split(df_npk, prop = 3 / 4)\n",
    "\n",
    "npk_train <- training(npk_split)\n",
    "npk_test <- testing(npk_split)"
   ]
  },
  {
   "cell_type": "markdown",
   "metadata": {},
   "source": [
    "Preprocessing recipe."
   ]
  },
  {
   "cell_type": "code",
   "execution_count": 46,
   "metadata": {},
   "outputs": [],
   "source": [
    "npk_recipe <- npk_train %>%\n",
    "  recipe(yield ~ .) %>%\n",
    "  #step_nzv(all_numeric()) %>% \n",
    "  #step_log(all_outcomes(), base = 10) %>% # high yield were predicted too low, maybe skewness\n",
    "  step_normalize(all_numeric()) %>%\n",
    "  #step_inverse(all_outcomes()) %>% \n",
    "  prep()\n",
    "\n",
    "#mean_logy <- mean(log10(npk_train$yield))\n",
    "#sd_logy <- sd(log10(npk_train$yield))\n",
    "\n",
    "mean_y <- mean(npk_train$yield)\n",
    "sd_y <- sd(npk_train$yield)\n",
    "\n",
    "# the recipes packing does not allow backtransformation yet\n",
    "# https://github.com/tidymodels/recipes/issues/264\n",
    "\n",
    "step_back <- function(y) {\n",
    "  #y <- 1/y\n",
    "  #y <- 10 ^ (y * sd_logy + mean_logy)\n",
    "  y <- y * sd_y + mean_y\n",
    "  return(y)\n",
    "}\n",
    "\n",
    "train_baked <- bake(npk_recipe, npk_train)\n",
    "test_baked <-  bake(npk_recipe, npk_test)\n",
    "\n",
    "write_csv(x = train_baked, path = \"output/train_baked.csv\")\n",
    "write_csv(x = test_baked, path = \"output/test_baked.csv\")"
   ]
  },
  {
   "cell_type": "markdown",
   "metadata": {},
   "source": [
    "### Variable importance\n",
    "\n",
    "Variable importance in the model can be assessed with extreme gradient boosted tree modeling with **`caret`**."
   ]
  },
  {
   "cell_type": "code",
   "execution_count": 47,
   "metadata": {},
   "outputs": [
    {
     "name": "stderr",
     "output_type": "stream",
     "text": [
      "Loading required package: lattice\n",
      "\n",
      "\n",
      "Attaching package: 'caret'\n",
      "\n",
      "\n",
      "The following objects are masked from 'package:rstanarm':\n",
      "\n",
      "    compare_models, R2\n",
      "\n",
      "\n",
      "The following object is masked from 'package:compositions':\n",
      "\n",
      "    R2\n",
      "\n",
      "\n",
      "The following objects are masked from 'package:yardstick':\n",
      "\n",
      "    precision, recall\n",
      "\n",
      "\n",
      "The following object is masked from 'package:purrr':\n",
      "\n",
      "    lift\n",
      "\n",
      "\n"
     ]
    }
   ],
   "source": [
    "library(\"caret\")\n",
    "set.seed(693739)\n",
    "\n",
    "train_control <- trainControl(\n",
    "  method = \"repeatedcv\",\n",
    "  number = 3\n",
    ")\n",
    "\n",
    "# These parameters minimise bias and return similar R² in training\n",
    "# and testing\n",
    "tune_xgb <- expand.grid( # xgbTree\n",
    "  nrounds = 50, # not too much to avoid overfit\n",
    "  max_depth = 2, #c(1, 2, 4, 6, 8, 10), # few avoids overfit\n",
    "  eta = 0.25, #c(0.001, 0.01, 0.1), # not too high to avoid bias\n",
    "  gamma = 1,\n",
    "  colsample_bytree = 0.75,\n",
    "  min_child_weight = 7, #c(3, 5, 7)\n",
    "  subsample = 0.95#c(0.3, 0.5, 0.8) # too high or too low can create a bias\n",
    ")"
   ]
  },
  {
   "cell_type": "code",
   "execution_count": 48,
   "metadata": {},
   "outputs": [],
   "source": [
    "m_fit <- train(yield ~ .,\n",
    "               data = train_baked,\n",
    "               method = \"xgbTree\",\n",
    "               trControl = train_control,\n",
    "               tuneGrid = tune_xgb,\n",
    "               verbose = FALSE\n",
    ")"
   ]
  },
  {
   "cell_type": "markdown",
   "metadata": {},
   "source": [
    "Quick actual-predicted check."
   ]
  },
  {
   "cell_type": "code",
   "execution_count": 49,
   "metadata": {},
   "outputs": [
    {
     "name": "stderr",
     "output_type": "stream",
     "text": [
      "Warning message:\n",
      "\"package 'patchwork' was built under R version 3.6.3\"\n"
     ]
    },
    {
     "data": {
      "image/png": "[encoded data removed]",
      "text/plain": [
       "plot without title"
      ]
     },
     "metadata": {
      "image/png": {
       "height": 420,
       "width": 420
      },
      "text/plain": {
       "height": 420,
       "width": 420
      }
     },
     "output_type": "display_data"
    }
   ],
   "source": [
    "library(\"patchwork\")\n",
    "\n",
    "rsq_tr <- cor(train_baked$yield, predict(m_fit))^2\n",
    "rsq_te <- cor(test_baked$yield, predict(m_fit, newdata = test_baked))^2\n",
    "\n",
    "gg_tr <- tibble(actual = train_baked$yield,\n",
    "       predicted = predict(m_fit)) %>%\n",
    "  ggplot(aes(x = actual, y = predicted)) +\n",
    "  geom_abline(slope = 1, intercept = 0, colour = \"gray60\", lwd = 2) +\n",
    "  geom_point() +\n",
    "  labs(title = paste(\"R² =\", round(rsq_tr, 2))) +\n",
    "  theme_bw() +\n",
    "  coord_equal()\n",
    "\n",
    "gg_te <- tibble(actual = test_baked$yield,\n",
    "       predicted = predict(m_fit, newdata = test_baked)) %>%\n",
    "  ggplot(aes(x = actual, y = predicted)) +\n",
    "  geom_abline(slope = 1, intercept = 0, colour = \"gray60\", lwd = 2) +\n",
    "  geom_point() +\n",
    "  labs(title = paste(\"R² =\", round(rsq_te, 2))) +\n",
    "  theme_bw() +\n",
    "  coord_equal()\n",
    "\n",
    "gg_tr / gg_te"
   ]
  },
  {
   "cell_type": "markdown",
   "metadata": {},
   "source": [
    "Importance of variables in the model."
   ]
  },
  {
   "cell_type": "code",
   "execution_count": 50,
   "metadata": {},
   "outputs": [
    {
     "data": {
      "image/png": "[encoded data removed]",
      "text/plain": [
       "plot without title"
      ]
     },
     "metadata": {
      "image/png": {
       "height": 420,
       "width": 420
      },
      "text/plain": {
       "height": 420,
       "width": 420
      }
     },
     "output_type": "display_data"
    }
   ],
   "source": [
    "tibble(\n",
    "  term = rownames(varImp(m_fit)$importance),\n",
    "  score = varImp(m_fit)$importance[, 1]\n",
    ") %>%\n",
    "  left_join(translate_df, by = \"term\") %>%\n",
    "  mutate(english = fct_reorder(factor(english), score)) %>%\n",
    "  ggplot(aes(y = score, x = english)) +\n",
    "  geom_bar(stat = \"identity\", fill = \"black\", lwd = 0) +\n",
    "  labs(x = \"\", y = \"Variable importance score\") +\n",
    "  coord_flip() +\n",
    "  theme_bw() +\n",
    "  theme(text=element_text(family=\"serif\")) +\n",
    "  ggsave(\"images/varimp.png\", width = 6, height = 5, dpi = 300)"
   ]
  },
  {
   "cell_type": "markdown",
   "metadata": {},
   "source": [
    "### Prediction model\n",
    "\n",
    "Variable importance can't be assessed with Gaussian processes, which is a great tool to model smooth phenomenons like those occuring in agroecosystems (Coulibali et al. 2020)."
   ]
  },
  {
   "cell_type": "code",
   "execution_count": 51,
   "metadata": {},
   "outputs": [],
   "source": [
    "tune_gp <- expand.grid( # gaussprRadial\n",
    "  sigma = 0.1#c(0.05, 0.1, 0.15, 0.2)\n",
    ")\n",
    "\n",
    "m_fit <- train(yield ~ .,\n",
    "               data = train_baked,\n",
    "               method = \"gaussprRadial\",\n",
    "               trControl = train_control,\n",
    "               tuneGrid = tune_gp,\n",
    "               verbose = FALSE\n",
    ")"
   ]
  },
  {
   "cell_type": "markdown",
   "metadata": {},
   "source": [
    "Create tables to plot observed vs predicted."
   ]
  },
  {
   "cell_type": "code",
   "execution_count": 52,
   "metadata": {},
   "outputs": [],
   "source": [
    "train_pred <- tibble(\n",
    "  yield = npk_train$yield,\n",
    "  pred = step_back(predict(m_fit, newdata = bake(npk_recipe, npk_train)))\n",
    ")\n",
    "\n",
    "test_pred <- tibble(\n",
    "  yield = npk_test$yield,\n",
    "  pred = step_back(predict(m_fit, newdata = bake(npk_recipe, npk_test)))\n",
    ")\n",
    "\n",
    "rsq_tr <- cor(train_pred$yield, train_pred$pred)^2\n",
    "rsq_te <- cor(test_pred$yield, test_pred$pred)^2"
   ]
  },
  {
   "cell_type": "markdown",
   "metadata": {},
   "source": [
    "Plot observed vs predicted."
   ]
  },
  {
   "cell_type": "code",
   "execution_count": 53,
   "metadata": {},
   "outputs": [
    {
     "name": "stderr",
     "output_type": "stream",
     "text": [
      "Saving 6.67 x 6.67 in image\n",
      "\n"
     ]
    },
    {
     "data": {
      "image/png": "[encoded data removed]",
      "text/plain": [
       "plot without title"
      ]
     },
     "metadata": {
      "image/png": {
       "height": 420,
       "width": 420
      },
      "text/plain": {
       "height": 420,
       "width": 420
      }
     },
     "output_type": "display_data"
    }
   ],
   "source": [
    "delimiter <- 5000\n",
    "gg_pred_f <- function(data, rsq, title) {\n",
    "  data %>%\n",
    "    ggplot(aes(x = yield, y = pred)) +\n",
    "    geom_abline(slope = 1, intercept = 0, colour = \"gray60\", lwd = 2) +\n",
    "    geom_vline(xintercept = delimiter, colour = \"gray30\") +\n",
    "    geom_hline(yintercept = delimiter, colour = \"gray30\") +\n",
    "    geom_label(x = 0, y = 15000,\n",
    "               vjust = 1, hjust = 0,\n",
    "               label = paste(\"R² =\", signif(rsq, 2))) +\n",
    "    geom_point(pch = 1) +\n",
    "    labs(title = title) +\n",
    "    expand_limits(x = c(0, 15000), y = c(0, 15000)) +\n",
    "    coord_equal() +\n",
    "    theme_bw()# +\n",
    "    #theme(text=element_text(family=\"serif\"))\n",
    "}\n",
    "\n",
    "gg_training <- gg_pred_f(train_pred, rsq_tr, \"Training\")\n",
    "gg_testing <- gg_pred_f(test_pred, rsq_te, \"Testing\")\n",
    "\n",
    "gg_training + gg_testing\n",
    "\n",
    "ggsave(\"images/modpred.png\")"
   ]
  },
  {
   "cell_type": "markdown",
   "metadata": {},
   "source": [
    "Binary classification."
   ]
  },
  {
   "cell_type": "code",
   "execution_count": 54,
   "metadata": {},
   "outputs": [
    {
     "name": "stdout",
     "output_type": "stream",
     "text": [
      "[1] \"Accuracy\"\n"
     ]
    },
    {
     "data": {
      "text/html": [
       "0.846820809248555"
      ],
      "text/latex": [
       "0.846820809248555"
      ],
      "text/markdown": [
       "0.846820809248555"
      ],
      "text/plain": [
       "[1] 0.8468208"
      ]
     },
     "metadata": {},
     "output_type": "display_data"
    },
    {
     "name": "stdout",
     "output_type": "stream",
     "text": [
      "[1] \"PPV\"\n"
     ]
    },
    {
     "data": {
      "text/html": [
       "0.931034482758621"
      ],
      "text/latex": [
       "0.931034482758621"
      ],
      "text/markdown": [
       "0.931034482758621"
      ],
      "text/plain": [
       "[1] 0.9310345"
      ]
     },
     "metadata": {},
     "output_type": "display_data"
    },
    {
     "name": "stdout",
     "output_type": "stream",
     "text": [
      "[1] \"NPV\"\n"
     ]
    },
    {
     "data": {
      "text/html": [
       "0.588235294117647"
      ],
      "text/latex": [
       "0.588235294117647"
      ],
      "text/markdown": [
       "0.588235294117647"
      ],
      "text/plain": [
       "[1] 0.5882353"
      ]
     },
     "metadata": {},
     "output_type": "display_data"
    }
   ],
   "source": [
    "delimiter <- 5000\n",
    "test_bc <- test_pred %>%\n",
    "  mutate(\n",
    "    yield = case_when(\n",
    "      yield >= delimiter ~ \"HY\",\n",
    "      TRUE ~ \"LY\"\n",
    "    ),\n",
    "    pred = case_when(\n",
    "      pred >= delimiter ~ \"HY\",\n",
    "      TRUE ~ \"LY\"\n",
    "    )\n",
    "  )\n",
    "test_cm <- table(test_bc)\n",
    "print(\"Accuracy\")\n",
    "(test_cm[1, 1] + test_cm[2, 2]) / sum(test_cm)\n",
    "print(\"PPV\")\n",
    "test_cm[2, 2] / sum(test_cm[2, ])\n",
    "print(\"NPV\")\n",
    "test_cm[1, 1] / sum(test_cm[1, ])"
   ]
  },
  {
   "cell_type": "markdown",
   "metadata": {},
   "source": [
    "# Predictive modelling usage on the ionome\n",
    "\n",
    "We use a seed to assure reproducibility."
   ]
  },
  {
   "cell_type": "code",
   "execution_count": 55,
   "metadata": {},
   "outputs": [],
   "source": [
    "set.seed(956723) # random.org"
   ]
  },
  {
   "cell_type": "markdown",
   "metadata": {},
   "source": [
    "We randomly sample a low performing site whose ionome should be investigated, extract its ionome and predict its yield."
   ]
  },
  {
   "cell_type": "code",
   "execution_count": 56,
   "metadata": {},
   "outputs": [],
   "source": [
    "misbal_observation <- df_npk %>% \n",
    "  filter(yield < 3000) %>% \n",
    "  sample_n(1)\n",
    "\n",
    "ref_leaf <- misbal_observation %>% \n",
    "  select(starts_with(\"Leaf\")) %>% \n",
    "  unlist()\n",
    "\n",
    "yield_init <- step_back(predict(m_fit, newdata = bake(npk_recipe, misbal_observation)))"
   ]
  },
  {
   "cell_type": "markdown",
   "metadata": {},
   "source": [
    "We set convergence parameters. `max_iter` is the number of steps in the Markov chain. The `radius` is the Aitchison distance where to scan around the point at each step. The initial radius, `radius[1]` is also the base radius, i.e. if a point with better yield is found, the radius goes back to this initial radius (`radius[1]`), else it is multiplied by `radius_factor` to enlarge scanning. Finally `n_rad` is the number of points to sample around the ionome of the preceeding step."
   ]
  },
  {
   "cell_type": "code",
   "execution_count": 57,
   "metadata": {},
   "outputs": [],
   "source": [
    "max_iter <- 10 \n",
    "radius <- c(0.5)\n",
    "radius_factor <- 1.25 # for adaptative search\n",
    "radius_limits <- c(0.5, 1.5)\n",
    "## if the max is too high, all explored ionome risk to be filtered out due\n",
    "## to extrapolation (see Mahalanobis distance below). The upper limit\n",
    "## should be set in relation to the p in qchisq below.\n",
    "n_rad <- 5000"
   ]
  },
  {
   "cell_type": "markdown",
   "metadata": {},
   "source": [
    "To scan around a point, we create a matrix with the number of columns defined by the number of balances in the ionome and the number of rows defined by `n_rad`, and fill it with random numbers. Each row is normalized to have a norm equal to the radius. \n",
    "\n",
    "To acheive the prediction, we need the ionome, but also other variables that are kept constant. This information is extracted in a table, then replicated `n_rad` times to be binded further on to the perturbed ionomes scanned around the best ionome."
   ]
  },
  {
   "cell_type": "code",
   "execution_count": 58,
   "metadata": {},
   "outputs": [],
   "source": [
    "misbal_observation_noleaf <- misbal_observation %>% \n",
    "  select(-starts_with(\"Leaf\")) \n",
    "misbal_observation_noleaf_stacked <- do.call(\n",
    "  \"rbind\",\n",
    "  replicate(n_rad, misbal_observation_noleaf, simplify = FALSE)\n",
    ")"
   ]
  },
  {
   "cell_type": "markdown",
   "metadata": {},
   "source": [
    "We initialize the yield and the ionome."
   ]
  },
  {
   "cell_type": "code",
   "execution_count": 59,
   "metadata": {},
   "outputs": [],
   "source": [
    "ref_yield <- c(yield_init)\n",
    "ref_leaf <- matrix(ncol = nrow(sbp_leaf), nrow = max_iter)\n",
    "\n",
    "ref_leaf[1, ] <- misbal_observation %>% \n",
    "  select(starts_with(\"Leaf\")) %>% \n",
    "  unlist()"
   ]
  },
  {
   "cell_type": "markdown",
   "metadata": {},
   "source": [
    "We use a mahalanobis distance to ensure that the algorithm doesn't explore too far from the theoretical multivariate normal distribution of the ionome. To compute the Mahalanobis distance, we need the mean, the (invert) covariance and a critical (squared) distance."
   ]
  },
  {
   "cell_type": "code",
   "execution_count": 60,
   "metadata": {},
   "outputs": [],
   "source": [
    "bal_mean <- apply(bal_leaf %>% select(-id), 2, mean)\n",
    "bal_icov <- solve(cov(bal_leaf %>% select(-id)))\n",
    "crit_dist <- qchisq(p = 0.999, df = length(bal_mean))"
   ]
  },
  {
   "cell_type": "markdown",
   "metadata": {},
   "source": [
    "... and fire the Markov chain."
   ]
  },
  {
   "cell_type": "code",
   "execution_count": 61,
   "metadata": {},
   "outputs": [
    {
     "name": "stdout",
     "output_type": "stream",
     "text": [
      "[1] \"Iteration 2 - yield improved to 5090.1921216179\"\n",
      "[1] \"Iteration 3 - yield improved to 5704.30701931143\"\n",
      "[1] \"Iteration 4 - yield improved to 5829.76689201916\"\n",
      "[1] \"Iteration 5 - no yield improvement.\"\n",
      "[1] \"Iteration 6 - no yield improvement.\"\n",
      "[1] \"Iteration 7 - no yield improvement.\"\n",
      "[1] \"Iteration 8 - no yield improvement.\"\n",
      "[1] \"Iteration 9 - no yield improvement.\"\n",
      "[1] \"Iteration 10 - all points are out of the hyperellipsoid.\"\n"
     ]
    },
    {
     "data": {
      "image/png": "[encoded data removed]",
      "text/plain": [
       "Plot with title \"radius\""
      ]
     },
     "metadata": {
      "image/png": {
       "height": 420,
       "width": 420
      },
      "text/plain": {
       "height": 420,
       "width": 420
      }
     },
     "output_type": "display_data"
    }
   ],
   "source": [
    "for (i in 2:max_iter) {\n",
    "  # print(paste(i, \"/\", max_iter))\n",
    "  offset <- matrix(runif(ncol(ref_leaf) * n_rad, -1, 1), \n",
    "                   ncol = ncol(ref_leaf),\n",
    "                   nrow = n_rad)\n",
    "  offset <- t(apply(offset, 1, function(x) radius[i-1] * x / sqrt(sum(x^2))))\n",
    "  leaf_search <- t(apply(offset, 1, function(x) x + ref_leaf[i-1, ] ))\n",
    "  \n",
    "  # Compute the Mahalanobis distance\n",
    "  maha_dist <- mahalanobis(leaf_search, bal_mean, bal_icov, inverted = TRUE)\n",
    "  # filter out search ionomes outside the Mahalanobis distance limit\n",
    "  leaf_search <- data.frame(leaf_search) %>% filter(maha_dist < crit_dist)\n",
    "  \n",
    "  names(leaf_search) <- paste0(\"Leaf_\", leaf_bal_def)\n",
    "                         \n",
    "  df_search <- leaf_search %>% \n",
    "    bind_cols(misbal_observation_noleaf_stacked %>% filter(maha_dist < crit_dist))\n",
    "    \n",
    "  if(nrow(df_search) == 0) { # if no points are generated in the hyper ellipsoid, keep the reference but increase radius\n",
    "    print(paste(\"Iteration\", i, \"- all points are out of the hyperellipsoid.\"))\n",
    "    ref_yield[i] <- ref_yield[i-1]\n",
    "    ref_leaf[i, ] <- ref_leaf[i-1, ]\n",
    "    # increase the radius\n",
    "    radius[i] <- radius[i - 1] * radius_factor\n",
    "    radius[i] <- ifelse(radius[i] > radius_limits[2], radius_limits[2], radius[i])\n",
    "  } else {\n",
    "    # Compute predicted yield\n",
    "    yield_stochastic <- step_back(predict(m_fit, newdata = bake(npk_recipe, df_search)))\n",
    "    if(max(yield_stochastic) > ref_yield[i-1]) {\n",
    "      print(paste(\"Iteration\", i, \"- yield improved to\", max(yield_stochastic)))\n",
    "      ref_yield[i] <- max(yield_stochastic)\n",
    "      ref_leaf[i, ] <- leaf_search[which.max(yield_stochastic), ] %>% \n",
    "        unlist()\n",
    "      # decrease the radius\n",
    "      radius[i] <- radius[i - 1] / radius_factor\n",
    "      radius[i] <- ifelse(radius[i] < radius_limits[1], radius_limits[1], radius[i])\n",
    "    } else {\n",
    "      print(paste(\"Iteration\", i, \"- no yield improvement.\"))\n",
    "      ref_yield[i] <- ref_yield[i-1]\n",
    "      ref_leaf[i, ] <- ref_leaf[i-1, ]\n",
    "      # increase the radius\n",
    "      radius[i] <- radius[i - 1] * radius_factor\n",
    "      radius[i] <- ifelse(radius[i] > radius_limits[2], radius_limits[2], radius[i])\n",
    "    }\n",
    "  }\n",
    "}\n",
    "\n",
    "par(mfrow = c(1, 2))\n",
    "plot(1:max_iter, ref_yield, type = 's', main = \"yield\")\n",
    "plot(1:max_iter, radius, type = 's', main = \"radius\")"
   ]
  },
  {
   "cell_type": "markdown",
   "metadata": {},
   "source": [
    "At each step, balances are transformed back to the concentration scale."
   ]
  },
  {
   "cell_type": "code",
   "execution_count": 62,
   "metadata": {},
   "outputs": [],
   "source": [
    "ref_leaf_comp <- ilrInv(ref_leaf,\n",
    "                        V = gsi.buildilrBase(t(sbp_leaf))) %>% \n",
    "  data.frame()"
   ]
  },
  {
   "cell_type": "markdown",
   "metadata": {},
   "source": [
    "We then create a decent table able to be plotted."
   ]
  },
  {
   "cell_type": "code",
   "execution_count": 63,
   "metadata": {},
   "outputs": [],
   "source": [
    "gg_iter <- bind_cols(\n",
    "  ref_leaf_comp,\n",
    "  tibble(yield = ref_yield, iteration = 1:max_iter)\n",
    ") %>% \n",
    "  pivot_longer(\n",
    "    cols = -iteration,\n",
    "    names_to = \"variables\",\n",
    "    values_to = \"values\"\n",
    "  ) %>% \n",
    "  mutate(values = case_when(variables != \"yield\" ~ values * 100,\n",
    "                            TRUE ~ values), # concentrations in %\n",
    "         units = case_when(variables == \"yield\" ~ \"kg/ha\",\n",
    "                           TRUE ~ \"%\")) # units"
   ]
  },
  {
   "cell_type": "markdown",
   "metadata": {},
   "source": [
    "We extract points obtained at the first iteration and at the end to plot points and labels."
   ]
  },
  {
   "cell_type": "code",
   "execution_count": 64,
   "metadata": {},
   "outputs": [],
   "source": [
    "gg_iter_extremes <- gg_iter %>% \n",
    "  filter(iteration %in% c(1, max_iter))"
   ]
  },
  {
   "cell_type": "markdown",
   "metadata": {},
   "source": [
    "The following block extracts min and max of the concentrations in the training set."
   ]
  },
  {
   "cell_type": "code",
   "execution_count": 65,
   "metadata": {},
   "outputs": [],
   "source": [
    "bal_train <- npk_train %>% \n",
    "  select(starts_with(\"Leaf\")) \n",
    "comp_train <- ilrInv(bal_train, V = gsi.buildilrBase(t(sbp_leaf))) %>% \n",
    "  data.frame()\n",
    "comp_range <- comp_train %>% \n",
    "  mutate(id_tr = 1:nrow(.)) %>% \n",
    "  pivot_longer(cols = -id_tr, names_to = \"variables\",\n",
    "               values_to = \"value\") %>% \n",
    "  group_by(variables) %>% \n",
    "  summarise(min = min(value),\n",
    "            max = max(value)) %>% \n",
    "  pivot_longer(cols = -variables,\n",
    "               names_to = \"statistic\",\n",
    "               values_to = \"value\") %>% \n",
    "  mutate(value = value * 100)"
   ]
  },
  {
   "cell_type": "markdown",
   "metadata": {},
   "source": [
    "And plot with a lot of pretty theming."
   ]
  },
  {
   "cell_type": "code",
   "execution_count": 66,
   "metadata": {},
   "outputs": [
    {
     "data": {
      "image/png": "[encoded data removed]",
      "text/plain": [
       "plot without title"
      ]
     },
     "metadata": {
      "image/png": {
       "height": 420,
       "width": 420
      },
      "text/plain": {
       "height": 420,
       "width": 420
      }
     },
     "output_type": "display_data"
    }
   ],
   "source": [
    "ggplot(gg_iter, aes(x = iteration, y = values)) +\n",
    "  facet_wrap(~variables, scales = \"free_y\", ncol = 3) +\n",
    "  geom_hline(data = comp_range,\n",
    "             aes(group = statistic, yintercept = value),\n",
    "             colour = \"gray30\", linetype = 2, lwd = 0.2) +\n",
    "  geom_step() +\n",
    "  geom_point(data = gg_iter_extremes) +\n",
    "  geom_text(data = gg_iter_extremes %>% filter(iteration == 1), \n",
    "            aes(label = paste(signif(values, 2), units)), \n",
    "            hjust = 1.15, \n",
    "            fontface = \"bold\", \n",
    "            size = 2) +\n",
    "  geom_text(data = gg_iter_extremes %>% filter(iteration == max_iter), \n",
    "            aes(label = paste(signif(values, 2), units)), \n",
    "            hjust = -0.25, \n",
    "            fontface = \"bold\", \n",
    "            size = 2) +\n",
    "  geom_hline(yintercept = 0) +\n",
    "  expand_limits(x = c(-7, 20), y = 0) +\n",
    "  scale_x_continuous(breaks = seq(0, max_iter, by = 10)) +\n",
    "  labs(x = \"Iteration\", y = \"Concentration (%)\") +\n",
    "  scale_y_continuous(breaks=0) +\n",
    "  theme_bw() +\n",
    "  theme(\n",
    "    panel.spacing = unit(10, 'mm'),\n",
    "    panel.grid = element_blank(),\n",
    "    panel.border = element_blank(),\n",
    "    strip.background = element_blank(),\n",
    "    panel.grid.major.x = element_blank(),\n",
    "    #text = element_text(family = \"serif\")\n",
    "  ) +\n",
    "  ggsave(\"images/convergence.png\", height = 4, width = 6, dpi = 300)"
   ]
  },
  {
   "cell_type": "markdown",
   "metadata": {},
   "source": [
    "Aitchison distance between observed and target."
   ]
  },
  {
   "cell_type": "code",
   "execution_count": 67,
   "metadata": {
    "lines_to_next_cell": 2
   },
   "outputs": [
    {
     "data": {
      "text/html": [
       "1.0041996645692"
      ],
      "text/latex": [
       "1.0041996645692"
      ],
      "text/markdown": [
       "1.0041996645692"
      ],
      "text/plain": [
       "[1] 1.0042"
      ]
     },
     "metadata": {},
     "output_type": "display_data"
    }
   ],
   "source": [
    "sqrt(sum((ref_leaf[1, ] - ref_leaf[max_iter, ]) ^ 2))"
   ]
  },
  {
   "cell_type": "markdown",
   "metadata": {},
   "source": [
    "Visualisation of the observed/target ratio."
   ]
  },
  {
   "cell_type": "code",
   "execution_count": 68,
   "metadata": {},
   "outputs": [
    {
     "data": {
      "image/png": "[encoded data removed]",
      "text/plain": [
       "plot without title"
      ]
     },
     "metadata": {
      "image/png": {
       "height": 420,
       "width": 420
      },
      "text/plain": {
       "height": 420,
       "width": 420
      }
     },
     "output_type": "display_data"
    }
   ],
   "source": [
    "gg_iter_extremes %>%\n",
    "  pivot_wider(names_from = iteration,\n",
    "              values_from = values) %>% \n",
    "  mutate(ratio = `1` / `10`) %>% \n",
    "  filter(variables != \"yield\") %>% \n",
    "  mutate(variables = fct_reorder(variables, ratio)) %>% \n",
    "  ggplot(aes(y = ratio, x = variables)) +\n",
    "  labs(x = \"\", y = \"Ratio - Observation / Target\") +\n",
    "  geom_col(fill = \"black\") +\n",
    "  geom_hline(yintercept = 1) +\n",
    "  coord_flip() +\n",
    "  theme_bw() #+\n",
    "  #theme(text = element_text(family = \"serif\")) +\n",
    "  ggsave(\"images/ratio.png\", height = 2, width = 4, dpi = 300)"
   ]
  },
  {
   "cell_type": "markdown",
   "metadata": {},
   "source": [
    "# Overview of optimal ionomes"
   ]
  },
  {
   "cell_type": "markdown",
   "metadata": {},
   "source": [
    "The same code is applied to all observations in an external file to obtain overall statistics of targets."
   ]
  },
  {
   "cell_type": "raw",
   "metadata": {
    "jupyter": {
     "outputs_hidden": true
    },
    "lines_to_next_cell": 2
   },
   "source": [
    "source(\"lib/donkey-tail.R\")"
   ]
  },
  {
   "cell_type": "raw",
   "metadata": {},
   "source": [
    "save(opt_bal, opt_yield, ait_dist, file = \"output/opt.RData\")"
   ]
  },
  {
   "cell_type": "code",
   "execution_count": 69,
   "metadata": {
    "lines_to_next_cell": 2
   },
   "outputs": [],
   "source": [
    "load(\"output/opt.RData\")"
   ]
  },
  {
   "cell_type": "code",
   "execution_count": 70,
   "metadata": {},
   "outputs": [
    {
     "data": {
      "text/html": [
       "<table>\n",
       "<caption>A tibble: 8 × 6</caption>\n",
       "<thead>\n",
       "\t<tr><th scope=col>variable</th><th scope=col>min</th><th scope=col>q25</th><th scope=col>median</th><th scope=col>q75</th><th scope=col>max</th></tr>\n",
       "\t<tr><th scope=col>&lt;fct&gt;</th><th scope=col>&lt;dbl&gt;</th><th scope=col>&lt;dbl&gt;</th><th scope=col>&lt;dbl&gt;</th><th scope=col>&lt;dbl&gt;</th><th scope=col>&lt;dbl&gt;</th></tr>\n",
       "</thead>\n",
       "<tbody>\n",
       "\t<tr><td>N </td><td> 1.339020240</td><td> 1.814534456</td><td> 2.010939428</td><td> 2.204599155</td><td> 3.14539303</td></tr>\n",
       "\t<tr><td>P </td><td> 0.062727281</td><td> 0.125535814</td><td> 0.141189753</td><td> 0.161899884</td><td> 0.27661015</td></tr>\n",
       "\t<tr><td>K </td><td> 0.359831595</td><td> 0.550277218</td><td> 0.615407829</td><td> 0.695457027</td><td> 1.09525692</td></tr>\n",
       "\t<tr><td>Ca</td><td> 0.219479226</td><td> 0.348311422</td><td> 0.400000000</td><td> 0.462145966</td><td> 0.78243639</td></tr>\n",
       "\t<tr><td>Mg</td><td> 0.089309578</td><td> 0.157068055</td><td> 0.176146909</td><td> 0.197764309</td><td> 0.33038634</td></tr>\n",
       "\t<tr><td>B </td><td> 0.001122185</td><td> 0.002536430</td><td> 0.003917641</td><td> 0.004875066</td><td> 0.01300946</td></tr>\n",
       "\t<tr><td>Al</td><td> 0.002106753</td><td> 0.004313511</td><td> 0.005421540</td><td> 0.006892018</td><td> 0.01708912</td></tr>\n",
       "\t<tr><td>Fv</td><td>95.375376577</td><td>96.371931040</td><td>96.638409220</td><td>96.874162888</td><td>97.55452850</td></tr>\n",
       "</tbody>\n",
       "</table>\n"
      ],
      "text/latex": [
       "A tibble: 8 × 6\n",
       "\\begin{tabular}{llllll}\n",
       " variable & min & q25 & median & q75 & max\\\\\n",
       " <fct> & <dbl> & <dbl> & <dbl> & <dbl> & <dbl>\\\\\n",
       "\\hline\n",
       "\t N  &  1.339020240 &  1.814534456 &  2.010939428 &  2.204599155 &  3.14539303\\\\\n",
       "\t P  &  0.062727281 &  0.125535814 &  0.141189753 &  0.161899884 &  0.27661015\\\\\n",
       "\t K  &  0.359831595 &  0.550277218 &  0.615407829 &  0.695457027 &  1.09525692\\\\\n",
       "\t Ca &  0.219479226 &  0.348311422 &  0.400000000 &  0.462145966 &  0.78243639\\\\\n",
       "\t Mg &  0.089309578 &  0.157068055 &  0.176146909 &  0.197764309 &  0.33038634\\\\\n",
       "\t B  &  0.001122185 &  0.002536430 &  0.003917641 &  0.004875066 &  0.01300946\\\\\n",
       "\t Al &  0.002106753 &  0.004313511 &  0.005421540 &  0.006892018 &  0.01708912\\\\\n",
       "\t Fv & 95.375376577 & 96.371931040 & 96.638409220 & 96.874162888 & 97.55452850\\\\\n",
       "\\end{tabular}\n"
      ],
      "text/markdown": [
       "\n",
       "A tibble: 8 × 6\n",
       "\n",
       "| variable &lt;fct&gt; | min &lt;dbl&gt; | q25 &lt;dbl&gt; | median &lt;dbl&gt; | q75 &lt;dbl&gt; | max &lt;dbl&gt; |\n",
       "|---|---|---|---|---|---|\n",
       "| N  |  1.339020240 |  1.814534456 |  2.010939428 |  2.204599155 |  3.14539303 |\n",
       "| P  |  0.062727281 |  0.125535814 |  0.141189753 |  0.161899884 |  0.27661015 |\n",
       "| K  |  0.359831595 |  0.550277218 |  0.615407829 |  0.695457027 |  1.09525692 |\n",
       "| Ca |  0.219479226 |  0.348311422 |  0.400000000 |  0.462145966 |  0.78243639 |\n",
       "| Mg |  0.089309578 |  0.157068055 |  0.176146909 |  0.197764309 |  0.33038634 |\n",
       "| B  |  0.001122185 |  0.002536430 |  0.003917641 |  0.004875066 |  0.01300946 |\n",
       "| Al |  0.002106753 |  0.004313511 |  0.005421540 |  0.006892018 |  0.01708912 |\n",
       "| Fv | 95.375376577 | 96.371931040 | 96.638409220 | 96.874162888 | 97.55452850 |\n",
       "\n"
      ],
      "text/plain": [
       "  variable min          q25          median       q75          max        \n",
       "1 N         1.339020240  1.814534456  2.010939428  2.204599155  3.14539303\n",
       "2 P         0.062727281  0.125535814  0.141189753  0.161899884  0.27661015\n",
       "3 K         0.359831595  0.550277218  0.615407829  0.695457027  1.09525692\n",
       "4 Ca        0.219479226  0.348311422  0.400000000  0.462145966  0.78243639\n",
       "5 Mg        0.089309578  0.157068055  0.176146909  0.197764309  0.33038634\n",
       "6 B         0.001122185  0.002536430  0.003917641  0.004875066  0.01300946\n",
       "7 Al        0.002106753  0.004313511  0.005421540  0.006892018  0.01708912\n",
       "8 Fv       95.375376577 96.371931040 96.638409220 96.874162888 97.55452850"
      ]
     },
     "metadata": {},
     "output_type": "display_data"
    },
    {
     "data": {
      "image/png": "[encoded data removed]",
      "text/plain": [
       "plot without title"
      ]
     },
     "metadata": {
      "image/png": {
       "height": 420,
       "width": 420
      },
      "text/plain": {
       "height": 420,
       "width": 420
      }
     },
     "output_type": "display_data"
    }
   ],
   "source": [
    "opt_comp <- ilrInv(opt_bal, V = gsi.buildilrBase(t(sbp_leaf))) %>% \n",
    "  data.frame() %>% \n",
    "  mutate(id = 1:nrow(opt_bal)) %>% \n",
    "  pivot_longer(cols = -c(id),\n",
    "               names_to = \"variable\", values_to = \"value\") %>% \n",
    "  mutate(value = value * 100,\n",
    "         variable = factor(variable, levels = c(\"N\", \"P\", \"K\", \"Ca\", \"Mg\", \"B\", \"Al\", \"Fv\")))\n",
    "\n",
    "opt_output <- tibble(id = 1:nrow(opt_bal),\n",
    "                     Yield = opt_yield[, 2],\n",
    "                     `Aitchison distance` = ait_dist) %>% \n",
    "  pivot_longer(cols = -c(id),\n",
    "               names_to = \"variable\", values_to = \"value\")\n",
    "\n",
    "opt_comp_gg <- opt_comp %>% \n",
    "  filter(variable != \"Fv\") %>% \n",
    "  ggplot(aes(x = value)) +\n",
    "  facet_wrap(~variable, nrow = 2, scales = \"free\") +\n",
    "  geom_histogram(bins = 30) +\n",
    "  labs(x = \"Foliar concentrations (%)\", y = \"Counts\") +\n",
    "  theme_bw() +\n",
    "  theme(text = element_text(family = \"serif\"))\n",
    "\n",
    "opt_out_gg <- opt_output %>% \n",
    "  ggplot(aes(x = value)) +\n",
    "  facet_wrap(~variable, nrow = 1, scales = \"free\") +\n",
    "  geom_histogram(bins = 30, fill = \"black\") +\n",
    "  labs(x = \"\", y = \"\") +\n",
    "  theme_bw() +\n",
    "  theme(text = element_text(family = \"serif\"))\n",
    "\n",
    "opt_comp_gg / opt_out_gg\n",
    "ggsave(\"images/opt-distr.png\", height = 10, width = 10, dpi = 300)\n",
    "\n",
    "opt_comp %>% \n",
    "  group_by(variable) %>% \n",
    "  summarise(min = min(value),\n",
    "            q25 = quantile(value, prob = 0.25),\n",
    "            median = median(value),\n",
    "            q75 = quantile(value, prob = 0.75),\n",
    "            max = max(value))"
   ]
  },
  {
   "cell_type": "markdown",
   "metadata": {},
   "source": [
    "The proportion of Aitchison distances shorter than 1.04."
   ]
  },
  {
   "cell_type": "code",
   "execution_count": 71,
   "metadata": {},
   "outputs": [
    {
     "data": {
      "text/html": [
       "0.941473988439306"
      ],
      "text/latex": [
       "0.941473988439306"
      ],
      "text/markdown": [
       "0.941473988439306"
      ],
      "text/plain": [
       "[1] 0.941474"
      ]
     },
     "metadata": {},
     "output_type": "display_data"
    }
   ],
   "source": [
    "quantInv <- function(distr, value) ecdf(distr)(value) # thanks https://stackoverflow.com/questions/9123800/how-do-i-calculate-the-probability-for-a-given-quantile-in-r\n",
    "opt_output %>%\n",
    "  filter(variable == \"Aitchison distance\") %>%\n",
    "  pull(value) %>%\n",
    "  quantInv(., 1.04)"
   ]
  },
  {
   "cell_type": "markdown",
   "metadata": {},
   "source": [
    "The proportion of yields inferior to 5000."
   ]
  },
  {
   "cell_type": "code",
   "execution_count": 72,
   "metadata": {},
   "outputs": [
    {
     "data": {
      "text/html": [
       "0.488439306358382"
      ],
      "text/latex": [
       "0.488439306358382"
      ],
      "text/markdown": [
       "0.488439306358382"
      ],
      "text/plain": [
       "[1] 0.4884393"
      ]
     },
     "metadata": {},
     "output_type": "display_data"
    }
   ],
   "source": [
    "opt_output %>%\n",
    "  filter(variable == \"Yield\") %>%\n",
    "  pull(value) %>%\n",
    "  quantInv(., 5000)"
   ]
  },
  {
   "cell_type": "markdown",
   "metadata": {},
   "source": [
    "## Compare optimal distributions to the literature"
   ]
  },
  {
   "cell_type": "code",
   "execution_count": 73,
   "metadata": {},
   "outputs": [
    {
     "name": "stderr",
     "output_type": "stream",
     "text": [
      "Parsed with column specification:\n",
      "cols(\n",
      "  Author = \u001b[31mcol_character()\u001b[39m,\n",
      "  MinMax = \u001b[31mcol_character()\u001b[39m,\n",
      "  N = \u001b[32mcol_double()\u001b[39m,\n",
      "  P = \u001b[32mcol_double()\u001b[39m,\n",
      "  K = \u001b[32mcol_double()\u001b[39m,\n",
      "  Ca = \u001b[32mcol_double()\u001b[39m,\n",
      "  Mg = \u001b[32mcol_double()\u001b[39m,\n",
      "  B = \u001b[32mcol_double()\u001b[39m,\n",
      "  Cu = \u001b[32mcol_double()\u001b[39m,\n",
      "  Zn = \u001b[32mcol_double()\u001b[39m,\n",
      "  Mn = \u001b[32mcol_double()\u001b[39m,\n",
      "  Fe = \u001b[32mcol_double()\u001b[39m,\n",
      "  Al = \u001b[32mcol_double()\u001b[39m\n",
      ")\n",
      "\n"
     ]
    }
   ],
   "source": [
    "nutrients_litt_source <- read_csv(\"data/literature-standards.csv\")\n",
    "nutrients_litt <- nutrients_litt_source %>%\n",
    "  pivot_longer(cols = -c(Author, MinMax)) %>%\n",
    "  pivot_wider(names_from = MinMax, values_from = value)"
   ]
  },
  {
   "cell_type": "markdown",
   "metadata": {},
   "source": [
    "### N"
   ]
  },
  {
   "cell_type": "code",
   "execution_count": 74,
   "metadata": {},
   "outputs": [
    {
     "data": {
      "image/png": "[encoded data removed]",
      "text/plain": [
       "plot without title"
      ]
     },
     "metadata": {
      "image/png": {
       "height": 420,
       "width": 420
      },
      "text/plain": {
       "height": 420,
       "width": 420
      }
     },
     "output_type": "display_data"
    }
   ],
   "source": [
    "gg_nlitt <- nutrients_litt %>%\n",
    "  filter(name == \"N\") %>%\n",
    "  ggplot(aes(x = Minimum, y = Author)) +\n",
    "  geom_segment(aes(xend = Maximum, yend = Author), lwd = 2) +\n",
    "  #scale_x_continuous(limits = c(0, 14), breaks = seq(from = 0, to = 15, by = 2)) +\n",
    "  #geom_vline(xintercept = 0, linetype = 2) +\n",
    "  labs(x = \"N concentration (%)\", y = \"\") +\n",
    "  expand_limits(x = c(1, 3.5)) +\n",
    "  theme_bw()\n",
    "\n",
    "gg_ndistr <- opt_comp %>% \n",
    "  filter(variable == \"N\") %>% \n",
    "  ggplot(aes(x = value)) +\n",
    "  geom_histogram(fill = \"black\", bins = 30) +\n",
    "  labs(x = \"\", y = \"\") +\n",
    "  expand_limits(x = c(1.06, 3.44), y = c(0, 230)) +\n",
    "  theme_bw()\n",
    "\n",
    "gg_n <- gg_ndistr / gg_nlitt + plot_layout(heights = c(3, 1))\n",
    "gg_n\n",
    "ggsave(\"images/distr_n.png\", height = 4, width = 6, dpi = 300)"
   ]
  },
  {
   "cell_type": "markdown",
   "metadata": {},
   "source": [
    "### P"
   ]
  },
  {
   "cell_type": "code",
   "execution_count": 75,
   "metadata": {},
   "outputs": [
    {
     "data": {
      "image/png": "[encoded data removed]",
      "text/plain": [
       "plot without title"
      ]
     },
     "metadata": {
      "image/png": {
       "height": 420,
       "width": 420
      },
      "text/plain": {
       "height": 420,
       "width": 420
      }
     },
     "output_type": "display_data"
    }
   ],
   "source": [
    "gg_plitt <- nutrients_litt %>%\n",
    "  filter(name == \"P\") %>%\n",
    "  ggplot(aes(x = Minimum, y = Author)) +\n",
    "  geom_segment(aes(xend = Maximum, yend = Author), lwd = 2) +\n",
    "  labs(x = \"P concentration (%)\", y = \"\") +\n",
    "  expand_limits(x = c(-0.005, 0.307)) +\n",
    "  theme_bw()\n",
    "\n",
    "gg_pdistr <- opt_comp %>% \n",
    "  filter(variable == \"P\") %>% \n",
    "  ggplot(aes(x = value)) +\n",
    "  geom_histogram(fill = \"black\", bins = 30) +\n",
    "  labs(x = \"\", y = \"\") +\n",
    "  expand_limits(x = c(0, 0.3), y = c(0, 230)) +\n",
    "  theme_bw()\n",
    "\n",
    "gg_p <- gg_pdistr / gg_plitt + plot_layout(heights = c(3, 1))\n",
    "gg_p\n",
    "ggsave(\"images/distr_p.png\", height = 4, width = 6, dpi = 300)"
   ]
  },
  {
   "cell_type": "markdown",
   "metadata": {},
   "source": [
    "# K"
   ]
  },
  {
   "cell_type": "code",
   "execution_count": 76,
   "metadata": {},
   "outputs": [
    {
     "data": {
      "image/png": "[encoded data removed]",
      "text/plain": [
       "plot without title"
      ]
     },
     "metadata": {
      "image/png": {
       "height": 420,
       "width": 420
      },
      "text/plain": {
       "height": 420,
       "width": 420
      }
     },
     "output_type": "display_data"
    }
   ],
   "source": [
    "gg_klitt <- nutrients_litt %>%\n",
    "  filter(name == \"K\") %>%\n",
    "  ggplot(aes(x = Minimum, y = Author)) +\n",
    "  geom_segment(aes(xend = Maximum, yend = Author), lwd = 2) +\n",
    "  labs(x = \"K concentration (%)\", y = \"\") +\n",
    "  expand_limits(x = c(0.175, 1.105)) +\n",
    "  theme_bw()\n",
    "\n",
    "gg_kdistr <- opt_comp %>% \n",
    "  filter(variable == \"K\") %>% \n",
    "  ggplot(aes(x = value)) +\n",
    "  geom_histogram(fill = \"black\", bins = 30) +\n",
    "  labs(x = \"\", y = \"\") +\n",
    "  expand_limits(x = c(0.2, 1.1), y = c(0, 230)) +\n",
    "  theme_bw()\n",
    "\n",
    "gg_k <- gg_kdistr / gg_klitt + plot_layout(heights = c(3, 1))\n",
    "gg_k\n",
    "ggsave(\"images/distr_k.png\", height = 4, width = 6, dpi = 300)"
   ]
  },
  {
   "cell_type": "markdown",
   "metadata": {},
   "source": [
    "# Ca"
   ]
  },
  {
   "cell_type": "code",
   "execution_count": 77,
   "metadata": {},
   "outputs": [
    {
     "data": {
      "image/png": "[encoded data removed]",
      "text/plain": [
       "plot without title"
      ]
     },
     "metadata": {
      "image/png": {
       "height": 420,
       "width": 420
      },
      "text/plain": {
       "height": 420,
       "width": 420
      }
     },
     "output_type": "display_data"
    }
   ],
   "source": [
    "gg_calitt <- nutrients_litt %>%\n",
    "  filter(name == \"Ca\") %>%\n",
    "  ggplot(aes(x = Minimum, y = Author)) +\n",
    "  geom_segment(aes(xend = Maximum, yend = Author), lwd = 2) +\n",
    "  labs(x = \"Ca concentration (%)\", y = \"\") +\n",
    "  expand_limits(x = c(0.18, 0.908)) +\n",
    "  theme_bw()\n",
    "\n",
    "gg_cadistr <- opt_comp %>% \n",
    "  filter(variable == \"Ca\") %>% \n",
    "  ggplot(aes(x = value)) +\n",
    "  geom_histogram(fill = \"black\", bins = 30) +\n",
    "  labs(x = \"\", y = \"\") +\n",
    "  expand_limits(x = c(0.2, 0.9), y = c(0, 230)) +\n",
    "  theme_bw()\n",
    "\n",
    "gg_ca <- gg_cadistr / gg_calitt + plot_layout(heights = c(3, 1))\n",
    "gg_ca\n",
    "ggsave(\"images/distr_ca.png\", height = 4, width = 6, dpi = 300)"
   ]
  },
  {
   "cell_type": "markdown",
   "metadata": {},
   "source": [
    "# Mg"
   ]
  },
  {
   "cell_type": "code",
   "execution_count": 78,
   "metadata": {},
   "outputs": [
    {
     "data": {
      "image/png": "[encoded data removed]",
      "text/plain": [
       "plot without title"
      ]
     },
     "metadata": {
      "image/png": {
       "height": 420,
       "width": 420
      },
      "text/plain": {
       "height": 420,
       "width": 420
      }
     },
     "output_type": "display_data"
    }
   ],
   "source": [
    "gg_mglitt <- nutrients_litt %>%\n",
    "  filter(name == \"Mg\") %>%\n",
    "  ggplot(aes(x = Minimum, y = Author)) +\n",
    "  geom_segment(aes(xend = Maximum, yend = Author), lwd = 2) +\n",
    "  labs(x = \"Mg concentration (%)\", y = \"\") +\n",
    "  expand_limits(x = c(0.075, 0.34)) +\n",
    "  theme_bw()\n",
    "\n",
    "gg_mgdistr <- opt_comp %>% \n",
    "  filter(variable == \"Mg\") %>% \n",
    "  ggplot(aes(x = value)) +\n",
    "  geom_histogram(fill = \"black\", bins = 30) +\n",
    "  labs(x = \"\", y = \"\") +\n",
    "  expand_limits(x = c(0.075, 0.33), y = c(0, 230)) +\n",
    "  theme_bw()\n",
    "\n",
    "gg_mg <- gg_mgdistr / gg_mglitt + plot_layout(heights = c(3, 1))\n",
    "gg_mg\n",
    "ggsave(\"images/distr_mg.png\", height = 4, width = 6, dpi = 300)"
   ]
  },
  {
   "cell_type": "markdown",
   "metadata": {},
   "source": [
    "# B"
   ]
  },
  {
   "cell_type": "code",
   "execution_count": 79,
   "metadata": {},
   "outputs": [
    {
     "data": {
      "image/png": "[encoded data removed]",
      "text/plain": [
       "plot without title"
      ]
     },
     "metadata": {
      "image/png": {
       "height": 420,
       "width": 420
      },
      "text/plain": {
       "height": 420,
       "width": 420
      }
     },
     "output_type": "display_data"
    }
   ],
   "source": [
    "gg_blitt <- nutrients_litt %>%\n",
    "  filter(name == \"B\") %>%\n",
    "  ggplot(aes(x = Minimum, y = Author)) +\n",
    "  geom_segment(aes(xend = Maximum, yend = Author), lwd = 2) +\n",
    "  labs(x = expression(\"B concentration (mg kg\"^\"-1\"*\")\"), y = \"\") +\n",
    "  expand_limits(x = c(-2.5, 160)) +\n",
    "  theme_bw()\n",
    "\n",
    "gg_bdistr <- opt_comp %>% \n",
    "  filter(variable == \"B\") %>% \n",
    "  ggplot(aes(x = value * 10000)) +\n",
    "  geom_histogram(fill = \"black\", bins = 30) +\n",
    "  labs(x = \"\", y = \"\") +\n",
    "  expand_limits(x = c(2, 159), y = c(0, 230)) +\n",
    "  theme_bw()\n",
    "\n",
    "gg_b <- gg_bdistr / gg_blitt + plot_layout(heights = c(3, 1))\n",
    "gg_b\n",
    "ggsave(\"images/distr_b.png\", height = 4, width = 6, dpi = 300)"
   ]
  },
  {
   "cell_type": "markdown",
   "metadata": {},
   "source": [
    "# Al"
   ]
  },
  {
   "cell_type": "code",
   "execution_count": 80,
   "metadata": {},
   "outputs": [
    {
     "name": "stderr",
     "output_type": "stream",
     "text": [
      "Warning message:\n",
      "\"Removed 3 rows containing missing values (geom_segment).\"\n",
      "Warning message:\n",
      "\"Removed 3 rows containing missing values (geom_segment).\"\n"
     ]
    },
    {
     "data": {
      "image/png": "[encoded data removed]",
      "text/plain": [
       "plot without title"
      ]
     },
     "metadata": {
      "image/png": {
       "height": 420,
       "width": 420
      },
      "text/plain": {
       "height": 420,
       "width": 420
      }
     },
     "output_type": "display_data"
    }
   ],
   "source": [
    "gg_allitt <- nutrients_litt %>%\n",
    "  filter(name == \"Al\") %>%\n",
    "  ggplot(aes(x = Minimum, y = Author)) +\n",
    "  geom_segment(aes(xend = Maximum, yend = Author), lwd = 2) +\n",
    "  labs(x = expression(\"Al concentration (mg kg\"^\"-1\"*\")\"), y = \"\") +\n",
    "  expand_limits(x = c(3, 181)) +\n",
    "  theme_bw()\n",
    "\n",
    "gg_aldistr <- opt_comp %>% \n",
    "  filter(variable == \"Al\") %>% \n",
    "  ggplot(aes(x = value * 10000)) +\n",
    "  geom_histogram(fill = \"black\", bins = 30) +\n",
    "  labs(x = \"\", y = \"\") +\n",
    "  expand_limits(x = c(5, 176), y = c(0, 230)) +\n",
    "  theme_bw()\n",
    "\n",
    "gg_al <- gg_aldistr / gg_allitt + plot_layout(heights = c(3, 1))\n",
    "gg_al\n",
    "ggsave(\"images/distr_al.png\", height = 4, width = 6, dpi = 300)"
   ]
  },
  {
   "cell_type": "code",
   "execution_count": 81,
   "metadata": {},
   "outputs": [
    {
     "data": {
      "image/png": "[encoded data removed]",
      "text/plain": [
       "plot without title"
      ]
     },
     "metadata": {
      "image/png": {
       "height": 420,
       "width": 420
      },
      "text/plain": {
       "height": 420,
       "width": 420
      }
     },
     "output_type": "display_data"
    }
   ],
   "source": [
    "opt_output %>%\n",
    "  filter(variable == \"Aitchison distance\") %>%\n",
    "  ggplot(aes(x = value)) +\n",
    "  geom_histogram(fill = \"black\", bins = 30) +\n",
    "  labs(x = \"Aitchison distance\", y = \"\") +\n",
    "  theme_bw() +\n",
    "  ggsave(\"images/distr_aitdist.png\", height = 3, width = 4, dpi = 300)"
   ]
  },
  {
   "cell_type": "code",
   "execution_count": 82,
   "metadata": {},
   "outputs": [
    {
     "data": {
      "image/png": "[encoded data removed]",
      "text/plain": [
       "plot without title"
      ]
     },
     "metadata": {
      "image/png": {
       "height": 420,
       "width": 420
      },
      "text/plain": {
       "height": 420,
       "width": 420
      }
     },
     "output_type": "display_data"
    }
   ],
   "source": [
    "opt_output %>%\n",
    "  filter(variable == \"Yield\") %>%\n",
    "  ggplot(aes(x = value)) +\n",
    "  geom_histogram(fill = \"black\", bins = 30) +\n",
    "  labs(x = expression(\"Yield (kg ha\"^\"-1\"*\")\"), y = \"\") +\n",
    "  theme_bw() +\n",
    "  ggsave(\"images/distr_yield.png\", height = 3, width = 4, dpi = 300)"
   ]
  },
  {
   "cell_type": "code",
   "execution_count": 83,
   "metadata": {},
   "outputs": [
    {
     "data": {
      "image/png": "[encoded data removed]",
      "text/plain": [
       "plot without title"
      ]
     },
     "metadata": {
      "image/png": {
       "height": 420,
       "width": 420
      },
      "text/plain": {
       "height": 420,
       "width": 420
      }
     },
     "output_type": "display_data"
    }
   ],
   "source": [
    "opt_output %>% \n",
    "  ggplot(aes(x = value)) +\n",
    "  facet_wrap(~variable, nrow = 1, scales = \"free\", strip.position=\"bottom\") +\n",
    "  geom_histogram(bins = 30, fill = \"black\") +\n",
    "  labs(x = \"\", y = \"\") +\n",
    "  theme_bw() +\n",
    "  theme(text = element_text(family = \"serif\"))"
   ]
  }
 ],
 "metadata": {
  "jupytext": {
   "cell_metadata_filter": "tags,name,-all",
   "notebook_metadata_filter": "-all",
   "text_representation": {
    "extension": ".Rmd",
    "format_name": "rmarkdown"
   }
  },
  "kernelspec": {
   "display_name": "R 3.6.2 - blueberry",
   "language": "R",
   "name": "ir363-bb"
  },
  "language_info": {
   "codemirror_mode": "r",
   "file_extension": ".r",
   "mimetype": "text/x-r-source",
   "name": "R",
   "pygments_lexer": "r",
   "version": "3.6.2"
  }
 },
 "nbformat": 4,
 "nbformat_minor": 4
}
