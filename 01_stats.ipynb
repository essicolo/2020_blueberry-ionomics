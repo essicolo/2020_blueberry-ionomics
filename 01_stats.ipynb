{
 "cells": [
  {
   "cell_type": "markdown",
   "metadata": {},
   "source": [
    "# Blueberry yield modelling"
   ]
  },
  {
   "cell_type": "markdown",
   "metadata": {},
   "source": [
    "This notebook contains the scripts to:\n",
    "\n",
    "1. Create a plot to compare yield in our database to yield in the litterature\n"
   ]
  },
  {
   "cell_type": "markdown",
   "metadata": {},
   "source": [
    "To reproduce the results of this notebook, you will need to install a conda environment containing the packages listed in `requirements.txt`. Because **`weathercan`** and **`rstanarm`** are not available from conda, these packages must be installed manually."
   ]
  },
  {
   "cell_type": "code",
   "execution_count": 1,
   "metadata": {},
   "outputs": [],
   "source": [
    "nonconda_packages <- c(\"weathercan\", \"rstanarm\")\n",
    "packages_to_install <- nonconda_packages[!(nonconda_packages %in% installed.packages()[,\"Package\"])]\n",
    "if(length(packages_to_install)) install.packages(packages_to_install)"
   ]
  },
  {
   "cell_type": "code",
   "execution_count": 2,
   "metadata": {},
   "outputs": [
    {
     "name": "stderr",
     "output_type": "stream",
     "text": [
      "-- \u001b[1mAttaching packages\u001b[22m --------------------------------------- tidyverse 1.3.0 --\n",
      "\n",
      "\u001b[32mv\u001b[39m \u001b[34mggplot2\u001b[39m 3.3.0     \u001b[32mv\u001b[39m \u001b[34mpurrr  \u001b[39m 0.3.3\n",
      "\u001b[32mv\u001b[39m \u001b[34mtibble \u001b[39m 2.1.3     \u001b[32mv\u001b[39m \u001b[34mdplyr  \u001b[39m 0.8.5\n",
      "\u001b[32mv\u001b[39m \u001b[34mtidyr  \u001b[39m 1.0.2     \u001b[32mv\u001b[39m \u001b[34mstringr\u001b[39m 1.4.0\n",
      "\u001b[32mv\u001b[39m \u001b[34mreadr  \u001b[39m 1.3.1     \u001b[32mv\u001b[39m \u001b[34mforcats\u001b[39m 0.5.0\n",
      "\n",
      "Warning message:\n",
      "\"package 'ggplot2' was built under R version 3.6.3\"\n",
      "Warning message:\n",
      "\"package 'dplyr' was built under R version 3.6.3\"\n",
      "Warning message:\n",
      "\"package 'forcats' was built under R version 3.6.3\"\n",
      "-- \u001b[1mConflicts\u001b[22m ------------------------------------------ tidyverse_conflicts() --\n",
      "\u001b[31mx\u001b[39m \u001b[34mdplyr\u001b[39m::\u001b[32mfilter()\u001b[39m masks \u001b[34mstats\u001b[39m::filter()\n",
      "\u001b[31mx\u001b[39m \u001b[34mdplyr\u001b[39m::\u001b[32mlag()\u001b[39m    masks \u001b[34mstats\u001b[39m::lag()\n",
      "\n"
     ]
    }
   ],
   "source": [
    "library(\"tidyverse\")"
   ]
  },
  {
   "cell_type": "markdown",
   "metadata": {},
   "source": [
    "## Literature yields\n",
    "\n",
    "How does yields obtained in our data set compare to the litterature?"
   ]
  },
  {
   "cell_type": "code",
   "execution_count": 3,
   "metadata": {},
   "outputs": [
    {
     "name": "stderr",
     "output_type": "stream",
     "text": [
      "Parsed with column specification:\n",
      "cols(\n",
      "  Author = \u001b[31mcol_character()\u001b[39m,\n",
      "  Min = \u001b[32mcol_double()\u001b[39m,\n",
      "  Max = \u001b[32mcol_double()\u001b[39m\n",
      ")\n",
      "\n"
     ]
    },
    {
     "data": {
      "image/png": "[encoded data removed]",
      "text/plain": [
       "plot without title"
      ]
     },
     "metadata": {
      "image/png": {
       "height": 420,
       "width": 420
      },
      "text/plain": {
       "height": 420,
       "width": 420
      }
     },
     "output_type": "display_data"
    }
   ],
   "source": [
    "litterature_yields <- read_csv(\"data/literature-yield.csv\")\n",
    "\n",
    "litterature_yields %>%\n",
    "  mutate(Author = fct_reorder(Author, Max)) %>%\n",
    "  ggplot(aes(x = Min, y = Author)) +\n",
    "  geom_segment(aes(xend = Max, yend = Author), lwd = 2) +\n",
    "  scale_x_continuous(limits = c(0, 14), breaks = seq(from = 0, to = 15, by = 2)) +\n",
    "  geom_vline(xintercept = 0, linetype = 2) +\n",
    "  labs(x = expression(\"Yield Mg ha\"^\"-1\"), y = \"\") +\n",
    "  theme_bw() +\n",
    "  ggsave(\"images/litterature-yields.png\", height = 3, width = 6, dpi = 300)"
   ]
  },
  {
   "cell_type": "markdown",
   "metadata": {},
   "source": [
    "## Blueberry data\n",
    "\n",
    "Data are stored in a single data set."
   ]
  },
  {
   "cell_type": "code",
   "execution_count": 4,
   "metadata": {
    "name": "expl-load-data"
   },
   "outputs": [
    {
     "name": "stderr",
     "output_type": "stream",
     "text": [
      "\n",
      "Attaching package: 'lubridate'\n",
      "\n",
      "\n",
      "The following object is masked from 'package:base':\n",
      "\n",
      "    date\n",
      "\n",
      "\n",
      "-- \u001b[1mAttaching packages\u001b[22m -------------------------------------- tidymodels 0.1.0 --\n",
      "\n",
      "\u001b[32mv\u001b[39m \u001b[34mbroom    \u001b[39m 0.5.5      \u001b[32mv\u001b[39m \u001b[34mrsample  \u001b[39m 0.0.5 \n",
      "\u001b[32mv\u001b[39m \u001b[34mdials    \u001b[39m 0.0.4      \u001b[32mv\u001b[39m \u001b[34mtune     \u001b[39m 0.0.1 \n",
      "\u001b[32mv\u001b[39m \u001b[34minfer    \u001b[39m 0.5.1      \u001b[32mv\u001b[39m \u001b[34mworkflows\u001b[39m 0.1.1 \n",
      "\u001b[32mv\u001b[39m \u001b[34mparsnip  \u001b[39m 0.0.5      \u001b[32mv\u001b[39m \u001b[34myardstick\u001b[39m 0.0.5 \n",
      "\u001b[32mv\u001b[39m \u001b[34mrecipes  \u001b[39m 0.1.10     \n",
      "\n",
      "Warning message:\n",
      "\"package 'broom' was built under R version 3.6.3\"\n",
      "Warning message:\n",
      "\"package 'recipes' was built under R version 3.6.3\"\n",
      "Warning message:\n",
      "\"package 'workflows' was built under R version 3.6.3\"\n",
      "-- \u001b[1mConflicts\u001b[22m ----------------------------------------- tidymodels_conflicts() --\n",
      "\u001b[31mx\u001b[39m \u001b[34mscales\u001b[39m::\u001b[32mdiscard()\u001b[39m masks \u001b[34mpurrr\u001b[39m::discard()\n",
      "\u001b[31mx\u001b[39m \u001b[34mdplyr\u001b[39m::\u001b[32mfilter()\u001b[39m   masks \u001b[34mstats\u001b[39m::filter()\n",
      "\u001b[31mx\u001b[39m \u001b[34mrecipes\u001b[39m::\u001b[32mfixed()\u001b[39m  masks \u001b[34mstringr\u001b[39m::fixed()\n",
      "\u001b[31mx\u001b[39m \u001b[34mdplyr\u001b[39m::\u001b[32mlag()\u001b[39m      masks \u001b[34mstats\u001b[39m::lag()\n",
      "\u001b[31mx\u001b[39m \u001b[34mdials\u001b[39m::\u001b[32mmargin()\u001b[39m   masks \u001b[34mggplot2\u001b[39m::margin()\n",
      "\u001b[31mx\u001b[39m \u001b[34myardstick\u001b[39m::\u001b[32mspec()\u001b[39m masks \u001b[34mreadr\u001b[39m::spec()\n",
      "\u001b[31mx\u001b[39m \u001b[34mrecipes\u001b[39m::\u001b[32mstep()\u001b[39m   masks \u001b[34mstats\u001b[39m::step()\n",
      "\n",
      "Warning message:\n",
      "\"package 'skimr' was built under R version 3.6.3\"\n",
      "Parsed with column specification:\n",
      "cols(\n",
      "  .default = col_double(),\n",
      "  Project = \u001b[31mcol_character()\u001b[39m,\n",
      "  Site = \u001b[31mcol_character()\u001b[39m,\n",
      "  Coordinates = \u001b[31mcol_character()\u001b[39m\n",
      ")\n",
      "\n",
      "See spec(...) for full column specifications.\n",
      "\n"
     ]
    },
    {
     "name": "stdout",
     "output_type": "stream",
     "text": [
      "-- Data Summary ------------------------\n",
      "                           Values   \n",
      "Name                       df_source\n",
      "Number of rows             1504     \n",
      "Number of columns          30       \n",
      "_______________________             \n",
      "Column type frequency:              \n",
      "  character                3        \n",
      "  numeric                  27       \n",
      "________________________            \n",
      "Group variables            None     \n",
      "\n",
      "-- Variable type: character ----------------------------------------------------\n",
      "# A tibble: 3 x 8\n",
      "  skim_variable n_missing complete_rate   min   max empty n_unique whitespace\n",
      "* <chr>             <int>         <dbl> <int> <int> <int>    <int>      <int>\n",
      "1 Project               0             1     2     6     0       19          0\n",
      "2 Site                  0             1     7    16     0        6          0\n",
      "3 Coordinates           0             1    17    17     0        6          0\n",
      "\n",
      "-- Variable type: numeric ------------------------------------------------------\n",
      "# A tibble: 27 x 11\n",
      "   skim_variable             n_missing complete_rate     mean        sd      p0\n",
      " * <chr>                         <int>         <dbl>    <dbl>     <dbl>   <dbl>\n",
      " 1 Year                              0         1     2007.       3.27   2001   \n",
      " 2 Parcel                            0         1       47.3     33.9       1   \n",
      " 3 Block                             0         1        2.5      1.12      1   \n",
      " 4 N dose (kg/ha)                    0         1       41.7     32.8       0   \n",
      " 5 P2O5 dose (kg/ha)                 0         1       22.0     25.0       0   \n",
      " 6 K2O dose (kg/ha)                  0         1       37.2     25.5       0   \n",
      " 7 Leaf N (%)                        5         0.997    1.78     0.238     0.52\n",
      " 8 Leaf P (%)                        5         0.997    0.131    0.0217    0.06\n",
      " 9 Leaf K (%)                        2         0.999    0.610    0.0866    0.39\n",
      "10 Leaf Ca (%)                       1         0.999    0.384    0.0677    0.21\n",
      "11 Leaf Mg (%)                       1         0.999    0.165    0.0256    0.09\n",
      "12 Leaf Al (ppm)                   272         0.819   51.3     16.6      21   \n",
      "13 Leaf B (ppm)                    271         0.820   39.8     13.1      15   \n",
      "14 Leaf Cu (ppm)                   522         0.653    4.32     1.30      1.21\n",
      "15 Leaf Zn (ppm)                   531         0.647    7.97     2.23      3.09\n",
      "16 Leaf Fe (ppm)                   530         0.648   20.8      5.74      8.4 \n",
      "17 Leaf Mn (ppm)                   535         0.644  211.      22.1     154   \n",
      "18 Leaf Mo (ppm)                   777         0.483    0.215    0.137     0   \n",
      "19 Berry yield (kg/ha)             110         0.927 3720.    2636.      122   \n",
      "20 Berry dry matter_fraction       831         0.447    0.124    0.0337    0.02\n",
      "21 Soil NO3 (ppm)                  774         0.485    0.783    1.99      0   \n",
      "22 Soil NH4 (ppm)                  774         0.485    2.94     3.01      0   \n",
      "23 Soil P (mg/kg)                    1         0.999   62.4     61.4       0   \n",
      "24 Soil K (mg/kg)                    8         0.995   79.0     59.8      14   \n",
      "25 Soil Ca (mg/kg)                   1         0.999  334.     362.       16   \n",
      "26 Soil Mg (mg/kg)                   0         1       36.8     34.9       2   \n",
      "27 pH H2O                            8         0.995    4.61     0.501     3.57\n",
      "       p25     p50      p75      p100 hist \n",
      " *   <dbl>   <dbl>    <dbl>     <dbl> <chr>\n",
      " 1 2005    2009    2010      2011     <U+2585><U+2583><U+2583><U+2583><U+2587>\n",
      " 2   20      40      66       128     <U+2587><U+2587><U+2583><U+2582><U+2582>\n",
      " 3    1.75    2.5     3.25      4     <U+2587><U+2587><U+2581><U+2587><U+2587>\n",
      " 4   13.5    30      60        90     <U+2587><U+2587><U+2581><U+2586><U+2586>\n",
      " 5    0      20      20        90     <U+2586><U+2587><U+2581><U+2581><U+2581>\n",
      " 6   30      30      60        90     <U+2582><U+2587><U+2581><U+2582><U+2582>\n",
      " 7    1.61    1.75    1.93      2.8   <U+2581><U+2581><U+2587><U+2583><U+2581>\n",
      " 8    0.12    0.13    0.14      0.24  <U+2581><U+2587><U+2585><U+2581><U+2581>\n",
      " 9    0.55    0.61    0.67      0.92  <U+2582><U+2587><U+2587><U+2582><U+2581>\n",
      "10    0.33    0.38    0.43      0.63  <U+2582><U+2587><U+2587><U+2582><U+2581>\n",
      "11    0.15    0.16    0.18      0.290 <U+2582><U+2587><U+2587><U+2581><U+2581>\n",
      "12   41.8    48      56.8     155.    <U+2587><U+2587><U+2581><U+2581><U+2581>\n",
      "13   31      37      46.2      94.4   <U+2583><U+2587><U+2582><U+2581><U+2581>\n",
      "14    3.38    4.24    5.16      9.3   <U+2582><U+2587><U+2587><U+2582><U+2581>\n",
      "15    6.16    7.9     9.58     15.2   <U+2583><U+2587><U+2587><U+2583><U+2581>\n",
      "16   17.1    19.6    23        54.2   <U+2585><U+2587><U+2581><U+2581><U+2581>\n",
      "17  195     208     222       298     <U+2581><U+2587><U+2586><U+2582><U+2581>\n",
      "18    0.11    0.19    0.28      0.65  <U+2586><U+2587><U+2583><U+2582><U+2581>\n",
      "19 1700.   3052    5024.    14853     <U+2587><U+2585><U+2582><U+2581><U+2581>\n",
      "20    0.12    0.13    0.146     0.23  <U+2581><U+2581><U+2587><U+2583><U+2581>\n",
      "21    0       0       0.737    39.1   <U+2587><U+2581><U+2581><U+2581><U+2581>\n",
      "22    1.07    2.33    3.77     36.5   <U+2587><U+2581><U+2581><U+2581><U+2581>\n",
      "23   19      37      93       434     <U+2587><U+2582><U+2581><U+2581><U+2581>\n",
      "24   32      62     108       468     <U+2587><U+2582><U+2581><U+2581><U+2581>\n",
      "25  122     220     386.     3866     <U+2587><U+2581><U+2581><U+2581><U+2581>\n",
      "26   15      25      46       283     <U+2587><U+2581><U+2581><U+2581><U+2581>\n",
      "27    4.34    4.53    4.77      6.37  <U+2582><U+2587><U+2583><U+2581><U+2581>\n"
     ]
    }
   ],
   "source": [
    "library(\"lubridate\")\n",
    "library(\"tidymodels\")\n",
    "library(\"skimr\")\n",
    "df_source <- read_csv(\"data/data.csv\", na = c(\"\", \".\"))\n",
    "skim(df_source)"
   ]
  },
  {
   "cell_type": "markdown",
   "metadata": {},
   "source": [
    "There are a lot of missing data in the Mo leaf content and the berry dry matter fraction. But oligo-elements are important information. We will proceed to missing data imputation further on. \n",
    "\n",
    "Dosage is put on element scale."
   ]
  },
  {
   "cell_type": "code",
   "execution_count": 5,
   "metadata": {},
   "outputs": [],
   "source": [
    "df_source <- df_source %>%\n",
    "  mutate(\n",
    "    id = 1:nrow(.),\n",
    "    `P dose (kg/ha)` = `P2O5 dose (kg/ha)` / 2.29,\n",
    "    `K dose (kg/ha)` = `K2O dose (kg/ha)` / 1.2\n",
    "  )"
   ]
  },
  {
   "cell_type": "markdown",
   "metadata": {},
   "source": [
    "## Weather\n",
    "\n",
    "Weather indices are genereted from data fetched from Environment Canada with the **`weathercan`** package. The **`sp`** package is needed as dependency of **`weathercan`** to look for the closest stations."
   ]
  },
  {
   "cell_type": "code",
   "execution_count": 6,
   "metadata": {
    "lines_to_next_cell": 2
   },
   "outputs": [
    {
     "name": "stderr",
     "output_type": "stream",
     "text": [
      "\n",
      "Attaching package: 'weathercan'\n",
      "\n",
      "\n",
      "The following object is masked from 'package:dials':\n",
      "\n",
      "    stations\n",
      "\n",
      "\n",
      "Warning message:\n",
      "\"package 'sp' was built under R version 3.6.3\"\n"
     ]
    }
   ],
   "source": [
    "library(\"weathercan\")\n",
    "library(\"sp\")"
   ]
  },
  {
   "cell_type": "markdown",
   "metadata": {},
   "source": [
    "Coordinates are stored by site in `sites.csv`."
   ]
  },
  {
   "cell_type": "code",
   "execution_count": 7,
   "metadata": {},
   "outputs": [
    {
     "name": "stderr",
     "output_type": "stream",
     "text": [
      "Parsed with column specification:\n",
      "cols(\n",
      "  Site = \u001b[31mcol_character()\u001b[39m,\n",
      "  Latitude = \u001b[32mcol_double()\u001b[39m,\n",
      "  Longitude = \u001b[32mcol_double()\u001b[39m\n",
      ")\n",
      "\n"
     ]
    }
   ],
   "source": [
    "sites <- read_csv(\"data/sites.csv\")\n",
    "df_source <-\n",
    "  df_source %>%\n",
    "  left_join(sites, by = \"Site\")"
   ]
  },
  {
   "cell_type": "markdown",
   "metadata": {},
   "source": [
    "### Select weather stations\n",
    "\n",
    "We have the following Year/Site combinaisons."
   ]
  },
  {
   "cell_type": "code",
   "execution_count": 8,
   "metadata": {},
   "outputs": [],
   "source": [
    "year_site <- df_source %>%\n",
    "  distinct(Year, Site, Latitude, Longitude)"
   ]
  },
  {
   "cell_type": "markdown",
   "metadata": {},
   "source": [
    "We look for the closest stations with data starting 5 years before observations."
   ]
  },
  {
   "cell_type": "code",
   "execution_count": 9,
   "metadata": {},
   "outputs": [],
   "source": [
    "blueberry_stations <- list()\n",
    "for (i in 1:nrow(year_site)) {\n",
    "  blueberry_stations[[i]] <- stations_search(\n",
    "    coords = c(year_site$Latitude[i], year_site$Longitude[i]),\n",
    "    starts_latest = year_site$Year[i] - 7,\n",
    "    ends_earliest = year_site$Year[i] + 3,\n",
    "    dist = 50, interval = \"day\"\n",
    "  )\n",
    "}"
   ]
  },
  {
   "cell_type": "markdown",
   "metadata": {},
   "source": [
    "We selected the closest stations."
   ]
  },
  {
   "cell_type": "code",
   "execution_count": 10,
   "metadata": {},
   "outputs": [],
   "source": [
    "year_site$station_id <- NA\n",
    "year_site$station_name <- NA\n",
    "for (i in seq_along(blueberry_stations)) {\n",
    "  year_site$station_id[i] <- blueberry_stations[[i]]$station_id[1]\n",
    "  year_site$station_name[i] <- blueberry_stations[[i]]$station_name[1]\n",
    "}"
   ]
  },
  {
   "cell_type": "markdown",
   "metadata": {},
   "source": [
    "Station `ST LEON DE LABRECQUE` seems to generate errors. The next closest one is `r blueberry_stations[[3]]$station_name[2]`."
   ]
  },
  {
   "cell_type": "code",
   "execution_count": 11,
   "metadata": {},
   "outputs": [],
   "source": [
    "year_site$station_id[3] <- blueberry_stations[[3]]$station_id[2]\n",
    "year_site$station_name[3] <- blueberry_stations[[3]]$station_name[2]"
   ]
  },
  {
   "cell_type": "markdown",
   "metadata": {},
   "source": [
    "We will fetch weather by year and station ID."
   ]
  },
  {
   "cell_type": "code",
   "execution_count": 12,
   "metadata": {},
   "outputs": [],
   "source": [
    "year_station <- year_site %>% distinct(Year, station_id)"
   ]
  },
  {
   "cell_type": "markdown",
   "metadata": {},
   "source": [
    "### Fetch weather\n",
    "\n",
    "We suppose that seasons start on April 1st and end at mid-August. The first loop stores the weather of the year of the experiment. This will be used to asses feature importance.\n",
    "\n",
    "#### Weather current\n",
    "\n",
    "These data are the one that occured during the year of the experiment.\n",
    "\n",
    "```#{r}\n",
    "weather_current <- list()\n",
    "for (i in 1:nrow(year_station)) {\n",
    "weather_current[[i]] <- weather_dl(\n",
    "station_ids = year_station$station_id[i],\n",
    "start = paste0(year_station$Year[i], \"-04-01\"),\n",
    "end = paste0(year_station$Year[i], \"-08-31\"),\n",
    "interval = \"day\", quiet = TRUE\n",
    ")\n",
    "}\n",
    "```\n",
    "\n",
    "We unnest the list of lists, the old fashion way.\n",
    "\n",
    "```#{r}\n",
    "weather_current <- data.frame(do.call(rbind, weather_current))\n",
    "save(weather_current, file = \"output/weather_current.RData\")\n",
    "```"
   ]
  },
  {
   "cell_type": "code",
   "execution_count": 13,
   "metadata": {},
   "outputs": [],
   "source": [
    "load(\"output/weather_current.RData\")"
   ]
  },
  {
   "cell_type": "markdown",
   "metadata": {},
   "source": [
    "#### Weather before\n",
    "\n",
    "Now for each station, we fetch weather data 5 years before the experiment. These data will be used for prediction. Cells that fetch weather are deactivated since data have already been fetched and saved in a RData file."
   ]
  },
  {
   "cell_type": "raw",
   "metadata": {},
   "source": [
    "nyears_before <- 5\n",
    "weather_before <- list()\n",
    "for (i in 1:nrow(year_station)) {\n",
    "  weather_before[[i]] <- list()\n",
    "  for (j in nyears_before:1) {\n",
    "    sublist_name <- paste0(j, \"years\")\n",
    "    weather_data <- weather_dl(\n",
    "      station_ids = year_station$station_id[i],\n",
    "      start = paste0(year_station$Year[i] - j, \"-04-01\"),\n",
    "      end = paste0(year_station$Year[i] - j, \"-08-31\"),\n",
    "      interval = \"day\", quiet = TRUE\n",
    "    )\n",
    "    weather_before[[i]][[sublist_name]] <- weather_data\n",
    "  }\n",
    "}"
   ]
  },
  {
   "cell_type": "markdown",
   "metadata": {},
   "source": [
    "We unnest the list of lists."
   ]
  },
  {
   "cell_type": "raw",
   "metadata": {},
   "source": [
    "for (i in seq_along(weather_before)) {\n",
    "  weather_before[[i]] <- data.frame(do.call(rbind, weather_before[[i]]))\n",
    "}\n",
    "weather_before <- data.frame(do.call(rbind, weather_before))\n",
    "save(weather_before, file = \"output/weather_before.RData\")"
   ]
  },
  {
   "cell_type": "code",
   "execution_count": 14,
   "metadata": {},
   "outputs": [],
   "source": [
    "load(\"output/weather_before.RData\")"
   ]
  },
  {
   "cell_type": "markdown",
   "metadata": {},
   "source": [
    "### Compute weather indices\n",
    "\n",
    "#### Weather current\n",
    "\n",
    "For each month, we compute total **precipitation** and **mean temperature**. "
   ]
  },
  {
   "cell_type": "code",
   "execution_count": 15,
   "metadata": {},
   "outputs": [],
   "source": [
    "temp_prec_current <- weather_current %>%\n",
    "  group_by(station_id, year, month) %>%\n",
    "  summarise(\n",
    "    total_precip = sum(total_precip, na.rm = TRUE),\n",
    "    mean_temp = mean(mean_temp, na.rm = TRUE)\n",
    "  ) %>%\n",
    "  pivot_wider(names_from = month, values_from = c(total_precip, mean_temp))"
   ]
  },
  {
   "cell_type": "markdown",
   "metadata": {},
   "source": [
    "We compute the number of days per month were air temerature falls **under 0 degrees**."
   ]
  },
  {
   "cell_type": "code",
   "execution_count": 16,
   "metadata": {},
   "outputs": [],
   "source": [
    "frozen_current <- weather_current %>%\n",
    "  group_by(station_id, year, month) %>%\n",
    "  summarise(frozen = sum(mean_temp < 0, na.rm = TRUE)) %>% \n",
    "  pivot_wider(names_from = month, values_from = frozen)\n",
    "names(frozen_current)[-c(1, 2)] <- paste0(\"frozen_\", names(frozen_current)[-c(1, 2)])"
   ]
  },
  {
   "cell_type": "markdown",
   "metadata": {},
   "source": [
    "While the number of freezing days can affect flowering, the number of days with mean temperature > 26 °C can affect pollination."
   ]
  },
  {
   "cell_type": "code",
   "execution_count": 17,
   "metadata": {},
   "outputs": [],
   "source": [
    "toowarm_current <- weather_current %>%\n",
    "  group_by(station_id, year, month) %>%\n",
    "  summarise(toowarm = sum(mean_temp >= 26, na.rm = TRUE)) %>% \n",
    "  pivot_wider(names_from = month, values_from = toowarm)\n",
    "names(toowarm_current)[-c(1, 2)] <- paste0(\"toowarm_\", names(toowarm_current)[-c(1, 2)])"
   ]
  },
  {
   "cell_type": "markdown",
   "metadata": {},
   "source": [
    "Lastly, the degree days are computed between May (julilan day `r yday(\"2000-05-01\")`) and mid-August (julilan day `r yday(\"2000-08-15\")`)."
   ]
  },
  {
   "cell_type": "code",
   "execution_count": 18,
   "metadata": {},
   "outputs": [],
   "source": [
    "GDD_current <- weather_current %>%\n",
    "  mutate(julian_day = yday(date)) %>% \n",
    "  filter(\n",
    "    julian_day >= yday(\"2000-05-01\"),\n",
    "    julian_day <= yday(\"2000-08-15\")\n",
    "  ) %>%\n",
    "  group_by(year, station_id) %>% \n",
    "  summarise(GDD = sum(mean_temp >= 5, na.rm = TRUE))"
   ]
  },
  {
   "cell_type": "markdown",
   "metadata": {},
   "source": [
    "All indices in the same table."
   ]
  },
  {
   "cell_type": "code",
   "execution_count": 19,
   "metadata": {},
   "outputs": [],
   "source": [
    "weather_indices_current <- temp_prec_current %>%\n",
    "  left_join(frozen_current, by = c(\"station_id\", \"year\")) %>% \n",
    "  left_join(toowarm_current, by = c(\"station_id\", \"year\")) %>% \n",
    "  left_join(GDD_current, by = c(\"station_id\", \"year\")) %>%\n",
    "  ungroup() %>% \n",
    "  mutate(year = as.numeric(year)) %>% \n",
    "  rename(Year = year)\n",
    "names(weather_indices_current)[-c(1, 2)] <- paste0(\"weather_current.\", \n",
    "                                                   names(weather_indices_current)[-c(1, 2)])"
   ]
  },
  {
   "cell_type": "markdown",
   "metadata": {},
   "source": [
    "#### Weather before\n",
    "\n",
    "For each month, we compute total precipitation and mean temperature 5 years before the growing season. "
   ]
  },
  {
   "cell_type": "code",
   "execution_count": 20,
   "metadata": {},
   "outputs": [],
   "source": [
    "temp_prec_before <- list()\n",
    "for (i in 1:nrow(year_station)) {\n",
    "  temp_prec_before[[i]] <-\n",
    "    weather_before %>%\n",
    "    filter(\n",
    "      station_id == year_station$station_id[i],\n",
    "      year %in% (year_station$Year[i] - 5):(year_station$Year[i] - 1)\n",
    "    ) %>%\n",
    "    group_by(year, month) %>%\n",
    "    summarise(\n",
    "      total_precip = sum(total_precip, na.rm = TRUE),\n",
    "      mean_temp = mean(mean_temp, na.rm = TRUE)\n",
    "    ) %>%\n",
    "    group_by(month) %>%\n",
    "    summarise(\n",
    "      total_precip = mean(total_precip, na.rm = TRUE),\n",
    "      mean_temp = mean(mean_temp, na.rm = TRUE)\n",
    "    ) %>%\n",
    "    pivot_wider(names_from = month, values_from = c(total_precip, mean_temp))\n",
    "}\n",
    "temp_prec_before <- do.call(rbind, temp_prec_before)"
   ]
  },
  {
   "cell_type": "markdown",
   "metadata": {},
   "source": [
    "We compute the number of days per month where air temerature falls under 0 degrees, a condition altering flowers."
   ]
  },
  {
   "cell_type": "code",
   "execution_count": 21,
   "metadata": {},
   "outputs": [],
   "source": [
    "frozen_before <- list()\n",
    "for (i in 1:nrow(year_station)) {\n",
    "  frozen_before[[i]] <- weather_before %>%\n",
    "    filter(\n",
    "      station_id == year_station$station_id[i],\n",
    "      year %in% (year_station$Year[i] - 5):(year_station$Year[i] - 1),\n",
    "    ) %>%\n",
    "    group_by(year, month) %>%\n",
    "    summarise(frozen = sum(mean_temp <= 0, na.rm = TRUE)) %>%\n",
    "    group_by(month) %>%\n",
    "    summarise(frozen = mean(frozen)) %>%\n",
    "    pivot_wider(names_from = month, values_from = frozen)\n",
    "}\n",
    "frozen_before <- do.call(rbind, frozen_before)\n",
    "names(frozen_before) <- paste0(\"frozen_\", names(frozen_before))"
   ]
  },
  {
   "cell_type": "markdown",
   "metadata": {},
   "source": [
    "The number of days with mean temperature > 26 °C:"
   ]
  },
  {
   "cell_type": "code",
   "execution_count": 22,
   "metadata": {},
   "outputs": [],
   "source": [
    "toowarm_before <- list()\n",
    "for (i in 1:nrow(year_station)) {\n",
    "  toowarm_before[[i]] <- weather_before %>%\n",
    "    filter(\n",
    "      station_id == year_station$station_id[i],\n",
    "      year %in% (year_station$Year[i] - 5):(year_station$Year[i] - 1),\n",
    "    ) %>%\n",
    "    group_by(year, month) %>%\n",
    "    summarise(toowarm = sum(mean_temp <= 26, na.rm = TRUE)) %>%\n",
    "    group_by(month) %>%\n",
    "    summarise(toowarm = mean(toowarm)) %>%\n",
    "    pivot_wider(names_from = month, values_from = toowarm)\n",
    "}\n",
    "toowarm_before <- do.call(rbind, toowarm_before)\n",
    "names(toowarm_before) <- paste0(\"toowarm_\", names(toowarm_before))"
   ]
  },
  {
   "cell_type": "markdown",
   "metadata": {},
   "source": [
    "And GDD."
   ]
  },
  {
   "cell_type": "code",
   "execution_count": 23,
   "metadata": {},
   "outputs": [],
   "source": [
    "GDD_before <- c()\n",
    "for (i in 1:nrow(year_station)) {\n",
    "  GDD_before[i] <-\n",
    "    weather_before %>%\n",
    "    filter(\n",
    "      station_id == year_station$station_id[i],\n",
    "      year %in% (year_station$Year[i] - 5):(year_station$Year[i] - 1),\n",
    "    ) %>%\n",
    "    mutate(julian_day = yday(date)) %>% \n",
    "    filter(\n",
    "      julian_day >= yday(\"2000-05-01\"),\n",
    "      julian_day <= yday(\"2000-08-15\")\n",
    "    ) %>% \n",
    "    group_by(year) %>%\n",
    "    summarise(GDD = sum(mean_temp >= 5, na.rm = TRUE)) %>% \n",
    "    summarise(GDD_before = mean(GDD)) %>% \n",
    "    pull()\n",
    "}"
   ]
  },
  {
   "cell_type": "markdown",
   "metadata": {},
   "source": [
    "All indices in the same table."
   ]
  },
  {
   "cell_type": "code",
   "execution_count": 24,
   "metadata": {},
   "outputs": [],
   "source": [
    "weather_indices_before <- year_station %>% \n",
    "  bind_cols(temp_prec_before) %>%\n",
    "  bind_cols(frozen_before) %>% \n",
    "  bind_cols(toowarm_before) %>% \n",
    "  mutate(GDD_before = GDD_before)\n",
    "names(weather_indices_before)[-c(1, 2)] <- paste0(\"weather_before.\", \n",
    "                                                  names(weather_indices_before)[-c(1, 2)])\n"
   ]
  },
  {
   "cell_type": "markdown",
   "metadata": {},
   "source": [
    "### Merge everything"
   ]
  },
  {
   "cell_type": "code",
   "execution_count": 25,
   "metadata": {
    "lines_to_next_cell": 2
   },
   "outputs": [],
   "source": [
    "year_station_ <- year_station %>% \n",
    "  left_join(weather_indices_current, by = c(\"Year\", \"station_id\")) %>% \n",
    "  left_join(weather_indices_before, by = c(\"Year\", \"station_id\"))\n",
    "\n",
    "year_site_ <- year_site %>% \n",
    "  left_join(year_station_, by = c(\"Year\", \"station_id\")) %>% \n",
    "  select(-Latitude, -Longitude)\n",
    "\n",
    "df_weather <- df_source %>%\n",
    "  left_join(year_site_, by = c(\"Year\", \"Site\"))"
   ]
  },
  {
   "cell_type": "markdown",
   "metadata": {},
   "source": [
    "## Compositional preprocess\n",
    "\n",
    "### Look up missing values\n",
    "\n",
    "In leaves,"
   ]
  },
  {
   "cell_type": "code",
   "execution_count": 26,
   "metadata": {},
   "outputs": [
    {
     "name": "stderr",
     "output_type": "stream",
     "text": [
      "Loading required package: colorspace\n",
      "\n",
      "Loading required package: grid\n",
      "\n",
      "Loading required package: data.table\n",
      "\n",
      "\n",
      "Attaching package: 'data.table'\n",
      "\n",
      "\n",
      "The following objects are masked from 'package:lubridate':\n",
      "\n",
      "    hour, isoweek, mday, minute, month, quarter, second, wday, week,\n",
      "    yday, year\n",
      "\n",
      "\n",
      "The following objects are masked from 'package:dplyr':\n",
      "\n",
      "    between, first, last\n",
      "\n",
      "\n",
      "The following object is masked from 'package:purrr':\n",
      "\n",
      "    transpose\n",
      "\n",
      "\n",
      "Registered S3 methods overwritten by 'car':\n",
      "  method                          from\n",
      "  influence.merMod                lme4\n",
      "  cooks.distance.influence.merMod lme4\n",
      "  dfbeta.influence.merMod         lme4\n",
      "  dfbetas.influence.merMod        lme4\n",
      "\n",
      "VIM is ready to use. \n",
      " Since version 4.0.0 the GUI is in its own package VIMGUI.\n",
      "\n",
      "          Please use the package to use the new (and old) GUI.\n",
      "\n",
      "\n",
      "Suggestions and bug-reports can be submitted at: https://github.com/alexkowa/VIM/issues\n",
      "\n",
      "\n",
      "Attaching package: 'VIM'\n",
      "\n",
      "\n",
      "The following object is masked from 'package:recipes':\n",
      "\n",
      "    prepare\n",
      "\n",
      "\n",
      "The following object is masked from 'package:datasets':\n",
      "\n",
      "    sleep\n",
      "\n",
      "\n"
     ]
    },
    {
     "name": "stdout",
     "output_type": "stream",
     "text": [
      "\n",
      " Variables sorted by number of missings: \n",
      "      Variable        Count\n",
      " Leaf Mo (ppm) 0.5166223404\n",
      " Leaf Mn (ppm) 0.3557180851\n",
      " Leaf Zn (ppm) 0.3530585106\n",
      " Leaf Fe (ppm) 0.3523936170\n",
      " Leaf Cu (ppm) 0.3470744681\n",
      " Leaf Al (ppm) 0.1808510638\n",
      "  Leaf B (ppm) 0.1801861702\n",
      "    Leaf N (%) 0.0033244681\n",
      "    Leaf P (%) 0.0033244681\n",
      "    Leaf K (%) 0.0013297872\n",
      "   Leaf Ca (%) 0.0006648936\n",
      "   Leaf Mg (%) 0.0006648936\n"
     ]
    },
    {
     "data": {
      "image/png": "[encoded data removed]",
      "text/plain": [
       "plot without title"
      ]
     },
     "metadata": {
      "image/png": {
       "height": 420,
       "width": 420
      },
      "text/plain": {
       "height": 420,
       "width": 420
      }
     },
     "output_type": "display_data"
    },
    {
     "data": {
      "image/png": "[encoded data removed]",
      "text/plain": [
       "plot without title"
      ]
     },
     "metadata": {
      "image/png": {
       "height": 420,
       "width": 420
      },
      "text/plain": {
       "height": 420,
       "width": 420
      }
     },
     "output_type": "display_data"
    }
   ],
   "source": [
    "library(\"VIM\")\n",
    "comp_leaf <- df_source %>%\n",
    "  select(starts_with(\"Leaf\"))\n",
    "\n",
    "plot(aggr(comp_leaf, sortVar = TRUE), cex.axis =0.6)"
   ]
  },
  {
   "cell_type": "markdown",
   "metadata": {},
   "source": [
    "The proportion of NAs in the Mo (~55%), Mn, Zn and Fe columns are very high (~35%) to parse them through imputations. Although Al and B also have pretty high propostions of NAs (~18%), they are important components. They will be kept and imputed.\n",
    "\n",
    "In soil,"
   ]
  },
  {
   "cell_type": "code",
   "execution_count": 27,
   "metadata": {},
   "outputs": [
    {
     "name": "stdout",
     "output_type": "stream",
     "text": [
      "\n",
      " Variables sorted by number of missings: \n",
      "        Variable        Count\n",
      "  Soil NO3 (ppm) 0.5146276596\n",
      "  Soil NH4 (ppm) 0.5146276596\n",
      "  Soil K (mg/kg) 0.0053191489\n",
      "  Soil P (mg/kg) 0.0006648936\n",
      " Soil Ca (mg/kg) 0.0006648936\n",
      " Soil Mg (mg/kg) 0.0000000000\n"
     ]
    },
    {
     "data": {
      "image/png": "[encoded data removed]",
      "text/plain": [
       "plot without title"
      ]
     },
     "metadata": {
      "image/png": {
       "height": 420,
       "width": 420
      },
      "text/plain": {
       "height": 420,
       "width": 420
      }
     },
     "output_type": "display_data"
    },
    {
     "data": {
      "image/png": "[encoded data removed]",
      "text/plain": [
       "plot without title"
      ]
     },
     "metadata": {
      "image/png": {
       "height": 420,
       "width": 420
      },
      "text/plain": {
       "height": 420,
       "width": 420
      }
     },
     "output_type": "display_data"
    }
   ],
   "source": [
    "comp_soil <- df_source %>%\n",
    "  select(starts_with(\"Soil\"))\n",
    "\n",
    "plot(aggr(comp_soil, sortVar = TRUE), cex.axis = 0.8)"
   ]
  },
  {
   "cell_type": "markdown",
   "metadata": {},
   "source": [
    "Nitrogen forms have been measured in less than 50%  of the obervations. Unfortunalty, we must rule them out of the analysis. K, P, Ca and Mg are kept.\n",
    "\n",
    "### Imputations\n",
    "\n",
    "The imputation is done with a random forest algorithm using the **`mice`** package. Leaves first."
   ]
  },
  {
   "cell_type": "code",
   "execution_count": 28,
   "metadata": {
    "tags": [
     "remove_cell"
    ]
   },
   "outputs": [
    {
     "name": "stderr",
     "output_type": "stream",
     "text": [
      "Warning message:\n",
      "\"package 'mice' was built under R version 3.6.3\"\n",
      "\n",
      "Attaching package: 'mice'\n",
      "\n",
      "\n",
      "The following objects are masked from 'package:base':\n",
      "\n",
      "    cbind, rbind\n",
      "\n",
      "\n"
     ]
    },
    {
     "name": "stdout",
     "output_type": "stream",
     "text": [
      "\n",
      " iter imp variable\n",
      "  1   1  N  P  K  Al  B\n",
      "  1   2  N  P  K  Al  B\n",
      "  1   3  N  P  K  Al  B\n",
      "  1   4  N  P  K  Al  B\n",
      "  1   5  N  P  K  Al  B\n",
      "  2   1  N  P  K  Al  B\n",
      "  2   2  N  P  K  Al  B\n",
      "  2   3  N  P  K  Al  B\n",
      "  2   4  N  P  K  Al  B\n",
      "  2   5  N  P  K  Al  B\n",
      "  3   1  N  P  K  Al  B\n",
      "  3   2  N  P  K  Al  B\n",
      "  3   3  N  P  K  Al  B\n",
      "  3   4  N  P  K  Al  B\n",
      "  3   5  N  P  K  Al  B\n",
      "  4   1  N  P  K  Al  B\n",
      "  4   2  N  P  K  Al  B\n",
      "  4   3  N  P  K  Al  B\n",
      "  4   4  N  P  K  Al  B\n",
      "  4   5  N  P  K  Al  B\n",
      "  5   1  N  P  K  Al  B\n",
      "  5   2  N  P  K  Al  B\n",
      "  5   3  N  P  K  Al  B\n",
      "  5   4  N  P  K  Al  B\n",
      "  5   5  N  P  K  Al  B\n"
     ]
    }
   ],
   "source": [
    "library(\"mice\")\n",
    "\n",
    "comp_leaf_enough <- comp_leaf %>% \n",
    "  select(-`Leaf Mo (ppm)`, -`Leaf Mn (ppm)`, -`Leaf Zn (ppm)`, -`Leaf Cu (ppm)`, -`Leaf Fe (ppm)`)\n",
    "\n",
    "leaf_comp_names <- names(comp_leaf_enough)\n",
    "names(comp_leaf_enough) <- c(\"N\", \"P\", \"K\", \"Ca\", \"Mg\", \"Al\", \"B\")\n",
    "\n",
    "leaf_too_many_nas <- df_source %>% \n",
    "  select(id) %>% \n",
    "  filter(apply(comp_leaf_enough, 1, function(x) sum(is.na(x)) > 3)) %>% \n",
    "  pull()\n",
    "\n",
    "leaf_imp <- comp_leaf_enough %>% \n",
    "  filter(!(df_source$id %in% leaf_too_many_nas)) %>%\n",
    "  mice(., method = \"rf\") %>% \n",
    "  complete(.)\n",
    "\n",
    "names(leaf_imp) <- leaf_comp_names"
   ]
  },
  {
   "cell_type": "markdown",
   "metadata": {},
   "source": [
    "Then soil."
   ]
  },
  {
   "cell_type": "code",
   "execution_count": 29,
   "metadata": {
    "tags": [
     "remove_cell"
    ]
   },
   "outputs": [
    {
     "name": "stdout",
     "output_type": "stream",
     "text": [
      "\n",
      " iter imp variable\n",
      "  1   1  P  K  Ca\n",
      "  1   2  P  K  Ca\n",
      "  1   3  P  K  Ca\n",
      "  1   4  P  K  Ca\n",
      "  1   5  P  K  Ca\n",
      "  2   1  P  K  Ca\n",
      "  2   2  P  K  Ca\n",
      "  2   3  P  K  Ca\n",
      "  2   4  P  K  Ca\n",
      "  2   5  P  K  Ca\n",
      "  3   1  P  K  Ca\n",
      "  3   2  P  K  Ca\n",
      "  3   3  P  K  Ca\n",
      "  3   4  P  K  Ca\n",
      "  3   5  P  K  Ca\n",
      "  4   1  P  K  Ca\n",
      "  4   2  P  K  Ca\n",
      "  4   3  P  K  Ca\n",
      "  4   4  P  K  Ca\n",
      "  4   5  P  K  Ca\n",
      "  5   1  P  K  Ca\n",
      "  5   2  P  K  Ca\n",
      "  5   3  P  K  Ca\n",
      "  5   4  P  K  Ca\n",
      "  5   5  P  K  Ca\n"
     ]
    }
   ],
   "source": [
    "comp_soil_enough <- comp_soil %>% \n",
    "  select(-`Soil NO3 (ppm)`, -`Soil NH4 (ppm)`)\n",
    "\n",
    "soil_comp_names <- names(comp_soil_enough)\n",
    "names(comp_soil_enough) <- c(\"P\", \"K\", \"Ca\", \"Mg\")\n",
    "\n",
    "soil_too_many_nas <- df_source %>% \n",
    "  select(id) %>% \n",
    "  filter(apply(comp_soil_enough, 1, function(x) sum(is.na(x)) > 3)) %>% \n",
    "  pull()\n",
    "\n",
    "soil_imp <- comp_soil_enough %>% \n",
    "  filter(!(df_source$id %in% soil_too_many_nas)) %>%\n",
    "  mice(., method = \"rf\") %>% \n",
    "  complete(.)\n",
    "\n",
    "names(soil_imp) <- soil_comp_names"
   ]
  },
  {
   "cell_type": "markdown",
   "metadata": {},
   "source": [
    "### Compute balances\n",
    "\n",
    "Load SBPs."
   ]
  },
  {
   "cell_type": "code",
   "execution_count": 30,
   "metadata": {
    "tags": [
     "remove_cell"
    ]
   },
   "outputs": [
    {
     "name": "stderr",
     "output_type": "stream",
     "text": [
      "Warning message:\n",
      "\"package 'compositions' was built under R version 3.6.3\"\n",
      "Loading required package: tensorA\n",
      "\n",
      "\n",
      "Attaching package: 'tensorA'\n",
      "\n",
      "\n",
      "The following object is masked from 'package:base':\n",
      "\n",
      "    norm\n",
      "\n",
      "\n",
      "Loading required package: robustbase\n",
      "\n",
      "Loading required package: bayesm\n",
      "\n",
      "Welcome to compositions, a package for compositional data analysis.\n",
      "Find an intro with \"? compositions\"\n",
      "\n",
      "\n",
      "\n",
      "Attaching package: 'compositions'\n",
      "\n",
      "\n",
      "The following objects are masked from 'package:stats':\n",
      "\n",
      "    cor, cov, dist, var\n",
      "\n",
      "\n",
      "The following objects are masked from 'package:base':\n",
      "\n",
      "    %*%, scale, scale.default\n",
      "\n",
      "\n",
      "Parsed with column specification:\n",
      "cols(\n",
      "  P = \u001b[32mcol_double()\u001b[39m,\n",
      "  K = \u001b[32mcol_double()\u001b[39m,\n",
      "  Ca = \u001b[32mcol_double()\u001b[39m,\n",
      "  Mg = \u001b[32mcol_double()\u001b[39m,\n",
      "  Fv = \u001b[32mcol_double()\u001b[39m\n",
      ")\n",
      "\n",
      "Parsed with column specification:\n",
      "cols(\n",
      "  N = \u001b[32mcol_double()\u001b[39m,\n",
      "  P = \u001b[32mcol_double()\u001b[39m,\n",
      "  K = \u001b[32mcol_double()\u001b[39m,\n",
      "  Ca = \u001b[32mcol_double()\u001b[39m,\n",
      "  Mg = \u001b[32mcol_double()\u001b[39m,\n",
      "  Al = \u001b[32mcol_double()\u001b[39m,\n",
      "  B = \u001b[32mcol_double()\u001b[39m,\n",
      "  Fv = \u001b[32mcol_double()\u001b[39m\n",
      ")\n",
      "\n"
     ]
    }
   ],
   "source": [
    "library(\"compositions\")\n",
    "sbp_soil <- read_csv(\"data/sbp-soil.csv\")\n",
    "sbp_leaf <- read_csv(\"data/sbp-leaf.csv\")"
   ]
  },
  {
   "cell_type": "markdown",
   "metadata": {},
   "source": [
    "I have created a small snippet to generate balance definitions from SBPs."
   ]
  },
  {
   "cell_type": "code",
   "execution_count": 31,
   "metadata": {
    "lines_to_next_cell": 2
   },
   "outputs": [],
   "source": [
    "source(\"lib/ilrDefinition.R\")\n",
    "soil_bal_def <- ilrDefinition(sbp_soil,\n",
    "                              side = \"-+\", sep.elem = \"\",\n",
    "                              sep.bal = \".\", sep.left = \"\", sep.right = \"\"\n",
    ")\n",
    "leaf_bal_def <- ilrDefinition(sbp_leaf,\n",
    "                              side = \"-+\", sep.elem = \"\",\n",
    "                              sep.bal = \".\", sep.left = \"\", sep.right = \"\"\n",
    ")"
   ]
  },
  {
   "cell_type": "markdown",
   "metadata": {},
   "source": [
    "Generate leaf balances."
   ]
  },
  {
   "cell_type": "code",
   "execution_count": 32,
   "metadata": {},
   "outputs": [],
   "source": [
    "comp_leaf <- leaf_imp %>% \n",
    "  mutate(`Leaf Al (%)` = `Leaf Al (ppm)` / 1e4,\n",
    "         `Leaf B (%)` = `Leaf B (ppm)` / 1e4,) %>% \n",
    "  select(-`Leaf Al (ppm)`, -`Leaf B (ppm)`) %>% \n",
    "  mutate(Fv = 100 - `Leaf N (%)` - `Leaf P (%)` - `Leaf K (%)` -\n",
    "           `Leaf Ca (%)` - `Leaf Mg (%)` - `Leaf Al (%)` - `Leaf B (%)`)\n",
    "bal_leaf <- ilr(comp_leaf, V = gsi.buildilrBase(t(sbp_leaf))) %>% \n",
    "  data.frame()\n",
    "names(bal_leaf) <- paste0(\"Leaf_\", leaf_bal_def)\n",
    "\n",
    "bal_leaf <- bal_leaf %>% \n",
    "  mutate(id = df_source$id[!(df_source$id %in% leaf_too_many_nas)])"
   ]
  },
  {
   "cell_type": "markdown",
   "metadata": {},
   "source": [
    "Generate soil balances."
   ]
  },
  {
   "cell_type": "code",
   "execution_count": 33,
   "metadata": {},
   "outputs": [],
   "source": [
    "comp_soil <- soil_imp %>% \n",
    "  mutate(Fv = 1e6 - `Soil Ca (mg/kg)` - `Soil P (mg/kg)` - `Soil K (mg/kg)` - `Soil Mg (mg/kg)`)\n",
    "bal_soil <- ilr(comp_soil, V = gsi.buildilrBase(t(sbp_soil))) %>% \n",
    "  data.frame()\n",
    "names(bal_soil) <- paste0(\"Soil_\", soil_bal_def)\n",
    "\n",
    "bal_soil <- bal_soil %>% \n",
    "  mutate(id = df_source$id)"
   ]
  },
  {
   "cell_type": "markdown",
   "metadata": {},
   "source": [
    "### Merge variables to a table for modelling\n",
    "\n",
    "Tables for weather, soil balances et leaf balances are merged to a single table which will be used for statistical and predictive modelling."
   ]
  },
  {
   "cell_type": "code",
   "execution_count": 34,
   "metadata": {},
   "outputs": [],
   "source": [
    "df_ <- df_weather %>%\n",
    "  select(-starts_with(c(\"Leaf\", \"Soil\"))) %>%\n",
    "  left_join(bal_leaf, by = \"id\") %>% \n",
    "  left_join(bal_soil, by = \"id\")"
   ]
  },
  {
   "cell_type": "markdown",
   "metadata": {},
   "source": [
    "## Statistical modelling\n",
    "\n",
    "I will first use a frequential modelling framework to make sure everything works, then use a bayesian framework to obtain posterior effects. I'm keeping only variables of interest."
   ]
  },
  {
   "cell_type": "code",
   "execution_count": 35,
   "metadata": {},
   "outputs": [],
   "source": [
    "df_stats <- df_ %>%\n",
    "  select(\n",
    "    `Berry yield (kg/ha)`,\n",
    "    `N dose (kg/ha)`,\n",
    "    `P dose (kg/ha)`,\n",
    "    `K dose (kg/ha)`,\n",
    "    `pH H2O`,\n",
    "    starts_with(\"Leaf_\"),\n",
    "    starts_with(\"Soil_\"),\n",
    "    starts_with(\"weather_current\"),\n",
    "    # Random effects\n",
    "    Year, Site, Block\n",
    "  ) %>%\n",
    "  rename(\n",
    "    yield = `Berry yield (kg/ha)`,\n",
    "    doseN = `N dose (kg/ha)`,\n",
    "    doseP = `P dose (kg/ha)`,\n",
    "    doseK = `K dose (kg/ha)`,\n",
    "    pH = `pH H2O`\n",
    "  ) %>%\n",
    "  drop_na()"
   ]
  },
  {
   "cell_type": "code",
   "execution_count": 36,
   "metadata": {},
   "outputs": [],
   "source": [
    "linmod_formula <- yield ~ doseN + doseP + doseK + pH +\n",
    "  Leaf_Fv.BAlMgCaKPN + Leaf_Al.BMgCaKPN + Leaf_B.MgCaKPN + \n",
    "  Leaf_MgCaK.PN + Leaf_P.N + Leaf_MgCa.K + Leaf_Mg.Ca +\n",
    "  Soil_Fv.MgCaKP + Soil_MgCaK.P + Soil_MgCa.K + Soil_Mg.Ca +\n",
    "  weather_current.total_precip_04 + weather_current.total_precip_05 + weather_current.total_precip_06 +\n",
    "  weather_current.total_precip_07 + weather_current.total_precip_08 +\n",
    "  weather_current.mean_temp_04 + weather_current.mean_temp_05 + weather_current.mean_temp_06 +\n",
    "  weather_current.mean_temp_07 + weather_current.mean_temp_08 #+ \n",
    "#weather_current.frozen_04 +\n",
    "#weather_current.frozen_05 + weather_current.frozen_06 +\n",
    "#weather_current.frozen_07 + weather_current.frozen_08\n",
    "#weather_current.toowarm_04 + weather_current.toowarm_05 + \n",
    "#weather_current.toowarm_06# +\n",
    "#weather_current.toowarm_07# +\n",
    "#weather_current.toowarm_08 +\n",
    "#weather_current.GDD\n",
    "\n",
    "df_stats_recipe <-\n",
    "  df_stats %>%\n",
    "  recipe(linmod_formula) %>%\n",
    "  step_log(all_outcomes(), base = 10) %>% \n",
    "  step_normalize(-all_outcomes(), all_numeric()) %>%\n",
    "  prep()"
   ]
  },
  {
   "cell_type": "markdown",
   "metadata": {},
   "source": [
    "### Frequential framework"
   ]
  },
  {
   "cell_type": "code",
   "execution_count": 37,
   "metadata": {
    "lines_to_next_cell": 2
   },
   "outputs": [],
   "source": [
    "lm_freq <- lm(linmod_formula, data = juice(df_stats_recipe))"
   ]
  },
  {
   "cell_type": "code",
   "execution_count": 38,
   "metadata": {},
   "outputs": [
    {
     "name": "stderr",
     "output_type": "stream",
     "text": [
      "Parsed with column specification:\n",
      "cols(\n",
      "  term = \u001b[31mcol_character()\u001b[39m,\n",
      "  english = \u001b[31mcol_character()\u001b[39m\n",
      ")\n",
      "\n"
     ]
    },
    {
     "data": {
      "image/png": "[encoded data removed]",
      "text/plain": [
       "plot without title"
      ]
     },
     "metadata": {
      "image/png": {
       "height": 420,
       "width": 420
      },
      "text/plain": {
       "height": 420,
       "width": 420
      }
     },
     "output_type": "display_data"
    }
   ],
   "source": [
    "translate_df <- read_csv(\"data/translate_names.csv\")\n",
    "\n",
    "tidy(lm_freq, conf.int = TRUE) %>%\n",
    "  filter(term != \"(Intercept)\") %>%\n",
    "  left_join(translate_df, by = \"term\") %>%\n",
    "  mutate(english = fct_reorder(english, estimate)) %>%\n",
    "  ggplot(aes(estimate, english)) +\n",
    "  geom_vline(xintercept = 0, linetype = 2) +\n",
    "  geom_point() +\n",
    "  geom_errorbarh(aes(xmin = conf.low, xmax = conf.high)) +\n",
    "  labs(x = \"Coefficient\", y = \"\") +\n",
    "  theme_bw() +\n",
    "  ggsave(\"images/modlin-freq.png\", width = 6, height = 6, dpi = 300)"
   ]
  },
  {
   "cell_type": "markdown",
   "metadata": {},
   "source": [
    "### Bayesian framework"
   ]
  },
  {
   "cell_type": "code",
   "execution_count": 39,
   "metadata": {},
   "outputs": [
    {
     "name": "stderr",
     "output_type": "stream",
     "text": [
      "Warning message:\n",
      "\"package 'rstanarm' was built under R version 3.6.3\"\n",
      "Loading required package: Rcpp\n",
      "\n",
      "\n",
      "Attaching package: 'Rcpp'\n",
      "\n",
      "\n",
      "The following object is masked from 'package:rsample':\n",
      "\n",
      "    populate\n",
      "\n",
      "\n",
      "rstanarm (Version 2.19.3, packaged: 2020-02-11 05:16:41 UTC)\n",
      "\n",
      "- Do not expect the default priors to remain the same in future rstanarm versions.\n",
      "\n",
      "Thus, R scripts should specify priors explicitly, even if they are just the defaults.\n",
      "\n",
      "- For execution on a local, multicore CPU with excess RAM we recommend calling\n",
      "\n",
      "options(mc.cores = parallel::detectCores())\n",
      "\n",
      "- bayesplot theme set to bayesplot::theme_default()\n",
      "\n",
      "   * Does _not_ affect other ggplot2 plots\n",
      "\n",
      "   * See ?bayesplot_theme_set for details on theme setting\n",
      "\n",
      "\n",
      "Attaching package: 'rstanarm'\n",
      "\n",
      "\n",
      "The following object is masked from 'package:compositions':\n",
      "\n",
      "    R2\n",
      "\n",
      "\n",
      "Warning message:\n",
      "\"package 'tidybayes' was built under R version 3.6.3\"\n",
      "\n",
      "Attaching package: 'tidybayes'\n",
      "\n",
      "\n",
      "The following object is masked from 'package:tune':\n",
      "\n",
      "    parameters\n",
      "\n",
      "\n",
      "The following object is masked from 'package:dials':\n",
      "\n",
      "    parameters\n",
      "\n",
      "\n",
      "This is bayesplot version 1.7.1\n",
      "\n",
      "- Online documentation and vignettes at mc-stan.org/bayesplot\n",
      "\n",
      "- bayesplot theme set to bayesplot::theme_default()\n",
      "\n",
      "   * Does _not_ affect other ggplot2 plots\n",
      "\n",
      "   * See ?bayesplot_theme_set for details on theme setting\n",
      "\n"
     ]
    }
   ],
   "source": [
    "library(\"rstanarm\")\n",
    "library(\"tidybayes\")\n",
    "library(\"bayesplot\")\n",
    "\n",
    "lm_bayes <- stan_glm(\n",
    "  linmod_formula,\n",
    "  data = juice(df_stats_recipe),\n",
    "  family = gaussian(),\n",
    "  prior = normal(0, 10),\n",
    "  prior_intercept = normal(0, 10),\n",
    "  iter = 4000,\n",
    "  warmup = 1000,\n",
    "  cores = 4,\n",
    "  seed = 8578234\n",
    ")"
   ]
  },
  {
   "cell_type": "code",
   "execution_count": 40,
   "metadata": {},
   "outputs": [
    {
     "data": {
      "image/png": "[encoded data removed]",
      "text/plain": [
       "plot without title"
      ]
     },
     "metadata": {
      "image/png": {
       "height": 420,
       "width": 420
      },
      "text/plain": {
       "height": 420,
       "width": 420
      }
     },
     "output_type": "display_data"
    }
   ],
   "source": [
    "mcmc_trace(lm_bayes)"
   ]
  },
  {
   "cell_type": "markdown",
   "metadata": {},
   "source": [
    "All caterpillars have constant noise. This is what we want."
   ]
  },
  {
   "cell_type": "code",
   "execution_count": 41,
   "metadata": {},
   "outputs": [
    {
     "name": "stderr",
     "output_type": "stream",
     "text": [
      "Warning message:\n",
      "\"`expand_scale()` is deprecated; use `expansion()` instead.\"\n",
      "Scale for 'y' is already present. Adding another scale for 'y', which will\n",
      "replace the existing scale.\n",
      "\n"
     ]
    },
    {
     "data": {
      "image/png": "[encoded data removed]",
      "text/plain": [
       "plot without title"
      ]
     },
     "metadata": {
      "image/png": {
       "height": 420,
       "width": 420
      },
      "text/plain": {
       "height": 420,
       "width": 420
      }
     },
     "output_type": "display_data"
    }
   ],
   "source": [
    "lm_summary <- tibble(\n",
    "  term = names(lm_bayes$coefficients)[-1],\n",
    "  coefficient = lm_bayes$coefficients[-1]\n",
    ") %>%\n",
    "  left_join(translate_df, by = \"term\")\n",
    "\n",
    "color_scheme_set(\"gray\")\n",
    "mcmc_areas(\n",
    "    lm_bayes,\n",
    "    prob = 0.95,\n",
    "    pars = lm_summary$term[order(lm_summary$coefficient, decreasing = FALSE)],\n",
    "    area_method = \"equal height\"\n",
    "  ) +\n",
    "  geom_vline(xintercept = 0, linetype = 2) +\n",
    "  labs(x = \"Coefficient\") +\n",
    "  scale_y_discrete(\n",
    "    labels = lm_summary$english[order(lm_summary$coefficient, decreasing = FALSE)]\n",
    "  ) +\n",
    "  theme_bw() +\n",
    "  theme(panel.grid.major.y = element_line(colour = \"grey80\")) +\n",
    "  ggsave(\"images/modlin-bayes.png\", width = 8, height = 5, dpi = 300)"
   ]
  },
  {
   "cell_type": "markdown",
   "metadata": {},
   "source": [
    "## Predictive modelling\n",
    "\n",
    "Split training and testing data randomly across all observations."
   ]
  },
  {
   "cell_type": "code",
   "execution_count": 42,
   "metadata": {},
   "outputs": [],
   "source": [
    "set.seed(59413) # random.org"
   ]
  },
  {
   "cell_type": "markdown",
   "metadata": {},
   "source": [
    "Molelling yield from the NPK dosage and soil conditions"
   ]
  },
  {
   "cell_type": "code",
   "execution_count": 43,
   "metadata": {
    "lines_to_next_cell": 2
   },
   "outputs": [],
   "source": [
    "df_npk <- df_ %>%\n",
    "  select(\n",
    "    `Berry yield (kg/ha)`,\n",
    "    `N dose (kg/ha)`,\n",
    "    `P dose (kg/ha)`,\n",
    "    `K dose (kg/ha)`,\n",
    "    `pH H2O`,\n",
    "    starts_with(\"Leaf_\"),\n",
    "    starts_with(\"Soil_\"),\n",
    "    starts_with(\"weather_before\")\n",
    "  ) %>%\n",
    "  rename(\n",
    "    yield = `Berry yield (kg/ha)`,\n",
    "    doseN = `N dose (kg/ha)`,\n",
    "    doseP = `P dose (kg/ha)`,\n",
    "    doseK = `K dose (kg/ha)`,\n",
    "    pH = `pH H2O`\n",
    "  ) %>%\n",
    "  drop_na()"
   ]
  },
  {
   "cell_type": "code",
   "execution_count": 44,
   "metadata": {},
   "outputs": [],
   "source": [
    "df_npk <- df_npk %>% \n",
    "  select(-weather_before.frozen_04, -weather_before.frozen_05,\n",
    "         -weather_before.frozen_06, -weather_before.frozen_07, -weather_before.frozen_08,\n",
    "         -weather_before.toowarm_04, -weather_before.toowarm_05, -weather_before.toowarm_06,\n",
    "         -weather_before.toowarm_08, -weather_before.mean_temp_07)"
   ]
  },
  {
   "cell_type": "markdown",
   "metadata": {},
   "source": [
    "Train / test split."
   ]
  },
  {
   "cell_type": "code",
   "execution_count": 45,
   "metadata": {},
   "outputs": [],
   "source": [
    "npk_split <- initial_split(df_npk, prop = 3 / 4)\n",
    "\n",
    "npk_train <- training(npk_split)\n",
    "npk_test <- testing(npk_split)"
   ]
  },
  {
   "cell_type": "markdown",
   "metadata": {},
   "source": [
    "Preprocessing recipe."
   ]
  },
  {
   "cell_type": "code",
   "execution_count": 46,
   "metadata": {},
   "outputs": [],
   "source": [
    "npk_recipe <- npk_train %>%\n",
    "  recipe(yield ~ .) %>%\n",
    "  #step_nzv(all_numeric()) %>% \n",
    "  #step_log(all_outcomes(), base = 10) %>% # high yield were predicted too low, maybe skewness\n",
    "  step_normalize(all_numeric()) %>%\n",
    "  #step_inverse(all_outcomes()) %>% \n",
    "  prep()\n",
    "\n",
    "#mean_logy <- mean(log10(npk_train$yield))\n",
    "#sd_logy <- sd(log10(npk_train$yield))\n",
    "\n",
    "mean_y <- mean(npk_train$yield)\n",
    "sd_y <- sd(npk_train$yield)\n",
    "\n",
    "# the recipes packing does not allow backtransformation yet\n",
    "# https://github.com/tidymodels/recipes/issues/264\n",
    "\n",
    "step_back <- function(y) {\n",
    "  #y <- 1/y\n",
    "  #y <- 10 ^ (y * sd_logy + mean_logy)\n",
    "  y <- y * sd_y + mean_y\n",
    "  return(y)\n",
    "}\n",
    "\n",
    "train_baked <- bake(npk_recipe, npk_train)\n",
    "test_baked <-  bake(npk_recipe, npk_test)\n",
    "\n",
    "write_csv(x = train_baked, path = \"output/train_baked.csv\")\n",
    "write_csv(x = test_baked, path = \"output/test_baked.csv\")"
   ]
  },
  {
   "cell_type": "markdown",
   "metadata": {},
   "source": [
    "### Variable importance\n",
    "\n",
    "Variable importance in the model can be assessed with extreme gradient boosted tree modeling with **`caret`**."
   ]
  },
  {
   "cell_type": "code",
   "execution_count": 47,
   "metadata": {},
   "outputs": [
    {
     "name": "stderr",
     "output_type": "stream",
     "text": [
      "Loading required package: lattice\n",
      "\n",
      "\n",
      "Attaching package: 'caret'\n",
      "\n",
      "\n",
      "The following objects are masked from 'package:rstanarm':\n",
      "\n",
      "    compare_models, R2\n",
      "\n",
      "\n",
      "The following object is masked from 'package:compositions':\n",
      "\n",
      "    R2\n",
      "\n",
      "\n",
      "The following objects are masked from 'package:yardstick':\n",
      "\n",
      "    precision, recall\n",
      "\n",
      "\n",
      "The following object is masked from 'package:purrr':\n",
      "\n",
      "    lift\n",
      "\n",
      "\n"
     ]
    }
   ],
   "source": [
    "library(\"caret\")\n",
    "set.seed(693739)\n",
    "\n",
    "train_control <- trainControl(\n",
    "  method = \"repeatedcv\",\n",
    "  number = 3\n",
    ")\n",
    "\n",
    "# These parameters minimise bias and return similar R² in training\n",
    "# and testing\n",
    "tune_xgb <- expand.grid( # xgbTree\n",
    "  nrounds = 50, # not too much to avoid overfit\n",
    "  max_depth = 2, #c(1, 2, 4, 6, 8, 10), # few avoids overfit\n",
    "  eta = 0.25, #c(0.001, 0.01, 0.1), # not too high to avoid bias\n",
    "  gamma = 1,\n",
    "  colsample_bytree = 0.75,\n",
    "  min_child_weight = 7, #c(3, 5, 7)\n",
    "  subsample = 0.95#c(0.3, 0.5, 0.8) # too high or too low can create a bias\n",
    ")"
   ]
  },
  {
   "cell_type": "code",
   "execution_count": 48,
   "metadata": {},
   "outputs": [],
   "source": [
    "m_fit <- train(yield ~ .,\n",
    "               data = train_baked,\n",
    "               method = \"xgbTree\",\n",
    "               trControl = train_control,\n",
    "               tuneGrid = tune_xgb,\n",
    "               verbose = FALSE\n",
    ")"
   ]
  },
  {
   "cell_type": "markdown",
   "metadata": {},
   "source": [
    "Quick actual-predicted check."
   ]
  },
  {
   "cell_type": "code",
   "execution_count": 49,
   "metadata": {},
   "outputs": [
    {
     "name": "stderr",
     "output_type": "stream",
     "text": [
      "Warning message:\n",
      "\"package 'patchwork' was built under R version 3.6.3\"\n"
     ]
    },
    {
     "data": {
      "image/png": "[encoded data removed]",
      "text/plain": [
       "plot without title"
      ]
     },
     "metadata": {
      "image/png": {
       "height": 420,
       "width": 420
      },
      "text/plain": {
       "height": 420,
       "width": 420
      }
     },
     "output_type": "display_data"
    }
   ],
   "source": [
    "library(\"patchwork\")\n",
    "\n",
    "rsq_tr <- cor(train_baked$yield, predict(m_fit))^2\n",
    "rsq_te <- cor(test_baked$yield, predict(m_fit, newdata = test_baked))^2\n",
    "\n",
    "gg_tr <- tibble(actual = train_baked$yield,\n",
    "       predicted = predict(m_fit)) %>%\n",
    "  ggplot(aes(x = actual, y = predicted)) +\n",
    "  geom_abline(slope = 1, intercept = 0, colour = \"gray60\", lwd = 2) +\n",
    "  geom_point() +\n",
    "  labs(title = paste(\"R² =\", round(rsq_tr, 2))) +\n",
    "  theme_bw() +\n",
    "  coord_equal()\n",
    "\n",
    "gg_te <- tibble(actual = test_baked$yield,\n",
    "       predicted = predict(m_fit, newdata = test_baked)) %>%\n",
    "  ggplot(aes(x = actual, y = predicted)) +\n",
    "  geom_abline(slope = 1, intercept = 0, colour = \"gray60\", lwd = 2) +\n",
    "  geom_point() +\n",
    "  labs(title = paste(\"R² =\", round(rsq_te, 2))) +\n",
    "  theme_bw() +\n",
    "  coord_equal()\n",
    "\n",
    "gg_tr / gg_te"
   ]
  },
  {
   "cell_type": "markdown",
   "metadata": {},
   "source": [
    "Importance of variables in the model."
   ]
  },
  {
   "cell_type": "code",
   "execution_count": 50,
   "metadata": {},
   "outputs": [
    {
     "data": {
      "image/png": "[encoded data removed]",
      "text/plain": [
       "plot without title"
      ]
     },
     "metadata": {
      "image/png": {
       "height": 420,
       "width": 420
      },
      "text/plain": {
       "height": 420,
       "width": 420
      }
     },
     "output_type": "display_data"
    }
   ],
   "source": [
    "tibble(\n",
    "  term = rownames(varImp(m_fit)$importance),\n",
    "  score = varImp(m_fit)$importance[, 1]\n",
    ") %>%\n",
    "  left_join(translate_df, by = \"term\") %>%\n",
    "  mutate(english = fct_reorder(factor(english), score)) %>%\n",
    "  ggplot(aes(y = score, x = english)) +\n",
    "  geom_bar(stat = \"identity\", fill = \"black\", lwd = 0) +\n",
    "  labs(x = \"\", y = \"Variable importance score\") +\n",
    "  coord_flip() +\n",
    "  theme_bw() +\n",
    "  theme(text=element_text(family=\"serif\")) +\n",
    "  ggsave(\"images/varimp.png\", width = 6, height = 5, dpi = 300)"
   ]
  },
  {
   "cell_type": "markdown",
   "metadata": {},
   "source": [
    "### Prediction model\n",
    "\n",
    "Variable importance can't be assessed with Gaussian processes, which is a great tool to model smooth phenomenons like those occuring in agroecosystems (Coulibali et al. 2020)."
   ]
  },
  {
   "cell_type": "code",
   "execution_count": 51,
   "metadata": {},
   "outputs": [],
   "source": [
    "tune_gp <- expand.grid( # gaussprRadial\n",
    "  sigma = 0.1#c(0.05, 0.1, 0.15, 0.2)\n",
    ")\n",
    "\n",
    "m_fit <- train(yield ~ .,\n",
    "               data = train_baked,\n",
    "               method = \"gaussprRadial\",\n",
    "               trControl = train_control,\n",
    "               tuneGrid = tune_gp,\n",
    "               verbose = FALSE\n",
    ")"
   ]
  },
  {
   "cell_type": "markdown",
   "metadata": {},
   "source": [
    "Create tables to plot observed vs predicted."
   ]
  },
  {
   "cell_type": "code",
   "execution_count": 52,
   "metadata": {},
   "outputs": [],
   "source": [
    "train_pred <- tibble(\n",
    "  yield = npk_train$yield,\n",
    "  pred = step_back(predict(m_fit, newdata = bake(npk_recipe, npk_train)))\n",
    ")\n",
    "\n",
    "test_pred <- tibble(\n",
    "  yield = npk_test$yield,\n",
    "  pred = step_back(predict(m_fit, newdata = bake(npk_recipe, npk_test)))\n",
    ")\n",
    "\n",
    "rsq_tr <- cor(train_pred$yield, train_pred$pred)^2\n",
    "rsq_te <- cor(test_pred$yield, test_pred$pred)^2"
   ]
  },
  {
   "cell_type": "markdown",
   "metadata": {},
   "source": [
    "Plot observed vs predicted."
   ]
  },
  {
   "cell_type": "code",
   "execution_count": 53,
   "metadata": {},
   "outputs": [
    {
     "name": "stderr",
     "output_type": "stream",
     "text": [
      "Saving 6.67 x 6.67 in image\n",
      "\n"
     ]
    },
    {
     "data": {
      "image/png": "[encoded data removed]",
      "text/plain": [
       "plot without title"
      ]
     },
     "metadata": {
      "image/png": {
       "height": 420,
       "width": 420
      },
      "text/plain": {
       "height": 420,
       "width": 420
      }
     },
     "output_type": "display_data"
    }
   ],
   "source": [
    "delimiter <- 5000\n",
    "gg_pred_f <- function(data, rsq, title) {\n",
    "  data %>%\n",
    "    ggplot(aes(x = yield, y = pred)) +\n",
    "    geom_abline(slope = 1, intercept = 0, colour = \"gray60\", lwd = 2) +\n",
    "    geom_vline(xintercept = delimiter, colour = \"gray30\") +\n",
    "    geom_hline(yintercept = delimiter, colour = \"gray30\") +\n",
    "    geom_label(x = 0, y = 15000,\n",
    "               vjust = 1, hjust = 0,\n",
    "               label = paste(\"R² =\", signif(rsq, 2))) +\n",
    "    geom_point(pch = 1) +\n",
    "    labs(title = title) +\n",
    "    expand_limits(x = c(0, 15000), y = c(0, 15000)) +\n",
    "    coord_equal() +\n",
    "    theme_bw() +\n",
    "    theme(text=element_text(family=\"serif\"))\n",
    "}\n",
    "\n",
    "gg_training <- gg_pred_f(train_pred, rsq_tr, \"Training\")\n",
    "gg_testing <- gg_pred_f(test_pred, rsq_te, \"Testing\")\n",
    "\n",
    "gg_training + gg_testing\n",
    "\n",
    "ggsave(\"images/modpred.png\")"
   ]
  },
  {
   "cell_type": "markdown",
   "metadata": {},
   "source": [
    "Binary classification."
   ]
  },
  {
   "cell_type": "code",
   "execution_count": 54,
   "metadata": {},
   "outputs": [
    {
     "name": "stdout",
     "output_type": "stream",
     "text": [
      "[1] \"Accuracy\"\n"
     ]
    },
    {
     "data": {
      "text/html": [
       "0.84971098265896"
      ],
      "text/latex": [
       "0.84971098265896"
      ],
      "text/markdown": [
       "0.84971098265896"
      ],
      "text/plain": [
       "[1] 0.849711"
      ]
     },
     "metadata": {},
     "output_type": "display_data"
    },
    {
     "name": "stdout",
     "output_type": "stream",
     "text": [
      "[1] \"PPV\"\n"
     ]
    },
    {
     "data": {
      "text/html": [
       "0.934865900383142"
      ],
      "text/latex": [
       "0.934865900383142"
      ],
      "text/markdown": [
       "0.934865900383142"
      ],
      "text/plain": [
       "[1] 0.9348659"
      ]
     },
     "metadata": {},
     "output_type": "display_data"
    },
    {
     "name": "stdout",
     "output_type": "stream",
     "text": [
      "[1] \"NPV\"\n"
     ]
    },
    {
     "data": {
      "text/html": [
       "0.588235294117647"
      ],
      "text/latex": [
       "0.588235294117647"
      ],
      "text/markdown": [
       "0.588235294117647"
      ],
      "text/plain": [
       "[1] 0.5882353"
      ]
     },
     "metadata": {},
     "output_type": "display_data"
    }
   ],
   "source": [
    "delimiter <- 5000\n",
    "test_bc <- test_pred %>%\n",
    "  mutate(\n",
    "    yield = case_when(\n",
    "      yield >= delimiter ~ \"HY\",\n",
    "      TRUE ~ \"LY\"\n",
    "    ),\n",
    "    pred = case_when(\n",
    "      pred >= delimiter ~ \"HY\",\n",
    "      TRUE ~ \"LY\"\n",
    "    )\n",
    "  )\n",
    "test_cm <- table(test_bc)\n",
    "print(\"Accuracy\")\n",
    "(test_cm[1, 1] + test_cm[2, 2]) / sum(test_cm)\n",
    "print(\"PPV\")\n",
    "test_cm[2, 2] / sum(test_cm[2, ])\n",
    "print(\"NPV\")\n",
    "test_cm[1, 1] / sum(test_cm[1, ])"
   ]
  },
  {
   "cell_type": "markdown",
   "metadata": {},
   "source": [
    "# Predictive modelling usage on the ionome\n",
    "\n",
    "We use a seed to assure reproducibility."
   ]
  },
  {
   "cell_type": "code",
   "execution_count": 55,
   "metadata": {},
   "outputs": [],
   "source": [
    "set.seed(956723) # random.org"
   ]
  },
  {
   "cell_type": "markdown",
   "metadata": {},
   "source": [
    "We randomly sample a low performing site whose ionome should be investigated, extract its ionome and predict its yield."
   ]
  },
  {
   "cell_type": "code",
   "execution_count": 56,
   "metadata": {},
   "outputs": [],
   "source": [
    "misbal_observation <- df_npk %>% \n",
    "  filter(yield < 3000) %>% \n",
    "  sample_n(1)\n",
    "\n",
    "ref_leaf <- misbal_observation %>% \n",
    "  select(starts_with(\"Leaf\")) %>% \n",
    "  unlist()\n",
    "\n",
    "yield_init <- step_back(predict(m_fit, newdata = bake(npk_recipe, misbal_observation)))"
   ]
  },
  {
   "cell_type": "markdown",
   "metadata": {},
   "source": [
    "We set convergence parameters. `max_iter` is the number of steps in the Markov chain. The `radius` is the Aitchison distance where to scan around the point at each step. The initial radius, `radius[1]` is also the base radius, i.e. if a point with better yield is found, the radius goes back to this initial radius (`radius[1]`), else it is multiplied by `radius_factor` to enlarge scanning. Finally `n_rad` is the number of points to sample around the ionome of the preceeding step."
   ]
  },
  {
   "cell_type": "code",
   "execution_count": 57,
   "metadata": {},
   "outputs": [],
   "source": [
    "max_iter <- 10 \n",
    "radius <- c(0.5)\n",
    "radius_factor <- 1.25 # for adaptative search\n",
    "radius_limits <- c(0.5, 1.5)\n",
    "## if the max is too high, all explored ionome risk to be filtered out due\n",
    "## to extrapolation (see Mahalanobis distance below). The upper limit\n",
    "## should be set in relation to the p in qchisq below.\n",
    "n_rad <- 5000"
   ]
  },
  {
   "cell_type": "markdown",
   "metadata": {},
   "source": [
    "To scan around a point, we create a matrix with the number of columns defined by the number of balances in the ionome and the number of rows defined by `n_rad`, and fill it with random numbers. Each row is normalized to have a norm equal to the radius. \n",
    "\n",
    "To acheive the prediction, we need the ionome, but also other variables that are kept constant. This information is extracted in a table, then replicated `n_rad` times to be binded further on to the perturbed ionomes scanned around the best ionome."
   ]
  },
  {
   "cell_type": "code",
   "execution_count": 58,
   "metadata": {},
   "outputs": [],
   "source": [
    "misbal_observation_noleaf <- misbal_observation %>% \n",
    "  select(-starts_with(\"Leaf\")) \n",
    "misbal_observation_noleaf_stacked <- do.call(\n",
    "  \"rbind\",\n",
    "  replicate(n_rad, misbal_observation_noleaf, simplify = FALSE)\n",
    ")"
   ]
  },
  {
   "cell_type": "markdown",
   "metadata": {},
   "source": [
    "We initialize the yield and the ionome."
   ]
  },
  {
   "cell_type": "code",
   "execution_count": 59,
   "metadata": {},
   "outputs": [],
   "source": [
    "ref_yield <- c(yield_init)\n",
    "ref_leaf <- matrix(ncol = nrow(sbp_leaf), nrow = max_iter)\n",
    "\n",
    "ref_leaf[1, ] <- misbal_observation %>% \n",
    "  select(starts_with(\"Leaf\")) %>% \n",
    "  unlist()"
   ]
  },
  {
   "cell_type": "markdown",
   "metadata": {},
   "source": [
    "We use a mahalanobis distance to ensure that the algorithm doesn't explore too far from the theoretical multivariate normal distribution of the ionome. To compute the Mahalanobis distance, we need the mean, the (invert) covariance and a critical (squared) distance."
   ]
  },
  {
   "cell_type": "code",
   "execution_count": 60,
   "metadata": {},
   "outputs": [],
   "source": [
    "bal_mean <- apply(bal_leaf %>% select(-id), 2, mean)\n",
    "bal_icov <- solve(cov(bal_leaf %>% select(-id)))\n",
    "crit_dist <- qchisq(p = 0.999, df = length(bal_mean))"
   ]
  },
  {
   "cell_type": "markdown",
   "metadata": {},
   "source": [
    "... and fire the Markov chain."
   ]
  },
  {
   "cell_type": "code",
   "execution_count": 61,
   "metadata": {},
   "outputs": [
    {
     "name": "stdout",
     "output_type": "stream",
     "text": [
      "[1] \"Iteration 2 - yield improvement to 5066.87452741718\"\n",
      "[1] \"Iteration 3 - yield improvement to 5699.56541234905\"\n",
      "[1] \"Iteration 4 - yield improvement to 5853.78395603872\"\n",
      "[1] \"Iteration 5 - no yield improvement.\"\n",
      "[1] \"Iteration 6 - no yield improvement.\"\n",
      "[1] \"Iteration 7 - no yield improvement.\"\n",
      "[1] \"Iteration 8 - no yield improvement.\"\n",
      "[1] \"Iteration 9 - no yield improvement.\"\n",
      "[1] \"Iteration 10 - out of the hyperellipsoid.\"\n"
     ]
    },
    {
     "data": {
      "image/png": "[encoded data removed]",
      "text/plain": [
       "Plot with title \"radius\""
      ]
     },
     "metadata": {
      "image/png": {
       "height": 420,
       "width": 420
      },
      "text/plain": {
       "height": 420,
       "width": 420
      }
     },
     "output_type": "display_data"
    }
   ],
   "source": [
    "for (i in 2:max_iter) {\n",
    "  # print(paste(i, \"/\", max_iter))\n",
    "  offset <- matrix(runif(ncol(ref_leaf) * n_rad, -1, 1), \n",
    "                   ncol = ncol(ref_leaf),\n",
    "                   nrow = n_rad)\n",
    "  offset <- t(apply(offset, 1, function(x) radius[i-1] * x / sqrt(sum(x^2))))\n",
    "  leaf_search <- t(apply(offset, 1, function(x) x + ref_leaf[i-1, ] ))\n",
    "  \n",
    "  # Compute the Mahalanobis distance\n",
    "  maha_dist <- mahalanobis(leaf_search, bal_mean, bal_icov, inverted = TRUE)\n",
    "  # filter out search ionomes outside the Mahalanobis distance limit\n",
    "  leaf_search <- data.frame(leaf_search) %>% filter(maha_dist < crit_dist)\n",
    "  \n",
    "  names(leaf_search) <- paste0(\"Leaf_\", leaf_bal_def)\n",
    "                         \n",
    "  df_search <- leaf_search %>% \n",
    "    bind_cols(misbal_observation_noleaf_stacked %>% filter(maha_dist < crit_dist))\n",
    "    \n",
    "  if(nrow(df_search) == 0) { # if no points are generated in the hyper ellipsoid, keep the reference but increase radius\n",
    "    print(paste(\"Iteration\", i, \"- all points are out of the hyperellipsoid.\"))\n",
    "    ref_yield[i] <- ref_yield[i-1]\n",
    "    ref_leaf[i, ] <- ref_leaf[i-1, ]\n",
    "    # increase the radius\n",
    "    radius[i] <- radius[i - 1] * radius_factor\n",
    "    radius[i] <- ifelse(radius[i] < radius_limits[1], radius_limits[1], radius[i])\n",
    "    radius[i] <- ifelse(radius[i] > radius_limits[2], radius_limits[2], radius[i])\n",
    "  } else {\n",
    "    # Compute predicted yield\n",
    "    yield_stochastic <- step_back(predict(m_fit, newdata = bake(npk_recipe, df_search)))\n",
    "    if(max(yield_stochastic) > ref_yield[i-1]) {\n",
    "      print(paste(\"Iteration\", i, \"- yield improved to\", max(yield_stochastic)))\n",
    "      ref_yield[i] <- max(yield_stochastic)\n",
    "      ref_leaf[i, ] <- leaf_search[which.max(yield_stochastic), ] %>% \n",
    "        unlist()\n",
    "      # decrease the radius\n",
    "      radius[i] <- radius[i - 1] / radius_factor\n",
    "      radius[i] <- ifelse(radius[i] < radius_limits[1], radius_limits[1], radius[i])\n",
    "    } else {\n",
    "      print(paste(\"Iteration\", i, \"- no yield improvement.\"))\n",
    "      ref_yield[i] <- ref_yield[i-1]\n",
    "      ref_leaf[i, ] <- ref_leaf[i-1, ]\n",
    "      # increase the radius\n",
    "      radius[i] <- radius[i - 1] * radius_factor\n",
    "      radius[i] <- ifelse(radius[i] < radius_limits[1], radius_limits[1], radius[i])\n",
    "      radius[i] <- ifelse(radius[i] > radius_limits[2], radius_limits[2], radius[i])\n",
    "    }\n",
    "  }\n",
    "}\n",
    "\n",
    "par(mfrow = c(1, 2))\n",
    "plot(1:max_iter, ref_yield, type = 's', main = \"yield\")\n",
    "plot(1:max_iter, radius, type = 's', main = \"radius\")"
   ]
  },
  {
   "cell_type": "markdown",
   "metadata": {},
   "source": [
    "At each step, balances are transformed back to the concentration scale."
   ]
  },
  {
   "cell_type": "code",
   "execution_count": 62,
   "metadata": {},
   "outputs": [],
   "source": [
    "ref_leaf_comp <- ilrInv(ref_leaf,\n",
    "                        V = gsi.buildilrBase(t(sbp_leaf))) %>% \n",
    "  data.frame()"
   ]
  },
  {
   "cell_type": "markdown",
   "metadata": {},
   "source": [
    "We then create a decent table able to be plotted."
   ]
  },
  {
   "cell_type": "code",
   "execution_count": 63,
   "metadata": {},
   "outputs": [],
   "source": [
    "gg_iter <- bind_cols(\n",
    "  ref_leaf_comp,\n",
    "  tibble(yield = ref_yield, iteration = 1:max_iter)\n",
    ") %>% \n",
    "  pivot_longer(\n",
    "    cols = -iteration,\n",
    "    names_to = \"variables\",\n",
    "    values_to = \"values\"\n",
    "  ) %>% \n",
    "  mutate(values = case_when(variables != \"yield\" ~ values * 100,\n",
    "                            TRUE ~ values), # concentrations in %\n",
    "         units = case_when(variables == \"yield\" ~ \"kg/ha\",\n",
    "                           TRUE ~ \"%\")) # units"
   ]
  },
  {
   "cell_type": "markdown",
   "metadata": {},
   "source": [
    "We extract points obtained at the first iteration and at the end to plot points and labels."
   ]
  },
  {
   "cell_type": "code",
   "execution_count": 64,
   "metadata": {},
   "outputs": [],
   "source": [
    "gg_iter_extremes <- gg_iter %>% \n",
    "  filter(iteration %in% c(1, max_iter))"
   ]
  },
  {
   "cell_type": "markdown",
   "metadata": {},
   "source": [
    "The following block extracts min and max of the concentrations in the training set."
   ]
  },
  {
   "cell_type": "code",
   "execution_count": 65,
   "metadata": {},
   "outputs": [],
   "source": [
    "bal_train <- npk_train %>% \n",
    "  select(starts_with(\"Leaf\")) \n",
    "comp_train <- ilrInv(bal_train, V = gsi.buildilrBase(t(sbp_leaf))) %>% \n",
    "  data.frame()\n",
    "comp_range <- comp_train %>% \n",
    "  mutate(id_tr = 1:nrow(.)) %>% \n",
    "  pivot_longer(cols = -id_tr, names_to = \"variables\",\n",
    "               values_to = \"value\") %>% \n",
    "  group_by(variables) %>% \n",
    "  summarise(min = min(value),\n",
    "            max = max(value)) %>% \n",
    "  pivot_longer(cols = -variables,\n",
    "               names_to = \"statistic\",\n",
    "               values_to = \"value\") %>% \n",
    "  mutate(value = value * 100)"
   ]
  },
  {
   "cell_type": "markdown",
   "metadata": {},
   "source": [
    "And plot with a lot of pretty theming."
   ]
  },
  {
   "cell_type": "code",
   "execution_count": 66,
   "metadata": {},
   "outputs": [
    {
     "data": {
      "image/png": "[encoded data removed]",
      "text/plain": [
       "plot without title"
      ]
     },
     "metadata": {
      "image/png": {
       "height": 420,
       "width": 420
      },
      "text/plain": {
       "height": 420,
       "width": 420
      }
     },
     "output_type": "display_data"
    }
   ],
   "source": [
    "ggplot(gg_iter, aes(x = iteration, y = values)) +\n",
    "  facet_wrap(~variables, scales = \"free_y\", ncol = 3) +\n",
    "  geom_hline(data = comp_range,\n",
    "             aes(group = statistic, yintercept = value),\n",
    "             colour = \"gray30\", linetype = 2, lwd = 0.2) +\n",
    "  geom_step() +\n",
    "  geom_point(data = gg_iter_extremes) +\n",
    "  geom_text(data = gg_iter_extremes %>% filter(iteration == 1), \n",
    "            aes(label = paste(signif(values, 2), units)), \n",
    "            hjust = 1.15, \n",
    "            fontface = \"bold\", \n",
    "            size = 2) +\n",
    "  geom_text(data = gg_iter_extremes %>% filter(iteration == max_iter), \n",
    "            aes(label = paste(signif(values, 2), units)), \n",
    "            hjust = -0.25, \n",
    "            fontface = \"bold\", \n",
    "            size = 2) +\n",
    "  geom_hline(yintercept = 0) +\n",
    "  expand_limits(x = c(-6, 20), y = 0) +\n",
    "  scale_x_continuous(breaks = seq(0, max_iter, by = 10)) +\n",
    "  labs(x = \"Iteration\", y = \"Concentration (%)\") +\n",
    "  scale_y_continuous(breaks=0) +\n",
    "  theme_bw() +\n",
    "  theme(\n",
    "    panel.spacing = unit(10, 'mm'),\n",
    "    panel.grid = element_blank(),\n",
    "    panel.border = element_blank(),\n",
    "    strip.background = element_blank(),\n",
    "    panel.grid.major.x = element_blank(),\n",
    "    text = element_text(family = \"serif\")\n",
    "  ) +\n",
    "  ggsave(\"images/convergence.png\", height = 4, width = 6, dpi = 300)"
   ]
  },
  {
   "cell_type": "markdown",
   "metadata": {},
   "source": [
    "Aitchison distance between observed and target."
   ]
  },
  {
   "cell_type": "code",
   "execution_count": 67,
   "metadata": {
    "lines_to_next_cell": 2
   },
   "outputs": [
    {
     "data": {
      "text/html": [
       "1.0041996645692"
      ],
      "text/latex": [
       "1.0041996645692"
      ],
      "text/markdown": [
       "1.0041996645692"
      ],
      "text/plain": [
       "[1] 1.0042"
      ]
     },
     "metadata": {},
     "output_type": "display_data"
    }
   ],
   "source": [
    "sqrt(sum((ref_leaf[1, ] - ref_leaf[max_iter, ]) ^ 2))"
   ]
  },
  {
   "cell_type": "markdown",
   "metadata": {},
   "source": [
    "Visualisation of the observed/target ratio."
   ]
  },
  {
   "cell_type": "code",
   "execution_count": 68,
   "metadata": {},
   "outputs": [
    {
     "data": {
      "image/png": "[encoded data removed]",
      "text/plain": [
       "plot without title"
      ]
     },
     "metadata": {
      "image/png": {
       "height": 420,
       "width": 420
      },
      "text/plain": {
       "height": 420,
       "width": 420
      }
     },
     "output_type": "display_data"
    }
   ],
   "source": [
    "gg_iter_extremes %>%\n",
    "  pivot_wider(names_from = iteration,\n",
    "              values_from = values) %>% \n",
    "  mutate(ratio = `1` / `10`) %>% \n",
    "  filter(variables != \"yield\") %>% \n",
    "  mutate(variables = fct_reorder(variables, ratio)) %>% \n",
    "  ggplot(aes(y = ratio, x = variables)) +\n",
    "  labs(x = \"\", y = \"Ratio - Observation / Target\") +\n",
    "  geom_col() +\n",
    "  geom_hline(yintercept = 1) +\n",
    "  coord_flip() +\n",
    "  theme_bw() +\n",
    "  theme(text = element_text(family = \"serif\")) +\n",
    "  ggsave(\"images/ratio.png\", height = 2, width = 4, dpi = 300)"
   ]
  },
  {
   "cell_type": "markdown",
   "metadata": {},
   "source": [
    "# Overview of optimal ionomes"
   ]
  },
  {
   "cell_type": "markdown",
   "metadata": {},
   "source": [
    "The same code is applied to all observations in an external file to obtain overall statistics of targets."
   ]
  },
  {
   "cell_type": "code",
   "execution_count": 69,
   "metadata": {
    "collapsed": true,
    "jupyter": {
     "outputs_hidden": true
    },
    "lines_to_next_cell": 2
   },
   "outputs": [
    {
     "name": "stdout",
     "output_type": "stream",
     "text": [
      "[1] \"row 1 of 1384\"\n",
      "[1] \"row 2 of 1384\"\n",
      "[1] \"row 3 of 1384\"\n",
      "[1] \"row 4 of 1384\"\n",
      "[1] \"row 5 of 1384\"\n",
      "[1] \"row 6 of 1384\"\n",
      "[1] \"row 7 of 1384\"\n",
      "[1] \"row 8 of 1384\"\n",
      "[1] \"row 9 of 1384\"\n",
      "[1] \"row 10 of 1384\"\n",
      "[1] \"row 11 of 1384\"\n",
      "[1] \"row 12 of 1384\"\n",
      "[1] \"row 13 of 1384\"\n",
      "[1] \"row 14 of 1384\"\n",
      "[1] \"row 15 of 1384\"\n",
      "[1] \"row 16 of 1384\"\n",
      "[1] \"row 17 of 1384\"\n",
      "[1] \"row 18 of 1384\"\n",
      "[1] \"row 19 of 1384\"\n",
      "[1] \"row 20 of 1384\"\n",
      "[1] \"row 21 of 1384\"\n",
      "[1] \"row 22 of 1384\"\n",
      "[1] \"row 23 of 1384\"\n",
      "[1] \"row 24 of 1384\"\n",
      "[1] \"row 25 of 1384\"\n",
      "[1] \"row 26 of 1384\"\n",
      "[1] \"row 27 of 1384\"\n",
      "[1] \"row 28 of 1384\"\n",
      "[1] \"row 29 of 1384\"\n",
      "[1] \"row 30 of 1384\"\n",
      "[1] \"row 31 of 1384\"\n",
      "[1] \"row 32 of 1384\"\n",
      "[1] \"row 33 of 1384\"\n",
      "[1] \"row 34 of 1384\"\n",
      "[1] \"row 35 of 1384\"\n",
      "[1] \"row 36 of 1384\"\n",
      "[1] \"row 37 of 1384\"\n",
      "[1] \"row 38 of 1384\"\n",
      "[1] \"row 39 of 1384\"\n",
      "[1] \"row 40 of 1384\"\n",
      "[1] \"row 41 of 1384\"\n",
      "[1] \"row 42 of 1384\"\n",
      "[1] \"row 43 of 1384\"\n",
      "[1] \"row 44 of 1384\"\n",
      "[1] \"row 45 of 1384\"\n",
      "[1] \"row 46 of 1384\"\n",
      "[1] \"row 47 of 1384\"\n",
      "[1] \"row 48 of 1384\"\n",
      "[1] \"row 49 of 1384\"\n",
      "[1] \"row 50 of 1384\"\n",
      "[1] \"row 51 of 1384\"\n",
      "[1] \"row 52 of 1384\"\n",
      "[1] \"row 53 of 1384\"\n",
      "[1] \"row 54 of 1384\"\n",
      "[1] \"row 55 of 1384\"\n",
      "[1] \"row 56 of 1384\"\n",
      "[1] \"row 57 of 1384\"\n",
      "[1] \"row 58 of 1384\"\n",
      "[1] \"row 59 of 1384\"\n",
      "[1] \"row 60 of 1384\"\n",
      "[1] \"row 61 of 1384\"\n",
      "[1] \"row 62 of 1384\"\n",
      "[1] \"row 63 of 1384\"\n",
      "[1] \"row 64 of 1384\"\n",
      "[1] \"row 65 of 1384\"\n",
      "[1] \"row 66 of 1384\"\n",
      "[1] \"row 67 of 1384\"\n",
      "[1] \"row 68 of 1384\"\n",
      "[1] \"row 69 of 1384\"\n",
      "[1] \"row 70 of 1384\"\n",
      "[1] \"row 71 of 1384\"\n",
      "[1] \"row 72 of 1384\"\n",
      "[1] \"row 73 of 1384\"\n",
      "[1] \"row 74 of 1384\"\n",
      "[1] \"row 75 of 1384\"\n",
      "[1] \"row 76 of 1384\"\n",
      "[1] \"row 77 of 1384\"\n",
      "[1] \"row 78 of 1384\"\n",
      "[1] \"row 79 of 1384\"\n",
      "[1] \"row 80 of 1384\"\n",
      "[1] \"row 81 of 1384\"\n",
      "[1] \"row 82 of 1384\"\n",
      "[1] \"row 83 of 1384\"\n",
      "[1] \"row 84 of 1384\"\n",
      "[1] \"row 85 of 1384\"\n",
      "[1] \"row 86 of 1384\"\n",
      "[1] \"row 87 of 1384\"\n",
      "[1] \"row 88 of 1384\"\n",
      "[1] \"row 89 of 1384\"\n",
      "[1] \"row 90 of 1384\"\n",
      "[1] \"row 91 of 1384\"\n",
      "[1] \"row 92 of 1384\"\n",
      "[1] \"row 93 of 1384\"\n",
      "[1] \"row 94 of 1384\"\n",
      "[1] \"row 95 of 1384\"\n",
      "[1] \"row 96 of 1384\"\n",
      "[1] \"row 97 of 1384\"\n",
      "[1] \"row 98 of 1384\"\n",
      "[1] \"row 99 of 1384\"\n",
      "[1] \"row 100 of 1384\"\n",
      "[1] \"row 101 of 1384\"\n",
      "[1] \"row 102 of 1384\"\n",
      "[1] \"row 103 of 1384\"\n",
      "[1] \"row 104 of 1384\"\n",
      "[1] \"row 105 of 1384\"\n",
      "[1] \"row 106 of 1384\"\n",
      "[1] \"row 107 of 1384\"\n",
      "[1] \"row 108 of 1384\"\n",
      "[1] \"row 109 of 1384\"\n",
      "[1] \"row 110 of 1384\"\n",
      "[1] \"row 111 of 1384\"\n",
      "[1] \"row 112 of 1384\"\n",
      "[1] \"row 113 of 1384\"\n",
      "[1] \"row 114 of 1384\"\n",
      "[1] \"row 115 of 1384\"\n",
      "[1] \"row 116 of 1384\"\n",
      "[1] \"row 117 of 1384\"\n",
      "[1] \"row 118 of 1384\"\n",
      "[1] \"row 119 of 1384\"\n",
      "[1] \"row 120 of 1384\"\n",
      "[1] \"row 121 of 1384\"\n",
      "[1] \"row 122 of 1384\"\n",
      "[1] \"row 123 of 1384\"\n",
      "[1] \"row 124 of 1384\"\n",
      "[1] \"row 125 of 1384\"\n",
      "[1] \"row 126 of 1384\"\n",
      "[1] \"row 127 of 1384\"\n",
      "[1] \"row 128 of 1384\"\n",
      "[1] \"row 129 of 1384\"\n",
      "[1] \"row 130 of 1384\"\n",
      "[1] \"row 131 of 1384\"\n",
      "[1] \"row 132 of 1384\"\n",
      "[1] \"row 133 of 1384\"\n",
      "[1] \"row 134 of 1384\"\n",
      "[1] \"row 135 of 1384\"\n",
      "[1] \"row 136 of 1384\"\n",
      "[1] \"row 137 of 1384\"\n",
      "[1] \"row 138 of 1384\"\n",
      "[1] \"row 139 of 1384\"\n",
      "[1] \"row 140 of 1384\"\n",
      "[1] \"row 141 of 1384\"\n",
      "[1] \"row 142 of 1384\"\n",
      "[1] \"row 143 of 1384\"\n",
      "[1] \"row 144 of 1384\"\n",
      "[1] \"row 145 of 1384\"\n",
      "[1] \"row 146 of 1384\"\n",
      "[1] \"row 147 of 1384\"\n",
      "[1] \"row 148 of 1384\"\n",
      "[1] \"row 149 of 1384\"\n",
      "[1] \"row 150 of 1384\"\n",
      "[1] \"row 151 of 1384\"\n",
      "[1] \"row 152 of 1384\"\n",
      "[1] \"row 153 of 1384\"\n",
      "[1] \"row 154 of 1384\"\n",
      "[1] \"row 155 of 1384\"\n",
      "[1] \"row 156 of 1384\"\n",
      "[1] \"row 157 of 1384\"\n",
      "[1] \"row 158 of 1384\"\n",
      "[1] \"row 159 of 1384\"\n",
      "[1] \"row 160 of 1384\"\n",
      "[1] \"row 161 of 1384\"\n",
      "[1] \"row 162 of 1384\"\n",
      "[1] \"row 163 of 1384\"\n",
      "[1] \"row 164 of 1384\"\n",
      "[1] \"row 165 of 1384\"\n",
      "[1] \"row 166 of 1384\"\n",
      "[1] \"row 167 of 1384\"\n",
      "[1] \"row 168 of 1384\"\n",
      "[1] \"row 169 of 1384\"\n",
      "[1] \"row 170 of 1384\"\n",
      "[1] \"row 171 of 1384\"\n",
      "[1] \"row 172 of 1384\"\n",
      "[1] \"row 173 of 1384\"\n",
      "[1] \"row 174 of 1384\"\n",
      "[1] \"row 175 of 1384\"\n",
      "[1] \"row 176 of 1384\"\n",
      "[1] \"row 177 of 1384\"\n",
      "[1] \"row 178 of 1384\"\n",
      "[1] \"row 179 of 1384\"\n",
      "[1] \"row 180 of 1384\"\n",
      "[1] \"row 181 of 1384\"\n",
      "[1] \"row 182 of 1384\"\n",
      "[1] \"row 183 of 1384\"\n",
      "[1] \"row 184 of 1384\"\n",
      "[1] \"row 185 of 1384\"\n",
      "[1] \"row 186 of 1384\"\n",
      "[1] \"row 187 of 1384\"\n",
      "[1] \"row 188 of 1384\"\n",
      "[1] \"row 189 of 1384\"\n",
      "[1] \"row 190 of 1384\"\n",
      "[1] \"row 191 of 1384\"\n",
      "[1] \"row 192 of 1384\"\n",
      "[1] \"row 193 of 1384\"\n",
      "[1] \"row 194 of 1384\"\n",
      "[1] \"row 195 of 1384\"\n",
      "[1] \"row 196 of 1384\"\n",
      "[1] \"row 197 of 1384\"\n",
      "[1] \"row 198 of 1384\"\n",
      "[1] \"row 199 of 1384\"\n",
      "[1] \"row 200 of 1384\"\n",
      "[1] \"row 201 of 1384\"\n",
      "[1] \"row 202 of 1384\"\n",
      "[1] \"row 203 of 1384\"\n",
      "[1] \"row 204 of 1384\"\n",
      "[1] \"row 205 of 1384\"\n",
      "[1] \"row 206 of 1384\"\n",
      "[1] \"row 207 of 1384\"\n",
      "[1] \"row 208 of 1384\"\n",
      "[1] \"row 209 of 1384\"\n",
      "[1] \"row 210 of 1384\"\n",
      "[1] \"row 211 of 1384\"\n",
      "[1] \"row 212 of 1384\"\n",
      "[1] \"row 213 of 1384\"\n",
      "[1] \"row 214 of 1384\"\n",
      "[1] \"row 215 of 1384\"\n",
      "[1] \"row 216 of 1384\"\n",
      "[1] \"row 217 of 1384\"\n",
      "[1] \"row 218 of 1384\"\n",
      "[1] \"row 219 of 1384\"\n",
      "[1] \"row 220 of 1384\"\n",
      "[1] \"row 221 of 1384\"\n",
      "[1] \"row 222 of 1384\"\n",
      "[1] \"row 223 of 1384\"\n",
      "[1] \"row 224 of 1384\"\n",
      "[1] \"row 225 of 1384\"\n",
      "[1] \"row 226 of 1384\"\n",
      "[1] \"row 227 of 1384\"\n",
      "[1] \"row 228 of 1384\"\n",
      "[1] \"row 229 of 1384\"\n",
      "[1] \"row 230 of 1384\"\n",
      "[1] \"row 231 of 1384\"\n",
      "[1] \"row 232 of 1384\"\n",
      "[1] \"row 233 of 1384\"\n",
      "[1] \"row 234 of 1384\"\n",
      "[1] \"row 235 of 1384\"\n",
      "[1] \"row 236 of 1384\"\n",
      "[1] \"row 237 of 1384\"\n",
      "[1] \"row 238 of 1384\"\n",
      "[1] \"row 239 of 1384\"\n",
      "[1] \"row 240 of 1384\"\n",
      "[1] \"row 241 of 1384\"\n",
      "[1] \"row 242 of 1384\"\n",
      "[1] \"row 243 of 1384\"\n",
      "[1] \"row 244 of 1384\"\n",
      "[1] \"row 245 of 1384\"\n",
      "[1] \"row 246 of 1384\"\n",
      "[1] \"row 247 of 1384\"\n",
      "[1] \"row 248 of 1384\"\n",
      "[1] \"row 249 of 1384\"\n",
      "[1] \"row 250 of 1384\"\n",
      "[1] \"row 251 of 1384\"\n",
      "[1] \"row 252 of 1384\"\n",
      "[1] \"row 253 of 1384\"\n",
      "[1] \"row 254 of 1384\"\n",
      "[1] \"row 255 of 1384\"\n",
      "[1] \"row 256 of 1384\"\n",
      "[1] \"row 257 of 1384\"\n",
      "[1] \"row 258 of 1384\"\n",
      "[1] \"row 259 of 1384\"\n",
      "[1] \"row 260 of 1384\"\n",
      "[1] \"row 261 of 1384\"\n",
      "[1] \"row 262 of 1384\"\n",
      "[1] \"row 263 of 1384\"\n",
      "[1] \"row 264 of 1384\"\n",
      "[1] \"row 265 of 1384\"\n",
      "[1] \"row 266 of 1384\"\n",
      "[1] \"row 267 of 1384\"\n",
      "[1] \"row 268 of 1384\"\n",
      "[1] \"row 269 of 1384\"\n",
      "[1] \"row 270 of 1384\"\n",
      "[1] \"row 271 of 1384\"\n",
      "[1] \"row 272 of 1384\"\n",
      "[1] \"row 273 of 1384\"\n",
      "[1] \"row 274 of 1384\"\n",
      "[1] \"row 275 of 1384\"\n",
      "[1] \"row 276 of 1384\"\n",
      "[1] \"row 277 of 1384\"\n",
      "[1] \"row 278 of 1384\"\n",
      "[1] \"row 279 of 1384\"\n",
      "[1] \"row 280 of 1384\"\n",
      "[1] \"row 281 of 1384\"\n",
      "[1] \"row 282 of 1384\"\n",
      "[1] \"row 283 of 1384\"\n",
      "[1] \"row 284 of 1384\"\n",
      "[1] \"row 285 of 1384\"\n",
      "[1] \"row 286 of 1384\"\n",
      "[1] \"row 287 of 1384\"\n",
      "[1] \"row 288 of 1384\"\n",
      "[1] \"row 289 of 1384\"\n",
      "[1] \"row 290 of 1384\"\n",
      "[1] \"row 291 of 1384\"\n",
      "[1] \"row 292 of 1384\"\n",
      "[1] \"row 293 of 1384\"\n",
      "[1] \"row 294 of 1384\"\n",
      "[1] \"row 295 of 1384\"\n",
      "[1] \"row 296 of 1384\"\n",
      "[1] \"row 297 of 1384\"\n",
      "[1] \"row 298 of 1384\"\n",
      "[1] \"row 299 of 1384\"\n",
      "[1] \"row 300 of 1384\"\n",
      "[1] \"row 301 of 1384\"\n",
      "[1] \"row 302 of 1384\"\n",
      "[1] \"row 303 of 1384\"\n",
      "[1] \"row 304 of 1384\"\n",
      "[1] \"row 305 of 1384\"\n",
      "[1] \"row 306 of 1384\"\n",
      "[1] \"row 307 of 1384\"\n",
      "[1] \"row 308 of 1384\"\n",
      "[1] \"row 309 of 1384\"\n",
      "[1] \"row 310 of 1384\"\n",
      "[1] \"row 311 of 1384\"\n",
      "[1] \"row 312 of 1384\"\n",
      "[1] \"row 313 of 1384\"\n",
      "[1] \"row 314 of 1384\"\n",
      "[1] \"row 315 of 1384\"\n",
      "[1] \"row 316 of 1384\"\n",
      "[1] \"row 317 of 1384\"\n",
      "[1] \"row 318 of 1384\"\n",
      "[1] \"row 319 of 1384\"\n",
      "[1] \"row 320 of 1384\"\n",
      "[1] \"row 321 of 1384\"\n",
      "[1] \"row 322 of 1384\"\n",
      "[1] \"row 323 of 1384\"\n",
      "[1] \"row 324 of 1384\"\n",
      "[1] \"row 325 of 1384\"\n",
      "[1] \"row 326 of 1384\"\n",
      "[1] \"row 327 of 1384\"\n",
      "[1] \"row 328 of 1384\"\n",
      "[1] \"row 329 of 1384\"\n",
      "[1] \"row 330 of 1384\"\n",
      "[1] \"row 331 of 1384\"\n",
      "[1] \"row 332 of 1384\"\n",
      "[1] \"row 333 of 1384\"\n",
      "[1] \"row 334 of 1384\"\n",
      "[1] \"row 335 of 1384\"\n",
      "[1] \"row 336 of 1384\"\n",
      "[1] \"row 337 of 1384\"\n",
      "[1] \"row 338 of 1384\"\n",
      "[1] \"row 339 of 1384\"\n",
      "[1] \"row 340 of 1384\"\n",
      "[1] \"row 341 of 1384\"\n",
      "[1] \"row 342 of 1384\"\n",
      "[1] \"row 343 of 1384\"\n",
      "[1] \"row 344 of 1384\"\n",
      "[1] \"row 345 of 1384\"\n",
      "[1] \"row 346 of 1384\"\n",
      "[1] \"row 347 of 1384\"\n",
      "[1] \"row 348 of 1384\"\n",
      "[1] \"row 349 of 1384\"\n",
      "[1] \"row 350 of 1384\"\n",
      "[1] \"row 351 of 1384\"\n",
      "[1] \"row 352 of 1384\"\n",
      "[1] \"row 353 of 1384\"\n",
      "[1] \"row 354 of 1384\"\n",
      "[1] \"row 355 of 1384\"\n",
      "[1] \"row 356 of 1384\"\n",
      "[1] \"row 357 of 1384\"\n",
      "[1] \"row 358 of 1384\"\n",
      "[1] \"row 359 of 1384\"\n",
      "[1] \"row 360 of 1384\"\n",
      "[1] \"row 361 of 1384\"\n",
      "[1] \"row 362 of 1384\"\n",
      "[1] \"row 363 of 1384\"\n",
      "[1] \"row 364 of 1384\"\n",
      "[1] \"row 365 of 1384\"\n",
      "[1] \"row 366 of 1384\"\n",
      "[1] \"row 367 of 1384\"\n",
      "[1] \"row 368 of 1384\"\n",
      "[1] \"row 369 of 1384\"\n",
      "[1] \"row 370 of 1384\"\n",
      "[1] \"row 371 of 1384\"\n",
      "[1] \"row 372 of 1384\"\n",
      "[1] \"row 373 of 1384\"\n",
      "[1] \"row 374 of 1384\"\n",
      "[1] \"row 375 of 1384\"\n",
      "[1] \"row 376 of 1384\"\n",
      "[1] \"row 377 of 1384\"\n",
      "[1] \"row 378 of 1384\"\n",
      "[1] \"row 379 of 1384\"\n",
      "[1] \"row 380 of 1384\"\n",
      "[1] \"row 381 of 1384\"\n",
      "[1] \"row 382 of 1384\"\n",
      "[1] \"row 383 of 1384\"\n",
      "[1] \"row 384 of 1384\"\n",
      "[1] \"row 385 of 1384\"\n",
      "[1] \"row 386 of 1384\"\n",
      "[1] \"row 387 of 1384\"\n",
      "[1] \"row 388 of 1384\"\n",
      "[1] \"row 389 of 1384\"\n",
      "[1] \"row 390 of 1384\"\n",
      "[1] \"row 391 of 1384\"\n",
      "[1] \"row 392 of 1384\"\n",
      "[1] \"row 393 of 1384\"\n",
      "[1] \"row 394 of 1384\"\n",
      "[1] \"row 395 of 1384\"\n",
      "[1] \"row 396 of 1384\"\n",
      "[1] \"row 397 of 1384\"\n",
      "[1] \"row 398 of 1384\"\n",
      "[1] \"row 399 of 1384\"\n",
      "[1] \"row 400 of 1384\"\n",
      "[1] \"row 401 of 1384\"\n",
      "[1] \"row 402 of 1384\"\n",
      "[1] \"row 403 of 1384\"\n",
      "[1] \"row 404 of 1384\"\n",
      "[1] \"row 405 of 1384\"\n",
      "[1] \"row 406 of 1384\"\n",
      "[1] \"row 407 of 1384\"\n",
      "[1] \"row 408 of 1384\"\n",
      "[1] \"row 409 of 1384\"\n",
      "[1] \"row 410 of 1384\"\n",
      "[1] \"row 411 of 1384\"\n",
      "[1] \"row 412 of 1384\"\n",
      "[1] \"row 413 of 1384\"\n",
      "[1] \"row 414 of 1384\"\n",
      "[1] \"row 415 of 1384\"\n",
      "[1] \"row 416 of 1384\"\n",
      "[1] \"row 417 of 1384\"\n",
      "[1] \"row 418 of 1384\"\n",
      "[1] \"row 419 of 1384\"\n",
      "[1] \"row 420 of 1384\"\n",
      "[1] \"row 421 of 1384\"\n",
      "[1] \"row 422 of 1384\"\n",
      "[1] \"row 423 of 1384\"\n",
      "[1] \"row 424 of 1384\"\n",
      "[1] \"row 425 of 1384\"\n",
      "[1] \"row 426 of 1384\"\n",
      "[1] \"row 427 of 1384\"\n",
      "[1] \"row 428 of 1384\"\n",
      "[1] \"row 429 of 1384\"\n",
      "[1] \"row 430 of 1384\"\n",
      "[1] \"row 431 of 1384\"\n",
      "[1] \"row 432 of 1384\"\n",
      "[1] \"row 433 of 1384\"\n",
      "[1] \"row 434 of 1384\"\n",
      "[1] \"row 435 of 1384\"\n",
      "[1] \"row 436 of 1384\"\n",
      "[1] \"row 437 of 1384\"\n",
      "[1] \"row 438 of 1384\"\n",
      "[1] \"row 439 of 1384\"\n",
      "[1] \"row 440 of 1384\"\n",
      "[1] \"row 441 of 1384\"\n",
      "[1] \"row 442 of 1384\"\n",
      "[1] \"row 443 of 1384\"\n",
      "[1] \"row 444 of 1384\"\n",
      "[1] \"row 445 of 1384\"\n",
      "[1] \"row 446 of 1384\"\n",
      "[1] \"row 447 of 1384\"\n",
      "[1] \"row 448 of 1384\"\n",
      "[1] \"row 449 of 1384\"\n",
      "[1] \"row 450 of 1384\"\n",
      "[1] \"row 451 of 1384\"\n",
      "[1] \"row 452 of 1384\"\n",
      "[1] \"row 453 of 1384\"\n",
      "[1] \"row 454 of 1384\"\n",
      "[1] \"row 455 of 1384\"\n",
      "[1] \"row 456 of 1384\"\n",
      "[1] \"row 457 of 1384\"\n",
      "[1] \"row 458 of 1384\"\n",
      "[1] \"row 459 of 1384\"\n",
      "[1] \"row 460 of 1384\"\n",
      "[1] \"row 461 of 1384\"\n",
      "[1] \"row 462 of 1384\"\n",
      "[1] \"row 463 of 1384\"\n",
      "[1] \"row 464 of 1384\"\n",
      "[1] \"row 465 of 1384\"\n",
      "[1] \"row 466 of 1384\"\n",
      "[1] \"row 467 of 1384\"\n",
      "[1] \"row 468 of 1384\"\n",
      "[1] \"row 469 of 1384\"\n",
      "[1] \"row 470 of 1384\"\n",
      "[1] \"row 471 of 1384\"\n",
      "[1] \"row 472 of 1384\"\n",
      "[1] \"row 473 of 1384\"\n",
      "[1] \"row 474 of 1384\"\n",
      "[1] \"row 475 of 1384\"\n",
      "[1] \"row 476 of 1384\"\n",
      "[1] \"row 477 of 1384\"\n",
      "[1] \"row 478 of 1384\"\n",
      "[1] \"row 479 of 1384\"\n",
      "[1] \"row 480 of 1384\"\n",
      "[1] \"row 481 of 1384\"\n",
      "[1] \"row 482 of 1384\"\n",
      "[1] \"row 483 of 1384\"\n",
      "[1] \"row 484 of 1384\"\n",
      "[1] \"row 485 of 1384\"\n",
      "[1] \"row 486 of 1384\"\n",
      "[1] \"row 487 of 1384\"\n",
      "[1] \"row 488 of 1384\"\n",
      "[1] \"row 489 of 1384\"\n",
      "[1] \"row 490 of 1384\"\n",
      "[1] \"row 491 of 1384\"\n",
      "[1] \"row 492 of 1384\"\n",
      "[1] \"row 493 of 1384\"\n",
      "[1] \"row 494 of 1384\"\n",
      "[1] \"row 495 of 1384\"\n",
      "[1] \"row 496 of 1384\"\n",
      "[1] \"row 497 of 1384\"\n",
      "[1] \"row 498 of 1384\"\n",
      "[1] \"row 499 of 1384\"\n",
      "[1] \"row 500 of 1384\"\n",
      "[1] \"row 501 of 1384\"\n",
      "[1] \"row 502 of 1384\"\n",
      "[1] \"row 503 of 1384\"\n",
      "[1] \"row 504 of 1384\"\n",
      "[1] \"row 505 of 1384\"\n",
      "[1] \"row 506 of 1384\"\n",
      "[1] \"row 507 of 1384\"\n",
      "[1] \"row 508 of 1384\"\n",
      "[1] \"row 509 of 1384\"\n",
      "[1] \"row 510 of 1384\"\n",
      "[1] \"row 511 of 1384\"\n",
      "[1] \"row 512 of 1384\"\n",
      "[1] \"row 513 of 1384\"\n",
      "[1] \"row 514 of 1384\"\n",
      "[1] \"row 515 of 1384\"\n",
      "[1] \"row 516 of 1384\"\n",
      "[1] \"row 517 of 1384\"\n",
      "[1] \"row 518 of 1384\"\n",
      "[1] \"row 519 of 1384\"\n",
      "[1] \"row 520 of 1384\"\n",
      "[1] \"row 521 of 1384\"\n",
      "[1] \"row 522 of 1384\"\n",
      "[1] \"row 523 of 1384\"\n",
      "[1] \"row 524 of 1384\"\n",
      "[1] \"row 525 of 1384\"\n",
      "[1] \"row 526 of 1384\"\n",
      "[1] \"row 527 of 1384\"\n",
      "[1] \"row 528 of 1384\"\n",
      "[1] \"row 529 of 1384\"\n",
      "[1] \"row 530 of 1384\"\n",
      "[1] \"row 531 of 1384\"\n",
      "[1] \"row 532 of 1384\"\n",
      "[1] \"row 533 of 1384\"\n",
      "[1] \"row 534 of 1384\"\n",
      "[1] \"row 535 of 1384\"\n",
      "[1] \"row 536 of 1384\"\n",
      "[1] \"row 537 of 1384\"\n",
      "[1] \"row 538 of 1384\"\n",
      "[1] \"row 539 of 1384\"\n",
      "[1] \"row 540 of 1384\"\n",
      "[1] \"row 541 of 1384\"\n",
      "[1] \"row 542 of 1384\"\n",
      "[1] \"row 543 of 1384\"\n",
      "[1] \"row 544 of 1384\"\n",
      "[1] \"row 545 of 1384\"\n",
      "[1] \"row 546 of 1384\"\n",
      "[1] \"row 547 of 1384\"\n",
      "[1] \"row 548 of 1384\"\n",
      "[1] \"row 549 of 1384\"\n",
      "[1] \"row 550 of 1384\"\n",
      "[1] \"row 551 of 1384\"\n",
      "[1] \"row 552 of 1384\"\n",
      "[1] \"row 553 of 1384\"\n",
      "[1] \"row 554 of 1384\"\n",
      "[1] \"row 555 of 1384\"\n",
      "[1] \"row 556 of 1384\"\n",
      "[1] \"row 557 of 1384\"\n",
      "[1] \"row 558 of 1384\"\n",
      "[1] \"row 559 of 1384\"\n",
      "[1] \"row 560 of 1384\"\n",
      "[1] \"row 561 of 1384\"\n",
      "[1] \"row 562 of 1384\"\n",
      "[1] \"row 563 of 1384\"\n",
      "[1] \"row 564 of 1384\"\n",
      "[1] \"row 565 of 1384\"\n",
      "[1] \"row 566 of 1384\"\n",
      "[1] \"row 567 of 1384\"\n",
      "[1] \"row 568 of 1384\"\n",
      "[1] \"row 569 of 1384\"\n",
      "[1] \"row 570 of 1384\"\n",
      "[1] \"row 571 of 1384\"\n",
      "[1] \"row 572 of 1384\"\n",
      "[1] \"row 573 of 1384\"\n",
      "[1] \"row 574 of 1384\"\n",
      "[1] \"row 575 of 1384\"\n",
      "[1] \"row 576 of 1384\"\n",
      "[1] \"row 577 of 1384\"\n",
      "[1] \"row 578 of 1384\"\n",
      "[1] \"row 579 of 1384\"\n",
      "[1] \"row 580 of 1384\"\n",
      "[1] \"row 581 of 1384\"\n",
      "[1] \"row 582 of 1384\"\n",
      "[1] \"row 583 of 1384\"\n",
      "[1] \"row 584 of 1384\"\n",
      "[1] \"row 585 of 1384\"\n",
      "[1] \"row 586 of 1384\"\n",
      "[1] \"row 587 of 1384\"\n",
      "[1] \"row 588 of 1384\"\n",
      "[1] \"row 589 of 1384\"\n",
      "[1] \"row 590 of 1384\"\n",
      "[1] \"row 591 of 1384\"\n",
      "[1] \"row 592 of 1384\"\n",
      "[1] \"row 593 of 1384\"\n",
      "[1] \"row 594 of 1384\"\n",
      "[1] \"row 595 of 1384\"\n",
      "[1] \"row 596 of 1384\"\n",
      "[1] \"row 597 of 1384\"\n",
      "[1] \"row 598 of 1384\"\n",
      "[1] \"row 599 of 1384\"\n",
      "[1] \"row 600 of 1384\"\n",
      "[1] \"row 601 of 1384\"\n",
      "[1] \"row 602 of 1384\"\n",
      "[1] \"row 603 of 1384\"\n",
      "[1] \"row 604 of 1384\"\n",
      "[1] \"row 605 of 1384\"\n",
      "[1] \"row 606 of 1384\"\n",
      "[1] \"row 607 of 1384\"\n",
      "[1] \"row 608 of 1384\"\n",
      "[1] \"row 609 of 1384\"\n",
      "[1] \"row 610 of 1384\"\n",
      "[1] \"row 611 of 1384\"\n",
      "[1] \"row 612 of 1384\"\n",
      "[1] \"row 613 of 1384\"\n",
      "[1] \"row 614 of 1384\"\n",
      "[1] \"row 615 of 1384\"\n",
      "[1] \"row 616 of 1384\"\n",
      "[1] \"row 617 of 1384\"\n",
      "[1] \"row 618 of 1384\"\n",
      "[1] \"row 619 of 1384\"\n",
      "[1] \"row 620 of 1384\"\n",
      "[1] \"row 621 of 1384\"\n",
      "[1] \"row 622 of 1384\"\n",
      "[1] \"row 623 of 1384\"\n",
      "[1] \"row 624 of 1384\"\n",
      "[1] \"row 625 of 1384\"\n",
      "[1] \"row 626 of 1384\"\n",
      "[1] \"row 627 of 1384\"\n",
      "[1] \"row 628 of 1384\"\n",
      "[1] \"row 629 of 1384\"\n",
      "[1] \"row 630 of 1384\"\n",
      "[1] \"row 631 of 1384\"\n",
      "[1] \"row 632 of 1384\"\n",
      "[1] \"row 633 of 1384\"\n",
      "[1] \"row 634 of 1384\"\n",
      "[1] \"row 635 of 1384\"\n",
      "[1] \"row 636 of 1384\"\n",
      "[1] \"row 637 of 1384\"\n",
      "[1] \"row 638 of 1384\"\n",
      "[1] \"row 639 of 1384\"\n",
      "[1] \"row 640 of 1384\"\n",
      "[1] \"row 641 of 1384\"\n",
      "[1] \"row 642 of 1384\"\n",
      "[1] \"row 643 of 1384\"\n",
      "[1] \"row 644 of 1384\"\n",
      "[1] \"row 645 of 1384\"\n",
      "[1] \"row 646 of 1384\"\n",
      "[1] \"row 647 of 1384\"\n",
      "[1] \"row 648 of 1384\"\n",
      "[1] \"row 649 of 1384\"\n",
      "[1] \"row 650 of 1384\"\n",
      "[1] \"row 651 of 1384\"\n",
      "[1] \"row 652 of 1384\"\n",
      "[1] \"row 653 of 1384\"\n",
      "[1] \"row 654 of 1384\"\n",
      "[1] \"row 655 of 1384\"\n",
      "[1] \"row 656 of 1384\"\n",
      "[1] \"row 657 of 1384\"\n",
      "[1] \"row 658 of 1384\"\n",
      "[1] \"row 659 of 1384\"\n",
      "[1] \"row 660 of 1384\"\n",
      "[1] \"row 661 of 1384\"\n",
      "[1] \"row 662 of 1384\"\n",
      "[1] \"row 663 of 1384\"\n",
      "[1] \"row 664 of 1384\"\n",
      "[1] \"row 665 of 1384\"\n",
      "[1] \"row 666 of 1384\"\n",
      "[1] \"row 667 of 1384\"\n",
      "[1] \"row 668 of 1384\"\n",
      "[1] \"row 669 of 1384\"\n",
      "[1] \"row 670 of 1384\"\n",
      "[1] \"row 671 of 1384\"\n",
      "[1] \"row 672 of 1384\"\n",
      "[1] \"row 673 of 1384\"\n",
      "[1] \"row 674 of 1384\"\n",
      "[1] \"row 675 of 1384\"\n",
      "[1] \"row 676 of 1384\"\n",
      "[1] \"row 677 of 1384\"\n",
      "[1] \"row 678 of 1384\"\n",
      "[1] \"row 679 of 1384\"\n",
      "[1] \"row 680 of 1384\"\n",
      "[1] \"row 681 of 1384\"\n",
      "[1] \"row 682 of 1384\"\n",
      "[1] \"row 683 of 1384\"\n",
      "[1] \"row 684 of 1384\"\n",
      "[1] \"row 685 of 1384\"\n",
      "[1] \"row 686 of 1384\"\n",
      "[1] \"row 687 of 1384\"\n",
      "[1] \"row 688 of 1384\"\n",
      "[1] \"row 689 of 1384\"\n",
      "[1] \"row 690 of 1384\"\n",
      "[1] \"row 691 of 1384\"\n",
      "[1] \"row 692 of 1384\"\n",
      "[1] \"row 693 of 1384\"\n",
      "[1] \"row 694 of 1384\"\n",
      "[1] \"row 695 of 1384\"\n",
      "[1] \"row 696 of 1384\"\n",
      "[1] \"row 697 of 1384\"\n",
      "[1] \"row 698 of 1384\"\n",
      "[1] \"row 699 of 1384\"\n",
      "[1] \"row 700 of 1384\"\n",
      "[1] \"row 701 of 1384\"\n",
      "[1] \"row 702 of 1384\"\n",
      "[1] \"row 703 of 1384\"\n",
      "[1] \"row 704 of 1384\"\n",
      "[1] \"row 705 of 1384\"\n",
      "[1] \"row 706 of 1384\"\n",
      "[1] \"row 707 of 1384\"\n",
      "[1] \"row 708 of 1384\"\n",
      "[1] \"row 709 of 1384\"\n",
      "[1] \"row 710 of 1384\"\n",
      "[1] \"row 711 of 1384\"\n",
      "[1] \"row 712 of 1384\"\n",
      "[1] \"row 713 of 1384\"\n",
      "[1] \"row 714 of 1384\"\n",
      "[1] \"row 715 of 1384\"\n",
      "[1] \"row 716 of 1384\"\n",
      "[1] \"row 717 of 1384\"\n",
      "[1] \"row 718 of 1384\"\n",
      "[1] \"row 719 of 1384\"\n",
      "[1] \"row 720 of 1384\"\n",
      "[1] \"row 721 of 1384\"\n",
      "[1] \"row 722 of 1384\"\n",
      "[1] \"row 723 of 1384\"\n",
      "[1] \"row 724 of 1384\"\n",
      "[1] \"row 725 of 1384\"\n",
      "[1] \"row 726 of 1384\"\n",
      "[1] \"row 727 of 1384\"\n",
      "[1] \"row 728 of 1384\"\n",
      "[1] \"row 729 of 1384\"\n",
      "[1] \"row 730 of 1384\"\n",
      "[1] \"row 731 of 1384\"\n",
      "[1] \"row 732 of 1384\"\n",
      "[1] \"row 733 of 1384\"\n",
      "[1] \"row 734 of 1384\"\n",
      "[1] \"row 735 of 1384\"\n",
      "[1] \"row 736 of 1384\"\n",
      "[1] \"row 737 of 1384\"\n",
      "[1] \"row 738 of 1384\"\n",
      "[1] \"row 739 of 1384\"\n",
      "[1] \"row 740 of 1384\"\n",
      "[1] \"row 741 of 1384\"\n",
      "[1] \"row 742 of 1384\"\n",
      "[1] \"row 743 of 1384\"\n",
      "[1] \"row 744 of 1384\"\n",
      "[1] \"row 745 of 1384\"\n",
      "[1] \"row 746 of 1384\"\n",
      "[1] \"row 747 of 1384\"\n",
      "[1] \"row 748 of 1384\"\n",
      "[1] \"row 749 of 1384\"\n",
      "[1] \"row 750 of 1384\"\n",
      "[1] \"row 751 of 1384\"\n",
      "[1] \"row 752 of 1384\"\n",
      "[1] \"row 753 of 1384\"\n",
      "[1] \"row 754 of 1384\"\n",
      "[1] \"row 755 of 1384\"\n",
      "[1] \"row 756 of 1384\"\n",
      "[1] \"row 757 of 1384\"\n",
      "[1] \"row 758 of 1384\"\n",
      "[1] \"row 759 of 1384\"\n",
      "[1] \"row 760 of 1384\"\n",
      "[1] \"row 761 of 1384\"\n",
      "[1] \"row 762 of 1384\"\n",
      "[1] \"row 763 of 1384\"\n",
      "[1] \"row 764 of 1384\"\n",
      "[1] \"row 765 of 1384\"\n",
      "[1] \"row 766 of 1384\"\n",
      "[1] \"row 767 of 1384\"\n",
      "[1] \"row 768 of 1384\"\n",
      "[1] \"row 769 of 1384\"\n",
      "[1] \"row 770 of 1384\"\n",
      "[1] \"row 771 of 1384\"\n",
      "[1] \"row 772 of 1384\"\n",
      "[1] \"row 773 of 1384\"\n",
      "[1] \"row 774 of 1384\"\n",
      "[1] \"row 775 of 1384\"\n",
      "[1] \"row 776 of 1384\"\n",
      "[1] \"row 777 of 1384\"\n",
      "[1] \"row 778 of 1384\"\n",
      "[1] \"row 779 of 1384\"\n",
      "[1] \"row 780 of 1384\"\n",
      "[1] \"row 781 of 1384\"\n",
      "[1] \"row 782 of 1384\"\n",
      "[1] \"row 783 of 1384\"\n",
      "[1] \"row 784 of 1384\"\n",
      "[1] \"row 785 of 1384\"\n",
      "[1] \"row 786 of 1384\"\n",
      "[1] \"row 787 of 1384\"\n",
      "[1] \"row 788 of 1384\"\n",
      "[1] \"row 789 of 1384\"\n",
      "[1] \"row 790 of 1384\"\n",
      "[1] \"row 791 of 1384\"\n",
      "[1] \"row 792 of 1384\"\n",
      "[1] \"row 793 of 1384\"\n",
      "[1] \"row 794 of 1384\"\n",
      "[1] \"row 795 of 1384\"\n",
      "[1] \"row 796 of 1384\"\n",
      "[1] \"row 797 of 1384\"\n",
      "[1] \"row 798 of 1384\"\n",
      "[1] \"row 799 of 1384\"\n",
      "[1] \"row 800 of 1384\"\n",
      "[1] \"row 801 of 1384\"\n",
      "[1] \"row 802 of 1384\"\n",
      "[1] \"row 803 of 1384\"\n",
      "[1] \"row 804 of 1384\"\n",
      "[1] \"row 805 of 1384\"\n",
      "[1] \"row 806 of 1384\"\n",
      "[1] \"row 807 of 1384\"\n",
      "[1] \"row 808 of 1384\"\n",
      "[1] \"row 809 of 1384\"\n",
      "[1] \"row 810 of 1384\"\n",
      "[1] \"row 811 of 1384\"\n",
      "[1] \"row 812 of 1384\"\n",
      "[1] \"row 813 of 1384\"\n",
      "[1] \"row 814 of 1384\"\n",
      "[1] \"row 815 of 1384\"\n",
      "[1] \"row 816 of 1384\"\n",
      "[1] \"row 817 of 1384\"\n",
      "[1] \"row 818 of 1384\"\n",
      "[1] \"row 819 of 1384\"\n",
      "[1] \"row 820 of 1384\"\n",
      "[1] \"row 821 of 1384\"\n",
      "[1] \"row 822 of 1384\"\n",
      "[1] \"row 823 of 1384\"\n",
      "[1] \"row 824 of 1384\"\n",
      "[1] \"row 825 of 1384\"\n",
      "[1] \"row 826 of 1384\"\n",
      "[1] \"row 827 of 1384\"\n",
      "[1] \"row 828 of 1384\"\n",
      "[1] \"row 829 of 1384\"\n",
      "[1] \"row 830 of 1384\"\n",
      "[1] \"row 831 of 1384\"\n",
      "[1] \"row 832 of 1384\"\n",
      "[1] \"row 833 of 1384\"\n",
      "[1] \"row 834 of 1384\"\n",
      "[1] \"row 835 of 1384\"\n",
      "[1] \"row 836 of 1384\"\n",
      "[1] \"row 837 of 1384\"\n",
      "[1] \"row 838 of 1384\"\n",
      "[1] \"row 839 of 1384\"\n",
      "[1] \"row 840 of 1384\"\n",
      "[1] \"row 841 of 1384\"\n",
      "[1] \"row 842 of 1384\"\n",
      "[1] \"row 843 of 1384\"\n",
      "[1] \"row 844 of 1384\"\n",
      "[1] \"row 845 of 1384\"\n",
      "[1] \"row 846 of 1384\"\n",
      "[1] \"row 847 of 1384\"\n",
      "[1] \"row 848 of 1384\"\n",
      "[1] \"row 849 of 1384\"\n",
      "[1] \"row 850 of 1384\"\n",
      "[1] \"row 851 of 1384\"\n",
      "[1] \"row 852 of 1384\"\n",
      "[1] \"row 853 of 1384\"\n",
      "[1] \"row 854 of 1384\"\n",
      "[1] \"row 855 of 1384\"\n",
      "[1] \"row 856 of 1384\"\n",
      "[1] \"row 857 of 1384\"\n",
      "[1] \"row 858 of 1384\"\n",
      "[1] \"row 859 of 1384\"\n",
      "[1] \"row 860 of 1384\"\n",
      "[1] \"row 861 of 1384\"\n",
      "[1] \"row 862 of 1384\"\n",
      "[1] \"row 863 of 1384\"\n",
      "[1] \"row 864 of 1384\"\n",
      "[1] \"row 865 of 1384\"\n",
      "[1] \"row 866 of 1384\"\n",
      "[1] \"row 867 of 1384\"\n",
      "[1] \"row 868 of 1384\"\n",
      "[1] \"row 869 of 1384\"\n",
      "[1] \"row 870 of 1384\"\n",
      "[1] \"row 871 of 1384\"\n",
      "[1] \"row 872 of 1384\"\n",
      "[1] \"row 873 of 1384\"\n",
      "[1] \"row 874 of 1384\"\n",
      "[1] \"row 875 of 1384\"\n",
      "[1] \"row 876 of 1384\"\n",
      "[1] \"row 877 of 1384\"\n",
      "[1] \"row 878 of 1384\"\n",
      "[1] \"row 879 of 1384\"\n",
      "[1] \"row 880 of 1384\"\n",
      "[1] \"row 881 of 1384\"\n",
      "[1] \"row 882 of 1384\"\n",
      "[1] \"row 883 of 1384\"\n",
      "[1] \"row 884 of 1384\"\n",
      "[1] \"row 885 of 1384\"\n",
      "[1] \"row 886 of 1384\"\n",
      "[1] \"row 887 of 1384\"\n",
      "[1] \"row 888 of 1384\"\n",
      "[1] \"row 889 of 1384\"\n",
      "[1] \"row 890 of 1384\"\n",
      "[1] \"row 891 of 1384\"\n",
      "[1] \"row 892 of 1384\"\n",
      "[1] \"row 893 of 1384\"\n",
      "[1] \"row 894 of 1384\"\n",
      "[1] \"row 895 of 1384\"\n",
      "[1] \"row 896 of 1384\"\n",
      "[1] \"row 897 of 1384\"\n",
      "[1] \"row 898 of 1384\"\n",
      "[1] \"row 899 of 1384\"\n",
      "[1] \"row 900 of 1384\"\n",
      "[1] \"row 901 of 1384\"\n",
      "[1] \"row 902 of 1384\"\n",
      "[1] \"row 903 of 1384\"\n",
      "[1] \"row 904 of 1384\"\n",
      "[1] \"row 905 of 1384\"\n",
      "[1] \"row 906 of 1384\"\n",
      "[1] \"row 907 of 1384\"\n",
      "[1] \"row 908 of 1384\"\n",
      "[1] \"row 909 of 1384\"\n",
      "[1] \"row 910 of 1384\"\n",
      "[1] \"row 911 of 1384\"\n",
      "[1] \"row 912 of 1384\"\n",
      "[1] \"row 913 of 1384\"\n",
      "[1] \"row 914 of 1384\"\n",
      "[1] \"row 915 of 1384\"\n",
      "[1] \"row 916 of 1384\"\n",
      "[1] \"row 917 of 1384\"\n",
      "[1] \"row 918 of 1384\"\n",
      "[1] \"row 919 of 1384\"\n",
      "[1] \"row 920 of 1384\"\n",
      "[1] \"row 921 of 1384\"\n",
      "[1] \"row 922 of 1384\"\n",
      "[1] \"row 923 of 1384\"\n",
      "[1] \"row 924 of 1384\"\n",
      "[1] \"row 925 of 1384\"\n",
      "[1] \"row 926 of 1384\"\n",
      "[1] \"row 927 of 1384\"\n",
      "[1] \"row 928 of 1384\"\n",
      "[1] \"row 929 of 1384\"\n",
      "[1] \"row 930 of 1384\"\n",
      "[1] \"row 931 of 1384\"\n",
      "[1] \"row 932 of 1384\"\n",
      "[1] \"row 933 of 1384\"\n",
      "[1] \"row 934 of 1384\"\n",
      "[1] \"row 935 of 1384\"\n",
      "[1] \"row 936 of 1384\"\n",
      "[1] \"row 937 of 1384\"\n",
      "[1] \"row 938 of 1384\"\n",
      "[1] \"row 939 of 1384\"\n",
      "[1] \"row 940 of 1384\"\n",
      "[1] \"row 941 of 1384\"\n",
      "[1] \"row 942 of 1384\"\n",
      "[1] \"row 943 of 1384\"\n",
      "[1] \"row 944 of 1384\"\n",
      "[1] \"row 945 of 1384\"\n",
      "[1] \"row 946 of 1384\"\n",
      "[1] \"row 947 of 1384\"\n",
      "[1] \"row 948 of 1384\"\n",
      "[1] \"row 949 of 1384\"\n",
      "[1] \"row 950 of 1384\"\n",
      "[1] \"row 951 of 1384\"\n",
      "[1] \"row 952 of 1384\"\n",
      "[1] \"row 953 of 1384\"\n",
      "[1] \"row 954 of 1384\"\n",
      "[1] \"row 955 of 1384\"\n",
      "[1] \"row 956 of 1384\"\n",
      "[1] \"row 957 of 1384\"\n",
      "[1] \"row 958 of 1384\"\n",
      "[1] \"row 959 of 1384\"\n",
      "[1] \"row 960 of 1384\"\n",
      "[1] \"row 961 of 1384\"\n",
      "[1] \"row 962 of 1384\"\n",
      "[1] \"row 963 of 1384\"\n",
      "[1] \"row 964 of 1384\"\n",
      "[1] \"row 965 of 1384\"\n",
      "[1] \"row 966 of 1384\"\n",
      "[1] \"row 967 of 1384\"\n",
      "[1] \"row 968 of 1384\"\n",
      "[1] \"row 969 of 1384\"\n",
      "[1] \"row 970 of 1384\"\n",
      "[1] \"row 971 of 1384\"\n",
      "[1] \"row 972 of 1384\"\n",
      "[1] \"row 973 of 1384\"\n",
      "[1] \"row 974 of 1384\"\n",
      "[1] \"row 975 of 1384\"\n",
      "[1] \"row 976 of 1384\"\n",
      "[1] \"row 977 of 1384\"\n",
      "[1] \"row 978 of 1384\"\n",
      "[1] \"row 979 of 1384\"\n",
      "[1] \"row 980 of 1384\"\n",
      "[1] \"row 981 of 1384\"\n",
      "[1] \"row 982 of 1384\"\n",
      "[1] \"row 983 of 1384\"\n",
      "[1] \"row 984 of 1384\"\n",
      "[1] \"row 985 of 1384\"\n",
      "[1] \"row 986 of 1384\"\n",
      "[1] \"row 987 of 1384\"\n",
      "[1] \"row 988 of 1384\"\n",
      "[1] \"row 989 of 1384\"\n",
      "[1] \"row 990 of 1384\"\n",
      "[1] \"row 991 of 1384\"\n",
      "[1] \"row 992 of 1384\"\n",
      "[1] \"row 993 of 1384\"\n",
      "[1] \"row 994 of 1384\"\n",
      "[1] \"row 995 of 1384\"\n",
      "[1] \"row 996 of 1384\"\n",
      "[1] \"row 997 of 1384\"\n",
      "[1] \"row 998 of 1384\"\n",
      "[1] \"row 999 of 1384\"\n",
      "[1] \"row 1000 of 1384\"\n",
      "[1] \"row 1001 of 1384\"\n",
      "[1] \"row 1002 of 1384\"\n",
      "[1] \"row 1003 of 1384\"\n",
      "[1] \"row 1004 of 1384\"\n",
      "[1] \"row 1005 of 1384\"\n",
      "[1] \"row 1006 of 1384\"\n",
      "[1] \"row 1007 of 1384\"\n",
      "[1] \"row 1008 of 1384\"\n",
      "[1] \"row 1009 of 1384\"\n",
      "[1] \"row 1010 of 1384\"\n",
      "[1] \"row 1011 of 1384\"\n",
      "[1] \"row 1012 of 1384\"\n",
      "[1] \"row 1013 of 1384\"\n",
      "[1] \"row 1014 of 1384\"\n",
      "[1] \"row 1015 of 1384\"\n",
      "[1] \"row 1016 of 1384\"\n",
      "[1] \"row 1017 of 1384\"\n",
      "[1] \"row 1018 of 1384\"\n",
      "[1] \"row 1019 of 1384\"\n",
      "[1] \"row 1020 of 1384\"\n",
      "[1] \"row 1021 of 1384\"\n",
      "[1] \"row 1022 of 1384\"\n",
      "[1] \"row 1023 of 1384\"\n",
      "[1] \"row 1024 of 1384\"\n",
      "[1] \"row 1025 of 1384\"\n",
      "[1] \"row 1026 of 1384\"\n",
      "[1] \"row 1027 of 1384\"\n",
      "[1] \"row 1028 of 1384\"\n",
      "[1] \"row 1029 of 1384\"\n",
      "[1] \"row 1030 of 1384\"\n",
      "[1] \"row 1031 of 1384\"\n",
      "[1] \"row 1032 of 1384\"\n",
      "[1] \"row 1033 of 1384\"\n",
      "[1] \"row 1034 of 1384\"\n",
      "[1] \"row 1035 of 1384\"\n",
      "[1] \"row 1036 of 1384\"\n",
      "[1] \"row 1037 of 1384\"\n",
      "[1] \"row 1038 of 1384\"\n",
      "[1] \"row 1039 of 1384\"\n",
      "[1] \"row 1040 of 1384\"\n",
      "[1] \"row 1041 of 1384\"\n",
      "[1] \"row 1042 of 1384\"\n",
      "[1] \"row 1043 of 1384\"\n",
      "[1] \"row 1044 of 1384\"\n",
      "[1] \"row 1045 of 1384\"\n",
      "[1] \"row 1046 of 1384\"\n",
      "[1] \"row 1047 of 1384\"\n",
      "[1] \"row 1048 of 1384\"\n",
      "[1] \"row 1049 of 1384\"\n",
      "[1] \"row 1050 of 1384\"\n",
      "[1] \"row 1051 of 1384\"\n",
      "[1] \"row 1052 of 1384\"\n",
      "[1] \"row 1053 of 1384\"\n",
      "[1] \"row 1054 of 1384\"\n",
      "[1] \"row 1055 of 1384\"\n",
      "[1] \"row 1056 of 1384\"\n",
      "[1] \"row 1057 of 1384\"\n",
      "[1] \"row 1058 of 1384\"\n",
      "[1] \"row 1059 of 1384\"\n",
      "[1] \"row 1060 of 1384\"\n",
      "[1] \"row 1061 of 1384\"\n",
      "[1] \"row 1062 of 1384\"\n",
      "[1] \"row 1063 of 1384\"\n",
      "[1] \"row 1064 of 1384\"\n",
      "[1] \"row 1065 of 1384\"\n",
      "[1] \"row 1066 of 1384\"\n",
      "[1] \"row 1067 of 1384\"\n",
      "[1] \"row 1068 of 1384\"\n",
      "[1] \"row 1069 of 1384\"\n",
      "[1] \"row 1070 of 1384\"\n",
      "[1] \"row 1071 of 1384\"\n",
      "[1] \"row 1072 of 1384\"\n",
      "[1] \"row 1073 of 1384\"\n",
      "[1] \"row 1074 of 1384\"\n",
      "[1] \"row 1075 of 1384\"\n",
      "[1] \"row 1076 of 1384\"\n",
      "[1] \"row 1077 of 1384\"\n",
      "[1] \"row 1078 of 1384\"\n",
      "[1] \"row 1079 of 1384\"\n",
      "[1] \"row 1080 of 1384\"\n",
      "[1] \"row 1081 of 1384\"\n",
      "[1] \"row 1082 of 1384\"\n",
      "[1] \"row 1083 of 1384\"\n",
      "[1] \"row 1084 of 1384\"\n",
      "[1] \"row 1085 of 1384\"\n",
      "[1] \"row 1086 of 1384\"\n",
      "[1] \"row 1087 of 1384\"\n",
      "[1] \"row 1088 of 1384\"\n",
      "[1] \"row 1089 of 1384\"\n",
      "[1] \"row 1090 of 1384\"\n",
      "[1] \"row 1091 of 1384\"\n",
      "[1] \"row 1092 of 1384\"\n",
      "[1] \"row 1093 of 1384\"\n",
      "[1] \"row 1094 of 1384\"\n",
      "[1] \"row 1095 of 1384\"\n",
      "[1] \"row 1096 of 1384\"\n",
      "[1] \"row 1097 of 1384\"\n",
      "[1] \"row 1098 of 1384\"\n",
      "[1] \"row 1099 of 1384\"\n",
      "[1] \"row 1100 of 1384\"\n",
      "[1] \"row 1101 of 1384\"\n",
      "[1] \"row 1102 of 1384\"\n",
      "[1] \"row 1103 of 1384\"\n",
      "[1] \"row 1104 of 1384\"\n",
      "[1] \"row 1105 of 1384\"\n",
      "[1] \"row 1106 of 1384\"\n",
      "[1] \"row 1107 of 1384\"\n",
      "[1] \"row 1108 of 1384\"\n",
      "[1] \"row 1109 of 1384\"\n",
      "[1] \"row 1110 of 1384\"\n",
      "[1] \"row 1111 of 1384\"\n",
      "[1] \"row 1112 of 1384\"\n",
      "[1] \"row 1113 of 1384\"\n",
      "[1] \"row 1114 of 1384\"\n",
      "[1] \"row 1115 of 1384\"\n",
      "[1] \"row 1116 of 1384\"\n",
      "[1] \"row 1117 of 1384\"\n",
      "[1] \"row 1118 of 1384\"\n",
      "[1] \"row 1119 of 1384\"\n",
      "[1] \"row 1120 of 1384\"\n",
      "[1] \"row 1121 of 1384\"\n",
      "[1] \"row 1122 of 1384\"\n",
      "[1] \"row 1123 of 1384\"\n",
      "[1] \"row 1124 of 1384\"\n",
      "[1] \"row 1125 of 1384\"\n",
      "[1] \"row 1126 of 1384\"\n",
      "[1] \"row 1127 of 1384\"\n",
      "[1] \"row 1128 of 1384\"\n",
      "[1] \"row 1129 of 1384\"\n",
      "[1] \"row 1130 of 1384\"\n",
      "[1] \"row 1131 of 1384\"\n",
      "[1] \"row 1132 of 1384\"\n",
      "[1] \"row 1133 of 1384\"\n",
      "[1] \"row 1134 of 1384\"\n",
      "[1] \"row 1135 of 1384\"\n",
      "[1] \"row 1136 of 1384\"\n",
      "[1] \"row 1137 of 1384\"\n",
      "[1] \"row 1138 of 1384\"\n",
      "[1] \"row 1139 of 1384\"\n",
      "[1] \"row 1140 of 1384\"\n",
      "[1] \"row 1141 of 1384\"\n",
      "[1] \"row 1142 of 1384\"\n",
      "[1] \"row 1143 of 1384\"\n",
      "[1] \"row 1144 of 1384\"\n",
      "[1] \"row 1145 of 1384\"\n",
      "[1] \"row 1146 of 1384\"\n",
      "[1] \"row 1147 of 1384\"\n",
      "[1] \"row 1148 of 1384\"\n",
      "[1] \"row 1149 of 1384\"\n",
      "[1] \"row 1150 of 1384\"\n",
      "[1] \"row 1151 of 1384\"\n",
      "[1] \"row 1152 of 1384\"\n",
      "[1] \"row 1153 of 1384\"\n",
      "[1] \"row 1154 of 1384\"\n",
      "[1] \"row 1155 of 1384\"\n",
      "[1] \"row 1156 of 1384\"\n",
      "[1] \"row 1157 of 1384\"\n",
      "[1] \"row 1158 of 1384\"\n",
      "[1] \"row 1159 of 1384\"\n",
      "[1] \"row 1160 of 1384\"\n",
      "[1] \"row 1161 of 1384\"\n",
      "[1] \"row 1162 of 1384\"\n",
      "[1] \"row 1163 of 1384\"\n",
      "[1] \"row 1164 of 1384\"\n",
      "[1] \"row 1165 of 1384\"\n",
      "[1] \"row 1166 of 1384\"\n",
      "[1] \"row 1167 of 1384\"\n",
      "[1] \"row 1168 of 1384\"\n",
      "[1] \"row 1169 of 1384\"\n",
      "[1] \"row 1170 of 1384\"\n",
      "[1] \"row 1171 of 1384\"\n",
      "[1] \"row 1172 of 1384\"\n",
      "[1] \"row 1173 of 1384\"\n",
      "[1] \"row 1174 of 1384\"\n",
      "[1] \"row 1175 of 1384\"\n",
      "[1] \"row 1176 of 1384\"\n",
      "[1] \"row 1177 of 1384\"\n",
      "[1] \"row 1178 of 1384\"\n",
      "[1] \"row 1179 of 1384\"\n",
      "[1] \"row 1180 of 1384\"\n",
      "[1] \"row 1181 of 1384\"\n",
      "[1] \"row 1182 of 1384\"\n",
      "[1] \"row 1183 of 1384\"\n",
      "[1] \"row 1184 of 1384\"\n",
      "[1] \"row 1185 of 1384\"\n",
      "[1] \"row 1186 of 1384\"\n",
      "[1] \"row 1187 of 1384\"\n",
      "[1] \"row 1188 of 1384\"\n",
      "[1] \"row 1189 of 1384\"\n",
      "[1] \"row 1190 of 1384\"\n",
      "[1] \"row 1191 of 1384\"\n",
      "[1] \"row 1192 of 1384\"\n",
      "[1] \"row 1193 of 1384\"\n",
      "[1] \"row 1194 of 1384\"\n",
      "[1] \"row 1195 of 1384\"\n",
      "[1] \"row 1196 of 1384\"\n",
      "[1] \"row 1197 of 1384\"\n",
      "[1] \"row 1198 of 1384\"\n",
      "[1] \"row 1199 of 1384\"\n",
      "[1] \"row 1200 of 1384\"\n",
      "[1] \"row 1201 of 1384\"\n",
      "[1] \"row 1202 of 1384\"\n",
      "[1] \"row 1203 of 1384\"\n",
      "[1] \"row 1204 of 1384\"\n",
      "[1] \"row 1205 of 1384\"\n",
      "[1] \"row 1206 of 1384\"\n",
      "[1] \"row 1207 of 1384\"\n",
      "[1] \"row 1208 of 1384\"\n",
      "[1] \"row 1209 of 1384\"\n",
      "[1] \"row 1210 of 1384\"\n",
      "[1] \"row 1211 of 1384\"\n",
      "[1] \"row 1212 of 1384\"\n",
      "[1] \"row 1213 of 1384\"\n",
      "[1] \"row 1214 of 1384\"\n",
      "[1] \"row 1215 of 1384\"\n",
      "[1] \"row 1216 of 1384\"\n",
      "[1] \"row 1217 of 1384\"\n",
      "[1] \"row 1218 of 1384\"\n",
      "[1] \"row 1219 of 1384\"\n",
      "[1] \"row 1220 of 1384\"\n",
      "[1] \"row 1221 of 1384\"\n",
      "[1] \"row 1222 of 1384\"\n",
      "[1] \"row 1223 of 1384\"\n",
      "[1] \"row 1224 of 1384\"\n",
      "[1] \"row 1225 of 1384\"\n",
      "[1] \"row 1226 of 1384\"\n",
      "[1] \"row 1227 of 1384\"\n",
      "[1] \"row 1228 of 1384\"\n",
      "[1] \"row 1229 of 1384\"\n",
      "[1] \"row 1230 of 1384\"\n",
      "[1] \"row 1231 of 1384\"\n",
      "[1] \"row 1232 of 1384\"\n",
      "[1] \"row 1233 of 1384\"\n",
      "[1] \"row 1234 of 1384\"\n",
      "[1] \"row 1235 of 1384\"\n",
      "[1] \"row 1236 of 1384\"\n",
      "[1] \"row 1237 of 1384\"\n",
      "[1] \"row 1238 of 1384\"\n",
      "[1] \"row 1239 of 1384\"\n",
      "[1] \"row 1240 of 1384\"\n",
      "[1] \"row 1241 of 1384\"\n",
      "[1] \"row 1242 of 1384\"\n",
      "[1] \"row 1243 of 1384\"\n",
      "[1] \"row 1244 of 1384\"\n",
      "[1] \"row 1245 of 1384\"\n",
      "[1] \"row 1246 of 1384\"\n",
      "[1] \"row 1247 of 1384\"\n",
      "[1] \"row 1248 of 1384\"\n",
      "[1] \"row 1249 of 1384\"\n",
      "[1] \"row 1250 of 1384\"\n",
      "[1] \"row 1251 of 1384\"\n",
      "[1] \"row 1252 of 1384\"\n",
      "[1] \"row 1253 of 1384\"\n",
      "[1] \"row 1254 of 1384\"\n",
      "[1] \"row 1255 of 1384\"\n",
      "[1] \"row 1256 of 1384\"\n",
      "[1] \"row 1257 of 1384\"\n",
      "[1] \"row 1258 of 1384\"\n",
      "[1] \"row 1259 of 1384\"\n",
      "[1] \"row 1260 of 1384\"\n",
      "[1] \"row 1261 of 1384\"\n",
      "[1] \"row 1262 of 1384\"\n",
      "[1] \"row 1263 of 1384\"\n",
      "[1] \"row 1264 of 1384\"\n",
      "[1] \"row 1265 of 1384\"\n",
      "[1] \"row 1266 of 1384\"\n",
      "[1] \"row 1267 of 1384\"\n",
      "[1] \"row 1268 of 1384\"\n",
      "[1] \"row 1269 of 1384\"\n",
      "[1] \"row 1270 of 1384\"\n",
      "[1] \"row 1271 of 1384\"\n",
      "[1] \"row 1272 of 1384\"\n",
      "[1] \"row 1273 of 1384\"\n",
      "[1] \"row 1274 of 1384\"\n",
      "[1] \"row 1275 of 1384\"\n",
      "[1] \"row 1276 of 1384\"\n",
      "[1] \"row 1277 of 1384\"\n",
      "[1] \"row 1278 of 1384\"\n",
      "[1] \"row 1279 of 1384\"\n",
      "[1] \"row 1280 of 1384\"\n",
      "[1] \"row 1281 of 1384\"\n",
      "[1] \"row 1282 of 1384\"\n",
      "[1] \"row 1283 of 1384\"\n",
      "[1] \"row 1284 of 1384\"\n",
      "[1] \"row 1285 of 1384\"\n",
      "[1] \"row 1286 of 1384\"\n",
      "[1] \"row 1287 of 1384\"\n",
      "[1] \"row 1288 of 1384\"\n",
      "[1] \"row 1289 of 1384\"\n",
      "[1] \"row 1290 of 1384\"\n",
      "[1] \"row 1291 of 1384\"\n",
      "[1] \"row 1292 of 1384\"\n",
      "[1] \"row 1293 of 1384\"\n",
      "[1] \"row 1294 of 1384\"\n",
      "[1] \"row 1295 of 1384\"\n",
      "[1] \"row 1296 of 1384\"\n",
      "[1] \"row 1297 of 1384\"\n",
      "[1] \"row 1298 of 1384\"\n",
      "[1] \"row 1299 of 1384\"\n",
      "[1] \"row 1300 of 1384\"\n",
      "[1] \"row 1301 of 1384\"\n",
      "[1] \"row 1302 of 1384\"\n",
      "[1] \"row 1303 of 1384\"\n",
      "[1] \"row 1304 of 1384\"\n",
      "[1] \"row 1305 of 1384\"\n",
      "[1] \"row 1306 of 1384\"\n",
      "[1] \"row 1307 of 1384\"\n",
      "[1] \"row 1308 of 1384\"\n",
      "[1] \"row 1309 of 1384\"\n",
      "[1] \"row 1310 of 1384\"\n",
      "[1] \"row 1311 of 1384\"\n",
      "[1] \"row 1312 of 1384\"\n",
      "[1] \"row 1313 of 1384\"\n",
      "[1] \"row 1314 of 1384\"\n",
      "[1] \"row 1315 of 1384\"\n",
      "[1] \"row 1316 of 1384\"\n",
      "[1] \"row 1317 of 1384\"\n",
      "[1] \"row 1318 of 1384\"\n",
      "[1] \"row 1319 of 1384\"\n",
      "[1] \"row 1320 of 1384\"\n",
      "[1] \"row 1321 of 1384\"\n",
      "[1] \"row 1322 of 1384\"\n",
      "[1] \"row 1323 of 1384\"\n",
      "[1] \"row 1324 of 1384\"\n",
      "[1] \"row 1325 of 1384\"\n",
      "[1] \"row 1326 of 1384\"\n",
      "[1] \"row 1327 of 1384\"\n",
      "[1] \"row 1328 of 1384\"\n",
      "[1] \"row 1329 of 1384\"\n",
      "[1] \"row 1330 of 1384\"\n",
      "[1] \"row 1331 of 1384\"\n",
      "[1] \"row 1332 of 1384\"\n",
      "[1] \"row 1333 of 1384\"\n",
      "[1] \"row 1334 of 1384\"\n",
      "[1] \"row 1335 of 1384\"\n",
      "[1] \"row 1336 of 1384\"\n",
      "[1] \"row 1337 of 1384\"\n",
      "[1] \"row 1338 of 1384\"\n",
      "[1] \"row 1339 of 1384\"\n",
      "[1] \"row 1340 of 1384\"\n",
      "[1] \"row 1341 of 1384\"\n",
      "[1] \"row 1342 of 1384\"\n",
      "[1] \"row 1343 of 1384\"\n",
      "[1] \"row 1344 of 1384\"\n",
      "[1] \"row 1345 of 1384\"\n",
      "[1] \"row 1346 of 1384\"\n",
      "[1] \"row 1347 of 1384\"\n",
      "[1] \"row 1348 of 1384\"\n",
      "[1] \"row 1349 of 1384\"\n",
      "[1] \"row 1350 of 1384\"\n",
      "[1] \"row 1351 of 1384\"\n",
      "[1] \"row 1352 of 1384\"\n",
      "[1] \"row 1353 of 1384\"\n",
      "[1] \"row 1354 of 1384\"\n",
      "[1] \"row 1355 of 1384\"\n",
      "[1] \"row 1356 of 1384\"\n",
      "[1] \"row 1357 of 1384\"\n",
      "[1] \"row 1358 of 1384\"\n",
      "[1] \"row 1359 of 1384\"\n",
      "[1] \"row 1360 of 1384\"\n",
      "[1] \"row 1361 of 1384\"\n",
      "[1] \"row 1362 of 1384\"\n",
      "[1] \"row 1363 of 1384\"\n",
      "[1] \"row 1364 of 1384\"\n",
      "[1] \"row 1365 of 1384\"\n",
      "[1] \"row 1366 of 1384\"\n",
      "[1] \"row 1367 of 1384\"\n",
      "[1] \"row 1368 of 1384\"\n",
      "[1] \"row 1369 of 1384\"\n",
      "[1] \"row 1370 of 1384\"\n",
      "[1] \"row 1371 of 1384\"\n",
      "[1] \"row 1372 of 1384\"\n",
      "[1] \"row 1373 of 1384\"\n",
      "[1] \"row 1374 of 1384\"\n",
      "[1] \"row 1375 of 1384\"\n",
      "[1] \"row 1376 of 1384\"\n",
      "[1] \"row 1377 of 1384\"\n",
      "[1] \"row 1378 of 1384\"\n",
      "[1] \"row 1379 of 1384\"\n",
      "[1] \"row 1380 of 1384\"\n",
      "[1] \"row 1381 of 1384\"\n",
      "[1] \"row 1382 of 1384\"\n",
      "[1] \"row 1383 of 1384\"\n",
      "[1] \"row 1384 of 1384\"\n"
     ]
    }
   ],
   "source": [
    "source(\"lib/donkey-tail.R\")"
   ]
  },
  {
   "cell_type": "code",
   "execution_count": 70,
   "metadata": {},
   "outputs": [],
   "source": [
    "save(opt_bal, opt_yield, ait_dist, file = \"output/opt.RData\")"
   ]
  },
  {
   "cell_type": "code",
   "execution_count": 71,
   "metadata": {
    "lines_to_next_cell": 2
   },
   "outputs": [],
   "source": [
    "load(\"output/opt.RData\")"
   ]
  },
  {
   "cell_type": "code",
   "execution_count": 72,
   "metadata": {},
   "outputs": [
    {
     "data": {
      "text/html": [
       "<table>\n",
       "<caption>A tibble: 8 × 6</caption>\n",
       "<thead>\n",
       "\t<tr><th scope=col>variable</th><th scope=col>min</th><th scope=col>q25</th><th scope=col>median</th><th scope=col>q75</th><th scope=col>max</th></tr>\n",
       "\t<tr><th scope=col>&lt;fct&gt;</th><th scope=col>&lt;dbl&gt;</th><th scope=col>&lt;dbl&gt;</th><th scope=col>&lt;dbl&gt;</th><th scope=col>&lt;dbl&gt;</th><th scope=col>&lt;dbl&gt;</th></tr>\n",
       "</thead>\n",
       "<tbody>\n",
       "\t<tr><td>N </td><td> 1.339020240</td><td> 1.814534456</td><td> 2.010939428</td><td> 2.204599155</td><td> 3.14539303</td></tr>\n",
       "\t<tr><td>P </td><td> 0.062727281</td><td> 0.125535814</td><td> 0.141189753</td><td> 0.161899884</td><td> 0.27661015</td></tr>\n",
       "\t<tr><td>K </td><td> 0.359831595</td><td> 0.550277218</td><td> 0.615407829</td><td> 0.695457027</td><td> 1.09525692</td></tr>\n",
       "\t<tr><td>Ca</td><td> 0.219479226</td><td> 0.348311422</td><td> 0.400000000</td><td> 0.462145966</td><td> 0.78243639</td></tr>\n",
       "\t<tr><td>Mg</td><td> 0.089309578</td><td> 0.157068055</td><td> 0.176146909</td><td> 0.197764309</td><td> 0.33038634</td></tr>\n",
       "\t<tr><td>B </td><td> 0.001122185</td><td> 0.002536430</td><td> 0.003917641</td><td> 0.004875066</td><td> 0.01300946</td></tr>\n",
       "\t<tr><td>Al</td><td> 0.002106753</td><td> 0.004313511</td><td> 0.005421540</td><td> 0.006892018</td><td> 0.01708912</td></tr>\n",
       "\t<tr><td>Fv</td><td>95.375376577</td><td>96.371931040</td><td>96.638409220</td><td>96.874162888</td><td>97.55452850</td></tr>\n",
       "</tbody>\n",
       "</table>\n"
      ],
      "text/latex": [
       "A tibble: 8 × 6\n",
       "\\begin{tabular}{llllll}\n",
       " variable & min & q25 & median & q75 & max\\\\\n",
       " <fct> & <dbl> & <dbl> & <dbl> & <dbl> & <dbl>\\\\\n",
       "\\hline\n",
       "\t N  &  1.339020240 &  1.814534456 &  2.010939428 &  2.204599155 &  3.14539303\\\\\n",
       "\t P  &  0.062727281 &  0.125535814 &  0.141189753 &  0.161899884 &  0.27661015\\\\\n",
       "\t K  &  0.359831595 &  0.550277218 &  0.615407829 &  0.695457027 &  1.09525692\\\\\n",
       "\t Ca &  0.219479226 &  0.348311422 &  0.400000000 &  0.462145966 &  0.78243639\\\\\n",
       "\t Mg &  0.089309578 &  0.157068055 &  0.176146909 &  0.197764309 &  0.33038634\\\\\n",
       "\t B  &  0.001122185 &  0.002536430 &  0.003917641 &  0.004875066 &  0.01300946\\\\\n",
       "\t Al &  0.002106753 &  0.004313511 &  0.005421540 &  0.006892018 &  0.01708912\\\\\n",
       "\t Fv & 95.375376577 & 96.371931040 & 96.638409220 & 96.874162888 & 97.55452850\\\\\n",
       "\\end{tabular}\n"
      ],
      "text/markdown": [
       "\n",
       "A tibble: 8 × 6\n",
       "\n",
       "| variable &lt;fct&gt; | min &lt;dbl&gt; | q25 &lt;dbl&gt; | median &lt;dbl&gt; | q75 &lt;dbl&gt; | max &lt;dbl&gt; |\n",
       "|---|---|---|---|---|---|\n",
       "| N  |  1.339020240 |  1.814534456 |  2.010939428 |  2.204599155 |  3.14539303 |\n",
       "| P  |  0.062727281 |  0.125535814 |  0.141189753 |  0.161899884 |  0.27661015 |\n",
       "| K  |  0.359831595 |  0.550277218 |  0.615407829 |  0.695457027 |  1.09525692 |\n",
       "| Ca |  0.219479226 |  0.348311422 |  0.400000000 |  0.462145966 |  0.78243639 |\n",
       "| Mg |  0.089309578 |  0.157068055 |  0.176146909 |  0.197764309 |  0.33038634 |\n",
       "| B  |  0.001122185 |  0.002536430 |  0.003917641 |  0.004875066 |  0.01300946 |\n",
       "| Al |  0.002106753 |  0.004313511 |  0.005421540 |  0.006892018 |  0.01708912 |\n",
       "| Fv | 95.375376577 | 96.371931040 | 96.638409220 | 96.874162888 | 97.55452850 |\n",
       "\n"
      ],
      "text/plain": [
       "  variable min          q25          median       q75          max        \n",
       "1 N         1.339020240  1.814534456  2.010939428  2.204599155  3.14539303\n",
       "2 P         0.062727281  0.125535814  0.141189753  0.161899884  0.27661015\n",
       "3 K         0.359831595  0.550277218  0.615407829  0.695457027  1.09525692\n",
       "4 Ca        0.219479226  0.348311422  0.400000000  0.462145966  0.78243639\n",
       "5 Mg        0.089309578  0.157068055  0.176146909  0.197764309  0.33038634\n",
       "6 B         0.001122185  0.002536430  0.003917641  0.004875066  0.01300946\n",
       "7 Al        0.002106753  0.004313511  0.005421540  0.006892018  0.01708912\n",
       "8 Fv       95.375376577 96.371931040 96.638409220 96.874162888 97.55452850"
      ]
     },
     "metadata": {},
     "output_type": "display_data"
    },
    {
     "data": {
      "image/png": "[encoded data removed]",
      "text/plain": [
       "plot without title"
      ]
     },
     "metadata": {
      "image/png": {
       "height": 420,
       "width": 420
      },
      "text/plain": {
       "height": 420,
       "width": 420
      }
     },
     "output_type": "display_data"
    }
   ],
   "source": [
    "opt_comp <- ilrInv(opt_bal, V = gsi.buildilrBase(t(sbp_leaf))) %>% \n",
    "  data.frame() %>% \n",
    "  mutate(id = 1:nrow(opt_bal)) %>% \n",
    "  pivot_longer(cols = -c(id),\n",
    "               names_to = \"variable\", values_to = \"value\") %>% \n",
    "  mutate(value = value * 100,\n",
    "         variable = factor(variable, levels = c(\"N\", \"P\", \"K\", \"Ca\", \"Mg\", \"B\", \"Al\", \"Fv\")))\n",
    "\n",
    "opt_output <- tibble(id = 1:nrow(opt_bal),\n",
    "                     Yield = opt_yield[, 2],\n",
    "                     `Aitchison distance` = ait_dist) %>% \n",
    "  pivot_longer(cols = -c(id),\n",
    "               names_to = \"variable\", values_to = \"value\")\n",
    "\n",
    "opt_comp_gg <- opt_comp %>% \n",
    "  filter(variable != \"Fv\") %>% \n",
    "  ggplot(aes(x = value)) +\n",
    "  facet_wrap(~variable, nrow = 2, scales = \"free\") +\n",
    "  geom_histogram(bins = 30) +\n",
    "  labs(x = \"Foliar concentrations (%)\", y = \"Counts\") +\n",
    "  theme_bw() +\n",
    "  theme(text = element_text(family = \"serif\"))\n",
    "\n",
    "opt_out_gg <- opt_output %>% \n",
    "  ggplot(aes(x = value)) +\n",
    "  facet_wrap(~variable, nrow = 1, scales = \"free\") +\n",
    "  geom_histogram(bins = 30) +\n",
    "  labs(x = \"\", y = \"Counts\") +\n",
    "  theme_bw() +\n",
    "  theme(text = element_text(family = \"serif\"))\n",
    "\n",
    "opt_comp_gg / opt_out_gg\n",
    "ggsave(\"images/opt-distr.png\", height = 10, width = 10, dpi = 300)\n",
    "\n",
    "opt_comp %>% \n",
    "  group_by(variable) %>% \n",
    "  summarise(min = min(value),\n",
    "            q25 = quantile(value, prob = 0.25),\n",
    "            median = median(value),\n",
    "            q75 = quantile(value, prob = 0.75),\n",
    "            max = max(value))"
   ]
  },
  {
   "cell_type": "code",
   "execution_count": 70,
   "metadata": {
    "lines_to_next_cell": 2
   },
   "outputs": [
    {
     "data": {
      "text/html": [
       "<table>\n",
       "<caption>A tibble: 12 × 3</caption>\n",
       "<thead>\n",
       "\t<tr><th scope=col>variable</th><th scope=col>min</th><th scope=col>max</th></tr>\n",
       "\t<tr><th scope=col>&lt;chr&gt;</th><th scope=col>&lt;dbl&gt;</th><th scope=col>&lt;dbl&gt;</th></tr>\n",
       "</thead>\n",
       "<tbody>\n",
       "\t<tr><td>Leaf Al (ppm)</td><td> 21.00</td><td>155.40</td></tr>\n",
       "\t<tr><td>Leaf B (ppm) </td><td> 15.00</td><td> 94.40</td></tr>\n",
       "\t<tr><td>Leaf Ca (%)  </td><td>  0.21</td><td>  0.63</td></tr>\n",
       "\t<tr><td>Leaf Cu (ppm)</td><td>  1.21</td><td>  9.30</td></tr>\n",
       "\t<tr><td>Leaf Fe (ppm)</td><td>  8.40</td><td> 54.20</td></tr>\n",
       "\t<tr><td>Leaf K (%)   </td><td>  0.39</td><td>  0.92</td></tr>\n",
       "\t<tr><td>Leaf Mg (%)  </td><td>  0.09</td><td>  0.29</td></tr>\n",
       "\t<tr><td>Leaf Mn (ppm)</td><td>154.00</td><td>298.00</td></tr>\n",
       "\t<tr><td>Leaf Mo (ppm)</td><td>  0.00</td><td>  0.65</td></tr>\n",
       "\t<tr><td>Leaf N (%)   </td><td>  0.52</td><td>  2.80</td></tr>\n",
       "\t<tr><td>Leaf P (%)   </td><td>  0.06</td><td>  0.24</td></tr>\n",
       "\t<tr><td>Leaf Zn (ppm)</td><td>  3.09</td><td> 15.20</td></tr>\n",
       "</tbody>\n",
       "</table>\n"
      ],
      "text/latex": [
       "A tibble: 12 × 3\n",
       "\\begin{tabular}{lll}\n",
       " variable & min & max\\\\\n",
       " <chr> & <dbl> & <dbl>\\\\\n",
       "\\hline\n",
       "\t Leaf Al (ppm) &  21.00 & 155.40\\\\\n",
       "\t Leaf B (ppm)  &  15.00 &  94.40\\\\\n",
       "\t Leaf Ca (\\%)   &   0.21 &   0.63\\\\\n",
       "\t Leaf Cu (ppm) &   1.21 &   9.30\\\\\n",
       "\t Leaf Fe (ppm) &   8.40 &  54.20\\\\\n",
       "\t Leaf K (\\%)    &   0.39 &   0.92\\\\\n",
       "\t Leaf Mg (\\%)   &   0.09 &   0.29\\\\\n",
       "\t Leaf Mn (ppm) & 154.00 & 298.00\\\\\n",
       "\t Leaf Mo (ppm) &   0.00 &   0.65\\\\\n",
       "\t Leaf N (\\%)    &   0.52 &   2.80\\\\\n",
       "\t Leaf P (\\%)    &   0.06 &   0.24\\\\\n",
       "\t Leaf Zn (ppm) &   3.09 &  15.20\\\\\n",
       "\\end{tabular}\n"
      ],
      "text/markdown": [
       "\n",
       "A tibble: 12 × 3\n",
       "\n",
       "| variable &lt;chr&gt; | min &lt;dbl&gt; | max &lt;dbl&gt; |\n",
       "|---|---|---|\n",
       "| Leaf Al (ppm) |  21.00 | 155.40 |\n",
       "| Leaf B (ppm)  |  15.00 |  94.40 |\n",
       "| Leaf Ca (%)   |   0.21 |   0.63 |\n",
       "| Leaf Cu (ppm) |   1.21 |   9.30 |\n",
       "| Leaf Fe (ppm) |   8.40 |  54.20 |\n",
       "| Leaf K (%)    |   0.39 |   0.92 |\n",
       "| Leaf Mg (%)   |   0.09 |   0.29 |\n",
       "| Leaf Mn (ppm) | 154.00 | 298.00 |\n",
       "| Leaf Mo (ppm) |   0.00 |   0.65 |\n",
       "| Leaf N (%)    |   0.52 |   2.80 |\n",
       "| Leaf P (%)    |   0.06 |   0.24 |\n",
       "| Leaf Zn (ppm) |   3.09 |  15.20 |\n",
       "\n"
      ],
      "text/plain": [
       "   variable      min    max   \n",
       "1  Leaf Al (ppm)  21.00 155.40\n",
       "2  Leaf B (ppm)   15.00  94.40\n",
       "3  Leaf Ca (%)     0.21   0.63\n",
       "4  Leaf Cu (ppm)   1.21   9.30\n",
       "5  Leaf Fe (ppm)   8.40  54.20\n",
       "6  Leaf K (%)      0.39   0.92\n",
       "7  Leaf Mg (%)     0.09   0.29\n",
       "8  Leaf Mn (ppm) 154.00 298.00\n",
       "9  Leaf Mo (ppm)   0.00   0.65\n",
       "10 Leaf N (%)      0.52   2.80\n",
       "11 Leaf P (%)      0.06   0.24\n",
       "12 Leaf Zn (ppm)   3.09  15.20"
      ]
     },
     "metadata": {},
     "output_type": "display_data"
    }
   ],
   "source": [
    "df_source %>% \n",
    "  select(id, starts_with(\"Leaf\")) %>% \n",
    "  pivot_longer(cols = -id, names_to = \"variable\", values_to = \"value\") %>% \n",
    "  group_by(variable) %>% \n",
    "  summarise(min = min(value, na.rm = TRUE),\n",
    "            max = max(value, na.rm = TRUE))"
   ]
  }
 ],
 "metadata": {
  "jupytext": {
   "cell_metadata_filter": "tags,name,-all",
   "notebook_metadata_filter": "-all",
   "text_representation": {
    "extension": ".Rmd",
    "format_name": "rmarkdown"
   }
  },
  "kernelspec": {
   "display_name": "R 3.6.2 - blueberry",
   "language": "R",
   "name": "ir363-bb"
  },
  "language_info": {
   "codemirror_mode": "r",
   "file_extension": ".r",
   "mimetype": "text/x-r-source",
   "name": "R",
   "pygments_lexer": "r",
   "version": "3.6.2"
  }
 },
 "nbformat": 4,
 "nbformat_minor": 4
}
