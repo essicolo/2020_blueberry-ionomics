{
 "cells": [
  {
   "cell_type": "markdown",
   "metadata": {},
   "source": [
    "# Blueberry ionomics, part 1 - yield modelling"
   ]
  },
  {
   "cell_type": "markdown",
   "metadata": {},
   "source": [
    "This notebook contains the scripts to:\n",
    "\n",
    "1. Create a plot to compare yield in our database to yield in the literature\n",
    "1. Download weather data from Environment Canada and generate weather indices\n",
    "1. Preprocess compositional data\n",
    "1. Compute Bayesian investigative linear models\n",
    "1. Compute predictive models\n",
    "1. Compute a Markov chain alogorithm seeking for optimal ionomes given localized conditions\n",
    "1. Analyse the results of the optimization\n"
   ]
  },
  {
   "cell_type": "code",
   "execution_count": 2,
   "metadata": {},
   "outputs": [
    {
     "data": {
      "text/html": [
       "'LC_COLLATE=English_United States.1252;LC_CTYPE=English_United States.1252;LC_MONETARY=English_United States.1252;LC_NUMERIC=C;LC_TIME=English_United States.1252'"
      ],
      "text/latex": [
       "'LC\\_COLLATE=English\\_United States.1252;LC\\_CTYPE=English\\_United States.1252;LC\\_MONETARY=English\\_United States.1252;LC\\_NUMERIC=C;LC\\_TIME=English\\_United States.1252'"
      ],
      "text/markdown": [
       "'LC_COLLATE=English_United States.1252;LC_CTYPE=English_United States.1252;LC_MONETARY=English_United States.1252;LC_NUMERIC=C;LC_TIME=English_United States.1252'"
      ],
      "text/plain": [
       "[1] \"LC_COLLATE=English_United States.1252;LC_CTYPE=English_United States.1252;LC_MONETARY=English_United States.1252;LC_NUMERIC=C;LC_TIME=English_United States.1252\""
      ]
     },
     "metadata": {},
     "output_type": "display_data"
    }
   ],
   "source": [
    "Sys.setlocale(\"LC_ALL\",\"English\")\n",
    "library(\"tidyverse\")\n",
    "library(\"ggpubr\")\n",
    "library(\"ggrepel\")"
   ]
  },
  {
   "cell_type": "markdown",
   "metadata": {},
   "source": [
    "## Literature yields\n",
    "\n",
    "How does yields obtained in our data set compare to the literature?"
   ]
  },
  {
   "cell_type": "code",
   "execution_count": 3,
   "metadata": {},
   "outputs": [
    {
     "name": "stderr",
     "output_type": "stream",
     "text": [
      "Parsed with column specification:\n",
      "cols(\n",
      "  Author = \u001b[31mcol_character()\u001b[39m,\n",
      "  Min = \u001b[32mcol_double()\u001b[39m,\n",
      "  Max = \u001b[32mcol_double()\u001b[39m\n",
      ")\n",
      "\n"
     ]
    },
    {
     "data": {
      "image/png": "[encoded data removed]",
      "text/plain": [
       "plot without title"
      ]
     },
     "metadata": {
      "image/png": {
       "height": 420,
       "width": 420
      },
      "text/plain": {
       "height": 420,
       "width": 420
      }
     },
     "output_type": "display_data"
    }
   ],
   "source": [
    "litterature_yields <- read_csv(\"data/literature-yield.csv\")\n",
    "\n",
    "litterature_yields %>%\n",
    "  mutate(Author = fct_reorder(Author, Max)) %>%\n",
    "  ggplot(aes(x = Min, y = Author)) +\n",
    "  geom_segment(aes(xend = Max, yend = Author), lwd = 2) +\n",
    "  scale_x_continuous(limits = c(0, 14), breaks = seq(from = 0, to = 15, by = 2)) +\n",
    "  geom_vline(xintercept = 0, linetype = 2) +\n",
    "  labs(x = expression(\"Yield Mg ha\"^\"-1\"), y = \"\") +\n",
    "  theme_pubr() +\n",
    "  ggsave(\"images/litterature-yields.png\", height = 4, width = 8, dpi = 300)"
   ]
  },
  {
   "cell_type": "markdown",
   "metadata": {},
   "source": [
    "## Blueberry data\n",
    "\n",
    "Data are stored in a single data set."
   ]
  },
  {
   "cell_type": "code",
   "execution_count": 17,
   "metadata": {
    "name": "expl-load-data"
   },
   "outputs": [
    {
     "name": "stderr",
     "output_type": "stream",
     "text": [
      "Parsed with column specification:\n",
      "cols(\n",
      "  .default = col_double(),\n",
      "  Project = \u001b[31mcol_character()\u001b[39m,\n",
      "  Site = \u001b[31mcol_character()\u001b[39m,\n",
      "  Coordinates = \u001b[31mcol_character()\u001b[39m\n",
      ")\n",
      "\n",
      "See spec(...) for full column specifications.\n",
      "\n",
      "Parsed with column specification:\n",
      "cols(\n",
      "  phenology = \u001b[31mcol_character()\u001b[39m,\n",
      "  stages = \u001b[31mcol_character()\u001b[39m,\n",
      "  `julian day start` = \u001b[32mcol_double()\u001b[39m,\n",
      "  `julian day end` = \u001b[32mcol_double()\u001b[39m\n",
      ")\n",
      "\n"
     ]
    },
    {
     "name": "stdout",
     "output_type": "stream",
     "text": [
      "-- Data Summary ------------------------\n",
      "                           Values   \n",
      "Name                       df_source\n",
      "Number of rows             1504     \n",
      "Number of columns          30       \n",
      "_______________________             \n",
      "Column type frequency:              \n",
      "  character                3        \n",
      "  numeric                  27       \n",
      "________________________            \n",
      "Group variables            None     \n",
      "\n",
      "-- Variable type: character ----------------------------------------------------\n",
      "# A tibble: 3 x 8\n",
      "  skim_variable n_missing complete_rate   min   max empty n_unique whitespace\n",
      "* <chr>             <int>         <dbl> <int> <int> <int>    <int>      <int>\n",
      "1 Project               0             1     2     6     0       19          0\n",
      "2 Site                  0             1     7    16     0        6          0\n",
      "3 Coordinates           0             1    17    17     0        6          0\n",
      "\n",
      "-- Variable type: numeric ------------------------------------------------------\n",
      "# A tibble: 27 x 11\n",
      "   skim_variable             n_missing complete_rate     mean        sd      p0\n",
      " * <chr>                         <int>         <dbl>    <dbl>     <dbl>   <dbl>\n",
      " 1 Year                              0         1     2007.       3.27   2001   \n",
      " 2 Parcel                            0         1       47.3     33.9       1   \n",
      " 3 Block                             0         1        2.5      1.12      1   \n",
      " 4 N dose (kg/ha)                    0         1       41.7     32.8       0   \n",
      " 5 P2O5 dose (kg/ha)                 0         1       22.0     25.0       0   \n",
      " 6 K2O dose (kg/ha)                  0         1       37.2     25.5       0   \n",
      " 7 Leaf N (%)                        5         0.997    1.78     0.238     0.52\n",
      " 8 Leaf P (%)                        5         0.997    0.131    0.0217    0.06\n",
      " 9 Leaf K (%)                        2         0.999    0.610    0.0866    0.39\n",
      "10 Leaf Ca (%)                       1         0.999    0.384    0.0677    0.21\n",
      "11 Leaf Mg (%)                       1         0.999    0.165    0.0256    0.09\n",
      "12 Leaf Al (ppm)                   272         0.819   51.3     16.6      21   \n",
      "13 Leaf B (ppm)                    271         0.820   39.8     13.1      15   \n",
      "14 Leaf Cu (ppm)                   522         0.653    4.32     1.30      1.21\n",
      "15 Leaf Zn (ppm)                   531         0.647    7.97     2.23      3.09\n",
      "16 Leaf Fe (ppm)                   530         0.648   20.8      5.74      8.4 \n",
      "17 Leaf Mn (ppm)                   535         0.644  211.      22.1     154   \n",
      "18 Leaf Mo (ppm)                   777         0.483    0.215    0.137     0   \n",
      "19 Berry yield (kg/ha)             110         0.927 3720.    2636.      122   \n",
      "20 Berry dry matter_fraction       831         0.447    0.124    0.0337    0.02\n",
      "21 Soil NO3 (ppm)                  774         0.485    0.783    1.99      0   \n",
      "22 Soil NH4 (ppm)                  774         0.485    2.94     3.01      0   \n",
      "23 Soil P (mg/kg)                    1         0.999   62.4     61.4       0   \n",
      "24 Soil K (mg/kg)                    8         0.995   79.0     59.8      14   \n",
      "25 Soil Ca (mg/kg)                   1         0.999  334.     362.       16   \n",
      "26 Soil Mg (mg/kg)                   0         1       36.8     34.9       2   \n",
      "27 pH H2O                            8         0.995    4.61     0.501     3.57\n",
      "       p25     p50      p75      p100 hist \n",
      " *   <dbl>   <dbl>    <dbl>     <dbl> <chr>\n",
      " 1 2005    2009    2010      2011     <U+2585><U+2583><U+2583><U+2583><U+2587>\n",
      " 2   20      40      66       128     <U+2587><U+2587><U+2583><U+2582><U+2582>\n",
      " 3    1.75    2.5     3.25      4     <U+2587><U+2587><U+2581><U+2587><U+2587>\n",
      " 4   13.5    30      60        90     <U+2587><U+2587><U+2581><U+2586><U+2586>\n",
      " 5    0      20      20        90     <U+2586><U+2587><U+2581><U+2581><U+2581>\n",
      " 6   30      30      60        90     <U+2582><U+2587><U+2581><U+2582><U+2582>\n",
      " 7    1.61    1.75    1.93      2.8   <U+2581><U+2581><U+2587><U+2583><U+2581>\n",
      " 8    0.12    0.13    0.14      0.24  <U+2581><U+2587><U+2585><U+2581><U+2581>\n",
      " 9    0.55    0.61    0.67      0.92  <U+2582><U+2587><U+2587><U+2582><U+2581>\n",
      "10    0.33    0.38    0.43      0.63  <U+2582><U+2587><U+2587><U+2582><U+2581>\n",
      "11    0.15    0.16    0.18      0.290 <U+2582><U+2587><U+2587><U+2581><U+2581>\n",
      "12   41.8    48      56.8     155.    <U+2587><U+2587><U+2581><U+2581><U+2581>\n",
      "13   31      37      46.2      94.4   <U+2583><U+2587><U+2582><U+2581><U+2581>\n",
      "14    3.38    4.24    5.16      9.3   <U+2582><U+2587><U+2587><U+2582><U+2581>\n",
      "15    6.16    7.9     9.58     15.2   <U+2583><U+2587><U+2587><U+2583><U+2581>\n",
      "16   17.1    19.6    23        54.2   <U+2585><U+2587><U+2581><U+2581><U+2581>\n",
      "17  195     208     222       298     <U+2581><U+2587><U+2586><U+2582><U+2581>\n",
      "18    0.11    0.19    0.28      0.65  <U+2586><U+2587><U+2583><U+2582><U+2581>\n",
      "19 1700.   3052    5024.    14853     <U+2587><U+2585><U+2582><U+2581><U+2581>\n",
      "20    0.12    0.13    0.146     0.23  <U+2581><U+2581><U+2587><U+2583><U+2581>\n",
      "21    0       0       0.737    39.1   <U+2587><U+2581><U+2581><U+2581><U+2581>\n",
      "22    1.07    2.33    3.77     36.5   <U+2587><U+2581><U+2581><U+2581><U+2581>\n",
      "23   19      37      93       434     <U+2587><U+2582><U+2581><U+2581><U+2581>\n",
      "24   32      62     108       468     <U+2587><U+2582><U+2581><U+2581><U+2581>\n",
      "25  122     220     386.     3866     <U+2587><U+2581><U+2581><U+2581><U+2581>\n",
      "26   15      25      46       283     <U+2587><U+2581><U+2581><U+2581><U+2581>\n",
      "27    4.34    4.53    4.77      6.37  <U+2582><U+2587><U+2583><U+2581><U+2581>\n"
     ]
    }
   ],
   "source": [
    "library(\"lubridate\")\n",
    "library(\"tidymodels\")\n",
    "library(\"skimr\")\n",
    "df_source <- read_csv(\"data/data.csv\", na = c(\"\", \".\"))\n",
    "phenology_table <- read_csv(\"data/phenology.csv\")\n",
    "skim(df_source)"
   ]
  },
  {
   "cell_type": "markdown",
   "metadata": {},
   "source": [
    "There are a lot of missing data in the Mo leaf content and the berry dry matter fraction. But oligo-elements are important information. We will proceed to missing data imputation further on. \n",
    "\n",
    "Dosage is put on element scale."
   ]
  },
  {
   "cell_type": "code",
   "execution_count": 18,
   "metadata": {},
   "outputs": [],
   "source": [
    "df_source <- df_source %>%\n",
    "  mutate(\n",
    "    id = 1:nrow(.),\n",
    "    `P dose (kg/ha)` = `P2O5 dose (kg/ha)` / 2.29,\n",
    "    `K dose (kg/ha)` = `K2O dose (kg/ha)` / 1.2\n",
    "  )"
   ]
  },
  {
   "cell_type": "markdown",
   "metadata": {},
   "source": [
    "## Weather\n",
    "\n",
    "Weather indices are genereted from data fetched from Environment Canada with the **`weathercan`** package. The **`sp`** package is needed as dependency of **`weathercan`** to look for the closest stations."
   ]
  },
  {
   "cell_type": "code",
   "execution_count": 19,
   "metadata": {
    "lines_to_next_cell": 2
   },
   "outputs": [],
   "source": [
    "library(\"weathercan\")\n",
    "library(\"sp\")"
   ]
  },
  {
   "cell_type": "markdown",
   "metadata": {},
   "source": [
    "Coordinates are stored by site in `sites.csv`."
   ]
  },
  {
   "cell_type": "code",
   "execution_count": 20,
   "metadata": {},
   "outputs": [
    {
     "name": "stderr",
     "output_type": "stream",
     "text": [
      "Parsed with column specification:\n",
      "cols(\n",
      "  Site = \u001b[31mcol_character()\u001b[39m,\n",
      "  Latitude = \u001b[32mcol_double()\u001b[39m,\n",
      "  Longitude = \u001b[32mcol_double()\u001b[39m\n",
      ")\n",
      "\n"
     ]
    }
   ],
   "source": [
    "sites <- read_csv(\"data/sites.csv\")\n",
    "df_source <-\n",
    "  df_source %>%\n",
    "  left_join(sites, by = \"Site\")"
   ]
  },
  {
   "cell_type": "markdown",
   "metadata": {},
   "source": [
    "### Select weather stations\n",
    "\n",
    "We have the following Year/Site combinaisons."
   ]
  },
  {
   "cell_type": "code",
   "execution_count": 21,
   "metadata": {},
   "outputs": [],
   "source": [
    "year_site <- df_source %>%\n",
    "  distinct(Year, Site, Latitude, Longitude)"
   ]
  },
  {
   "cell_type": "markdown",
   "metadata": {},
   "source": [
    "We look for the closest stations with data starting 6 years before observations. To make this number dynamic, we set it as a variable `nyears_before`."
   ]
  },
  {
   "cell_type": "code",
   "execution_count": 22,
   "metadata": {},
   "outputs": [],
   "source": [
    "nyears_before <- 6\n",
    "blueberry_stations <- list()\n",
    "for (i in 1:nrow(year_site)) {\n",
    "  blueberry_stations[[i]] <- stations_search(\n",
    "    coords = c(year_site$Latitude[i], year_site$Longitude[i]),\n",
    "    starts_latest = year_site$Year[i] - nyears_before - 2,\n",
    "    ends_earliest = year_site$Year[i] + 3,\n",
    "    dist = 50, interval = \"day\"\n",
    "  )\n",
    "}"
   ]
  },
  {
   "cell_type": "markdown",
   "metadata": {},
   "source": [
    "We selected the closest stations."
   ]
  },
  {
   "cell_type": "code",
   "execution_count": 23,
   "metadata": {},
   "outputs": [
    {
     "data": {
      "text/html": [
       "<table>\n",
       "<caption>A tibble: 19 × 6</caption>\n",
       "<thead>\n",
       "\t<tr><th scope=col>Site</th><th scope=col>Year</th><th scope=col>Latitude</th><th scope=col>Longitude</th><th scope=col>station_id</th><th scope=col>station_name</th></tr>\n",
       "\t<tr><th scope=col>&lt;chr&gt;</th><th scope=col>&lt;dbl&gt;</th><th scope=col>&lt;dbl&gt;</th><th scope=col>&lt;dbl&gt;</th><th scope=col>&lt;int&gt;</th><th scope=col>&lt;chr&gt;</th></tr>\n",
       "</thead>\n",
       "<tbody>\n",
       "\t<tr><td>Normandin       </td><td>2001</td><td>48.98333</td><td>-72.53333</td><td> 5909</td><td>HEMON               </td></tr>\n",
       "\t<tr><td>St-Eugène       </td><td>2001</td><td>48.98333</td><td>-72.28333</td><td> 5909</td><td>HEMON               </td></tr>\n",
       "\t<tr><td>St-Léon         </td><td>2001</td><td>48.66667</td><td>-71.53333</td><td> 5939</td><td>ST LEON DE LABRECQUE</td></tr>\n",
       "\t<tr><td>Normandin       </td><td>2003</td><td>48.98333</td><td>-72.53333</td><td>10872</td><td>NORMANDIN           </td></tr>\n",
       "\t<tr><td>St-Eugène       </td><td>2003</td><td>48.98333</td><td>-72.28333</td><td>10872</td><td>NORMANDIN           </td></tr>\n",
       "\t<tr><td>St-Léon         </td><td>2003</td><td>48.66667</td><td>-71.53333</td><td>10797</td><td>MISTOOK             </td></tr>\n",
       "\t<tr><td>Albanel         </td><td>2005</td><td>48.88333</td><td>-72.45000</td><td>10872</td><td>NORMANDIN           </td></tr>\n",
       "\t<tr><td>St-Eugène       </td><td>2004</td><td>48.98333</td><td>-72.28333</td><td>10872</td><td>NORMANDIN           </td></tr>\n",
       "\t<tr><td>St-Eugène       </td><td>2005</td><td>48.98333</td><td>-72.28333</td><td>10872</td><td>NORMANDIN           </td></tr>\n",
       "\t<tr><td>Normandin       </td><td>2006</td><td>48.98333</td><td>-72.53333</td><td>10872</td><td>NORMANDIN           </td></tr>\n",
       "\t<tr><td>St-Méthode      </td><td>2006</td><td>48.71667</td><td>-72.40000</td><td> 5940</td><td>ST PRIME            </td></tr>\n",
       "\t<tr><td>Albanel         </td><td>2007</td><td>48.88333</td><td>-72.45000</td><td>10872</td><td>NORMANDIN           </td></tr>\n",
       "\t<tr><td>St-Méthode      </td><td>2007</td><td>48.71667</td><td>-72.40000</td><td> 5940</td><td>ST PRIME            </td></tr>\n",
       "\t<tr><td>Albanel         </td><td>2009</td><td>48.88333</td><td>-72.45000</td><td>10872</td><td>NORMANDIN           </td></tr>\n",
       "\t<tr><td>Albanel         </td><td>2011</td><td>48.88333</td><td>-72.45000</td><td>10872</td><td>NORMANDIN           </td></tr>\n",
       "\t<tr><td>Normandin       </td><td>2010</td><td>48.98333</td><td>-72.53333</td><td>10872</td><td>NORMANDIN           </td></tr>\n",
       "\t<tr><td>Normandin       </td><td>2009</td><td>48.98333</td><td>-72.53333</td><td>10872</td><td>NORMANDIN           </td></tr>\n",
       "\t<tr><td>St-Méthode      </td><td>2011</td><td>48.71667</td><td>-72.40000</td><td> 5940</td><td>ST PRIME            </td></tr>\n",
       "\t<tr><td>St-Thomas-Didyme</td><td>2010</td><td>48.90000</td><td>-72.66667</td><td>10872</td><td>NORMANDIN           </td></tr>\n",
       "</tbody>\n",
       "</table>\n"
      ],
      "text/latex": [
       "A tibble: 19 × 6\n",
       "\\begin{tabular}{llllll}\n",
       " Site & Year & Latitude & Longitude & station\\_id & station\\_name\\\\\n",
       " <chr> & <dbl> & <dbl> & <dbl> & <int> & <chr>\\\\\n",
       "\\hline\n",
       "\t Normandin        & 2001 & 48.98333 & -72.53333 &  5909 & HEMON               \\\\\n",
       "\t St-Eugène        & 2001 & 48.98333 & -72.28333 &  5909 & HEMON               \\\\\n",
       "\t St-Léon          & 2001 & 48.66667 & -71.53333 &  5939 & ST LEON DE LABRECQUE\\\\\n",
       "\t Normandin        & 2003 & 48.98333 & -72.53333 & 10872 & NORMANDIN           \\\\\n",
       "\t St-Eugène        & 2003 & 48.98333 & -72.28333 & 10872 & NORMANDIN           \\\\\n",
       "\t St-Léon          & 2003 & 48.66667 & -71.53333 & 10797 & MISTOOK             \\\\\n",
       "\t Albanel          & 2005 & 48.88333 & -72.45000 & 10872 & NORMANDIN           \\\\\n",
       "\t St-Eugène        & 2004 & 48.98333 & -72.28333 & 10872 & NORMANDIN           \\\\\n",
       "\t St-Eugène        & 2005 & 48.98333 & -72.28333 & 10872 & NORMANDIN           \\\\\n",
       "\t Normandin        & 2006 & 48.98333 & -72.53333 & 10872 & NORMANDIN           \\\\\n",
       "\t St-Méthode       & 2006 & 48.71667 & -72.40000 &  5940 & ST PRIME            \\\\\n",
       "\t Albanel          & 2007 & 48.88333 & -72.45000 & 10872 & NORMANDIN           \\\\\n",
       "\t St-Méthode       & 2007 & 48.71667 & -72.40000 &  5940 & ST PRIME            \\\\\n",
       "\t Albanel          & 2009 & 48.88333 & -72.45000 & 10872 & NORMANDIN           \\\\\n",
       "\t Albanel          & 2011 & 48.88333 & -72.45000 & 10872 & NORMANDIN           \\\\\n",
       "\t Normandin        & 2010 & 48.98333 & -72.53333 & 10872 & NORMANDIN           \\\\\n",
       "\t Normandin        & 2009 & 48.98333 & -72.53333 & 10872 & NORMANDIN           \\\\\n",
       "\t St-Méthode       & 2011 & 48.71667 & -72.40000 &  5940 & ST PRIME            \\\\\n",
       "\t St-Thomas-Didyme & 2010 & 48.90000 & -72.66667 & 10872 & NORMANDIN           \\\\\n",
       "\\end{tabular}\n"
      ],
      "text/markdown": [
       "\n",
       "A tibble: 19 × 6\n",
       "\n",
       "| Site &lt;chr&gt; | Year &lt;dbl&gt; | Latitude &lt;dbl&gt; | Longitude &lt;dbl&gt; | station_id &lt;int&gt; | station_name &lt;chr&gt; |\n",
       "|---|---|---|---|---|---|\n",
       "| Normandin        | 2001 | 48.98333 | -72.53333 |  5909 | HEMON                |\n",
       "| St-Eugène        | 2001 | 48.98333 | -72.28333 |  5909 | HEMON                |\n",
       "| St-Léon          | 2001 | 48.66667 | -71.53333 |  5939 | ST LEON DE LABRECQUE |\n",
       "| Normandin        | 2003 | 48.98333 | -72.53333 | 10872 | NORMANDIN            |\n",
       "| St-Eugène        | 2003 | 48.98333 | -72.28333 | 10872 | NORMANDIN            |\n",
       "| St-Léon          | 2003 | 48.66667 | -71.53333 | 10797 | MISTOOK              |\n",
       "| Albanel          | 2005 | 48.88333 | -72.45000 | 10872 | NORMANDIN            |\n",
       "| St-Eugène        | 2004 | 48.98333 | -72.28333 | 10872 | NORMANDIN            |\n",
       "| St-Eugène        | 2005 | 48.98333 | -72.28333 | 10872 | NORMANDIN            |\n",
       "| Normandin        | 2006 | 48.98333 | -72.53333 | 10872 | NORMANDIN            |\n",
       "| St-Méthode       | 2006 | 48.71667 | -72.40000 |  5940 | ST PRIME             |\n",
       "| Albanel          | 2007 | 48.88333 | -72.45000 | 10872 | NORMANDIN            |\n",
       "| St-Méthode       | 2007 | 48.71667 | -72.40000 |  5940 | ST PRIME             |\n",
       "| Albanel          | 2009 | 48.88333 | -72.45000 | 10872 | NORMANDIN            |\n",
       "| Albanel          | 2011 | 48.88333 | -72.45000 | 10872 | NORMANDIN            |\n",
       "| Normandin        | 2010 | 48.98333 | -72.53333 | 10872 | NORMANDIN            |\n",
       "| Normandin        | 2009 | 48.98333 | -72.53333 | 10872 | NORMANDIN            |\n",
       "| St-Méthode       | 2011 | 48.71667 | -72.40000 |  5940 | ST PRIME             |\n",
       "| St-Thomas-Didyme | 2010 | 48.90000 | -72.66667 | 10872 | NORMANDIN            |\n",
       "\n"
      ],
      "text/plain": [
       "   Site             Year Latitude Longitude station_id station_name        \n",
       "1  Normandin        2001 48.98333 -72.53333  5909      HEMON               \n",
       "2  St-Eugène        2001 48.98333 -72.28333  5909      HEMON               \n",
       "3  St-Léon          2001 48.66667 -71.53333  5939      ST LEON DE LABRECQUE\n",
       "4  Normandin        2003 48.98333 -72.53333 10872      NORMANDIN           \n",
       "5  St-Eugène        2003 48.98333 -72.28333 10872      NORMANDIN           \n",
       "6  St-Léon          2003 48.66667 -71.53333 10797      MISTOOK             \n",
       "7  Albanel          2005 48.88333 -72.45000 10872      NORMANDIN           \n",
       "8  St-Eugène        2004 48.98333 -72.28333 10872      NORMANDIN           \n",
       "9  St-Eugène        2005 48.98333 -72.28333 10872      NORMANDIN           \n",
       "10 Normandin        2006 48.98333 -72.53333 10872      NORMANDIN           \n",
       "11 St-Méthode       2006 48.71667 -72.40000  5940      ST PRIME            \n",
       "12 Albanel          2007 48.88333 -72.45000 10872      NORMANDIN           \n",
       "13 St-Méthode       2007 48.71667 -72.40000  5940      ST PRIME            \n",
       "14 Albanel          2009 48.88333 -72.45000 10872      NORMANDIN           \n",
       "15 Albanel          2011 48.88333 -72.45000 10872      NORMANDIN           \n",
       "16 Normandin        2010 48.98333 -72.53333 10872      NORMANDIN           \n",
       "17 Normandin        2009 48.98333 -72.53333 10872      NORMANDIN           \n",
       "18 St-Méthode       2011 48.71667 -72.40000  5940      ST PRIME            \n",
       "19 St-Thomas-Didyme 2010 48.90000 -72.66667 10872      NORMANDIN           "
      ]
     },
     "metadata": {},
     "output_type": "display_data"
    }
   ],
   "source": [
    "year_site$station_id <- NA\n",
    "year_site$station_name <- NA\n",
    "for (i in seq_along(blueberry_stations)) {\n",
    "  year_site$station_id[i] <- blueberry_stations[[i]]$station_id[1]\n",
    "  year_site$station_name[i] <- blueberry_stations[[i]]$station_name[1]\n",
    "}\n",
    "year_site"
   ]
  },
  {
   "cell_type": "markdown",
   "metadata": {},
   "source": [
    "Station `ST LEON DE LABRECQUE` seems to generate errors. The next closest one available in 2001 is `ST AMBROISE`."
   ]
  },
  {
   "cell_type": "code",
   "execution_count": 24,
   "metadata": {},
   "outputs": [
    {
     "data": {
      "text/html": [
       "<style>\n",
       ".list-inline {list-style: none; margin:0; padding: 0}\n",
       ".list-inline>li {display: inline-block}\n",
       ".list-inline>li:not(:last-child)::after {content: \"\\00b7\"; padding: 0 .5ex}\n",
       "</style>\n",
       "<ol class=list-inline><li>'ST LEON DE LABRECQUE'</li><li>'ST AMBROISE'</li><li>'FALARDEAU'</li><li>'LAC STE CROIX'</li><li>'PERIBONCA'</li><li>'JONQUIERE'</li></ol>\n"
      ],
      "text/latex": [
       "\\begin{enumerate*}\n",
       "\\item 'ST LEON DE LABRECQUE'\n",
       "\\item 'ST AMBROISE'\n",
       "\\item 'FALARDEAU'\n",
       "\\item 'LAC STE CROIX'\n",
       "\\item 'PERIBONCA'\n",
       "\\item 'JONQUIERE'\n",
       "\\end{enumerate*}\n"
      ],
      "text/markdown": [
       "1. 'ST LEON DE LABRECQUE'\n",
       "2. 'ST AMBROISE'\n",
       "3. 'FALARDEAU'\n",
       "4. 'LAC STE CROIX'\n",
       "5. 'PERIBONCA'\n",
       "6. 'JONQUIERE'\n",
       "\n",
       "\n"
      ],
      "text/plain": [
       "[1] \"ST LEON DE LABRECQUE\" \"ST AMBROISE\"          \"FALARDEAU\"           \n",
       "[4] \"LAC STE CROIX\"        \"PERIBONCA\"            \"JONQUIERE\"           "
      ]
     },
     "metadata": {},
     "output_type": "display_data"
    }
   ],
   "source": [
    "blueberry_stations[[3]]$station_name"
   ]
  },
  {
   "cell_type": "code",
   "execution_count": 25,
   "metadata": {},
   "outputs": [],
   "source": [
    "year_site$station_id[3] <- blueberry_stations[[3]]$station_id[2]\n",
    "year_site$station_name[3] <- blueberry_stations[[3]]$station_name[2]"
   ]
  },
  {
   "cell_type": "markdown",
   "metadata": {},
   "source": [
    "We will fetch weather by year and station ID."
   ]
  },
  {
   "cell_type": "code",
   "execution_count": 26,
   "metadata": {},
   "outputs": [],
   "source": [
    "year_station <- year_site %>% distinct(Year, station_id)"
   ]
  },
  {
   "cell_type": "markdown",
   "metadata": {},
   "source": [
    "### Fetch weather\n",
    "\n",
    "We suppose that seasons start on April 1st and end at mid-August. The first loop stores the weather of the year of the experiment. This will be used to asses feature importance."
   ]
  },
  {
   "cell_type": "markdown",
   "metadata": {},
   "source": [
    "#### Weather current\n",
    "\n",
    "These data are the one that occured during the year of the experiment."
   ]
  },
  {
   "cell_type": "raw",
   "metadata": {},
   "source": [
    "weather_current <- list()\n",
    "for (i in 1:nrow(year_station)) {\n",
    "    weather_current[[i]] <- weather_dl(\n",
    "        station_ids = year_station$station_id[i],\n",
    "        start = paste0(year_station$Year[i], \"-04-01\"),\n",
    "        end = paste0(year_station$Year[i], \"-08-31\"),\n",
    "        interval = \"day\", quiet = TRUE\n",
    "    )\n",
    "}"
   ]
  },
  {
   "cell_type": "markdown",
   "metadata": {},
   "source": [
    "We unnest the list of lists, the old fashion way."
   ]
  },
  {
   "cell_type": "raw",
   "metadata": {},
   "source": [
    "weather_current <- data.frame(do.call(rbind, weather_current))\n",
    "save(weather_current, file = \"output/weather_current.RData\")"
   ]
  },
  {
   "cell_type": "code",
   "execution_count": 27,
   "metadata": {},
   "outputs": [],
   "source": [
    "load(\"output/weather_current.RData\")"
   ]
  },
  {
   "cell_type": "markdown",
   "metadata": {},
   "source": [
    "#### Weather before\n",
    "\n",
    "Now for each station, we fetch weather data 6 years before the experiment. These data will be used for prediction. Cells that fetch weather are deactivated since data have already been fetched and saved in a RData file."
   ]
  },
  {
   "cell_type": "raw",
   "metadata": {},
   "source": [
    "weather_before <- list()\n",
    "for (i in 1:nrow(year_station)) {\n",
    "  weather_before[[i]] <- list()\n",
    "  for (j in nyears_before:1) {\n",
    "    sublist_name <- paste0(j, \"years\")\n",
    "    weather_data <- weather_dl(\n",
    "      station_ids = year_station$station_id[i],\n",
    "      start = paste0(year_station$Year[i] - j, \"-04-01\"),\n",
    "      end = paste0(year_station$Year[i] - j, \"-08-31\"),\n",
    "      interval = \"day\", quiet = TRUE\n",
    "    )\n",
    "    weather_before[[i]][[sublist_name]] <- weather_data\n",
    "  }\n",
    "}"
   ]
  },
  {
   "cell_type": "markdown",
   "metadata": {},
   "source": [
    "We unnest the list of lists."
   ]
  },
  {
   "cell_type": "raw",
   "metadata": {},
   "source": [
    "for (i in seq_along(weather_before)) {\n",
    "  weather_before[[i]] <- data.frame(do.call(rbind, weather_before[[i]]))\n",
    "}\n",
    "weather_before <- data.frame(do.call(rbind, weather_before))\n",
    "save(weather_before, file = \"output/weather_before.RData\")"
   ]
  },
  {
   "cell_type": "code",
   "execution_count": 28,
   "metadata": {},
   "outputs": [],
   "source": [
    "load(\"output/weather_before.RData\")"
   ]
  },
  {
   "cell_type": "markdown",
   "metadata": {},
   "source": [
    "#### Weather 2016 (for discussion)\n",
    "\n",
    "There is a discussion in the paper about year 2016."
   ]
  },
  {
   "cell_type": "raw",
   "metadata": {},
   "source": [
    "weather_2016 <- list()\n",
    "for (i in 1:nrow(year_station)) {\n",
    "    weather_2016[[i]] <- weather_dl(\n",
    "        station_ids = year_station$station_id[i],\n",
    "        start = \"2016-04-01\",\n",
    "        end = \"2016-08-31\",\n",
    "        interval = \"day\", quiet = TRUE\n",
    "    )\n",
    "}\n",
    "\n",
    "weather_2016 <- data.frame(do.call(rbind, weather_2016))\n",
    "save(weather_2016, file = \"output/weather_2016.RData\")"
   ]
  },
  {
   "cell_type": "code",
   "execution_count": 29,
   "metadata": {},
   "outputs": [],
   "source": [
    "load(\"output/weather_2016.RData\")"
   ]
  },
  {
   "cell_type": "markdown",
   "metadata": {},
   "source": [
    "### Compute weather indices\n",
    "\n",
    "#### Weather current\n",
    "\n",
    "For each phenological stage, we compute total **precipitation** and **mean temperature**. "
   ]
  },
  {
   "cell_type": "code",
   "execution_count": 39,
   "metadata": {},
   "outputs": [],
   "source": [
    "weather_current_pheno <- weather_current %>%\n",
    "  mutate(julian_day = yday(date),\n",
    "         phenology = case_when(\n",
    "             julian_day <= phenology_table$`julian day end`[1] ~ phenology_table$phenology[1],\n",
    "             julian_day <= phenology_table$`julian day end`[2] ~ phenology_table$phenology[2],\n",
    "             julian_day <= phenology_table$`julian day end`[3] ~ phenology_table$phenology[3],\n",
    "             julian_day <= phenology_table$`julian day end`[4] ~ phenology_table$phenology[4],\n",
    "             julian_day <= phenology_table$`julian day end`[5] ~ phenology_table$phenology[5]\n",
    "         ))"
   ]
  },
  {
   "cell_type": "code",
   "execution_count": 40,
   "metadata": {},
   "outputs": [],
   "source": [
    "temp_prec_current <- weather_current_pheno %>%\n",
    "  group_by(station_id, year, phenology) %>%\n",
    "  summarise(\n",
    "    total_precip = sum(total_precip, na.rm = TRUE),\n",
    "    mean_temp = mean(mean_temp, na.rm = TRUE),\n",
    "    .groups = \"drop\"\n",
    "  ) %>%\n",
    "  pivot_wider(names_from = phenology, values_from = c(total_precip, mean_temp))"
   ]
  },
  {
   "cell_type": "markdown",
   "metadata": {},
   "source": [
    "We compute the number of days per month were air temerature falls **under 0 degrees**."
   ]
  },
  {
   "cell_type": "code",
   "execution_count": 41,
   "metadata": {},
   "outputs": [],
   "source": [
    "frozen_current <- weather_current_pheno %>%\n",
    "  group_by(station_id, year, phenology) %>%\n",
    "  summarise(frozen = sum(mean_temp < 0, na.rm = TRUE), .groups = \"drop\") %>% \n",
    "  pivot_wider(names_from = phenology, values_from = frozen)\n",
    "names(frozen_current)[-c(1, 2)] <- paste0(\"frozen_\", names(frozen_current)[-c(1, 2)])"
   ]
  },
  {
   "cell_type": "markdown",
   "metadata": {},
   "source": [
    "While the number of freezing days can affect flowering, the number of days with mean temperature > 26 °C can affect pollination."
   ]
  },
  {
   "cell_type": "code",
   "execution_count": 42,
   "metadata": {},
   "outputs": [],
   "source": [
    "toowarm_current <- weather_current_pheno %>%\n",
    "  group_by(station_id, year, phenology) %>%\n",
    "  summarise(toowarm = sum(mean_temp >= 26, na.rm = TRUE), .groups = \"drop\") %>% \n",
    "  pivot_wider(names_from = phenology, values_from = toowarm)\n",
    "names(toowarm_current)[-c(1, 2)] <- paste0(\"toowarm_\", names(toowarm_current)[-c(1, 2)])"
   ]
  },
  {
   "cell_type": "markdown",
   "metadata": {},
   "source": [
    "Lastly, the degree days are computed."
   ]
  },
  {
   "cell_type": "code",
   "execution_count": 43,
   "metadata": {},
   "outputs": [],
   "source": [
    "GDD_delimiter <- 4.4\n",
    "GDD_current <- weather_current_pheno %>%\n",
    "  group_by(station_id, year, phenology) %>% \n",
    "  summarise(GDD = sum(mean_temp >= GDD_delimiter, na.rm = TRUE), .groups = \"drop\") %>% \n",
    "  pivot_wider(names_from = phenology, values_from = GDD)\n",
    "names(GDD_current)[-c(1, 2)] <- paste0(\"GDD_\", names(GDD_current)[-c(1, 2)])"
   ]
  },
  {
   "cell_type": "markdown",
   "metadata": {},
   "source": [
    "All indices in the same table."
   ]
  },
  {
   "cell_type": "code",
   "execution_count": 44,
   "metadata": {},
   "outputs": [],
   "source": [
    "weather_indices_current <- temp_prec_current %>%\n",
    "  left_join(frozen_current, by = c(\"station_id\", \"year\")) %>% \n",
    "  left_join(toowarm_current, by = c(\"station_id\", \"year\")) %>% \n",
    "  left_join(GDD_current, by = c(\"station_id\", \"year\")) %>%\n",
    "  ungroup() %>% \n",
    "  mutate(year = as.numeric(year)) %>% \n",
    "  rename(Year = year)\n",
    "names(weather_indices_current)[-c(1, 2)] <- paste0(\"weather_current.\", \n",
    "                                                   names(weather_indices_current)[-c(1, 2)])"
   ]
  },
  {
   "cell_type": "markdown",
   "metadata": {},
   "source": [
    "#### Weather summary"
   ]
  },
  {
   "cell_type": "markdown",
   "metadata": {},
   "source": [
    "The table must be organized..."
   ]
  },
  {
   "cell_type": "code",
   "execution_count": 46,
   "metadata": {},
   "outputs": [],
   "source": [
    "weather_indices_current_tidy <- weather_indices_current %>%\n",
    "  pivot_longer(cols = -c(station_id, Year)) %>%\n",
    "  mutate(category = case_when(\n",
    "    str_detect(name, \"precip\") ~ \"Total\\nprecipitations (mm)\",\n",
    "    str_detect(name, \"temp\") ~ \"Mean\\ntemperature (°C)\",\n",
    "    str_detect(name, \"frozen\") ~ \"Number of\\nfreezing days\",\n",
    "    str_detect(name, \"GDD\") ~ \"Growing\\ndegree-days (°C)\",\n",
    "    #str_detect(name, \"toowarm\") ~ \"Number of\\ndays > 26°C\"\n",
    "  ),\n",
    "         phenology = case_when(\n",
    "    str_detect(name, \"Before\") ~ \"Before flower bud opening\",\n",
    "    str_detect(name, \"Flower bud opening\") ~ \"Flower bud opening\",\n",
    "    str_detect(name, \"Flower open\") ~ \"Flower open\",\n",
    "    str_detect(name, \"Fruit maturation\") ~ \"Fruit maturation\",\n",
    "    str_detect(name, \"After fruit\") ~ \"After fruit maturation\",\n",
    "  ),\n",
    "         phenology = factor(phenology,\n",
    "                            levels = c(\n",
    "                                'Before flower bud opening',\n",
    "                                'Flower bud opening',\n",
    "                                'Flower open',\n",
    "                                'Fruit maturation',\n",
    "                                'After fruit maturation'),\n",
    "                            ordered = TRUE)\n",
    "  ) %>%\n",
    "  left_join(phenology_table, by = \"phenology\")"
   ]
  },
  {
   "cell_type": "markdown",
   "metadata": {},
   "source": [
    "... to be plotted."
   ]
  },
  {
   "cell_type": "code",
   "execution_count": 47,
   "metadata": {},
   "outputs": [
    {
     "data": {
      "image/png": "[encoded data removed]",
      "text/plain": [
       "plot without title"
      ]
     },
     "metadata": {
      "image/png": {
       "height": 360,
       "width": 840
      },
      "text/plain": {
       "height": 360,
       "width": 840
      }
     },
     "output_type": "display_data"
    }
   ],
   "source": [
    "options(repr.plot.height = 6, repr.plot.width = 14)\n",
    "weather_indices_current_tidy %>%\n",
    "  group_by(category, year = Year, phenology) %>%\n",
    "  summarize(value = mean(value), .groups = \"drop\") %>%\n",
    "  drop_na() %>%\n",
    "  ggplot(aes(x = phenology, y = value)) +\n",
    "  facet_grid(category ~ year, scales = \"free\", switch=\"y\") +\n",
    "  expand_limits(y = 0) +\n",
    "  geom_col(fill = \"black\") +\n",
    "  geom_hline(yintercept = 0) +\n",
    "  theme_pubr() +\n",
    "  theme(panel.grid.minor.y = element_blank(),\n",
    "        panel.grid.minor.x = element_blank(),\n",
    "        panel.grid.major.x = element_blank(),\n",
    "        strip.placement = \"outside\",\n",
    "        axis.title.x = element_blank(),\n",
    "        axis.title.y = element_blank(),\n",
    "        axis.text.x = element_text(angle = 90, hjust = 1, vjust = 0.25),\n",
    "        strip.background = element_rect(fill = \"transparent\", colour = \"transparent\")) +\n",
    "  ggsave(\"images/weather-statistics.png\", height = 8, width = 14, dpi = 120)"
   ]
  },
  {
   "cell_type": "code",
   "execution_count": 49,
   "metadata": {},
   "outputs": [
    {
     "data": {
      "image/png": "[encoded data removed]",
      "text/plain": [
       "plot without title"
      ]
     },
     "metadata": {
      "image/png": {
       "height": 360,
       "width": 840
      },
      "text/plain": {
       "height": 360,
       "width": 840
      }
     },
     "output_type": "display_data"
    }
   ],
   "source": [
    "library(\"ggrepel\")\n",
    "weather_indices_current_tidy %>%\n",
    "  filter(str_detect(name, 'mean_temp|GDD')) %>%\n",
    "  select(-name) %>%\n",
    "  pivot_wider(names_from = category, values_from = value) %>%\n",
    "  ggplot(aes(x = `Mean\\ntemperature (°C)`, y = `Growing\\ndegree-days (°C)`)) +\n",
    "  geom_point(colour = \"grey50\") +\n",
    "  geom_text_repel(aes(label = phenology)) +\n",
    "  theme_pubr() +\n",
    "  ggsave(\"images/gdd-mt.png\", height = 5, width = 5, dpi = 300)"
   ]
  },
  {
   "cell_type": "markdown",
   "metadata": {},
   "source": [
    "#### Weather, 6 years before\n",
    "\n",
    "For each phenological stage, we compute total precipitation and mean temperature 6 years (`nyears_before`) before the growing season. "
   ]
  },
  {
   "cell_type": "code",
   "execution_count": 50,
   "metadata": {},
   "outputs": [],
   "source": [
    "weather_before_pheno <- weather_before %>%\n",
    "  mutate(julian_day = yday(date),\n",
    "         phenology = case_when(\n",
    "             julian_day <= phenology_table$`julian day end`[1] ~ phenology_table$phenology[1],\n",
    "             julian_day <= phenology_table$`julian day end`[2] ~ phenology_table$phenology[2],\n",
    "             julian_day <= phenology_table$`julian day end`[3] ~ phenology_table$phenology[3],\n",
    "             julian_day <= phenology_table$`julian day end`[4] ~ phenology_table$phenology[4],\n",
    "             julian_day <= phenology_table$`julian day end`[5] ~ phenology_table$phenology[5]\n",
    "         ))"
   ]
  },
  {
   "cell_type": "code",
   "execution_count": 52,
   "metadata": {},
   "outputs": [],
   "source": [
    "temp_prec_before <- list()\n",
    "\n",
    "# Each element of the list corresponds to a row in year_station\n",
    "for (i in 1:nrow(year_station)) {\n",
    "  temp_prec_before[[i]] <-\n",
    "    weather_before_pheno %>%\n",
    "    # filter to keep the station ID and the 6 years preceeding the \n",
    "    # year of the experiment\n",
    "    filter(\n",
    "      station_id == year_station$station_id[i],\n",
    "      year %in% (year_station$Year[i] - nyears_before):(year_station$Year[i] - 1)\n",
    "    ) %>%\n",
    "    # Group by year and phenology...\n",
    "    group_by(year, phenology) %>%\n",
    "    # to compute indices for each month of the 6 preceeeding years\n",
    "    summarise(\n",
    "      total_precip = sum(total_precip, na.rm = TRUE),\n",
    "      mean_temp = mean(mean_temp, na.rm = TRUE),\n",
    "      .groups = \"drop\"\n",
    "    ) %>%\n",
    "    # then regroup by phenology, excluding the year\n",
    "    group_by(phenology) %>%\n",
    "    # to summarise mean indices per month\n",
    "    summarise(\n",
    "      total_precip = mean(total_precip, na.rm = TRUE),\n",
    "      mean_temp = mean(mean_temp, na.rm = TRUE),\n",
    "      .groups = \"drop\"\n",
    "    ) %>%\n",
    "    # and pivot to a single row corresponding to the year_station table\n",
    "    pivot_wider(names_from = phenology, values_from = c(total_precip, mean_temp))\n",
    "}\n",
    "\n",
    "# merge all rows together\n",
    "temp_prec_before <- do.call(rbind, temp_prec_before)"
   ]
  },
  {
   "cell_type": "markdown",
   "metadata": {},
   "source": [
    "We compute the number of days per phenological stage where air temerature falls under 0 degrees, a condition altering flowers."
   ]
  },
  {
   "cell_type": "code",
   "execution_count": 54,
   "metadata": {},
   "outputs": [],
   "source": [
    "frozen_before <- list()\n",
    "for (i in 1:nrow(year_station)) {\n",
    "  frozen_before[[i]] <- weather_before_pheno %>%\n",
    "    filter(\n",
    "      station_id == year_station$station_id[i],\n",
    "      year %in% (year_station$Year[i] - nyears_before):(year_station$Year[i] - 1),\n",
    "    ) %>%\n",
    "    group_by(year, phenology) %>%\n",
    "    summarise(frozen = sum(mean_temp <= 0, na.rm = TRUE),\n",
    "             .groups = \"drop\") %>%\n",
    "    group_by(phenology) %>%\n",
    "    summarise(frozen = mean(frozen),\n",
    "             .groups = \"drop\") %>%\n",
    "    pivot_wider(names_from = phenology, values_from = frozen)\n",
    "}\n",
    "frozen_before <- do.call(rbind, frozen_before)\n",
    "names(frozen_before) <- paste0(\"frozen_\", names(frozen_before))"
   ]
  },
  {
   "cell_type": "markdown",
   "metadata": {},
   "source": [
    "The number of days with mean temperature > 26 °C:"
   ]
  },
  {
   "cell_type": "code",
   "execution_count": 55,
   "metadata": {},
   "outputs": [],
   "source": [
    "toowarm_before <- list()\n",
    "for (i in 1:nrow(year_station)) {\n",
    "  toowarm_before[[i]] <- weather_before_pheno %>%\n",
    "    filter(\n",
    "      station_id == year_station$station_id[i],\n",
    "      year %in% (year_station$Year[i] - nyears_before):(year_station$Year[i] - 1),\n",
    "    ) %>%\n",
    "    group_by(year, phenology) %>%\n",
    "    summarise(toowarm = sum(mean_temp <= 26, na.rm = TRUE),\n",
    "             .groups = \"drop\") %>%\n",
    "    group_by(phenology) %>%\n",
    "    summarise(toowarm = mean(toowarm),\n",
    "             .groups = \"drop\") %>%\n",
    "    pivot_wider(names_from = phenology, values_from = toowarm)\n",
    "}\n",
    "toowarm_before <- do.call(rbind, toowarm_before)\n",
    "names(toowarm_before) <- paste0(\"toowarm_\", names(toowarm_before))"
   ]
  },
  {
   "cell_type": "markdown",
   "metadata": {},
   "source": [
    "And GDD."
   ]
  },
  {
   "cell_type": "code",
   "execution_count": 56,
   "metadata": {},
   "outputs": [],
   "source": [
    "GDD_before <- list()\n",
    "for (i in 1:nrow(year_station)) {\n",
    "  GDD_before[[i]] <-\n",
    "    weather_before_pheno %>%\n",
    "    filter(\n",
    "      station_id == year_station$station_id[i],\n",
    "      year %in% (year_station$Year[i] - nyears_before):(year_station$Year[i] - 1),\n",
    "    ) %>%\n",
    "    group_by(year, phenology) %>%\n",
    "    summarise(GDD = sum(mean_temp >= GDD_delimiter, na.rm = TRUE),\n",
    "             .groups = \"drop\") %>% \n",
    "    group_by(phenology) %>%\n",
    "    summarise(GDD = mean(GDD),\n",
    "             .groups = \"drop\") %>% \n",
    "    pivot_wider(names_from = phenology, values_from = GDD)\n",
    "}\n",
    "GDD_before <- do.call(rbind, GDD_before)\n",
    "names(GDD_before) <- paste0(\"GDD_\", names(GDD_before))"
   ]
  },
  {
   "cell_type": "markdown",
   "metadata": {},
   "source": [
    "All indices in the same table."
   ]
  },
  {
   "cell_type": "code",
   "execution_count": 57,
   "metadata": {},
   "outputs": [],
   "source": [
    "weather_indices_before <- year_station %>% \n",
    "  bind_cols(temp_prec_before) %>%\n",
    "  bind_cols(frozen_before) %>% \n",
    "  bind_cols(toowarm_before) %>% \n",
    "  bind_cols(GDD_before)\n",
    "names(weather_indices_before)[-c(1, 2)] <- paste0(\"weather_before.\", \n",
    "                                                  names(weather_indices_before)[-c(1, 2)])"
   ]
  },
  {
   "cell_type": "markdown",
   "metadata": {},
   "source": [
    "#### Weather, all years\n",
    "For the current year and the preceeding year, compute seasonnal weather indices."
   ]
  },
  {
   "cell_type": "code",
   "execution_count": 58,
   "metadata": {},
   "outputs": [],
   "source": [
    "weather_all <- bind_rows(weather_current, weather_before) %>%\n",
    "  distinct()"
   ]
  },
  {
   "cell_type": "markdown",
   "metadata": {},
   "source": [
    "Compute the indices for each row of the `year_station` table."
   ]
  },
  {
   "cell_type": "code",
   "execution_count": 60,
   "metadata": {},
   "outputs": [],
   "source": [
    "temp_prec_GDD_currseason <- weather_all %>%\n",
    "  filter(paste(year, station_id) %in%\n",
    "         paste(year_station$Year, year_station$station_id)) %>%\n",
    "  group_by(station_id, year) %>%\n",
    "  summarise(\n",
    "    weather_2years.total_precip_curr = sum(total_precip, na.rm = TRUE),\n",
    "    weather_2years.mean_temp_curr = mean(mean_temp, na.rm = TRUE),\n",
    "    weather_2years.GDD_curr = sum(mean_temp >= GDD_delimiter, na.rm = TRUE),\n",
    "    .groups = \"drop\"\n",
    "  ) %>%\n",
    "  ungroup()"
   ]
  },
  {
   "cell_type": "markdown",
   "metadata": {},
   "source": [
    "And the number of freezing days."
   ]
  },
  {
   "cell_type": "code",
   "execution_count": 62,
   "metadata": {},
   "outputs": [],
   "source": [
    "frozen_currseason <- rep(0, nrow(year_station))\n",
    "for (i in 1:nrow(year_station)) {\n",
    "  frozen_currseason[i] <- weather_all %>%\n",
    "    filter(\n",
    "      station_id == year_station$station_id[i],\n",
    "      year == year_station$Year[i]\n",
    "    ) %>%\n",
    "    group_by(year) %>%\n",
    "    summarise(frozen = sum(mean_temp <= 0, na.rm = TRUE),\n",
    "             .groups = \"drop\") %>%\n",
    "    pull()\n",
    "}"
   ]
  },
  {
   "cell_type": "markdown",
   "metadata": {},
   "source": [
    "We compute the seasonnal indicies the same way, but for the previous year."
   ]
  },
  {
   "cell_type": "code",
   "execution_count": 63,
   "metadata": {},
   "outputs": [],
   "source": [
    "temp_prec_GDD_prevseason <- weather_all %>%\n",
    "  filter(paste(year, station_id) %in%\n",
    "         paste(year_station$Year-1, year_station$station_id)) %>% # minus one here\n",
    "  group_by(station_id, year) %>%\n",
    "  summarise(\n",
    "    weather_2years.total_precip_prev = sum(total_precip, na.rm = TRUE),\n",
    "    weather_2years.mean_temp_prev = mean(mean_temp, na.rm = TRUE),\n",
    "    weather_2years.GDD_prev = sum(mean_temp >= GDD_delimiter, na.rm = TRUE),\n",
    "    .groups = \"drop\"\n",
    "  ) %>%\n",
    "  ungroup()"
   ]
  },
  {
   "cell_type": "markdown",
   "metadata": {},
   "source": [
    "The number of freezing days."
   ]
  },
  {
   "cell_type": "code",
   "execution_count": 64,
   "metadata": {},
   "outputs": [],
   "source": [
    "frozen_prevseason <- rep(0, nrow(year_station))\n",
    "for (i in 1:nrow(year_station)) {\n",
    "  frozen_prevseason[i] <- weather_all %>%\n",
    "    filter(\n",
    "      station_id == year_station$station_id[i],\n",
    "      year == year_station$Year[i] - 1\n",
    "    ) %>%\n",
    "    group_by(year) %>%\n",
    "    summarise(frozen = sum(mean_temp <= 0, na.rm = TRUE),\n",
    "             .groups = \"drop\") %>%\n",
    "    pull()\n",
    "}"
   ]
  },
  {
   "cell_type": "markdown",
   "metadata": {},
   "source": [
    "We merge them together, in a similar manner than the previous `weather_indices_*` tables."
   ]
  },
  {
   "cell_type": "code",
   "execution_count": 65,
   "metadata": {},
   "outputs": [],
   "source": [
    "weather_indices_2years <- bind_cols(\n",
    "  year_station,\n",
    "  temp_prec_GDD_currseason %>%\n",
    "    select(weather_2years.total_precip_curr, weather_2years.mean_temp_curr, weather_2years.GDD_curr),\n",
    "  temp_prec_GDD_prevseason %>%\n",
    "    select(weather_2years.total_precip_prev, weather_2years.mean_temp_prev, weather_2years.GDD_prev)\n",
    ") %>%\n",
    "  mutate(weather_2years.frozen_curr = frozen_currseason,\n",
    "         weather_2years.frozen_prev = frozen_prevseason)"
   ]
  },
  {
   "cell_type": "markdown",
   "metadata": {},
   "source": [
    "### Merge everything"
   ]
  },
  {
   "cell_type": "code",
   "execution_count": 66,
   "metadata": {
    "lines_to_next_cell": 2
   },
   "outputs": [],
   "source": [
    "year_station_ <- year_station %>% \n",
    "  left_join(weather_indices_current, by = c(\"Year\", \"station_id\")) %>% \n",
    "  left_join(weather_indices_before, by = c(\"Year\", \"station_id\")) %>%\n",
    "  left_join(weather_indices_2years, by = c(\"Year\", \"station_id\"))\n",
    "\n",
    "year_site_ <- year_site %>% \n",
    "  left_join(year_station_, by = c(\"Year\", \"station_id\")) %>% \n",
    "  select(-Latitude, -Longitude)\n",
    "\n",
    "df_weather <- df_source %>%\n",
    "  left_join(year_site_, by = c(\"Year\", \"Site\"))"
   ]
  },
  {
   "cell_type": "markdown",
   "metadata": {},
   "source": [
    "## Compositional preprocess\n",
    "\n",
    "### Look up missing values\n",
    "\n",
    "In leaves,"
   ]
  },
  {
   "cell_type": "code",
   "execution_count": 67,
   "metadata": {},
   "outputs": [
    {
     "name": "stderr",
     "output_type": "stream",
     "text": [
      "Loading required package: colorspace\n",
      "\n",
      "Loading required package: grid\n",
      "\n",
      "VIM is ready to use.\n",
      "\n",
      "\n",
      "Suggestions and bug-reports can be submitted at: https://github.com/statistikat/VIM/issues\n",
      "\n",
      "\n",
      "Attaching package: 'VIM'\n",
      "\n",
      "\n",
      "The following object is masked from 'package:recipes':\n",
      "\n",
      "    prepare\n",
      "\n",
      "\n",
      "The following object is masked from 'package:datasets':\n",
      "\n",
      "    sleep\n",
      "\n",
      "\n"
     ]
    },
    {
     "name": "stdout",
     "output_type": "stream",
     "text": [
      "\n",
      " Variables sorted by number of missings: \n",
      "      Variable        Count\n",
      " Leaf Mo (ppm) 0.5166223404\n",
      " Leaf Mn (ppm) 0.3557180851\n",
      " Leaf Zn (ppm) 0.3530585106\n",
      " Leaf Fe (ppm) 0.3523936170\n",
      " Leaf Cu (ppm) 0.3470744681\n",
      " Leaf Al (ppm) 0.1808510638\n",
      "  Leaf B (ppm) 0.1801861702\n",
      "    Leaf N (%) 0.0033244681\n",
      "    Leaf P (%) 0.0033244681\n",
      "    Leaf K (%) 0.0013297872\n",
      "   Leaf Ca (%) 0.0006648936\n",
      "   Leaf Mg (%) 0.0006648936\n"
     ]
    },
    {
     "data": {
      "image/png": "[encoded data removed]",
      "text/plain": [
       "plot without title"
      ]
     },
     "metadata": {
      "image/png": {
       "height": 360,
       "width": 840
      },
      "text/plain": {
       "height": 360,
       "width": 840
      }
     },
     "output_type": "display_data"
    }
   ],
   "source": [
    "library(\"VIM\")\n",
    "comp_leaf <- df_source %>%\n",
    "  select(starts_with(\"Leaf\"))\n",
    "\n",
    "aggr(comp_leaf, sortVar = TRUE, cex.axis = 0.7)"
   ]
  },
  {
   "cell_type": "markdown",
   "metadata": {},
   "source": [
    "The proportion of NAs in the Mo (\\~55%), Mn, Zn and Fe (\\~35%) columns are too high to parse them through imputations. Although Al and B also have pretty high propostions of NAs (~18%), they are important components. They will be kept and imputed.\n",
    "\n",
    "In soil,"
   ]
  },
  {
   "cell_type": "code",
   "execution_count": 68,
   "metadata": {},
   "outputs": [
    {
     "name": "stdout",
     "output_type": "stream",
     "text": [
      "\n",
      " Variables sorted by number of missings: \n",
      "        Variable        Count\n",
      "  Soil NO3 (ppm) 0.5146276596\n",
      "  Soil NH4 (ppm) 0.5146276596\n",
      "  Soil K (mg/kg) 0.0053191489\n",
      "  Soil P (mg/kg) 0.0006648936\n",
      " Soil Ca (mg/kg) 0.0006648936\n",
      " Soil Mg (mg/kg) 0.0000000000\n"
     ]
    },
    {
     "data": {
      "image/png": "[encoded data removed]",
      "text/plain": [
       "plot without title"
      ]
     },
     "metadata": {
      "image/png": {
       "height": 360,
       "width": 840
      },
      "text/plain": {
       "height": 360,
       "width": 840
      }
     },
     "output_type": "display_data"
    }
   ],
   "source": [
    "comp_soil <- df_source %>%\n",
    "  select(starts_with(\"Soil\"))\n",
    "\n",
    "aggr(comp_soil, sortVar = TRUE, cex.axis = 0.7)"
   ]
  },
  {
   "cell_type": "markdown",
   "metadata": {},
   "source": [
    "Nitrogen forms have been measured in less than 50%  of the obervations. Unfortunalty, we must rule them out of the analysis. K, P, Ca and Mg are kept.\n",
    "\n",
    "### Imputations\n",
    "\n",
    "The imputation is done with a random forest algorithm using the **`mice`** package. Leaves first."
   ]
  },
  {
   "cell_type": "code",
   "execution_count": 69,
   "metadata": {
    "tags": [
     "remove_cell"
    ]
   },
   "outputs": [
    {
     "name": "stderr",
     "output_type": "stream",
     "text": [
      "\n",
      "Attaching package: 'mice'\n",
      "\n",
      "\n",
      "The following objects are masked from 'package:base':\n",
      "\n",
      "    cbind, rbind\n",
      "\n",
      "\n"
     ]
    },
    {
     "name": "stdout",
     "output_type": "stream",
     "text": [
      "\n",
      " iter imp variable\n",
      "  1   1  N  P  K  Al  B\n",
      "  1   2  N  P  K  Al  B\n",
      "  1   3  N  P  K  Al  B\n",
      "  1   4  N  P  K  Al  B\n",
      "  1   5  N  P  K  Al  B\n",
      "  2   1  N  P  K  Al  B\n",
      "  2   2  N  P  K  Al  B\n",
      "  2   3  N  P  K  Al  B\n",
      "  2   4  N  P  K  Al  B\n",
      "  2   5  N  P  K  Al  B\n",
      "  3   1  N  P  K  Al  B\n",
      "  3   2  N  P  K  Al  B\n",
      "  3   3  N  P  K  Al  B\n",
      "  3   4  N  P  K  Al  B\n",
      "  3   5  N  P  K  Al  B\n",
      "  4   1  N  P  K  Al  B\n",
      "  4   2  N  P  K  Al  B\n",
      "  4   3  N  P  K  Al  B\n",
      "  4   4  N  P  K  Al  B\n",
      "  4   5  N  P  K  Al  B\n",
      "  5   1  N  P  K  Al  B\n",
      "  5   2  N  P  K  Al  B\n",
      "  5   3  N  P  K  Al  B\n",
      "  5   4  N  P  K  Al  B\n",
      "  5   5  N  P  K  Al  B\n"
     ]
    }
   ],
   "source": [
    "library(\"mice\")\n",
    "\n",
    "comp_leaf_enough <- comp_leaf %>% \n",
    "  select(-`Leaf Mo (ppm)`, -`Leaf Mn (ppm)`, -`Leaf Zn (ppm)`, -`Leaf Cu (ppm)`, -`Leaf Fe (ppm)`)\n",
    "\n",
    "leaf_comp_names <- names(comp_leaf_enough)\n",
    "names(comp_leaf_enough) <- c(\"N\", \"P\", \"K\", \"Ca\", \"Mg\", \"Al\", \"B\")\n",
    "\n",
    "leaf_too_many_nas <- df_source %>% \n",
    "  select(id) %>% \n",
    "  filter(apply(comp_leaf_enough, 1, function(x) sum(is.na(x)) > 3)) %>% \n",
    "  pull()\n",
    "\n",
    "leaf_imp <- comp_leaf_enough %>% \n",
    "  filter(!(df_source$id %in% leaf_too_many_nas)) %>%\n",
    "  mice(., method = \"rf\") %>% \n",
    "  complete(.)\n",
    "\n",
    "names(leaf_imp) <- leaf_comp_names"
   ]
  },
  {
   "cell_type": "markdown",
   "metadata": {},
   "source": [
    "Then soil."
   ]
  },
  {
   "cell_type": "code",
   "execution_count": 70,
   "metadata": {
    "tags": [
     "remove_cell"
    ]
   },
   "outputs": [
    {
     "name": "stdout",
     "output_type": "stream",
     "text": [
      "\n",
      " iter imp variable\n",
      "  1   1  P  K  Ca\n",
      "  1   2  P  K  Ca\n",
      "  1   3  P  K  Ca\n",
      "  1   4  P  K  Ca\n",
      "  1   5  P  K  Ca\n",
      "  2   1  P  K  Ca\n",
      "  2   2  P  K  Ca\n",
      "  2   3  P  K  Ca\n",
      "  2   4  P  K  Ca\n",
      "  2   5  P  K  Ca\n",
      "  3   1  P  K  Ca\n",
      "  3   2  P  K  Ca\n",
      "  3   3  P  K  Ca\n",
      "  3   4  P  K  Ca\n",
      "  3   5  P  K  Ca\n",
      "  4   1  P  K  Ca\n",
      "  4   2  P  K  Ca\n",
      "  4   3  P  K  Ca\n",
      "  4   4  P  K  Ca\n",
      "  4   5  P  K  Ca\n",
      "  5   1  P  K  Ca\n",
      "  5   2  P  K  Ca\n",
      "  5   3  P  K  Ca\n",
      "  5   4  P  K  Ca\n",
      "  5   5  P  K  Ca\n"
     ]
    }
   ],
   "source": [
    "comp_soil_enough <- comp_soil %>% \n",
    "  select(-`Soil NO3 (ppm)`, -`Soil NH4 (ppm)`)\n",
    "\n",
    "soil_comp_names <- names(comp_soil_enough)\n",
    "names(comp_soil_enough) <- c(\"P\", \"K\", \"Ca\", \"Mg\")\n",
    "\n",
    "soil_too_many_nas <- df_source %>% \n",
    "  select(id) %>% \n",
    "  filter(apply(comp_soil_enough, 1, function(x) sum(is.na(x)) > 3)) %>% \n",
    "  pull()\n",
    "\n",
    "soil_imp <- comp_soil_enough %>% \n",
    "  filter(!(df_source$id %in% soil_too_many_nas)) %>%\n",
    "  mice(., method = \"rf\") %>% \n",
    "  complete(.)\n",
    "\n",
    "names(soil_imp) <- soil_comp_names"
   ]
  },
  {
   "cell_type": "markdown",
   "metadata": {},
   "source": [
    "### Compute balances\n",
    "\n",
    "Load SBPs."
   ]
  },
  {
   "cell_type": "code",
   "execution_count": 71,
   "metadata": {
    "tags": [
     "remove_cell"
    ]
   },
   "outputs": [
    {
     "name": "stderr",
     "output_type": "stream",
     "text": [
      "Loading required package: tensorA\n",
      "\n",
      "\n",
      "Attaching package: 'tensorA'\n",
      "\n",
      "\n",
      "The following object is masked from 'package:base':\n",
      "\n",
      "    norm\n",
      "\n",
      "\n",
      "Loading required package: robustbase\n",
      "\n",
      "Loading required package: bayesm\n",
      "\n",
      "Welcome to compositions, a package for compositional data analysis.\n",
      "Find an intro with \"? compositions\"\n",
      "\n",
      "\n",
      "\n",
      "Attaching package: 'compositions'\n",
      "\n",
      "\n",
      "The following objects are masked from 'package:stats':\n",
      "\n",
      "    cor, cov, dist, var\n",
      "\n",
      "\n",
      "The following objects are masked from 'package:base':\n",
      "\n",
      "    %*%, scale, scale.default\n",
      "\n",
      "\n",
      "Parsed with column specification:\n",
      "cols(\n",
      "  P = \u001b[32mcol_double()\u001b[39m,\n",
      "  K = \u001b[32mcol_double()\u001b[39m,\n",
      "  Ca = \u001b[32mcol_double()\u001b[39m,\n",
      "  Mg = \u001b[32mcol_double()\u001b[39m,\n",
      "  Fv = \u001b[32mcol_double()\u001b[39m\n",
      ")\n",
      "\n",
      "Parsed with column specification:\n",
      "cols(\n",
      "  N = \u001b[32mcol_double()\u001b[39m,\n",
      "  P = \u001b[32mcol_double()\u001b[39m,\n",
      "  K = \u001b[32mcol_double()\u001b[39m,\n",
      "  Ca = \u001b[32mcol_double()\u001b[39m,\n",
      "  Mg = \u001b[32mcol_double()\u001b[39m,\n",
      "  Al = \u001b[32mcol_double()\u001b[39m,\n",
      "  B = \u001b[32mcol_double()\u001b[39m,\n",
      "  Fv = \u001b[32mcol_double()\u001b[39m\n",
      ")\n",
      "\n"
     ]
    }
   ],
   "source": [
    "library(\"compositions\")\n",
    "sbp_soil <- read_csv(\"data/sbp-soil.csv\")\n",
    "sbp_leaf <- read_csv(\"data/sbp-leaf.csv\")"
   ]
  },
  {
   "cell_type": "markdown",
   "metadata": {},
   "source": [
    "I have created a small snippet to generate balance definitions from SBPs."
   ]
  },
  {
   "cell_type": "code",
   "execution_count": 72,
   "metadata": {
    "lines_to_next_cell": 2
   },
   "outputs": [],
   "source": [
    "source(\"lib/ilrDefinition.R\")\n",
    "soil_bal_def <- ilrDefinition(sbp_soil,\n",
    "                              side = \"-+\", sep.elem = \"\",\n",
    "                              sep.bal = \".\", sep.left = \"\", sep.right = \"\"\n",
    ")\n",
    "leaf_bal_def <- ilrDefinition(sbp_leaf,\n",
    "                              side = \"-+\", sep.elem = \"\",\n",
    "                              sep.bal = \".\", sep.left = \"\", sep.right = \"\"\n",
    ")"
   ]
  },
  {
   "cell_type": "markdown",
   "metadata": {},
   "source": [
    "Generate leaf balances."
   ]
  },
  {
   "cell_type": "code",
   "execution_count": 73,
   "metadata": {},
   "outputs": [],
   "source": [
    "comp_leaf <- leaf_imp %>% \n",
    "  mutate(`Leaf Al (%)` = `Leaf Al (ppm)` / 1e4,\n",
    "         `Leaf B (%)` = `Leaf B (ppm)` / 1e4,) %>% \n",
    "  select(-`Leaf Al (ppm)`, -`Leaf B (ppm)`) %>% \n",
    "  mutate(Fv = 100 - `Leaf N (%)` - `Leaf P (%)` - `Leaf K (%)` -\n",
    "           `Leaf Ca (%)` - `Leaf Mg (%)` - `Leaf Al (%)` - `Leaf B (%)`)\n",
    "bal_leaf <- ilr(comp_leaf, V = gsi.buildilrBase(t(sbp_leaf))) %>% \n",
    "  data.frame()\n",
    "names(bal_leaf) <- paste0(\"Leaf_\", leaf_bal_def)\n",
    "\n",
    "bal_leaf <- bal_leaf %>% \n",
    "  mutate(id = df_source$id[!(df_source$id %in% leaf_too_many_nas)])"
   ]
  },
  {
   "cell_type": "markdown",
   "metadata": {},
   "source": [
    "Generate soil balances."
   ]
  },
  {
   "cell_type": "code",
   "execution_count": 74,
   "metadata": {},
   "outputs": [],
   "source": [
    "comp_soil <- soil_imp %>% \n",
    "  mutate(Fv = 1e6 - `Soil Ca (mg/kg)` - `Soil P (mg/kg)` - `Soil K (mg/kg)` - `Soil Mg (mg/kg)`)\n",
    "bal_soil <- ilr(comp_soil, V = gsi.buildilrBase(t(sbp_soil))) %>% \n",
    "  data.frame()\n",
    "names(bal_soil) <- paste0(\"Soil_\", soil_bal_def)\n",
    "\n",
    "bal_soil <- bal_soil %>% \n",
    "  mutate(id = df_source$id)"
   ]
  },
  {
   "cell_type": "markdown",
   "metadata": {},
   "source": [
    "### Merge variables to a table for modelling\n",
    "\n",
    "Tables for weather, soil balances et leaf balances are merged to a single table which will be used for statistical and predictive modelling."
   ]
  },
  {
   "cell_type": "code",
   "execution_count": 75,
   "metadata": {},
   "outputs": [],
   "source": [
    "df_ <- df_weather %>%\n",
    "  select(-starts_with(c(\"Leaf\", \"Soil\"))) %>%\n",
    "  left_join(bal_leaf, by = \"id\") %>% \n",
    "  left_join(bal_soil, by = \"id\")"
   ]
  },
  {
   "cell_type": "markdown",
   "metadata": {},
   "source": [
    "## Statistical modelling\n",
    "\n",
    "I will first use a frequential modelling framework to make sure everything works, then use a bayesian framework to obtain posterior effects. I'm keeping only variables of interest."
   ]
  },
  {
   "cell_type": "markdown",
   "metadata": {},
   "source": [
    "### Weather 2 years\n",
    "\n",
    "Since blueberry cycles last two years, we investigate on a two-years basis, but weather is agglomerated to the whole season, not monthly."
   ]
  },
  {
   "cell_type": "code",
   "execution_count": 76,
   "metadata": {},
   "outputs": [],
   "source": [
    "df_stats <- df_ %>%\n",
    "  select(\n",
    "    `Berry yield (kg/ha)`,\n",
    "    `N dose (kg/ha)`,\n",
    "    `P dose (kg/ha)`,\n",
    "    `K dose (kg/ha)`,\n",
    "    `pH H2O`,\n",
    "    starts_with(\"Leaf_\"),\n",
    "    starts_with(\"Soil_\"),\n",
    "    starts_with(\"weather_2years\"),\n",
    "    # Random effects\n",
    "    Year, Site, Block\n",
    "  ) %>%\n",
    "  rename(\n",
    "    yield = `Berry yield (kg/ha)`,\n",
    "    doseN = `N dose (kg/ha)`,\n",
    "    doseP = `P dose (kg/ha)`,\n",
    "    doseK = `K dose (kg/ha)`,\n",
    "    pH = `pH H2O`\n",
    "  ) %>%\n",
    "  drop_na()"
   ]
  },
  {
   "cell_type": "code",
   "execution_count": 77,
   "metadata": {},
   "outputs": [],
   "source": [
    "linmod_formula <- yield ~ doseN + doseP + doseK + pH +\n",
    "  Leaf_Fv.BAlMgCaKPN + Leaf_Al.BMgCaKPN + Leaf_B.MgCaKPN + \n",
    "  Leaf_MgCaK.PN + Leaf_P.N + Leaf_MgCa.K + Leaf_Mg.Ca +\n",
    "  Soil_Fv.MgCaKP + Soil_MgCaK.P + Soil_MgCa.K + Soil_Mg.Ca +\n",
    "  weather_2years.total_precip_curr + weather_2years.mean_temp_curr + weather_2years.frozen_curr + \n",
    "  # + weather_2years.GDD_curr\n",
    "  weather_2years.total_precip_prev + weather_2years.mean_temp_prev  + weather_2years.frozen_prev\n",
    "  # + weather_2years.GDD_prev\n",
    "\n",
    "df_stats_recipe <-\n",
    "  df_stats %>%\n",
    "  recipe(linmod_formula) %>%\n",
    "  step_log(all_outcomes(), base = 10) %>% \n",
    "  step_normalize(-all_outcomes(), all_numeric()) %>%\n",
    "  prep()"
   ]
  },
  {
   "cell_type": "markdown",
   "metadata": {},
   "source": [
    "#### Frequential framework"
   ]
  },
  {
   "cell_type": "code",
   "execution_count": 78,
   "metadata": {
    "lines_to_next_cell": 2
   },
   "outputs": [],
   "source": [
    "lm_freq <- lm(linmod_formula, data = juice(df_stats_recipe))"
   ]
  },
  {
   "cell_type": "code",
   "execution_count": 79,
   "metadata": {},
   "outputs": [
    {
     "name": "stderr",
     "output_type": "stream",
     "text": [
      "Parsed with column specification:\n",
      "cols(\n",
      "  term = \u001b[31mcol_character()\u001b[39m,\n",
      "  english = \u001b[31mcol_character()\u001b[39m\n",
      ")\n",
      "\n"
     ]
    },
    {
     "data": {
      "image/png": "[encoded data removed]",
      "text/plain": [
       "plot without title"
      ]
     },
     "metadata": {
      "image/png": {
       "height": 360,
       "width": 840
      },
      "text/plain": {
       "height": 360,
       "width": 840
      }
     },
     "output_type": "display_data"
    }
   ],
   "source": [
    "translate_df <- read_csv(\"data/translate_names.csv\")\n",
    "\n",
    "tidy(lm_freq, conf.int = TRUE) %>%\n",
    "  filter(term != \"(Intercept)\") %>%\n",
    "  left_join(translate_df, by = \"term\") %>%\n",
    "  mutate(english = fct_reorder(english, estimate)) %>%\n",
    "  ggplot(aes(estimate, english)) +\n",
    "  geom_vline(xintercept = 0, linetype = 2) +\n",
    "  geom_point() +\n",
    "  geom_errorbarh(aes(xmin = conf.low, xmax = conf.high)) +\n",
    "  labs(x = \"Coefficient\", y = \"\") +\n",
    "  theme_pubr() +\n",
    "  ggsave(\"images/modlin-freq_seasonal.png\", width = 8, height = 8, dpi = 300)"
   ]
  },
  {
   "cell_type": "markdown",
   "metadata": {},
   "source": [
    "#### Bayesian framework"
   ]
  },
  {
   "cell_type": "code",
   "execution_count": 80,
   "metadata": {},
   "outputs": [
    {
     "name": "stderr",
     "output_type": "stream",
     "text": [
      "Loading required package: Rcpp\n",
      "\n",
      "\n",
      "Attaching package: 'Rcpp'\n",
      "\n",
      "\n",
      "The following object is masked from 'package:rsample':\n",
      "\n",
      "    populate\n",
      "\n",
      "\n",
      "rstanarm (Version 2.19.3, packaged: 2020-02-11 05:16:41 UTC)\n",
      "\n",
      "- Do not expect the default priors to remain the same in future rstanarm versions.\n",
      "\n",
      "Thus, R scripts should specify priors explicitly, even if they are just the defaults.\n",
      "\n",
      "- For execution on a local, multicore CPU with excess RAM we recommend calling\n",
      "\n",
      "options(mc.cores = parallel::detectCores())\n",
      "\n",
      "- bayesplot theme set to bayesplot::theme_default()\n",
      "\n",
      "   * Does _not_ affect other ggplot2 plots\n",
      "\n",
      "   * See ?bayesplot_theme_set for details on theme setting\n",
      "\n",
      "\n",
      "Attaching package: 'rstanarm'\n",
      "\n",
      "\n",
      "The following object is masked from 'package:compositions':\n",
      "\n",
      "    R2\n",
      "\n",
      "\n",
      "Warning message:\n",
      "\"package 'tidybayes' was built under R version 4.0.2\"\n",
      "\n",
      "Attaching package: 'tidybayes'\n",
      "\n",
      "\n",
      "The following object is masked from 'package:tune':\n",
      "\n",
      "    parameters\n",
      "\n",
      "\n",
      "The following object is masked from 'package:dials':\n",
      "\n",
      "    parameters\n",
      "\n",
      "\n",
      "Warning message:\n",
      "\"package 'bayesplot' was built under R version 4.0.2\"\n",
      "This is bayesplot version 1.7.2\n",
      "\n",
      "- Online documentation and vignettes at mc-stan.org/bayesplot\n",
      "\n",
      "- bayesplot theme set to bayesplot::theme_default()\n",
      "\n",
      "   * Does _not_ affect other ggplot2 plots\n",
      "\n",
      "   * See ?bayesplot_theme_set for details on theme setting\n",
      "\n"
     ]
    }
   ],
   "source": [
    "library(\"rstanarm\")\n",
    "library(\"tidybayes\")\n",
    "library(\"bayesplot\")\n",
    "\n",
    "lm_bayes <- stan_glm(\n",
    "  linmod_formula,\n",
    "  data = juice(df_stats_recipe),\n",
    "  family = gaussian(),\n",
    "  prior = normal(0, 10),\n",
    "  prior_intercept = normal(0, 10),\n",
    "  iter = 4000,\n",
    "  warmup = 1000,\n",
    "  cores = 4,\n",
    "  seed = 9265830\n",
    ")"
   ]
  },
  {
   "cell_type": "code",
   "execution_count": 81,
   "metadata": {},
   "outputs": [
    {
     "data": {
      "image/png": "[encoded data removed]",
      "text/plain": [
       "plot without title"
      ]
     },
     "metadata": {
      "image/png": {
       "height": 360,
       "width": 840
      },
      "text/plain": {
       "height": 360,
       "width": 840
      }
     },
     "output_type": "display_data"
    }
   ],
   "source": [
    "mcmc_trace(lm_bayes)"
   ]
  },
  {
   "cell_type": "markdown",
   "metadata": {},
   "source": [
    "All caterpillars have constant noise. This is what we want."
   ]
  },
  {
   "cell_type": "code",
   "execution_count": 82,
   "metadata": {},
   "outputs": [
    {
     "name": "stderr",
     "output_type": "stream",
     "text": [
      "Scale for 'y' is already present. Adding another scale for 'y', which will\n",
      "replace the existing scale.\n",
      "\n"
     ]
    },
    {
     "data": {
      "image/png": "[encoded data removed]",
      "text/plain": [
       "plot without title"
      ]
     },
     "metadata": {
      "image/png": {
       "height": 360,
       "width": 840
      },
      "text/plain": {
       "height": 360,
       "width": 840
      }
     },
     "output_type": "display_data"
    }
   ],
   "source": [
    "lm_summary <- tibble(\n",
    "  term = names(lm_bayes$coefficients)[-1],\n",
    "  coefficient = lm_bayes$coefficients[-1]\n",
    ") %>%\n",
    "  left_join(translate_df, by = \"term\")\n",
    "\n",
    "color_scheme_set(\"gray\")\n",
    "mcmc_areas(\n",
    "    lm_bayes,\n",
    "    prob = 0.95,\n",
    "    pars = lm_summary$term[order(lm_summary$coefficient, decreasing = FALSE)],\n",
    "    area_method = \"equal height\"\n",
    "  ) +\n",
    "  geom_vline(xintercept = 0, linetype = 2) +\n",
    "  labs(x = \"Coefficient\") +\n",
    "  scale_y_discrete(\n",
    "    labels = lm_summary$english[order(lm_summary$coefficient, decreasing = FALSE)]\n",
    "  ) +\n",
    "  theme_pubr() +\n",
    "  theme(panel.grid.major.y = element_line(colour = \"grey80\")) +\n",
    "  ggsave(\"images/modlin-bayes_seasonal.png\", width = 12, height = 6, dpi = 300)"
   ]
  },
  {
   "cell_type": "markdown",
   "metadata": {},
   "source": [
    "### Weather current\n",
    "\n",
    "In this section we investigate the effect of several variables where weather is considered only in the current year, on a monthly basis."
   ]
  },
  {
   "cell_type": "code",
   "execution_count": 83,
   "metadata": {},
   "outputs": [],
   "source": [
    "df_stats <- df_ %>%\n",
    "  select(\n",
    "    `Berry yield (kg/ha)`,\n",
    "    `N dose (kg/ha)`,\n",
    "    `P dose (kg/ha)`,\n",
    "    `K dose (kg/ha)`,\n",
    "    `pH H2O`,\n",
    "    starts_with(\"Leaf_\"),\n",
    "    starts_with(\"Soil_\"),\n",
    "    starts_with(\"weather_current\"),\n",
    "    # Random effects\n",
    "    Year, Site, Block\n",
    "  ) %>%\n",
    "  rename(\n",
    "    yield = `Berry yield (kg/ha)`,\n",
    "    doseN = `N dose (kg/ha)`,\n",
    "    doseP = `P dose (kg/ha)`,\n",
    "    doseK = `K dose (kg/ha)`,\n",
    "    pH = `pH H2O`\n",
    "  ) %>%\n",
    "  drop_na()"
   ]
  },
  {
   "cell_type": "code",
   "execution_count": 86,
   "metadata": {},
   "outputs": [
    {
     "data": {
      "text/html": [
       "<table>\n",
       "<caption>A spec_tbl_df: 5 × 4</caption>\n",
       "<thead>\n",
       "\t<tr><th scope=col>phenology</th><th scope=col>stages</th><th scope=col>julian day start</th><th scope=col>julian day end</th></tr>\n",
       "\t<tr><th scope=col>&lt;chr&gt;</th><th scope=col>&lt;chr&gt;</th><th scope=col>&lt;dbl&gt;</th><th scope=col>&lt;dbl&gt;</th></tr>\n",
       "</thead>\n",
       "<tbody>\n",
       "\t<tr><td>Before flower bud opening</td><td>0      </td><td> 92</td><td>125</td></tr>\n",
       "\t<tr><td>Flower bud opening       </td><td>1 to 5 </td><td>126</td><td>163</td></tr>\n",
       "\t<tr><td>Flower open              </td><td>6      </td><td>164</td><td>180</td></tr>\n",
       "\t<tr><td>Fruit maturation         </td><td>7 to 10</td><td>181</td><td>220</td></tr>\n",
       "\t<tr><td>After fruit maturation   </td><td>11     </td><td>221</td><td>245</td></tr>\n",
       "</tbody>\n",
       "</table>\n"
      ],
      "text/latex": [
       "A spec\\_tbl\\_df: 5 × 4\n",
       "\\begin{tabular}{llll}\n",
       " phenology & stages & julian day start & julian day end\\\\\n",
       " <chr> & <chr> & <dbl> & <dbl>\\\\\n",
       "\\hline\n",
       "\t Before flower bud opening & 0       &  92 & 125\\\\\n",
       "\t Flower bud opening        & 1 to 5  & 126 & 163\\\\\n",
       "\t Flower open               & 6       & 164 & 180\\\\\n",
       "\t Fruit maturation          & 7 to 10 & 181 & 220\\\\\n",
       "\t After fruit maturation    & 11      & 221 & 245\\\\\n",
       "\\end{tabular}\n"
      ],
      "text/markdown": [
       "\n",
       "A spec_tbl_df: 5 × 4\n",
       "\n",
       "| phenology &lt;chr&gt; | stages &lt;chr&gt; | julian day start &lt;dbl&gt; | julian day end &lt;dbl&gt; |\n",
       "|---|---|---|---|\n",
       "| Before flower bud opening | 0       |  92 | 125 |\n",
       "| Flower bud opening        | 1 to 5  | 126 | 163 |\n",
       "| Flower open               | 6       | 164 | 180 |\n",
       "| Fruit maturation          | 7 to 10 | 181 | 220 |\n",
       "| After fruit maturation    | 11      | 221 | 245 |\n",
       "\n"
      ],
      "text/plain": [
       "  phenology                 stages  julian day start julian day end\n",
       "1 Before flower bud opening 0        92              125           \n",
       "2 Flower bud opening        1 to 5  126              163           \n",
       "3 Flower open               6       164              180           \n",
       "4 Fruit maturation          7 to 10 181              220           \n",
       "5 After fruit maturation    11      221              245           "
      ]
     },
     "metadata": {},
     "output_type": "display_data"
    }
   ],
   "source": [
    "phenology_table"
   ]
  },
  {
   "cell_type": "code",
   "execution_count": 88,
   "metadata": {},
   "outputs": [],
   "source": [
    "linmod_formula <- yield ~ doseN + doseP + doseK + pH +\n",
    "  Leaf_Fv.BAlMgCaKPN + Leaf_Al.BMgCaKPN + Leaf_B.MgCaKPN + \n",
    "  Leaf_MgCaK.PN + Leaf_P.N + Leaf_MgCa.K + Leaf_Mg.Ca +\n",
    "  Soil_Fv.MgCaKP + Soil_MgCaK.P + Soil_MgCa.K + Soil_Mg.Ca +\n",
    "  `weather_current.total_precip_Flower open`"
   ]
  },
  {
   "cell_type": "code",
   "execution_count": 92,
   "metadata": {},
   "outputs": [],
   "source": [
    "linmod_formula <- yield ~ doseN + doseP + doseK + pH +\n",
    "  Leaf_Fv.BAlMgCaKPN + Leaf_Al.BMgCaKPN + Leaf_B.MgCaKPN + \n",
    "  Leaf_MgCaK.PN + Leaf_P.N + Leaf_MgCa.K + Leaf_Mg.Ca +\n",
    "  Soil_Fv.MgCaKP + Soil_MgCaK.P + Soil_MgCa.K + Soil_Mg.Ca +\n",
    "  `weather_current.total_precip_Before flower bud opening` + \n",
    "  `weather_current.total_precip_Flower bud opening` +\n",
    "  `weather_current.total_precip_Flower open` +\n",
    "  `weather_current.total_precip_Fruit maturation` +\n",
    "  `weather_current.total_precip_After fruit maturation` +\n",
    "  `weather_current.mean_temp_Before flower bud opening` +\n",
    "  `weather_current.mean_temp_Flower bud opening` +\n",
    "  `weather_current.mean_temp_Flower open` +\n",
    "  `weather_current.mean_temp_Fruit maturation` +\n",
    "  `weather_current.mean_temp_After fruit maturation` + \n",
    "  `weather_current.frozen_Before flower bud opening` +\n",
    "  `weather_current.frozen_Flower bud opening`\n",
    "\n",
    "df_stats_recipe <-\n",
    "  df_stats %>%\n",
    "  recipe(linmod_formula) %>%\n",
    "  step_log(all_outcomes(), base = 10) %>% \n",
    "  step_normalize(-all_outcomes(), all_numeric()) %>%\n",
    "  prep()"
   ]
  },
  {
   "cell_type": "markdown",
   "metadata": {},
   "source": [
    "#### Frequential framework"
   ]
  },
  {
   "cell_type": "code",
   "execution_count": 93,
   "metadata": {
    "lines_to_next_cell": 2
   },
   "outputs": [],
   "source": [
    "lm_freq <- lm(linmod_formula, data = juice(df_stats_recipe))"
   ]
  },
  {
   "cell_type": "code",
   "execution_count": 97,
   "metadata": {},
   "outputs": [
    {
     "data": {
      "text/html": [
       "<table>\n",
       "<caption>A tibble: 27 × 8</caption>\n",
       "<thead>\n",
       "\t<tr><th scope=col>term</th><th scope=col>estimate</th><th scope=col>std.error</th><th scope=col>statistic</th><th scope=col>p.value</th><th scope=col>conf.low</th><th scope=col>conf.high</th><th scope=col>english</th></tr>\n",
       "\t<tr><th scope=col>&lt;chr&gt;</th><th scope=col>&lt;dbl&gt;</th><th scope=col>&lt;dbl&gt;</th><th scope=col>&lt;dbl&gt;</th><th scope=col>&lt;dbl&gt;</th><th scope=col>&lt;dbl&gt;</th><th scope=col>&lt;dbl&gt;</th><th scope=col>&lt;fct&gt;</th></tr>\n",
       "</thead>\n",
       "<tbody>\n",
       "\t<tr><td>doseN                                                   </td><td> 0.018345234</td><td>0.02908159</td><td>  0.6308195</td><td>5.282649e-01</td><td>-0.038704556</td><td> 0.075395023</td><td>N dose (kg/ha)              </td></tr>\n",
       "\t<tr><td>doseP                                                   </td><td> 0.038492607</td><td>0.02938861</td><td>  1.3097798</td><td>1.904922e-01</td><td>-0.019159470</td><td> 0.096144684</td><td>P dose (kg/ha)              </td></tr>\n",
       "\t<tr><td>doseK                                                   </td><td>-0.010941745</td><td>0.02372504</td><td> -0.4611898</td><td>6.447364e-01</td><td>-0.057483505</td><td> 0.035600016</td><td>K dose (kg/ha)              </td></tr>\n",
       "\t<tr><td>pH                                                      </td><td>-0.179775405</td><td>0.02847031</td><td> -6.3144877</td><td>3.665587e-10</td><td>-0.235626033</td><td>-0.123924777</td><td>pH                          </td></tr>\n",
       "\t<tr><td>Leaf_Fv.BAlMgCaKPN                                      </td><td> 0.128484610</td><td>0.03398159</td><td>  3.7810068</td><td>1.629841e-04</td><td> 0.061822422</td><td> 0.195146798</td><td>Leaf [Fv | B,Al,Mg,Ca,K,P,N]</td></tr>\n",
       "\t<tr><td>Leaf_Al.BMgCaKPN                                        </td><td>-0.023416709</td><td>0.03138204</td><td> -0.7461820</td><td>4.556868e-01</td><td>-0.084979318</td><td> 0.038145900</td><td>Leaf [Al | B,Mg,Ca,K,P,N]   </td></tr>\n",
       "\t<tr><td>Leaf_B.MgCaKPN                                          </td><td> 0.101078967</td><td>0.03115892</td><td>  3.2439819</td><td>1.207435e-03</td><td> 0.039954050</td><td> 0.162203884</td><td>Leaf [B | Mg,Ca,K,P,N]      </td></tr>\n",
       "\t<tr><td>Leaf_MgCaK.PN                                           </td><td> 0.078808656</td><td>0.03298023</td><td>  2.3895729</td><td>1.700391e-02</td><td> 0.014110850</td><td> 0.143506463</td><td>Leaf [Mg,K | P,N]           </td></tr>\n",
       "\t<tr><td>Leaf_P.N                                                </td><td> 0.047954027</td><td>0.02704436</td><td>  1.7731620</td><td>7.642629e-02</td><td>-0.005099294</td><td> 0.101007348</td><td>Leaf [P | N]                </td></tr>\n",
       "\t<tr><td>Leaf_MgCa.K                                             </td><td>-0.005629631</td><td>0.03132434</td><td> -0.1797207</td><td>8.573987e-01</td><td>-0.067079049</td><td> 0.055819787</td><td>Leaf [Mg,Ca | K]            </td></tr>\n",
       "\t<tr><td>Leaf_Mg.Ca                                              </td><td> 0.003004161</td><td>0.02614711</td><td>  0.1148946</td><td>9.085457e-01</td><td>-0.048289007</td><td> 0.054297329</td><td>Leaf [Mg | Ca]              </td></tr>\n",
       "\t<tr><td>Soil_Fv.MgCaKP                                          </td><td> 0.248743004</td><td>0.04966641</td><td>  5.0082744</td><td>6.214614e-07</td><td> 0.151311665</td><td> 0.346174343</td><td>Soil [Fv | Mg,Ca,K,P]       </td></tr>\n",
       "\t<tr><td>Soil_MgCaK.P                                            </td><td>-0.147733895</td><td>0.03408707</td><td> -4.3340154</td><td>1.572195e-05</td><td>-0.214603015</td><td>-0.080864775</td><td>Soil [Mg,Ca,K | P]          </td></tr>\n",
       "\t<tr><td>Soil_MgCa.K                                             </td><td> 0.079351602</td><td>0.03441369</td><td>  2.3058150</td><td>2.127125e-02</td><td> 0.011841752</td><td> 0.146861452</td><td>Soil [Mg,Ca | K]            </td></tr>\n",
       "\t<tr><td>Soil_Mg.Ca                                              </td><td>-0.062484960</td><td>0.03414602</td><td> -1.8299336</td><td>6.747930e-02</td><td>-0.129469728</td><td> 0.004499809</td><td>Soil [Mg | Ca]              </td></tr>\n",
       "\t<tr><td>`weather_current.total_precip_Before flower bud opening`</td><td> 0.878863141</td><td>0.12866062</td><td>  6.8308634</td><td>1.270797e-11</td><td> 0.626467668</td><td> 1.131258614</td><td>NA                          </td></tr>\n",
       "\t<tr><td>`weather_current.total_precip_Flower bud opening`       </td><td>-0.407023540</td><td>0.08305175</td><td> -4.9008424</td><td>1.069236e-06</td><td>-0.569947401</td><td>-0.244099678</td><td>NA                          </td></tr>\n",
       "\t<tr><td>`weather_current.total_precip_Flower open`              </td><td> 0.822684162</td><td>0.10416230</td><td>  7.8980993</td><td>5.809024e-15</td><td> 0.618347424</td><td> 1.027020900</td><td>NA                          </td></tr>\n",
       "\t<tr><td>`weather_current.total_precip_Fruit maturation`         </td><td>-0.517947245</td><td>0.25164453</td><td> -2.0582495</td><td>3.975692e-02</td><td>-1.011602096</td><td>-0.024292394</td><td>NA                          </td></tr>\n",
       "\t<tr><td>`weather_current.total_precip_After fruit maturation`   </td><td>-0.326511107</td><td>0.13283759</td><td> -2.4579722</td><td>1.409675e-02</td><td>-0.587100595</td><td>-0.065921619</td><td>NA                          </td></tr>\n",
       "\t<tr><td>`weather_current.mean_temp_Before flower bud opening`   </td><td> 0.825069856</td><td>0.36407792</td><td>  2.2661903</td><td>2.359677e-02</td><td> 0.110852742</td><td> 1.539286970</td><td>NA                          </td></tr>\n",
       "\t<tr><td>`weather_current.mean_temp_Flower bud opening`          </td><td> 0.851939327</td><td>0.10056243</td><td>  8.4717457</td><td>6.207509e-17</td><td> 0.654664502</td><td> 1.049214151</td><td>NA                          </td></tr>\n",
       "\t<tr><td>`weather_current.mean_temp_Flower open`                 </td><td> 0.275586563</td><td>0.17992619</td><td>  1.5316646</td><td>1.258385e-01</td><td>-0.077377334</td><td> 0.628550460</td><td>NA                          </td></tr>\n",
       "\t<tr><td>`weather_current.mean_temp_Fruit maturation`            </td><td>-1.756166211</td><td>0.15218245</td><td>-11.5398738</td><td>1.874614e-29</td><td>-2.054704795</td><td>-1.457627628</td><td>NA                          </td></tr>\n",
       "\t<tr><td>`weather_current.mean_temp_After fruit maturation`      </td><td> 1.296144463</td><td>0.13912487</td><td>  9.3164111</td><td>4.703809e-20</td><td> 1.023221124</td><td> 1.569067801</td><td>NA                          </td></tr>\n",
       "\t<tr><td>`weather_current.frozen_Before flower bud opening`      </td><td> 1.335696124</td><td>0.39029912</td><td>  3.4222370</td><td>6.395718e-04</td><td> 0.570040483</td><td> 2.101351765</td><td>NA                          </td></tr>\n",
       "\t<tr><td>`weather_current.frozen_Flower bud opening`             </td><td>-0.208790732</td><td>0.09900505</td><td> -2.1088896</td><td>3.513707e-02</td><td>-0.403010431</td><td>-0.014571033</td><td>NA                          </td></tr>\n",
       "</tbody>\n",
       "</table>\n"
      ],
      "text/latex": [
       "A tibble: 27 × 8\n",
       "\\begin{tabular}{llllllll}\n",
       " term & estimate & std.error & statistic & p.value & conf.low & conf.high & english\\\\\n",
       " <chr> & <dbl> & <dbl> & <dbl> & <dbl> & <dbl> & <dbl> & <fct>\\\\\n",
       "\\hline\n",
       "\t doseN                                                    &  0.018345234 & 0.02908159 &   0.6308195 & 5.282649e-01 & -0.038704556 &  0.075395023 & N dose (kg/ha)              \\\\\n",
       "\t doseP                                                    &  0.038492607 & 0.02938861 &   1.3097798 & 1.904922e-01 & -0.019159470 &  0.096144684 & P dose (kg/ha)              \\\\\n",
       "\t doseK                                                    & -0.010941745 & 0.02372504 &  -0.4611898 & 6.447364e-01 & -0.057483505 &  0.035600016 & K dose (kg/ha)              \\\\\n",
       "\t pH                                                       & -0.179775405 & 0.02847031 &  -6.3144877 & 3.665587e-10 & -0.235626033 & -0.123924777 & pH                          \\\\\n",
       "\t Leaf\\_Fv.BAlMgCaKPN                                       &  0.128484610 & 0.03398159 &   3.7810068 & 1.629841e-04 &  0.061822422 &  0.195146798 & Leaf {[}Fv \\textbar{} B,Al,Mg,Ca,K,P,N{]}\\\\\n",
       "\t Leaf\\_Al.BMgCaKPN                                         & -0.023416709 & 0.03138204 &  -0.7461820 & 4.556868e-01 & -0.084979318 &  0.038145900 & Leaf {[}Al \\textbar{} B,Mg,Ca,K,P,N{]}   \\\\\n",
       "\t Leaf\\_B.MgCaKPN                                           &  0.101078967 & 0.03115892 &   3.2439819 & 1.207435e-03 &  0.039954050 &  0.162203884 & Leaf {[}B \\textbar{} Mg,Ca,K,P,N{]}      \\\\\n",
       "\t Leaf\\_MgCaK.PN                                            &  0.078808656 & 0.03298023 &   2.3895729 & 1.700391e-02 &  0.014110850 &  0.143506463 & Leaf {[}Mg,K \\textbar{} P,N{]}           \\\\\n",
       "\t Leaf\\_P.N                                                 &  0.047954027 & 0.02704436 &   1.7731620 & 7.642629e-02 & -0.005099294 &  0.101007348 & Leaf {[}P \\textbar{} N{]}                \\\\\n",
       "\t Leaf\\_MgCa.K                                              & -0.005629631 & 0.03132434 &  -0.1797207 & 8.573987e-01 & -0.067079049 &  0.055819787 & Leaf {[}Mg,Ca \\textbar{} K{]}            \\\\\n",
       "\t Leaf\\_Mg.Ca                                               &  0.003004161 & 0.02614711 &   0.1148946 & 9.085457e-01 & -0.048289007 &  0.054297329 & Leaf {[}Mg \\textbar{} Ca{]}              \\\\\n",
       "\t Soil\\_Fv.MgCaKP                                           &  0.248743004 & 0.04966641 &   5.0082744 & 6.214614e-07 &  0.151311665 &  0.346174343 & Soil {[}Fv \\textbar{} Mg,Ca,K,P{]}       \\\\\n",
       "\t Soil\\_MgCaK.P                                             & -0.147733895 & 0.03408707 &  -4.3340154 & 1.572195e-05 & -0.214603015 & -0.080864775 & Soil {[}Mg,Ca,K \\textbar{} P{]}          \\\\\n",
       "\t Soil\\_MgCa.K                                              &  0.079351602 & 0.03441369 &   2.3058150 & 2.127125e-02 &  0.011841752 &  0.146861452 & Soil {[}Mg,Ca \\textbar{} K{]}            \\\\\n",
       "\t Soil\\_Mg.Ca                                               & -0.062484960 & 0.03414602 &  -1.8299336 & 6.747930e-02 & -0.129469728 &  0.004499809 & Soil {[}Mg \\textbar{} Ca{]}              \\\\\n",
       "\t `weather\\_current.total\\_precip\\_Before flower bud opening` &  0.878863141 & 0.12866062 &   6.8308634 & 1.270797e-11 &  0.626467668 &  1.131258614 & NA                          \\\\\n",
       "\t `weather\\_current.total\\_precip\\_Flower bud opening`        & -0.407023540 & 0.08305175 &  -4.9008424 & 1.069236e-06 & -0.569947401 & -0.244099678 & NA                          \\\\\n",
       "\t `weather\\_current.total\\_precip\\_Flower open`               &  0.822684162 & 0.10416230 &   7.8980993 & 5.809024e-15 &  0.618347424 &  1.027020900 & NA                          \\\\\n",
       "\t `weather\\_current.total\\_precip\\_Fruit maturation`          & -0.517947245 & 0.25164453 &  -2.0582495 & 3.975692e-02 & -1.011602096 & -0.024292394 & NA                          \\\\\n",
       "\t `weather\\_current.total\\_precip\\_After fruit maturation`    & -0.326511107 & 0.13283759 &  -2.4579722 & 1.409675e-02 & -0.587100595 & -0.065921619 & NA                          \\\\\n",
       "\t `weather\\_current.mean\\_temp\\_Before flower bud opening`    &  0.825069856 & 0.36407792 &   2.2661903 & 2.359677e-02 &  0.110852742 &  1.539286970 & NA                          \\\\\n",
       "\t `weather\\_current.mean\\_temp\\_Flower bud opening`           &  0.851939327 & 0.10056243 &   8.4717457 & 6.207509e-17 &  0.654664502 &  1.049214151 & NA                          \\\\\n",
       "\t `weather\\_current.mean\\_temp\\_Flower open`                  &  0.275586563 & 0.17992619 &   1.5316646 & 1.258385e-01 & -0.077377334 &  0.628550460 & NA                          \\\\\n",
       "\t `weather\\_current.mean\\_temp\\_Fruit maturation`             & -1.756166211 & 0.15218245 & -11.5398738 & 1.874614e-29 & -2.054704795 & -1.457627628 & NA                          \\\\\n",
       "\t `weather\\_current.mean\\_temp\\_After fruit maturation`       &  1.296144463 & 0.13912487 &   9.3164111 & 4.703809e-20 &  1.023221124 &  1.569067801 & NA                          \\\\\n",
       "\t `weather\\_current.frozen\\_Before flower bud opening`       &  1.335696124 & 0.39029912 &   3.4222370 & 6.395718e-04 &  0.570040483 &  2.101351765 & NA                          \\\\\n",
       "\t `weather\\_current.frozen\\_Flower bud opening`              & -0.208790732 & 0.09900505 &  -2.1088896 & 3.513707e-02 & -0.403010431 & -0.014571033 & NA                          \\\\\n",
       "\\end{tabular}\n"
      ],
      "text/markdown": [
       "\n",
       "A tibble: 27 × 8\n",
       "\n",
       "| term &lt;chr&gt; | estimate &lt;dbl&gt; | std.error &lt;dbl&gt; | statistic &lt;dbl&gt; | p.value &lt;dbl&gt; | conf.low &lt;dbl&gt; | conf.high &lt;dbl&gt; | english &lt;fct&gt; |\n",
       "|---|---|---|---|---|---|---|---|\n",
       "| doseN                                                    |  0.018345234 | 0.02908159 |   0.6308195 | 5.282649e-01 | -0.038704556 |  0.075395023 | N dose (kg/ha)               |\n",
       "| doseP                                                    |  0.038492607 | 0.02938861 |   1.3097798 | 1.904922e-01 | -0.019159470 |  0.096144684 | P dose (kg/ha)               |\n",
       "| doseK                                                    | -0.010941745 | 0.02372504 |  -0.4611898 | 6.447364e-01 | -0.057483505 |  0.035600016 | K dose (kg/ha)               |\n",
       "| pH                                                       | -0.179775405 | 0.02847031 |  -6.3144877 | 3.665587e-10 | -0.235626033 | -0.123924777 | pH                           |\n",
       "| Leaf_Fv.BAlMgCaKPN                                       |  0.128484610 | 0.03398159 |   3.7810068 | 1.629841e-04 |  0.061822422 |  0.195146798 | Leaf [Fv | B,Al,Mg,Ca,K,P,N] |\n",
       "| Leaf_Al.BMgCaKPN                                         | -0.023416709 | 0.03138204 |  -0.7461820 | 4.556868e-01 | -0.084979318 |  0.038145900 | Leaf [Al | B,Mg,Ca,K,P,N]    |\n",
       "| Leaf_B.MgCaKPN                                           |  0.101078967 | 0.03115892 |   3.2439819 | 1.207435e-03 |  0.039954050 |  0.162203884 | Leaf [B | Mg,Ca,K,P,N]       |\n",
       "| Leaf_MgCaK.PN                                            |  0.078808656 | 0.03298023 |   2.3895729 | 1.700391e-02 |  0.014110850 |  0.143506463 | Leaf [Mg,K | P,N]            |\n",
       "| Leaf_P.N                                                 |  0.047954027 | 0.02704436 |   1.7731620 | 7.642629e-02 | -0.005099294 |  0.101007348 | Leaf [P | N]                 |\n",
       "| Leaf_MgCa.K                                              | -0.005629631 | 0.03132434 |  -0.1797207 | 8.573987e-01 | -0.067079049 |  0.055819787 | Leaf [Mg,Ca | K]             |\n",
       "| Leaf_Mg.Ca                                               |  0.003004161 | 0.02614711 |   0.1148946 | 9.085457e-01 | -0.048289007 |  0.054297329 | Leaf [Mg | Ca]               |\n",
       "| Soil_Fv.MgCaKP                                           |  0.248743004 | 0.04966641 |   5.0082744 | 6.214614e-07 |  0.151311665 |  0.346174343 | Soil [Fv | Mg,Ca,K,P]        |\n",
       "| Soil_MgCaK.P                                             | -0.147733895 | 0.03408707 |  -4.3340154 | 1.572195e-05 | -0.214603015 | -0.080864775 | Soil [Mg,Ca,K | P]           |\n",
       "| Soil_MgCa.K                                              |  0.079351602 | 0.03441369 |   2.3058150 | 2.127125e-02 |  0.011841752 |  0.146861452 | Soil [Mg,Ca | K]             |\n",
       "| Soil_Mg.Ca                                               | -0.062484960 | 0.03414602 |  -1.8299336 | 6.747930e-02 | -0.129469728 |  0.004499809 | Soil [Mg | Ca]               |\n",
       "| `weather_current.total_precip_Before flower bud opening` |  0.878863141 | 0.12866062 |   6.8308634 | 1.270797e-11 |  0.626467668 |  1.131258614 | NA                           |\n",
       "| `weather_current.total_precip_Flower bud opening`        | -0.407023540 | 0.08305175 |  -4.9008424 | 1.069236e-06 | -0.569947401 | -0.244099678 | NA                           |\n",
       "| `weather_current.total_precip_Flower open`               |  0.822684162 | 0.10416230 |   7.8980993 | 5.809024e-15 |  0.618347424 |  1.027020900 | NA                           |\n",
       "| `weather_current.total_precip_Fruit maturation`          | -0.517947245 | 0.25164453 |  -2.0582495 | 3.975692e-02 | -1.011602096 | -0.024292394 | NA                           |\n",
       "| `weather_current.total_precip_After fruit maturation`    | -0.326511107 | 0.13283759 |  -2.4579722 | 1.409675e-02 | -0.587100595 | -0.065921619 | NA                           |\n",
       "| `weather_current.mean_temp_Before flower bud opening`    |  0.825069856 | 0.36407792 |   2.2661903 | 2.359677e-02 |  0.110852742 |  1.539286970 | NA                           |\n",
       "| `weather_current.mean_temp_Flower bud opening`           |  0.851939327 | 0.10056243 |   8.4717457 | 6.207509e-17 |  0.654664502 |  1.049214151 | NA                           |\n",
       "| `weather_current.mean_temp_Flower open`                  |  0.275586563 | 0.17992619 |   1.5316646 | 1.258385e-01 | -0.077377334 |  0.628550460 | NA                           |\n",
       "| `weather_current.mean_temp_Fruit maturation`             | -1.756166211 | 0.15218245 | -11.5398738 | 1.874614e-29 | -2.054704795 | -1.457627628 | NA                           |\n",
       "| `weather_current.mean_temp_After fruit maturation`       |  1.296144463 | 0.13912487 |   9.3164111 | 4.703809e-20 |  1.023221124 |  1.569067801 | NA                           |\n",
       "| `weather_current.frozen_Before flower bud opening`       |  1.335696124 | 0.39029912 |   3.4222370 | 6.395718e-04 |  0.570040483 |  2.101351765 | NA                           |\n",
       "| `weather_current.frozen_Flower bud opening`              | -0.208790732 | 0.09900505 |  -2.1088896 | 3.513707e-02 | -0.403010431 | -0.014571033 | NA                           |\n",
       "\n"
      ],
      "text/plain": [
       "   term                                                     estimate    \n",
       "1  doseN                                                     0.018345234\n",
       "2  doseP                                                     0.038492607\n",
       "3  doseK                                                    -0.010941745\n",
       "4  pH                                                       -0.179775405\n",
       "5  Leaf_Fv.BAlMgCaKPN                                        0.128484610\n",
       "6  Leaf_Al.BMgCaKPN                                         -0.023416709\n",
       "7  Leaf_B.MgCaKPN                                            0.101078967\n",
       "8  Leaf_MgCaK.PN                                             0.078808656\n",
       "9  Leaf_P.N                                                  0.047954027\n",
       "10 Leaf_MgCa.K                                              -0.005629631\n",
       "11 Leaf_Mg.Ca                                                0.003004161\n",
       "12 Soil_Fv.MgCaKP                                            0.248743004\n",
       "13 Soil_MgCaK.P                                             -0.147733895\n",
       "14 Soil_MgCa.K                                               0.079351602\n",
       "15 Soil_Mg.Ca                                               -0.062484960\n",
       "16 `weather_current.total_precip_Before flower bud opening`  0.878863141\n",
       "17 `weather_current.total_precip_Flower bud opening`        -0.407023540\n",
       "18 `weather_current.total_precip_Flower open`                0.822684162\n",
       "19 `weather_current.total_precip_Fruit maturation`          -0.517947245\n",
       "20 `weather_current.total_precip_After fruit maturation`    -0.326511107\n",
       "21 `weather_current.mean_temp_Before flower bud opening`     0.825069856\n",
       "22 `weather_current.mean_temp_Flower bud opening`            0.851939327\n",
       "23 `weather_current.mean_temp_Flower open`                   0.275586563\n",
       "24 `weather_current.mean_temp_Fruit maturation`             -1.756166211\n",
       "25 `weather_current.mean_temp_After fruit maturation`        1.296144463\n",
       "26 `weather_current.frozen_Before flower bud opening`        1.335696124\n",
       "27 `weather_current.frozen_Flower bud opening`              -0.208790732\n",
       "   std.error  statistic   p.value      conf.low     conf.high   \n",
       "1  0.02908159   0.6308195 5.282649e-01 -0.038704556  0.075395023\n",
       "2  0.02938861   1.3097798 1.904922e-01 -0.019159470  0.096144684\n",
       "3  0.02372504  -0.4611898 6.447364e-01 -0.057483505  0.035600016\n",
       "4  0.02847031  -6.3144877 3.665587e-10 -0.235626033 -0.123924777\n",
       "5  0.03398159   3.7810068 1.629841e-04  0.061822422  0.195146798\n",
       "6  0.03138204  -0.7461820 4.556868e-01 -0.084979318  0.038145900\n",
       "7  0.03115892   3.2439819 1.207435e-03  0.039954050  0.162203884\n",
       "8  0.03298023   2.3895729 1.700391e-02  0.014110850  0.143506463\n",
       "9  0.02704436   1.7731620 7.642629e-02 -0.005099294  0.101007348\n",
       "10 0.03132434  -0.1797207 8.573987e-01 -0.067079049  0.055819787\n",
       "11 0.02614711   0.1148946 9.085457e-01 -0.048289007  0.054297329\n",
       "12 0.04966641   5.0082744 6.214614e-07  0.151311665  0.346174343\n",
       "13 0.03408707  -4.3340154 1.572195e-05 -0.214603015 -0.080864775\n",
       "14 0.03441369   2.3058150 2.127125e-02  0.011841752  0.146861452\n",
       "15 0.03414602  -1.8299336 6.747930e-02 -0.129469728  0.004499809\n",
       "16 0.12866062   6.8308634 1.270797e-11  0.626467668  1.131258614\n",
       "17 0.08305175  -4.9008424 1.069236e-06 -0.569947401 -0.244099678\n",
       "18 0.10416230   7.8980993 5.809024e-15  0.618347424  1.027020900\n",
       "19 0.25164453  -2.0582495 3.975692e-02 -1.011602096 -0.024292394\n",
       "20 0.13283759  -2.4579722 1.409675e-02 -0.587100595 -0.065921619\n",
       "21 0.36407792   2.2661903 2.359677e-02  0.110852742  1.539286970\n",
       "22 0.10056243   8.4717457 6.207509e-17  0.654664502  1.049214151\n",
       "23 0.17992619   1.5316646 1.258385e-01 -0.077377334  0.628550460\n",
       "24 0.15218245 -11.5398738 1.874614e-29 -2.054704795 -1.457627628\n",
       "25 0.13912487   9.3164111 4.703809e-20  1.023221124  1.569067801\n",
       "26 0.39029912   3.4222370 6.395718e-04  0.570040483  2.101351765\n",
       "27 0.09900505  -2.1088896 3.513707e-02 -0.403010431 -0.014571033\n",
       "   english                     \n",
       "1  N dose (kg/ha)              \n",
       "2  P dose (kg/ha)              \n",
       "3  K dose (kg/ha)              \n",
       "4  pH                          \n",
       "5  Leaf [Fv | B,Al,Mg,Ca,K,P,N]\n",
       "6  Leaf [Al | B,Mg,Ca,K,P,N]   \n",
       "7  Leaf [B | Mg,Ca,K,P,N]      \n",
       "8  Leaf [Mg,K | P,N]           \n",
       "9  Leaf [P | N]                \n",
       "10 Leaf [Mg,Ca | K]            \n",
       "11 Leaf [Mg | Ca]              \n",
       "12 Soil [Fv | Mg,Ca,K,P]       \n",
       "13 Soil [Mg,Ca,K | P]          \n",
       "14 Soil [Mg,Ca | K]            \n",
       "15 Soil [Mg | Ca]              \n",
       "16 NA                          \n",
       "17 NA                          \n",
       "18 NA                          \n",
       "19 NA                          \n",
       "20 NA                          \n",
       "21 NA                          \n",
       "22 NA                          \n",
       "23 NA                          \n",
       "24 NA                          \n",
       "25 NA                          \n",
       "26 NA                          \n",
       "27 NA                          "
      ]
     },
     "metadata": {},
     "output_type": "display_data"
    }
   ],
   "source": [
    "tidy(lm_freq, conf.int = TRUE) %>%\n",
    "  filter(term != \"(Intercept)\") %>%\n",
    "  left_join(translate_df, by = \"term\") %>%\n",
    "  mutate(english = fct_reorder(english, estimate)) "
   ]
  },
  {
   "cell_type": "code",
   "execution_count": 100,
   "metadata": {},
   "outputs": [
    {
     "name": "stderr",
     "output_type": "stream",
     "text": [
      "Parsed with column specification:\n",
      "cols(\n",
      "  term = \u001b[31mcol_character()\u001b[39m,\n",
      "  english = \u001b[31mcol_character()\u001b[39m\n",
      ")\n",
      "\n"
     ]
    },
    {
     "data": {
      "image/png": "[encoded data removed]",
      "text/plain": [
       "plot without title"
      ]
     },
     "metadata": {
      "image/png": {
       "height": 360,
       "width": 840
      },
      "text/plain": {
       "height": 360,
       "width": 840
      }
     },
     "output_type": "display_data"
    }
   ],
   "source": [
    "translate_df <- read_csv(\"data/translate_names.csv\")\n",
    "\n",
    "tidy(lm_freq, conf.int = TRUE) %>%\n",
    "  filter(term != \"(Intercept)\") %>%\n",
    "  left_join(translate_df, by = \"term\") %>%\n",
    "  mutate(english = fct_reorder(english, estimate)) %>%\n",
    "  ggplot(aes(estimate, english)) +\n",
    "  geom_vline(xintercept = 0, linetype = 2) +\n",
    "  geom_point() +\n",
    "  geom_errorbarh(aes(xmin = conf.low, xmax = conf.high)) +\n",
    "  labs(x = \"Coefficient\", y = \"\") +\n",
    "  #theme_pubr() +\n",
    "  ggsave(\"images/modlin-freq_monthly.png\", width = 8, height = 8, dpi = 300)"
   ]
  },
  {
   "cell_type": "markdown",
   "metadata": {},
   "source": [
    "#### Bayesian framework"
   ]
  },
  {
   "cell_type": "code",
   "execution_count": 101,
   "metadata": {},
   "outputs": [],
   "source": [
    "library(\"rstanarm\")\n",
    "library(\"tidybayes\")\n",
    "library(\"bayesplot\")\n",
    "\n",
    "lm_bayes <- stan_glm(\n",
    "  linmod_formula,\n",
    "  data = juice(df_stats_recipe),\n",
    "  family = gaussian(),\n",
    "  prior = normal(0, 10),\n",
    "  prior_intercept = normal(0, 10),\n",
    "  iter = 4000,\n",
    "  warmup = 1000,\n",
    "  cores = 4,\n",
    "  seed = 8578234\n",
    ")"
   ]
  },
  {
   "cell_type": "code",
   "execution_count": 102,
   "metadata": {},
   "outputs": [
    {
     "data": {
      "image/png": "[encoded data removed]",
      "text/plain": [
       "plot without title"
      ]
     },
     "metadata": {
      "image/png": {
       "height": 360,
       "width": 840
      },
      "text/plain": {
       "height": 360,
       "width": 840
      }
     },
     "output_type": "display_data"
    }
   ],
   "source": [
    "mcmc_trace(lm_bayes)"
   ]
  },
  {
   "cell_type": "markdown",
   "metadata": {},
   "source": [
    "All caterpillars have constant noise. This is what we want."
   ]
  },
  {
   "cell_type": "code",
   "execution_count": 105,
   "metadata": {},
   "outputs": [
    {
     "name": "stderr",
     "output_type": "stream",
     "text": [
      "Scale for 'y' is already present. Adding another scale for 'y', which will\n",
      "replace the existing scale.\n",
      "\n"
     ]
    },
    {
     "data": {
      "image/png": "[encoded data removed]",
      "text/plain": [
       "plot without title"
      ]
     },
     "metadata": {
      "image/png": {
       "height": 360,
       "width": 840
      },
      "text/plain": {
       "height": 360,
       "width": 840
      }
     },
     "output_type": "display_data"
    }
   ],
   "source": [
    "lm_summary <- tibble(\n",
    "  term = names(lm_bayes$coefficients)[-1],\n",
    "  coefficient = lm_bayes$coefficients[-1]\n",
    ") %>%\n",
    "  left_join(translate_df, by = \"term\")\n",
    "\n",
    "color_scheme_set(\"gray\")\n",
    "mcmc_areas(\n",
    "    lm_bayes,\n",
    "    prob = 0.95,\n",
    "    pars = lm_summary$term[order(lm_summary$coefficient, decreasing = FALSE)],\n",
    "    area_method = \"equal height\"\n",
    "  ) +\n",
    "  geom_vline(xintercept = 0, linetype = 2) +\n",
    "  labs(x = \"Coefficient\") +\n",
    "  scale_y_discrete(\n",
    "    labels = lm_summary$english[order(lm_summary$coefficient, decreasing = FALSE)]\n",
    "  ) +\n",
    "  theme_pubr() +\n",
    "  theme(panel.grid.major.y = element_line(colour = \"grey80\")) +\n",
    "  ggsave(\"images/modlin-bayes_phenology.png\", width = 12, height = 8, dpi = 300)"
   ]
  },
  {
   "cell_type": "markdown",
   "metadata": {},
   "source": [
    "## Predictive modelling\n",
    "\n",
    "While the previous models aimed at investigating effects, the model developped in this section aims at predicting outcomes."
   ]
  },
  {
   "cell_type": "markdown",
   "metadata": {},
   "source": [
    "I throw a random seed to make sure that the notebook can be reproduced."
   ]
  },
  {
   "cell_type": "code",
   "execution_count": 59,
   "metadata": {},
   "outputs": [],
   "source": [
    "set.seed(3174806) # random.org"
   ]
  },
  {
   "cell_type": "markdown",
   "metadata": {},
   "source": [
    "Molelling yield from the NPK dosage and soil conditions"
   ]
  },
  {
   "cell_type": "code",
   "execution_count": 60,
   "metadata": {
    "lines_to_next_cell": 2
   },
   "outputs": [],
   "source": [
    "df_npk <- df_ %>%\n",
    "  select(\n",
    "    `Berry yield (kg/ha)`,\n",
    "    `N dose (kg/ha)`,\n",
    "    `P dose (kg/ha)`,\n",
    "    `K dose (kg/ha)`,\n",
    "    `pH H2O`,\n",
    "    starts_with(\"Leaf_\"),\n",
    "    starts_with(\"Soil_\"),\n",
    "    starts_with(\"weather_before\")\n",
    "  ) %>%\n",
    "  rename(\n",
    "    yield = `Berry yield (kg/ha)`,\n",
    "    doseN = `N dose (kg/ha)`,\n",
    "    doseP = `P dose (kg/ha)`,\n",
    "    doseK = `K dose (kg/ha)`,\n",
    "    pH = `pH H2O`\n",
    "  ) %>%\n",
    "  drop_na()"
   ]
  },
  {
   "cell_type": "code",
   "execution_count": 61,
   "metadata": {},
   "outputs": [],
   "source": [
    "df_npk <- df_npk %>% \n",
    "  select(\n",
    "      # remove mean temperature (mean temperature is a better predictor)\n",
    "      #-weather_before.mean_temp_04, -weather_before.mean_temp_05,\n",
    "      #-weather_before.mean_temp_06, -weather_before.mean_temp_07, \n",
    "      #-weather_before.mean_temp_08,\n",
    "      -weather_before.GDD_04, -weather_before.GDD_05,\n",
    "      -weather_before.GDD_06, -weather_before.GDD_07,\n",
    "      -weather_before.GDD_08,\n",
    "      # remove frozen and warm (too inconsistent for prediction)\n",
    "      -weather_before.frozen_04, -weather_before.frozen_05,\n",
    "      -weather_before.frozen_06, -weather_before.frozen_07,\n",
    "      -weather_before.frozen_08,\n",
    "      -weather_before.toowarm_04, -weather_before.toowarm_05,\n",
    "      -weather_before.toowarm_06, -weather_before.toowarm_07, \n",
    "      -weather_before.toowarm_08,\n",
    "      # remove doses (poor predictors)\n",
    "      -doseN, -doseP, -doseK)"
   ]
  },
  {
   "cell_type": "markdown",
   "metadata": {},
   "source": [
    "Train / test split."
   ]
  },
  {
   "cell_type": "code",
   "execution_count": 62,
   "metadata": {},
   "outputs": [],
   "source": [
    "npk_split <- initial_split(df_npk, prop = 3 / 4)\n",
    "\n",
    "npk_train <- training(npk_split)\n",
    "npk_test <- testing(npk_split)"
   ]
  },
  {
   "cell_type": "markdown",
   "metadata": {},
   "source": [
    "Preprocessing recipe."
   ]
  },
  {
   "cell_type": "code",
   "execution_count": 63,
   "metadata": {},
   "outputs": [],
   "source": [
    "npk_recipe <- npk_train %>%\n",
    "  recipe(yield ~ .) %>%\n",
    "  #step_log(all_outcomes(), base = 10) %>% # toggle\n",
    "  step_normalize(all_numeric()) %>%\n",
    "  #step_inverse(all_outcomes()) %>% # toggle\n",
    "  prep()\n",
    "\n",
    "#mean_logy <- mean(log10(npk_train$yield)) # toggle\n",
    "#sd_logy <- sd(log10(npk_train$yield)) # toggle\n",
    "\n",
    "mean_y <- mean(npk_train$yield)\n",
    "sd_y <- sd(npk_train$yield)\n",
    "\n",
    "# the recipes package does not allow backtransformation yet\n",
    "# https://github.com/tidymodels/recipes/issues/264\n",
    "\n",
    "step_back <- function(y) {\n",
    "  #y <- 1/y # toggle\n",
    "  #y <- 10 ^ (y * sd_logy + mean_logy) # toggle\n",
    "  y <- y * sd_y + mean_y\n",
    "  return(y)\n",
    "}\n",
    "\n",
    "train_baked <- bake(npk_recipe, npk_train)\n",
    "test_baked <-  bake(npk_recipe, npk_test)\n",
    "\n",
    "write_csv(x = train_baked, path = \"output/train_baked.csv\")\n",
    "write_csv(x = test_baked, path = \"output/test_baked.csv\")"
   ]
  },
  {
   "cell_type": "markdown",
   "metadata": {},
   "source": [
    "### Variable importance\n",
    "\n",
    "Variable importance in the model can be assessed with extreme gradient boosted tree modeling with **`caret`**."
   ]
  },
  {
   "cell_type": "code",
   "execution_count": 64,
   "metadata": {},
   "outputs": [
    {
     "name": "stderr",
     "output_type": "stream",
     "text": [
      "Loading required package: lattice\n",
      "\n",
      "\n",
      "Attaching package: 'caret'\n",
      "\n",
      "\n",
      "The following objects are masked from 'package:rstanarm':\n",
      "\n",
      "    compare_models, R2\n",
      "\n",
      "\n",
      "The following object is masked from 'package:compositions':\n",
      "\n",
      "    R2\n",
      "\n",
      "\n",
      "The following objects are masked from 'package:yardstick':\n",
      "\n",
      "    precision, recall, sensitivity, specificity\n",
      "\n",
      "\n",
      "The following object is masked from 'package:purrr':\n",
      "\n",
      "    lift\n",
      "\n",
      "\n"
     ]
    }
   ],
   "source": [
    "library(\"caret\")\n",
    "set.seed(2779781) # random.org\n",
    "\n",
    "train_control <- trainControl(\n",
    "  method = \"repeatedcv\",\n",
    "  number = 3\n",
    ")\n",
    "\n",
    "# These parameters minimise bias and return similar R² in training\n",
    "# and testing\n",
    "tune_xgb <- expand.grid( # xgbTree\n",
    "  nrounds = 50, # not too much to avoid overfit\n",
    "  max_depth = 2, #c(1, 2, 4, 6, 8, 10), # few avoids overfit\n",
    "  eta = 0.25, #c(0.001, 0.01, 0.1), # not too high to avoid bias\n",
    "  gamma = 1,\n",
    "  colsample_bytree = 0.75,\n",
    "  min_child_weight = 7, #c(3, 5, 7)\n",
    "  subsample = 0.95#c(0.3, 0.5, 0.8) # too high or too low can create a bias\n",
    ")"
   ]
  },
  {
   "cell_type": "code",
   "execution_count": 65,
   "metadata": {},
   "outputs": [],
   "source": [
    "m_fit <- train(yield ~ .,\n",
    "               data = train_baked,\n",
    "               method = \"xgbTree\",\n",
    "               trControl = train_control,\n",
    "               tuneGrid = tune_xgb,\n",
    "               verbose = FALSE\n",
    ")"
   ]
  },
  {
   "cell_type": "markdown",
   "metadata": {},
   "source": [
    "Quick actual-predicted check."
   ]
  },
  {
   "cell_type": "code",
   "execution_count": 66,
   "metadata": {},
   "outputs": [
    {
     "data": {
      "image/png": "[encoded data removed]",
      "text/plain": [
       "plot without title"
      ]
     },
     "metadata": {
      "image/png": {
       "height": 360,
       "width": 840
      },
      "text/plain": {
       "height": 360,
       "width": 840
      }
     },
     "output_type": "display_data"
    }
   ],
   "source": [
    "library(\"patchwork\")\n",
    "\n",
    "rsq_tr <- cor(train_baked$yield, predict(m_fit))^2\n",
    "rsq_te <- cor(test_baked$yield, predict(m_fit, newdata = test_baked))^2\n",
    "\n",
    "gg_tr <- tibble(actual = train_baked$yield,\n",
    "       predicted = predict(m_fit)) %>%\n",
    "  ggplot(aes(x = actual, y = predicted)) +\n",
    "  geom_abline(slope = 1, intercept = 0, colour = \"gray60\", lwd = 2) +\n",
    "  geom_point() +\n",
    "  labs(title = paste(\"R² =\", round(rsq_tr, 2))) +\n",
    "  theme_pubr() +\n",
    "  coord_equal()\n",
    "\n",
    "gg_te <- tibble(actual = test_baked$yield,\n",
    "       predicted = predict(m_fit, newdata = test_baked)) %>%\n",
    "  ggplot(aes(x = actual, y = predicted)) +\n",
    "  geom_abline(slope = 1, intercept = 0, colour = \"gray60\", lwd = 2) +\n",
    "  geom_point() +\n",
    "  labs(title = paste(\"R² =\", round(rsq_te, 2))) +\n",
    "  theme_pubr() +\n",
    "  coord_equal()\n",
    "\n",
    "gg_tr / gg_te"
   ]
  },
  {
   "cell_type": "markdown",
   "metadata": {},
   "source": [
    "Importance of variables in the model."
   ]
  },
  {
   "cell_type": "code",
   "execution_count": 67,
   "metadata": {},
   "outputs": [
    {
     "data": {
      "image/png": "[encoded data removed]",
      "text/plain": [
       "plot without title"
      ]
     },
     "metadata": {
      "image/png": {
       "height": 360,
       "width": 840
      },
      "text/plain": {
       "height": 360,
       "width": 840
      }
     },
     "output_type": "display_data"
    }
   ],
   "source": [
    "tibble(\n",
    "  term = rownames(varImp(m_fit)$importance),\n",
    "  score = varImp(m_fit)$importance[, 1]\n",
    ") %>%\n",
    "  left_join(translate_df, by = \"term\") %>%\n",
    "  mutate(english = fct_reorder(factor(english), score)) %>%\n",
    "  ggplot(aes(y = score, x = english)) +\n",
    "  geom_bar(stat = \"identity\", fill = \"black\", lwd = 0) +\n",
    "  labs(x = \"\", y = \"Variable importance score\") +\n",
    "  coord_flip() +\n",
    "  theme_pubr() +\n",
    "  theme(text=element_text(family=\"serif\")) +\n",
    "  ggsave(\"images/varimp.png\", width = 6, height = 5, dpi = 300)"
   ]
  },
  {
   "cell_type": "markdown",
   "metadata": {},
   "source": [
    "⚠️ Feature importance changes widely by changing the random seeds. It is considered exploratory, but not reliable."
   ]
  },
  {
   "cell_type": "markdown",
   "metadata": {},
   "source": [
    "### Prediction model\n",
    "\n",
    "Variable importance can't be assessed with Gaussian processes, which is a great tool to model smooth phenomenons like those occuring in agroecosystems ([Coulibali et al. 2020](https://doi.org/10.1101/2020.03.12.988626))."
   ]
  },
  {
   "cell_type": "code",
   "execution_count": 68,
   "metadata": {},
   "outputs": [],
   "source": [
    "tune_gp <- expand.grid( # gaussprRadial\n",
    "  sigma = 0.1#c(0.05, 0.1, 0.15, 0.2)\n",
    ")\n",
    "\n",
    "m_fit <- train(yield ~ .,\n",
    "               data = train_baked,\n",
    "               method = \"gaussprRadial\",\n",
    "               trControl = train_control,\n",
    "               tuneGrid = tune_gp,\n",
    "               verbose = FALSE\n",
    ")"
   ]
  },
  {
   "cell_type": "markdown",
   "metadata": {},
   "source": [
    "Create tables to plot observed vs predicted."
   ]
  },
  {
   "cell_type": "code",
   "execution_count": 69,
   "metadata": {},
   "outputs": [],
   "source": [
    "train_pred <- tibble(\n",
    "  yield = npk_train$yield,\n",
    "  pred = step_back(predict(m_fit, newdata = bake(npk_recipe, npk_train)))\n",
    ")\n",
    "\n",
    "test_pred <- tibble(\n",
    "  yield = npk_test$yield,\n",
    "  pred = step_back(predict(m_fit, newdata = bake(npk_recipe, npk_test)))\n",
    ")\n",
    "\n",
    "rsq_tr <- cor(train_pred$yield, train_pred$pred)^2\n",
    "rsq_te <- cor(test_pred$yield, test_pred$pred)^2"
   ]
  },
  {
   "cell_type": "markdown",
   "metadata": {},
   "source": [
    "Plot observed vs predicted."
   ]
  },
  {
   "cell_type": "code",
   "execution_count": 70,
   "metadata": {},
   "outputs": [
    {
     "name": "stderr",
     "output_type": "stream",
     "text": [
      "Saving 6.67 x 6.67 in image\n",
      "\n"
     ]
    },
    {
     "data": {
      "image/png": "[encoded data removed]",
      "text/plain": [
       "plot without title"
      ]
     },
     "metadata": {
      "image/png": {
       "height": 360,
       "width": 840
      },
      "text/plain": {
       "height": 360,
       "width": 840
      }
     },
     "output_type": "display_data"
    }
   ],
   "source": [
    "delimiter <- 5000\n",
    "gg_pred_f <- function(data, rsq, title) {\n",
    "  data %>%\n",
    "    ggplot(aes(x = yield, y = pred)) +\n",
    "    geom_abline(slope = 1, intercept = 0, colour = \"gray60\", lwd = 2) +\n",
    "    geom_vline(xintercept = delimiter, colour = \"gray30\") +\n",
    "    geom_hline(yintercept = delimiter, colour = \"gray30\") +\n",
    "    geom_label(x = 0, y = 15000,\n",
    "               vjust = 1, hjust = 0,\n",
    "               label = paste(\"R² =\", signif(rsq, 2))) +\n",
    "    geom_point(pch = 1) +\n",
    "    labs(title = title) +\n",
    "    expand_limits(x = c(0, 15000), y = c(0, 15000)) +\n",
    "    coord_equal() +\n",
    "    theme_pubr()# +\n",
    "    #theme(text=element_text(family=\"serif\"))\n",
    "}\n",
    "\n",
    "gg_training <- gg_pred_f(train_pred, rsq_tr, \"Training\")\n",
    "gg_testing <- gg_pred_f(test_pred, rsq_te, \"Testing\")\n",
    "\n",
    "gg_training + gg_testing\n",
    "\n",
    "ggsave(\"images/modpred.png\")"
   ]
  },
  {
   "cell_type": "markdown",
   "metadata": {},
   "source": [
    "Binary classification."
   ]
  },
  {
   "cell_type": "code",
   "execution_count": 71,
   "metadata": {},
   "outputs": [
    {
     "name": "stdout",
     "output_type": "stream",
     "text": [
      "[1] \"Accuracy\"\n"
     ]
    },
    {
     "data": {
      "text/html": [
       "0.838150289017341"
      ],
      "text/latex": [
       "0.838150289017341"
      ],
      "text/markdown": [
       "0.838150289017341"
      ],
      "text/plain": [
       "[1] 0.8381503"
      ]
     },
     "metadata": {},
     "output_type": "display_data"
    },
    {
     "name": "stdout",
     "output_type": "stream",
     "text": [
      "[1] \"PPV\"\n"
     ]
    },
    {
     "data": {
      "text/html": [
       "0.907335907335907"
      ],
      "text/latex": [
       "0.907335907335907"
      ],
      "text/markdown": [
       "0.907335907335907"
      ],
      "text/plain": [
       "[1] 0.9073359"
      ]
     },
     "metadata": {},
     "output_type": "display_data"
    },
    {
     "name": "stdout",
     "output_type": "stream",
     "text": [
      "[1] \"NPV\"\n"
     ]
    },
    {
     "data": {
      "text/html": [
       "0.632183908045977"
      ],
      "text/latex": [
       "0.632183908045977"
      ],
      "text/markdown": [
       "0.632183908045977"
      ],
      "text/plain": [
       "[1] 0.6321839"
      ]
     },
     "metadata": {},
     "output_type": "display_data"
    }
   ],
   "source": [
    "delimiter <- 5000\n",
    "test_bc <- test_pred %>%\n",
    "  mutate(\n",
    "    yield = case_when(\n",
    "      yield >= delimiter ~ \"HY\",\n",
    "      TRUE ~ \"LY\"\n",
    "    ),\n",
    "    pred = case_when(\n",
    "      pred >= delimiter ~ \"HY\",\n",
    "      TRUE ~ \"LY\"\n",
    "    )\n",
    "  )\n",
    "test_cm <- table(test_bc)\n",
    "print(\"Accuracy\")\n",
    "(test_cm[1, 1] + test_cm[2, 2]) / sum(test_cm)\n",
    "print(\"PPV\")\n",
    "test_cm[2, 2] / sum(test_cm[2, ])\n",
    "print(\"NPV\")\n",
    "test_cm[1, 1] / sum(test_cm[1, ])"
   ]
  },
  {
   "cell_type": "markdown",
   "metadata": {},
   "source": [
    "# Predictive modelling usage on the ionome\n",
    "\n",
    "We use a seed to assure reproducibility."
   ]
  },
  {
   "cell_type": "code",
   "execution_count": 72,
   "metadata": {},
   "outputs": [],
   "source": [
    "set.seed(5442451) # random.org"
   ]
  },
  {
   "cell_type": "markdown",
   "metadata": {},
   "source": [
    "We randomly sample a low performing site whose ionome should be investigated, extract its ionome and predict its yield."
   ]
  },
  {
   "cell_type": "code",
   "execution_count": 73,
   "metadata": {},
   "outputs": [],
   "source": [
    "misbal_observation <- df_npk %>% \n",
    "  filter(yield < 3000) %>% \n",
    "  sample_n(1)\n",
    "\n",
    "ref_leaf <- misbal_observation %>% \n",
    "  select(starts_with(\"Leaf\")) %>% \n",
    "  unlist()\n",
    "\n",
    "yield_init <- step_back(predict(m_fit, newdata = bake(npk_recipe, misbal_observation)))"
   ]
  },
  {
   "cell_type": "markdown",
   "metadata": {},
   "source": [
    "I recall the original table to recover the ID of the randomly selected observation."
   ]
  },
  {
   "cell_type": "code",
   "execution_count": 74,
   "metadata": {},
   "outputs": [
    {
     "name": "stdout",
     "output_type": "stream",
     "text": [
      "[1] \"The randomly selection row ID is 963.\"\n"
     ]
    }
   ],
   "source": [
    "observation_id <- df_source %>%\n",
    "  filter(`Berry yield (kg/ha)` == misbal_observation$yield,\n",
    "         `pH H2O` == misbal_observation$pH) %>%\n",
    "  pull(id)\n",
    "print(paste0(\"The randomly selection row ID is \", observation_id, \".\"))"
   ]
  },
  {
   "cell_type": "markdown",
   "metadata": {},
   "source": [
    "We set convergence parameters. `max_iter` is the number of steps in the Markov chain. The `radius` is the Aitchison distance where to scan around the point at each step. The initial radius, `radius[1]` is also the base radius, i.e. if a point with better yield is found, the radius goes back to this initial radius (`radius[1]`), else it is multiplied by `radius_factor` to enlarge scanning. Finally `n_rad` is the number of points to sample around the ionome of the preceeding step."
   ]
  },
  {
   "cell_type": "code",
   "execution_count": 75,
   "metadata": {},
   "outputs": [],
   "source": [
    "max_iter <- 10 \n",
    "radius <- c(0.5)\n",
    "radius_factor <- 1.25 # for adaptative search\n",
    "radius_limits <- c(0.5, 1.5)\n",
    "## if the max is too high, all explored ionome risk to be filtered out due\n",
    "## to extrapolation (see Mahalanobis distance below). The upper limit\n",
    "## should be set in relation to the p in qchisq below.\n",
    "n_rad <- 10000"
   ]
  },
  {
   "cell_type": "markdown",
   "metadata": {},
   "source": [
    "To scan around a point, we create a matrix with the number of columns defined by the number of balances in the ionome and the number of rows defined by `n_rad`, and fill it with random numbers. Each row is normalized to have a norm equal to the radius. \n",
    "\n",
    "To acheive the prediction, we need the ionome, but also other variables that are kept constant. This information is extracted in a table, then replicated `n_rad` times to be binded further on to the perturbed ionomes scanned around the best ionome."
   ]
  },
  {
   "cell_type": "code",
   "execution_count": 76,
   "metadata": {},
   "outputs": [],
   "source": [
    "misbal_observation_noleaf <- misbal_observation %>% \n",
    "  select(-starts_with(\"Leaf\")) %>%\n",
    "  slice(rep(row_number(), n_rad))"
   ]
  },
  {
   "cell_type": "markdown",
   "metadata": {},
   "source": [
    "We initialize the yield and the ionome."
   ]
  },
  {
   "cell_type": "code",
   "execution_count": 77,
   "metadata": {},
   "outputs": [],
   "source": [
    "ref_yield <- c(yield_init)\n",
    "ref_leaf <- matrix(ncol = nrow(sbp_leaf), nrow = max_iter)\n",
    "\n",
    "ref_leaf[1, ] <- misbal_observation %>% \n",
    "  select(starts_with(\"Leaf\")) %>% \n",
    "  unlist()"
   ]
  },
  {
   "cell_type": "markdown",
   "metadata": {},
   "source": [
    "We use a mahalanobis distance to ensure that the algorithm doesn't explore too far from the theoretical multivariate normal distribution of the ionome. To compute the Mahalanobis distance, we need the mean, the (invert) covariance and a critical (squared) distance."
   ]
  },
  {
   "cell_type": "code",
   "execution_count": 78,
   "metadata": {},
   "outputs": [],
   "source": [
    "bal_mean <- apply(bal_leaf %>% select(-id), 2, mean)\n",
    "bal_icov <- solve(cov(bal_leaf %>% select(-id)))\n",
    "crit_dist <- qchisq(p = 0.999, df = length(bal_mean))"
   ]
  },
  {
   "cell_type": "markdown",
   "metadata": {},
   "source": [
    "... and fire the Markov chain."
   ]
  },
  {
   "cell_type": "code",
   "execution_count": 79,
   "metadata": {},
   "outputs": [
    {
     "name": "stdout",
     "output_type": "stream",
     "text": [
      "[1] \"Iteration 2 - yield improved to 4313.68284808567\"\n",
      "[1] \"Iteration 3 - yield improved to 4695.65256734457\"\n",
      "[1] \"Iteration 4 - yield improved to 4791.01934099248\"\n",
      "[1] \"Iteration 5 - yield improved to 4821.50019347663\"\n",
      "[1] \"Iteration 6 - yield improved to 4841.88874698256\"\n",
      "[1] \"Iteration 7 - yield improved to 4847.1672734825\"\n",
      "[1] \"Iteration 8 - no yield improvement.\"\n",
      "[1] \"Iteration 9 - no yield improvement.\"\n",
      "[1] \"Iteration 10 - no yield improvement.\"\n"
     ]
    },
    {
     "data": {
      "image/png": "[encoded data removed]",
      "text/plain": [
       "Plot with title \"radius\""
      ]
     },
     "metadata": {
      "image/png": {
       "height": 360,
       "width": 840
      },
      "text/plain": {
       "height": 360,
       "width": 840
      }
     },
     "output_type": "display_data"
    }
   ],
   "source": [
    "for (i in 2:max_iter) {\n",
    "  # print(paste(i, \"/\", max_iter))\n",
    "  offset <- matrix(runif(ncol(ref_leaf) * n_rad, -1, 1), \n",
    "                   ncol = ncol(ref_leaf),\n",
    "                   nrow = n_rad)\n",
    "  offset <- t(apply(offset, 1, function(x) radius[i-1] * x / sqrt(sum(x^2))))\n",
    "  offset <- offset * runif(length(offset), 0, 1)\n",
    "  leaf_search <- t(apply(offset, 1, function(x) x + ref_leaf[i-1, ] ))\n",
    "  \n",
    "  # Compute the Mahalanobis distance\n",
    "  maha_dist <- mahalanobis(leaf_search, bal_mean, bal_icov, inverted = TRUE)\n",
    "  # filter out search ionomes outside the Mahalanobis distance limit\n",
    "  leaf_search <- data.frame(leaf_search) %>% filter(maha_dist < crit_dist)\n",
    "  \n",
    "  names(leaf_search) <- paste0(\"Leaf_\", leaf_bal_def)\n",
    "                         \n",
    "  df_search <- leaf_search %>% \n",
    "    bind_cols(misbal_observation_noleaf %>% filter(maha_dist < crit_dist))\n",
    "    \n",
    "  if(nrow(df_search) == 0) { # if no points are generated in the hyper ellipsoid, keep the reference but increase radius\n",
    "    print(paste(\"Iteration\", i, \"- all points are out of the hyperellipsoid.\"))\n",
    "    ref_yield[i] <- ref_yield[i-1]\n",
    "    ref_leaf[i, ] <- ref_leaf[i-1, ]\n",
    "    # increase the radius\n",
    "    radius[i] <- radius[i - 1] * radius_factor\n",
    "    radius[i] <- ifelse(radius[i] > radius_limits[2], radius_limits[2], radius[i])\n",
    "  } else {\n",
    "    # Compute predicted yield\n",
    "    yield_stochastic <- step_back(predict(m_fit, newdata = bake(npk_recipe, df_search)))\n",
    "    if(max(yield_stochastic) > ref_yield[i-1]) {\n",
    "      print(paste(\"Iteration\", i, \"- yield improved to\", max(yield_stochastic)))\n",
    "      ref_yield[i] <- max(yield_stochastic)\n",
    "      ref_leaf[i, ] <- leaf_search[which.max(yield_stochastic), ] %>% \n",
    "        unlist()\n",
    "      # decrease the radius\n",
    "      radius[i] <- radius[i - 1] / radius_factor\n",
    "      radius[i] <- ifelse(radius[i] < radius_limits[1], radius_limits[1], radius[i])\n",
    "    } else {\n",
    "      print(paste(\"Iteration\", i, \"- no yield improvement.\"))\n",
    "      ref_yield[i] <- ref_yield[i-1]\n",
    "      ref_leaf[i, ] <- ref_leaf[i-1, ]\n",
    "      # increase the radius\n",
    "      radius[i] <- radius[i - 1] * radius_factor\n",
    "      radius[i] <- ifelse(radius[i] > radius_limits[2], radius_limits[2], radius[i])\n",
    "    }\n",
    "  }\n",
    "}\n",
    "\n",
    "par(mfrow = c(1, 2))\n",
    "plot(1:max_iter, ref_yield, type = 's', main = \"yield\")\n",
    "plot(1:max_iter, radius, type = 's', main = \"radius\")"
   ]
  },
  {
   "cell_type": "markdown",
   "metadata": {},
   "source": [
    "At each step, balances are transformed back to the concentration scale."
   ]
  },
  {
   "cell_type": "code",
   "execution_count": 80,
   "metadata": {},
   "outputs": [],
   "source": [
    "ref_leaf_comp <- ilrInv(ref_leaf,\n",
    "                        V = gsi.buildilrBase(t(sbp_leaf))) %>% \n",
    "  data.frame()"
   ]
  },
  {
   "cell_type": "markdown",
   "metadata": {},
   "source": [
    "We then create a decent table able to be plotted."
   ]
  },
  {
   "cell_type": "code",
   "execution_count": 81,
   "metadata": {},
   "outputs": [],
   "source": [
    "gg_iter <- bind_cols(\n",
    "  ref_leaf_comp,\n",
    "  tibble(yield = ref_yield, iteration = 1:max_iter)\n",
    ") %>% \n",
    "  pivot_longer(\n",
    "    cols = -iteration,\n",
    "    names_to = \"variables\",\n",
    "    values_to = \"values\"\n",
    "  ) %>% \n",
    "  mutate(values = case_when(variables != \"yield\" ~ values * 100,\n",
    "                            TRUE ~ values), # concentrations in %\n",
    "         units = case_when(variables == \"yield\" ~ \"kg/ha\",\n",
    "                           TRUE ~ \"%\")) # units"
   ]
  },
  {
   "cell_type": "markdown",
   "metadata": {},
   "source": [
    "We extract points obtained at the first iteration and at the end to plot points and labels."
   ]
  },
  {
   "cell_type": "code",
   "execution_count": 82,
   "metadata": {},
   "outputs": [],
   "source": [
    "gg_iter_extremes <- gg_iter %>% \n",
    "  filter(iteration %in% c(1, max_iter))"
   ]
  },
  {
   "cell_type": "markdown",
   "metadata": {},
   "source": [
    "The following block extracts min and max of the concentrations in the training set."
   ]
  },
  {
   "cell_type": "code",
   "execution_count": 83,
   "metadata": {},
   "outputs": [],
   "source": [
    "bal_train <- npk_train %>% \n",
    "  select(starts_with(\"Leaf\")) \n",
    "comp_train <- ilrInv(bal_train, V = gsi.buildilrBase(t(sbp_leaf))) %>% \n",
    "  data.frame()\n",
    "comp_range <- comp_train %>% \n",
    "  mutate(id_tr = 1:nrow(.)) %>% \n",
    "  pivot_longer(cols = -id_tr, names_to = \"variables\",\n",
    "               values_to = \"value\") %>% \n",
    "  group_by(variables) %>% \n",
    "  summarise(min = min(value),\n",
    "            max = max(value)) %>% \n",
    "  pivot_longer(cols = -variables,\n",
    "               names_to = \"statistic\",\n",
    "               values_to = \"value\") %>% \n",
    "  mutate(value = value * 100)"
   ]
  },
  {
   "cell_type": "markdown",
   "metadata": {},
   "source": [
    "Before going further, let's try another approach."
   ]
  },
  {
   "cell_type": "markdown",
   "metadata": {},
   "source": [
    "## Optimisation using `optim`\n",
    "\n",
    "Regardless the path, we can look for the optimal ionome for this given condition using `optim`. We first need a function to minimize. We will minimize 1/yield while assuring that the ionome is not optimise outside its scope."
   ]
  },
  {
   "cell_type": "code",
   "execution_count": 84,
   "metadata": {},
   "outputs": [],
   "source": [
    "fr <- function(x, model) {\n",
    "    new_data <- \n",
    "      misbal_observation %>%\n",
    "      mutate(Leaf_Fv.BAlMgCaKPN = x[1],\n",
    "             Leaf_Al.BMgCaKPN = x[2],\n",
    "             Leaf_B.MgCaKPN = x[3],\n",
    "             Leaf_MgCaK.PN = x[4],\n",
    "             Leaf_P.N = x[5],\n",
    "             Leaf_MgCa.K = x[6],\n",
    "             Leaf_Mg.Ca = x[7])\n",
    "    \n",
    "    # make sur the point is not extrapolated\n",
    "    maha_dist <- mahalanobis(\n",
    "        new_data %>% select(starts_with(\"Leaf\")),\n",
    "        bal_mean, bal_icov, inverted = TRUE\n",
    "    )\n",
    "    \n",
    "    output <- ifelse(\n",
    "        maha_dist > crit_dist,\n",
    "        1E6, # large value\n",
    "        1/predict(model, newdata = bake(npk_recipe, new_data))\n",
    "    )\n",
    "    \n",
    "    return(output)\n",
    "}"
   ]
  },
  {
   "cell_type": "markdown",
   "metadata": {},
   "source": [
    "I run the optimisation several times with different starting point generated from a theoretical multivariate normal distribution of the ionome."
   ]
  },
  {
   "cell_type": "code",
   "execution_count": 85,
   "metadata": {},
   "outputs": [],
   "source": [
    "set.seed(8066372) # random.org\n",
    "n_sp <- 20 # number of starting points\n",
    "opt_leaf <- list()\n",
    "opt_value <- rep(0, n_sp)\n",
    "for (i in 1:n_sp) {\n",
    "    leaf_means <- df_npk %>%\n",
    "      select(starts_with(\"Leaf\")) %>%\n",
    "    colMeans()\n",
    "    leaf_cov <- df_npk %>%\n",
    "      select(starts_with(\"Leaf\")) %>%\n",
    "    cov()\n",
    "    sp <- MASS::mvrnorm(n = 1, leaf_means, leaf_cov)\n",
    "    opt_leaf[[i]] <- optim(\n",
    "        par = sp,\n",
    "        fr,\n",
    "        model = m_fit\n",
    "    )\n",
    "    opt_value[i] <- opt_leaf[[i]]$value\n",
    "}\n",
    "\n",
    "best_opt_leaf <- opt_leaf[[which.min(opt_value)]]"
   ]
  },
  {
   "cell_type": "markdown",
   "metadata": {},
   "source": [
    "I extract the optimal ionome."
   ]
  },
  {
   "cell_type": "code",
   "execution_count": 86,
   "metadata": {},
   "outputs": [],
   "source": [
    "optim_ilr <- best_opt_leaf$par\n",
    "optim_comp <- ilrInv(matrix(optim_ilr, nrow = 1),\n",
    "       V = gsi.buildilrBase(t(sbp_leaf)))\n",
    "optim_comp <- tibble(variables = names(optim_comp),\n",
    "       values = t(unclass(optim_comp)) * 100,\n",
    "       iteration = max_iter)"
   ]
  },
  {
   "cell_type": "markdown",
   "metadata": {},
   "source": [
    "I predict the outcome from the optimal ionome."
   ]
  },
  {
   "cell_type": "code",
   "execution_count": 87,
   "metadata": {},
   "outputs": [],
   "source": [
    "new_data <- misbal_observation %>%\n",
    "      mutate(Leaf_Fv.BAlMgCaKPN = optim_ilr[1],\n",
    "             Leaf_Al.BMgCaKPN = optim_ilr[2],\n",
    "             Leaf_B.MgCaKPN = optim_ilr[3],\n",
    "             Leaf_MgCaK.PN = optim_ilr[4],\n",
    "             Leaf_P.N = optim_ilr[5],\n",
    "             Leaf_MgCa.K = optim_ilr[6],\n",
    "             Leaf_Mg.Ca = optim_ilr[7])\n",
    "\n",
    "optim_yield <- step_back(predict(m_fit, newdata = bake(npk_recipe, new_data)))"
   ]
  },
  {
   "cell_type": "code",
   "execution_count": 88,
   "metadata": {},
   "outputs": [],
   "source": [
    "optim_comp <- optim_comp %>%\n",
    "  add_row(variables = \"yield\", values = optim_yield, iteration = max_iter)"
   ]
  },
  {
   "cell_type": "code",
   "execution_count": 89,
   "metadata": {},
   "outputs": [
    {
     "data": {
      "text/html": [
       "<table>\n",
       "<caption>A tibble: 9 × 3</caption>\n",
       "<thead>\n",
       "\t<tr><th scope=col>variables</th><th scope=col>values</th><th scope=col>iteration</th></tr>\n",
       "\t<tr><th scope=col>&lt;chr&gt;</th><th scope=col>&lt;dbl[,1]&gt;</th><th scope=col>&lt;dbl&gt;</th></tr>\n",
       "</thead>\n",
       "<tbody>\n",
       "\t<tr><td>N    </td><td>2.576068e+00</td><td>10</td></tr>\n",
       "\t<tr><td>P    </td><td>1.191812e-01</td><td>10</td></tr>\n",
       "\t<tr><td>K    </td><td>6.356756e-01</td><td>10</td></tr>\n",
       "\t<tr><td>Ca   </td><td>3.522021e-01</td><td>10</td></tr>\n",
       "\t<tr><td>Mg   </td><td>1.406124e-01</td><td>10</td></tr>\n",
       "\t<tr><td>Al   </td><td>3.479985e-03</td><td>10</td></tr>\n",
       "\t<tr><td>B    </td><td>5.632664e-03</td><td>10</td></tr>\n",
       "\t<tr><td>Fv   </td><td>9.616715e+01</td><td>10</td></tr>\n",
       "\t<tr><td>yield</td><td>3.688496e+03</td><td>10</td></tr>\n",
       "</tbody>\n",
       "</table>\n"
      ],
      "text/latex": [
       "A tibble: 9 × 3\n",
       "\\begin{tabular}{lll}\n",
       " variables & values & iteration\\\\\n",
       " <chr> & <dbl{[},1{]}> & <dbl>\\\\\n",
       "\\hline\n",
       "\t N     & 2.576068e+00 & 10\\\\\n",
       "\t P     & 1.191812e-01 & 10\\\\\n",
       "\t K     & 6.356756e-01 & 10\\\\\n",
       "\t Ca    & 3.522021e-01 & 10\\\\\n",
       "\t Mg    & 1.406124e-01 & 10\\\\\n",
       "\t Al    & 3.479985e-03 & 10\\\\\n",
       "\t B     & 5.632664e-03 & 10\\\\\n",
       "\t Fv    & 9.616715e+01 & 10\\\\\n",
       "\t yield & 3.688496e+03 & 10\\\\\n",
       "\\end{tabular}\n"
      ],
      "text/markdown": [
       "\n",
       "A tibble: 9 × 3\n",
       "\n",
       "| variables &lt;chr&gt; | values &lt;dbl[,1]&gt; | iteration &lt;dbl&gt; |\n",
       "|---|---|---|\n",
       "| N     | 2.576068e+00 | 10 |\n",
       "| P     | 1.191812e-01 | 10 |\n",
       "| K     | 6.356756e-01 | 10 |\n",
       "| Ca    | 3.522021e-01 | 10 |\n",
       "| Mg    | 1.406124e-01 | 10 |\n",
       "| Al    | 3.479985e-03 | 10 |\n",
       "| B     | 5.632664e-03 | 10 |\n",
       "| Fv    | 9.616715e+01 | 10 |\n",
       "| yield | 3.688496e+03 | 10 |\n",
       "\n"
      ],
      "text/plain": [
       "  variables values       iteration\n",
       "1 N         2.576068e+00 10       \n",
       "2 P         1.191812e-01 10       \n",
       "3 K         6.356756e-01 10       \n",
       "4 Ca        3.522021e-01 10       \n",
       "5 Mg        1.406124e-01 10       \n",
       "6 Al        3.479985e-03 10       \n",
       "7 B         5.632664e-03 10       \n",
       "8 Fv        9.616715e+01 10       \n",
       "9 yield     3.688496e+03 10       "
      ]
     },
     "metadata": {},
     "output_type": "display_data"
    }
   ],
   "source": [
    "optim_comp"
   ]
  },
  {
   "cell_type": "markdown",
   "metadata": {},
   "source": [
    "## Markov-chain or `optim`?"
   ]
  },
  {
   "cell_type": "markdown",
   "metadata": {},
   "source": [
    "And plot with a lot of pretty theming."
   ]
  },
  {
   "cell_type": "code",
   "execution_count": 90,
   "metadata": {},
   "outputs": [
    {
     "data": {
      "image/png": "[encoded data removed]",
      "text/plain": [
       "plot without title"
      ]
     },
     "metadata": {
      "image/png": {
       "height": 360,
       "width": 840
      },
      "text/plain": {
       "height": 360,
       "width": 840
      }
     },
     "output_type": "display_data"
    }
   ],
   "source": [
    "ggplot(gg_iter, aes(x = iteration, y = values)) +\n",
    "  facet_wrap(~variables, scales = \"free_y\", ncol = 3) +\n",
    "  geom_hline(data = comp_range,\n",
    "             aes(group = statistic, yintercept = value),\n",
    "             colour = \"gray30\", linetype = 2, lwd = 0.2) +\n",
    "  geom_step() +\n",
    "  geom_point(data = optim_comp, fill = \"white\", size = 2, pch = 23) +\n",
    "  geom_point(data = gg_iter_extremes) +\n",
    "  geom_text(data = gg_iter_extremes %>% filter(iteration == 1), \n",
    "            aes(label = paste(signif(values, 2), units)), \n",
    "            hjust = 1.15, \n",
    "            fontface = \"bold\", \n",
    "            size = 2) +\n",
    "  geom_text(data = gg_iter_extremes %>% filter(iteration == max_iter), \n",
    "            aes(label = paste(signif(values, 2), units)), \n",
    "            hjust = -0.25, \n",
    "            fontface = \"bold\", \n",
    "            size = 2) +\n",
    "  geom_hline(yintercept = 0) +\n",
    "  expand_limits(x = c(-7, 20), y = 0) +\n",
    "  scale_x_continuous(breaks = seq(0, max_iter, by = 10)) +\n",
    "  labs(x = \"Iteration\", y = \"Concentration (%)\") +\n",
    "  scale_y_continuous(breaks=0) +\n",
    "  theme_pubr() +\n",
    "  theme(\n",
    "    panel.spacing = unit(10, 'mm'),\n",
    "    panel.grid = element_blank(),\n",
    "    panel.border = element_blank(),\n",
    "    strip.background = element_blank(),\n",
    "    panel.grid.major.x = element_blank(),\n",
    "    axis.line.x = element_blank(),\n",
    "    #text = element_text(family = \"serif\")\n",
    "  ) +\n",
    "  ggsave(\"images/convergence.png\", height = 5, width = 8, dpi = 300)"
   ]
  },
  {
   "cell_type": "markdown",
   "metadata": {},
   "source": [
    "Aitchison distance between observed and target."
   ]
  },
  {
   "cell_type": "code",
   "execution_count": 91,
   "metadata": {
    "lines_to_next_cell": 2
   },
   "outputs": [
    {
     "name": "stdout",
     "output_type": "stream",
     "text": [
      "[1] \"AD between the observation and the target (using the Markpv chain) 0.646429054008153\"\n",
      "[1] \"AD between the observation and the optimum (using optim) 0.817320517149752\"\n"
     ]
    }
   ],
   "source": [
    "print(\n",
    "    paste(\n",
    "        \"AD between the observation and the target (using the Markpv chain)\",\n",
    "        sqrt(sum((ref_leaf[1, ] - ref_leaf[max_iter, ]) ^ 2))\n",
    "    )\n",
    ")\n",
    "\n",
    "print(\n",
    "    paste(\n",
    "        \"AD between the observation and the optimum (using optim)\",\n",
    "        sqrt(sum((ref_leaf[1, ] - optim_ilr) ^ 2))\n",
    "    )\n",
    ")"
   ]
  },
  {
   "cell_type": "markdown",
   "metadata": {},
   "source": [
    "Visualisation of the observed/target ratio for the path algorithm."
   ]
  },
  {
   "cell_type": "code",
   "execution_count": 92,
   "metadata": {},
   "outputs": [
    {
     "data": {
      "image/png": "[encoded data removed]",
      "text/plain": [
       "plot without title"
      ]
     },
     "metadata": {
      "image/png": {
       "height": 360,
       "width": 840
      },
      "text/plain": {
       "height": 360,
       "width": 840
      }
     },
     "output_type": "display_data"
    }
   ],
   "source": [
    "gg_iter_extremes %>%\n",
    "  pivot_wider(names_from = iteration,\n",
    "              values_from = values) %>% \n",
    "  mutate(ratio = `1` / `10`) %>% \n",
    "  filter(variables != \"yield\") %>% \n",
    "  mutate(variables = fct_reorder(variables, ratio)) %>% \n",
    "  ggplot(aes(y = ratio, x = variables)) +\n",
    "  labs(x = \"\", y = \"Ratio - Observation / Target\") +\n",
    "  #geom_col(fill = \"grey70\") +\n",
    "  geom_segment(aes(xend = variables), y = 0, yend = 3, size = 5, colour = \"grey95\") +\n",
    "  geom_segment(aes(xend = variables), yend = 1, size = 5) +\n",
    "  geom_hline(yintercept = 1) +\n",
    "  expand_limits(y = 0) +\n",
    "  coord_flip() +\n",
    "  theme_pubr() +\n",
    "  #theme(text = element_text(family = \"serif\")) +\n",
    "  ggsave(\"images/ratio.png\", height = 3, width = 6, dpi = 300)"
   ]
  },
  {
   "cell_type": "markdown",
   "metadata": {},
   "source": [
    "# Overview of optimal ionomes"
   ]
  },
  {
   "cell_type": "markdown",
   "metadata": {},
   "source": [
    "The same code is applied to all observations in an external file to obtain overall statistics of targets."
   ]
  },
  {
   "cell_type": "raw",
   "metadata": {
    "jupyter": {
     "outputs_hidden": true
    },
    "lines_to_next_cell": 2
   },
   "source": [
    "source(\"lib/donkey-tail.R\")"
   ]
  },
  {
   "cell_type": "raw",
   "metadata": {},
   "source": [
    "save(opt_bal, opt_yield, ait_dist, file = \"output/opt.RData\")"
   ]
  },
  {
   "cell_type": "code",
   "execution_count": 93,
   "metadata": {
    "lines_to_next_cell": 2
   },
   "outputs": [],
   "source": [
    "load(\"output/opt.RData\")"
   ]
  },
  {
   "cell_type": "code",
   "execution_count": 94,
   "metadata": {},
   "outputs": [
    {
     "data": {
      "text/html": [
       "<table>\n",
       "<caption>A tibble: 8 × 6</caption>\n",
       "<thead>\n",
       "\t<tr><th scope=col>variable</th><th scope=col>min</th><th scope=col>q25</th><th scope=col>median</th><th scope=col>q75</th><th scope=col>max</th></tr>\n",
       "\t<tr><th scope=col>&lt;fct&gt;</th><th scope=col>&lt;dbl&gt;</th><th scope=col>&lt;dbl&gt;</th><th scope=col>&lt;dbl&gt;</th><th scope=col>&lt;dbl&gt;</th><th scope=col>&lt;dbl&gt;</th></tr>\n",
       "</thead>\n",
       "<tbody>\n",
       "\t<tr><td>N </td><td> 1.111079752</td><td> 1.875458402</td><td> 2.002044348</td><td> 2.125003224</td><td> 2.65123298</td></tr>\n",
       "\t<tr><td>P </td><td> 0.069663698</td><td> 0.123998725</td><td> 0.133296372</td><td> 0.149961730</td><td> 0.25859033</td></tr>\n",
       "\t<tr><td>K </td><td> 0.426637801</td><td> 0.565695341</td><td> 0.631583146</td><td> 0.678020733</td><td> 0.98634165</td></tr>\n",
       "\t<tr><td>Ca</td><td> 0.255066456</td><td> 0.344575143</td><td> 0.403993772</td><td> 0.453359149</td><td> 0.68724189</td></tr>\n",
       "\t<tr><td>Mg</td><td> 0.093160337</td><td> 0.147712250</td><td> 0.170871197</td><td> 0.199592376</td><td> 0.29639947</td></tr>\n",
       "\t<tr><td>B </td><td> 0.001039717</td><td> 0.002651542</td><td> 0.003856003</td><td> 0.004725661</td><td> 0.01204839</td></tr>\n",
       "\t<tr><td>Al</td><td> 0.002012122</td><td> 0.003768203</td><td> 0.004749100</td><td> 0.005993887</td><td> 0.01399237</td></tr>\n",
       "\t<tr><td>Fv</td><td>95.635159421</td><td>96.501945448</td><td>96.675883249</td><td>96.817054616</td><td>97.64939551</td></tr>\n",
       "</tbody>\n",
       "</table>\n"
      ],
      "text/latex": [
       "A tibble: 8 × 6\n",
       "\\begin{tabular}{llllll}\n",
       " variable & min & q25 & median & q75 & max\\\\\n",
       " <fct> & <dbl> & <dbl> & <dbl> & <dbl> & <dbl>\\\\\n",
       "\\hline\n",
       "\t N  &  1.111079752 &  1.875458402 &  2.002044348 &  2.125003224 &  2.65123298\\\\\n",
       "\t P  &  0.069663698 &  0.123998725 &  0.133296372 &  0.149961730 &  0.25859033\\\\\n",
       "\t K  &  0.426637801 &  0.565695341 &  0.631583146 &  0.678020733 &  0.98634165\\\\\n",
       "\t Ca &  0.255066456 &  0.344575143 &  0.403993772 &  0.453359149 &  0.68724189\\\\\n",
       "\t Mg &  0.093160337 &  0.147712250 &  0.170871197 &  0.199592376 &  0.29639947\\\\\n",
       "\t B  &  0.001039717 &  0.002651542 &  0.003856003 &  0.004725661 &  0.01204839\\\\\n",
       "\t Al &  0.002012122 &  0.003768203 &  0.004749100 &  0.005993887 &  0.01399237\\\\\n",
       "\t Fv & 95.635159421 & 96.501945448 & 96.675883249 & 96.817054616 & 97.64939551\\\\\n",
       "\\end{tabular}\n"
      ],
      "text/markdown": [
       "\n",
       "A tibble: 8 × 6\n",
       "\n",
       "| variable &lt;fct&gt; | min &lt;dbl&gt; | q25 &lt;dbl&gt; | median &lt;dbl&gt; | q75 &lt;dbl&gt; | max &lt;dbl&gt; |\n",
       "|---|---|---|---|---|---|\n",
       "| N  |  1.111079752 |  1.875458402 |  2.002044348 |  2.125003224 |  2.65123298 |\n",
       "| P  |  0.069663698 |  0.123998725 |  0.133296372 |  0.149961730 |  0.25859033 |\n",
       "| K  |  0.426637801 |  0.565695341 |  0.631583146 |  0.678020733 |  0.98634165 |\n",
       "| Ca |  0.255066456 |  0.344575143 |  0.403993772 |  0.453359149 |  0.68724189 |\n",
       "| Mg |  0.093160337 |  0.147712250 |  0.170871197 |  0.199592376 |  0.29639947 |\n",
       "| B  |  0.001039717 |  0.002651542 |  0.003856003 |  0.004725661 |  0.01204839 |\n",
       "| Al |  0.002012122 |  0.003768203 |  0.004749100 |  0.005993887 |  0.01399237 |\n",
       "| Fv | 95.635159421 | 96.501945448 | 96.675883249 | 96.817054616 | 97.64939551 |\n",
       "\n"
      ],
      "text/plain": [
       "  variable min          q25          median       q75          max        \n",
       "1 N         1.111079752  1.875458402  2.002044348  2.125003224  2.65123298\n",
       "2 P         0.069663698  0.123998725  0.133296372  0.149961730  0.25859033\n",
       "3 K         0.426637801  0.565695341  0.631583146  0.678020733  0.98634165\n",
       "4 Ca        0.255066456  0.344575143  0.403993772  0.453359149  0.68724189\n",
       "5 Mg        0.093160337  0.147712250  0.170871197  0.199592376  0.29639947\n",
       "6 B         0.001039717  0.002651542  0.003856003  0.004725661  0.01204839\n",
       "7 Al        0.002012122  0.003768203  0.004749100  0.005993887  0.01399237\n",
       "8 Fv       95.635159421 96.501945448 96.675883249 96.817054616 97.64939551"
      ]
     },
     "metadata": {},
     "output_type": "display_data"
    },
    {
     "data": {
      "image/png": "[encoded data removed]",
      "text/plain": [
       "plot without title"
      ]
     },
     "metadata": {
      "image/png": {
       "height": 360,
       "width": 840
      },
      "text/plain": {
       "height": 360,
       "width": 840
      }
     },
     "output_type": "display_data"
    }
   ],
   "source": [
    "opt_comp <- ilrInv(opt_bal, V = gsi.buildilrBase(t(sbp_leaf))) %>% \n",
    "  data.frame() %>% \n",
    "  mutate(id = 1:nrow(opt_bal)) %>% \n",
    "  pivot_longer(cols = -c(id),\n",
    "               names_to = \"variable\", values_to = \"value\") %>% \n",
    "  mutate(value = value * 100,\n",
    "         variable = factor(variable, levels = c(\"N\", \"P\", \"K\", \"Ca\", \"Mg\", \"B\", \"Al\", \"Fv\")))\n",
    "\n",
    "opt_output <- tibble(id = 1:nrow(opt_bal),\n",
    "                     `Observed yield` = opt_yield[, 1],\n",
    "                     `Optimized yield` = opt_yield[, 2],\n",
    "                     `Aitchison distance` = ait_dist) %>% \n",
    "  mutate(`Yield improvement ratio` = `Optimized yield` / `Observed yield`,\n",
    "         `Yield improvement absolute` = `Optimized yield` - `Observed yield`,) %>%\n",
    "  pivot_longer(cols = -c(id),\n",
    "               names_to = \"variable\", values_to = \"value\")\n",
    "\n",
    "opt_comp_gg <- opt_comp %>% \n",
    "  filter(variable != \"Fv\") %>% \n",
    "  ggplot(aes(x = value)) +\n",
    "  facet_wrap(~variable, nrow = 2, scales = \"free\") +\n",
    "  geom_histogram(bins = 30, fill = \"black\") +\n",
    "  labs(x = \"Foliar concentrations (%)\", y = \"Counts\") +\n",
    "  theme_pubr() +\n",
    "  theme(text = element_text(family = \"serif\"))\n",
    "\n",
    "opt_out_gg <- opt_output %>% \n",
    "  ggplot(aes(x = value)) +\n",
    "  facet_wrap(~variable, nrow = 1, scales = \"free\") +\n",
    "  geom_histogram(bins = 30, fill = \"black\") +\n",
    "  labs(x = \"\", y = \"\") +\n",
    "  theme_pubr() +\n",
    "  theme(text = element_text(family = \"serif\"))\n",
    "\n",
    "opt_comp_gg / opt_out_gg\n",
    "ggsave(\"images/opt-distr.png\", height = 10, width = 10, dpi = 300)\n",
    "\n",
    "opt_comp %>% \n",
    "  group_by(variable) %>% \n",
    "  summarise(min = min(value),\n",
    "            q25 = quantile(value, prob = 0.25),\n",
    "            median = median(value),\n",
    "            q75 = quantile(value, prob = 0.75),\n",
    "            max = max(value))"
   ]
  },
  {
   "cell_type": "markdown",
   "metadata": {},
   "source": [
    "The proportion of Aitchison distances shorter than 0.59."
   ]
  },
  {
   "cell_type": "code",
   "execution_count": 95,
   "metadata": {},
   "outputs": [
    {
     "data": {
      "text/html": [
       "0.486271676300578"
      ],
      "text/latex": [
       "0.486271676300578"
      ],
      "text/markdown": [
       "0.486271676300578"
      ],
      "text/plain": [
       "[1] 0.4862717"
      ]
     },
     "metadata": {},
     "output_type": "display_data"
    }
   ],
   "source": [
    "quantInv <- function(distr, value) ecdf(distr)(value) # thanks https://stackoverflow.com/questions/9123800/how-do-i-calculate-the-probability-for-a-given-quantile-in-r\n",
    "opt_output %>%\n",
    "  filter(variable == \"Aitchison distance\") %>%\n",
    "  pull(value) %>%\n",
    "  quantInv(., 0.59)"
   ]
  },
  {
   "cell_type": "markdown",
   "metadata": {},
   "source": [
    "The proportion of yields inferior to 5000."
   ]
  },
  {
   "cell_type": "code",
   "execution_count": 96,
   "metadata": {},
   "outputs": [
    {
     "data": {
      "text/html": [
       "0.309971098265896"
      ],
      "text/latex": [
       "0.309971098265896"
      ],
      "text/markdown": [
       "0.309971098265896"
      ],
      "text/plain": [
       "[1] 0.3099711"
      ]
     },
     "metadata": {},
     "output_type": "display_data"
    }
   ],
   "source": [
    "opt_output %>%\n",
    "  filter(variable == \"Optimized yield\") %>%\n",
    "  pull(value) %>%\n",
    "  quantInv(., 5000)"
   ]
  },
  {
   "cell_type": "markdown",
   "metadata": {},
   "source": [
    "## Compare optimal distributions to the literature"
   ]
  },
  {
   "cell_type": "code",
   "execution_count": 97,
   "metadata": {},
   "outputs": [
    {
     "name": "stderr",
     "output_type": "stream",
     "text": [
      "Parsed with column specification:\n",
      "cols(\n",
      "  Author = \u001b[31mcol_character()\u001b[39m,\n",
      "  MinMax = \u001b[31mcol_character()\u001b[39m,\n",
      "  N = \u001b[32mcol_double()\u001b[39m,\n",
      "  P = \u001b[32mcol_double()\u001b[39m,\n",
      "  K = \u001b[32mcol_double()\u001b[39m,\n",
      "  Ca = \u001b[32mcol_double()\u001b[39m,\n",
      "  Mg = \u001b[32mcol_double()\u001b[39m,\n",
      "  B = \u001b[32mcol_double()\u001b[39m,\n",
      "  Cu = \u001b[32mcol_double()\u001b[39m,\n",
      "  Zn = \u001b[32mcol_double()\u001b[39m,\n",
      "  Mn = \u001b[32mcol_double()\u001b[39m,\n",
      "  Fe = \u001b[32mcol_double()\u001b[39m,\n",
      "  Al = \u001b[32mcol_double()\u001b[39m\n",
      ")\n",
      "\n"
     ]
    }
   ],
   "source": [
    "nutrients_litt_source <- read_csv(\"data/literature-standards.csv\")\n",
    "nutrients_litt <- nutrients_litt_source %>%\n",
    "  pivot_longer(cols = -c(Author, MinMax)) %>%\n",
    "  pivot_wider(names_from = MinMax, values_from = value)"
   ]
  },
  {
   "cell_type": "markdown",
   "metadata": {},
   "source": [
    "### N"
   ]
  },
  {
   "cell_type": "code",
   "execution_count": 98,
   "metadata": {},
   "outputs": [
    {
     "data": {
      "image/png": "[encoded data removed]",
      "text/plain": [
       "plot without title"
      ]
     },
     "metadata": {
      "image/png": {
       "height": 360,
       "width": 840
      },
      "text/plain": {
       "height": 360,
       "width": 840
      }
     },
     "output_type": "display_data"
    }
   ],
   "source": [
    "gg_nlitt <- nutrients_litt %>%\n",
    "  filter(name == \"N\") %>%\n",
    "  ggplot(aes(x = Minimum, y = Author)) +\n",
    "  geom_segment(aes(xend = Maximum, yend = Author), lwd = 2) +\n",
    "  #scale_x_continuous(limits = c(0, 14), breaks = seq(from = 0, to = 15, by = 2)) +\n",
    "  #geom_vline(xintercept = 0, linetype = 2) +\n",
    "  labs(x = \"N concentration (%)\", y = \"\") +\n",
    "  expand_limits(x = c(1.06, 2.685)) +\n",
    "  theme_pubr()\n",
    "\n",
    "gg_ndistr <- opt_comp %>% \n",
    "  filter(variable == \"N\") %>% \n",
    "  ggplot(aes(x = value)) +\n",
    "  geom_histogram(fill = \"black\", bins = 30) +\n",
    "  labs(x = \"\", y = \"\") +\n",
    "  expand_limits(x = c(1.08, 2.6), y = c(0, 230)) +\n",
    "  theme_pubr()\n",
    "\n",
    "gg_n <- gg_ndistr / gg_nlitt + plot_layout(heights = c(3, 1))\n",
    "gg_n\n",
    "ggsave(\"images/distr_n.png\", height = 5, width = 10, dpi = 300)"
   ]
  },
  {
   "cell_type": "markdown",
   "metadata": {},
   "source": [
    "### P"
   ]
  },
  {
   "cell_type": "code",
   "execution_count": 99,
   "metadata": {},
   "outputs": [
    {
     "data": {
      "image/png": "[encoded data removed]",
      "text/plain": [
       "plot without title"
      ]
     },
     "metadata": {
      "image/png": {
       "height": 360,
       "width": 840
      },
      "text/plain": {
       "height": 360,
       "width": 840
      }
     },
     "output_type": "display_data"
    }
   ],
   "source": [
    "gg_plitt <- nutrients_litt %>%\n",
    "  filter(name == \"P\") %>%\n",
    "  ggplot(aes(x = Minimum, y = Author)) +\n",
    "  geom_segment(aes(xend = Maximum, yend = Author), lwd = 2) +\n",
    "  labs(x = \"P concentration (%)\", y = \"\") +\n",
    "  expand_limits(x = c(0.055, 0.277)) +\n",
    "  theme_pubr()\n",
    "\n",
    "gg_pdistr <- opt_comp %>% \n",
    "  filter(variable == \"P\") %>% \n",
    "  ggplot(aes(x = value)) +\n",
    "  geom_histogram(fill = \"black\", bins = 30) +\n",
    "  labs(x = \"\", y = \"\") +\n",
    "  expand_limits(x = c(0.06, 0.274), y = c(0, 230)) +\n",
    "  theme_pubr()\n",
    "\n",
    "gg_p <- gg_pdistr / gg_plitt + plot_layout(heights = c(3, 1))\n",
    "gg_p\n",
    "ggsave(\"images/distr_p.png\", height = 5, width = 10, dpi = 300)"
   ]
  },
  {
   "cell_type": "markdown",
   "metadata": {},
   "source": [
    "# K"
   ]
  },
  {
   "cell_type": "code",
   "execution_count": 100,
   "metadata": {},
   "outputs": [
    {
     "data": {
      "image/png": "[encoded data removed]",
      "text/plain": [
       "plot without title"
      ]
     },
     "metadata": {
      "image/png": {
       "height": 360,
       "width": 840
      },
      "text/plain": {
       "height": 360,
       "width": 840
      }
     },
     "output_type": "display_data"
    }
   ],
   "source": [
    "gg_klitt <- nutrients_litt %>%\n",
    "  filter(name == \"K\") %>%\n",
    "  ggplot(aes(x = Minimum, y = Author)) +\n",
    "  geom_segment(aes(xend = Maximum, yend = Author), lwd = 2) +\n",
    "  labs(x = \"K concentration (%)\", y = \"\") +\n",
    "  expand_limits(x = c(0.2, 1.01)) +\n",
    "  theme_pubr()\n",
    "\n",
    "gg_kdistr <- opt_comp %>% \n",
    "  filter(variable == \"K\") %>% \n",
    "  ggplot(aes(x = value)) +\n",
    "  geom_histogram(fill = \"black\", bins = 30) +\n",
    "  labs(x = \"\", y = \"\") +\n",
    "  expand_limits(x = c(0.22, 1.0), y = c(0, 230)) +\n",
    "  theme_pubr()\n",
    "\n",
    "gg_k <- gg_kdistr / gg_klitt + plot_layout(heights = c(3, 1))\n",
    "gg_k\n",
    "ggsave(\"images/distr_k.png\", height = 5, width = 10, dpi = 300)"
   ]
  },
  {
   "cell_type": "markdown",
   "metadata": {},
   "source": [
    "# Ca"
   ]
  },
  {
   "cell_type": "code",
   "execution_count": 101,
   "metadata": {},
   "outputs": [
    {
     "data": {
      "image/png": "[encoded data removed]",
      "text/plain": [
       "plot without title"
      ]
     },
     "metadata": {
      "image/png": {
       "height": 360,
       "width": 840
      },
      "text/plain": {
       "height": 360,
       "width": 840
      }
     },
     "output_type": "display_data"
    }
   ],
   "source": [
    "gg_calitt <- nutrients_litt %>%\n",
    "  filter(name == \"Ca\") %>%\n",
    "  ggplot(aes(x = Minimum, y = Author)) +\n",
    "  geom_segment(aes(xend = Maximum, yend = Author), lwd = 2) +\n",
    "  labs(x = \"Ca concentration (%)\", y = \"\") +\n",
    "  expand_limits(x = c(0.22, 0.8)) +\n",
    "  theme_pubr()\n",
    "\n",
    "gg_cadistr <- opt_comp %>% \n",
    "  filter(variable == \"Ca\") %>% \n",
    "  ggplot(aes(x = value)) +\n",
    "  geom_histogram(fill = \"black\", bins = 30) +\n",
    "  labs(x = \"\", y = \"\") +\n",
    "  expand_limits(x = c(0.23, 0.84), y = c(0, 230)) +\n",
    "  theme_pubr()\n",
    "\n",
    "gg_ca <- gg_cadistr / gg_calitt + plot_layout(heights = c(3, 1))\n",
    "gg_ca\n",
    "ggsave(\"images/distr_ca.png\", height = 5, width = 10, dpi = 300)"
   ]
  },
  {
   "cell_type": "markdown",
   "metadata": {},
   "source": [
    "# Mg"
   ]
  },
  {
   "cell_type": "code",
   "execution_count": 102,
   "metadata": {},
   "outputs": [
    {
     "data": {
      "image/png": "[encoded data removed]",
      "text/plain": [
       "plot without title"
      ]
     },
     "metadata": {
      "image/png": {
       "height": 360,
       "width": 840
      },
      "text/plain": {
       "height": 360,
       "width": 840
      }
     },
     "output_type": "display_data"
    }
   ],
   "source": [
    "gg_mglitt <- nutrients_litt %>%\n",
    "  filter(name == \"Mg\") %>%\n",
    "  ggplot(aes(x = Minimum, y = Author)) +\n",
    "  geom_segment(aes(xend = Maximum, yend = Author), lwd = 2) +\n",
    "  labs(x = \"Mg concentration (%)\", y = \"\") +\n",
    "  expand_limits(x = c(0.086, 0.315)) +\n",
    "  theme_pubr()\n",
    "\n",
    "gg_mgdistr <- opt_comp %>% \n",
    "  filter(variable == \"Mg\") %>% \n",
    "  ggplot(aes(x = value)) +\n",
    "  geom_histogram(fill = \"black\", bins = 30) +\n",
    "  labs(x = \"\", y = \"\") +\n",
    "  expand_limits(x = c(0.09, 0.31), y = c(0, 230)) +\n",
    "  theme_pubr()\n",
    "\n",
    "gg_mg <- gg_mgdistr / gg_mglitt + plot_layout(heights = c(3, 1))\n",
    "gg_mg\n",
    "ggsave(\"images/distr_mg.png\", height = 5, width = 10, dpi = 300)"
   ]
  },
  {
   "cell_type": "markdown",
   "metadata": {},
   "source": [
    "# B"
   ]
  },
  {
   "cell_type": "code",
   "execution_count": 103,
   "metadata": {},
   "outputs": [
    {
     "data": {
      "image/png": "[encoded data removed]",
      "text/plain": [
       "plot without title"
      ]
     },
     "metadata": {
      "image/png": {
       "height": 360,
       "width": 840
      },
      "text/plain": {
       "height": 360,
       "width": 840
      }
     },
     "output_type": "display_data"
    }
   ],
   "source": [
    "gg_blitt <- nutrients_litt %>%\n",
    "  filter(name == \"B\") %>%\n",
    "  ggplot(aes(x = Minimum, y = Author)) +\n",
    "  geom_segment(aes(xend = Maximum, yend = Author), lwd = 2) +\n",
    "  labs(x = expression(\"B concentration (mg kg\"^\"-1\"*\")\"), y = \"\") +\n",
    "  expand_limits(x = c(-2.5, 160)) +\n",
    "  theme_pubr()\n",
    "\n",
    "gg_bdistr <- opt_comp %>% \n",
    "  filter(variable == \"B\") %>% \n",
    "  ggplot(aes(x = value * 10000)) +\n",
    "  geom_histogram(fill = \"black\", bins = 30) +\n",
    "  labs(x = \"\", y = \"\") +\n",
    "  expand_limits(x = c(2, 159), y = c(0, 230)) +\n",
    "  theme_pubr()\n",
    "\n",
    "gg_b <- gg_bdistr / gg_blitt + plot_layout(heights = c(3, 1))\n",
    "gg_b\n",
    "ggsave(\"images/distr_b.png\", height = 5, width = 10, dpi = 300)"
   ]
  },
  {
   "cell_type": "markdown",
   "metadata": {},
   "source": [
    "# Al"
   ]
  },
  {
   "cell_type": "code",
   "execution_count": 104,
   "metadata": {},
   "outputs": [
    {
     "name": "stderr",
     "output_type": "stream",
     "text": [
      "Warning message:\n",
      "\"Removed 3 rows containing missing values (geom_segment).\"\n",
      "Warning message:\n",
      "\"Removed 3 rows containing missing values (geom_segment).\"\n"
     ]
    },
    {
     "data": {
      "image/png": "[encoded data removed]",
      "text/plain": [
       "plot without title"
      ]
     },
     "metadata": {
      "image/png": {
       "height": 360,
       "width": 840
      },
      "text/plain": {
       "height": 360,
       "width": 840
      }
     },
     "output_type": "display_data"
    }
   ],
   "source": [
    "gg_allitt <- nutrients_litt %>%\n",
    "  filter(name == \"Al\") %>%\n",
    "  ggplot(aes(x = Minimum, y = Author)) +\n",
    "  geom_segment(aes(xend = Maximum, yend = Author), lwd = 2) +\n",
    "  labs(x = expression(\"Al concentration (mg kg\"^\"-1\"*\")\"), y = \"\") +\n",
    "  expand_limits(x = c(3, 153)) +\n",
    "  theme_pubr()\n",
    "\n",
    "gg_aldistr <- opt_comp %>% \n",
    "  filter(variable == \"Al\") %>% \n",
    "  ggplot(aes(x = value * 10000)) +\n",
    "  geom_histogram(fill = \"black\", bins = 30) +\n",
    "  labs(x = \"\", y = \"\") +\n",
    "  expand_limits(x = c(5, 150), y = c(0, 230)) +\n",
    "  theme_pubr()\n",
    "\n",
    "gg_al <- gg_aldistr / gg_allitt + plot_layout(heights = c(3, 1))\n",
    "gg_al\n",
    "ggsave(\"images/distr_al.png\", height = 5, width = 10, dpi = 300)"
   ]
  },
  {
   "cell_type": "code",
   "execution_count": 109,
   "metadata": {},
   "outputs": [
    {
     "data": {
      "image/png": "[encoded data removed]",
      "text/plain": [
       "plot without title"
      ]
     },
     "metadata": {
      "image/png": {
       "height": 360,
       "width": 840
      },
      "text/plain": {
       "height": 360,
       "width": 840
      }
     },
     "output_type": "display_data"
    }
   ],
   "source": [
    "opt_output %>%\n",
    "  filter(variable == \"Aitchison distance\") %>%\n",
    "  ggplot(aes(x = value)) +\n",
    "  geom_histogram(fill = \"black\", bins = 30) +\n",
    "  labs(title = \"A.\", x = \"Aitchison distance between observed and optimized\", y = \"Counts\") +\n",
    "  theme_pubr() +\n",
    "  ggsave(\"images/distr_aitdist.png\", height = 5, width = 8, dpi = 300)"
   ]
  },
  {
   "cell_type": "code",
   "execution_count": 112,
   "metadata": {},
   "outputs": [
    {
     "data": {
      "image/png": "[encoded data removed]",
      "text/plain": [
       "plot without title"
      ]
     },
     "metadata": {
      "image/png": {
       "height": 360,
       "width": 840
      },
      "text/plain": {
       "height": 360,
       "width": 840
      }
     },
     "output_type": "display_data"
    }
   ],
   "source": [
    "opt_output %>%\n",
    "  filter(variable == \"Yield improvement ratio\") %>%\n",
    "  ggplot(aes(x = value)) +\n",
    "  geom_histogram(fill = \"black\", bins = 30) +\n",
    "  labs(title = \"B.\", x = expression(\"Ratio of Optimized yield (modeled) / Observed yield\"), y = \"Counts\") +\n",
    "  theme_pubr() +\n",
    "  ggsave(\"images/distr_yield_ratio.png\", height = 5, width = 8, dpi = 300)"
   ]
  },
  {
   "cell_type": "code",
   "execution_count": 115,
   "metadata": {},
   "outputs": [
    {
     "data": {
      "image/png": "[encoded data removed]",
      "text/plain": [
       "plot without title"
      ]
     },
     "metadata": {
      "image/png": {
       "height": 360,
       "width": 840
      },
      "text/plain": {
       "height": 360,
       "width": 840
      }
     },
     "output_type": "display_data"
    }
   ],
   "source": [
    "opt_output %>%\n",
    "  #filter(variable == \"Yield improvement ratio\") %>%\n",
    "  filter(variable == \"Yield improvement absolute\") %>%\n",
    "  ggplot(aes(x = value)) +\n",
    "  geom_histogram(fill = \"black\", bins = 30) +\n",
    "  labs(title = \"B.\", x = expression(\"Yield improvement by optimizing the ionome (kg ha\"^\"-1\"*\")\"), y = \"Counts\") +\n",
    "  theme_pubr() +\n",
    "  ggsave(\"images/distr_yield.png\", height = 5, width = 8, dpi = 300)"
   ]
  },
  {
   "cell_type": "code",
   "execution_count": 114,
   "metadata": {},
   "outputs": [
    {
     "data": {
      "text/html": [
       "<table>\n",
       "<caption>A tibble: 3 × 2</caption>\n",
       "<thead>\n",
       "\t<tr><th scope=col>variable</th><th scope=col>median</th></tr>\n",
       "\t<tr><th scope=col>&lt;chr&gt;</th><th scope=col>&lt;dbl&gt;</th></tr>\n",
       "</thead>\n",
       "<tbody>\n",
       "\t<tr><td>Aitchison distance        </td><td>   0.5974682</td></tr>\n",
       "\t<tr><td>Yield improvement absolute</td><td>2164.7727727</td></tr>\n",
       "\t<tr><td>Yield improvement ratio   </td><td>   1.6183858</td></tr>\n",
       "</tbody>\n",
       "</table>\n"
      ],
      "text/latex": [
       "A tibble: 3 × 2\n",
       "\\begin{tabular}{ll}\n",
       " variable & median\\\\\n",
       " <chr> & <dbl>\\\\\n",
       "\\hline\n",
       "\t Aitchison distance         &    0.5974682\\\\\n",
       "\t Yield improvement absolute & 2164.7727727\\\\\n",
       "\t Yield improvement ratio    &    1.6183858\\\\\n",
       "\\end{tabular}\n"
      ],
      "text/markdown": [
       "\n",
       "A tibble: 3 × 2\n",
       "\n",
       "| variable &lt;chr&gt; | median &lt;dbl&gt; |\n",
       "|---|---|\n",
       "| Aitchison distance         |    0.5974682 |\n",
       "| Yield improvement absolute | 2164.7727727 |\n",
       "| Yield improvement ratio    |    1.6183858 |\n",
       "\n"
      ],
      "text/plain": [
       "  variable                   median      \n",
       "1 Aitchison distance            0.5974682\n",
       "2 Yield improvement absolute 2164.7727727\n",
       "3 Yield improvement ratio       1.6183858"
      ]
     },
     "metadata": {},
     "output_type": "display_data"
    }
   ],
   "source": [
    "opt_output %>%\n",
    "  filter(variable %in% c(\"Aitchison distance\", \"Yield improvement ratio\", \"Yield improvement absolute\")) %>%\n",
    "  group_by(variable) %>%\n",
    "  summarise(median = median(value))"
   ]
  },
  {
   "cell_type": "code",
   "execution_count": 108,
   "metadata": {},
   "outputs": [
    {
     "data": {
      "image/png": "[encoded data removed]",
      "text/plain": [
       "plot without title"
      ]
     },
     "metadata": {
      "image/png": {
       "height": 360,
       "width": 840
      },
      "text/plain": {
       "height": 360,
       "width": 840
      }
     },
     "output_type": "display_data"
    }
   ],
   "source": [
    "opt_output %>% \n",
    "  ggplot(aes(x = value)) +\n",
    "  facet_wrap(~variable, nrow = 1, scales = \"free\", strip.position=\"bottom\") +\n",
    "  geom_histogram(bins = 30, fill = \"black\") +\n",
    "  labs(x = \"\", y = \"\") +\n",
    "  theme_pubr() +\n",
    "  theme(text = element_text(family = \"serif\"))"
   ]
  },
  {
   "cell_type": "code",
   "execution_count": null,
   "metadata": {},
   "outputs": [],
   "source": []
  },
  {
   "cell_type": "code",
   "execution_count": null,
   "metadata": {},
   "outputs": [],
   "source": []
  }
 ],
 "metadata": {
  "jupytext": {
   "cell_metadata_filter": "tags,name,-all",
   "notebook_metadata_filter": "-all",
   "text_representation": {
    "extension": ".Rmd",
    "format_name": "rmarkdown"
   }
  },
  "kernelspec": {
   "display_name": "R 4.0 - system",
   "language": "R",
   "name": "ir40-system"
  },
  "language_info": {
   "codemirror_mode": "r",
   "file_extension": ".r",
   "mimetype": "text/x-r-source",
   "name": "R",
   "pygments_lexer": "r",
   "version": "4.0.0"
  }
 },
 "nbformat": 4,
 "nbformat_minor": 4
}
